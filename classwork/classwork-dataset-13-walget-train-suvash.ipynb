{
 "cells": [
  {
   "cell_type": "code",
   "execution_count": 139,
   "metadata": {},
   "outputs": [],
   "source": [
    "import os\n",
    "import numpy as np\n",
    "import pandas as pd\n",
    "pd.set_option('display.max_rows', 15)\n",
    "pd.set_option('display.notebook_repr_html', True)\n",
    "pd.set_option('display.max_columns', 10)\n",
    "\n",
    "import statsmodels.api as sm\n",
    "import statsmodels.formula.api as smf\n",
    "\n",
    "from sklearn import linear_model\n",
    "\n",
    "import matplotlib.pyplot as plt\n",
    "%matplotlib inline\n",
    "plt.style.use('ggplot')\n",
    "\n",
    "from sklearn.cross_validation import train_test_split, cross_val_score\n",
    "from sklearn.metrics import accuracy_score, precision_score, recall_score, confusion_matrix, classification_report, roc_auc_score, roc_curve\n",
    "from sklearn.linear_model import LogisticRegression, LinearRegression\n",
    "from sklearn.datasets import make_classification;\n"
   ]
  },
  {
   "cell_type": "code",
   "execution_count": 181,
   "metadata": {
    "collapsed": true
   },
   "outputs": [],
   "source": [
    "file_path= \"dataset-13-walget-train.csv\""
   ]
  },
  {
   "cell_type": "code",
   "execution_count": 182,
   "metadata": {},
   "outputs": [],
   "source": [
    "df=pd.read_csv(file_path)"
   ]
  },
  {
   "cell_type": "code",
   "execution_count": 183,
   "metadata": {},
   "outputs": [
    {
     "data": {
      "text/plain": [
       "600"
      ]
     },
     "execution_count": 183,
     "metadata": {},
     "output_type": "execute_result"
    }
   ],
   "source": [
    "df.shape[0]"
   ]
  },
  {
   "cell_type": "code",
   "execution_count": 184,
   "metadata": {},
   "outputs": [
    {
     "data": {
      "text/plain": [
       "Index([u'AccountHolderImpliedGender', u'AccountHolderAddress',\n",
       "       u'RecentlyPurchasedPregnancyTest', u'RecentlyPurchasedBirthControl',\n",
       "       u'RecentlyPurchasedFeminineHygieneProducts',\n",
       "       u'RecentlyPurchasedFolicAcidSupplements',\n",
       "       u'RecentlyPurchasedPrenatalVitamins',\n",
       "       u'RecentlyPurchasedPrenatalYogaDVD', u'RecentlyPurchasedBodyPillow',\n",
       "       u'RecentlyPurchasedGingerAle', u'RecentlyPurchasedSeaBands',\n",
       "       u'PurchasedCigarettesRegularlyUntilRecentlyThenStopped',\n",
       "       u'RecentlyPurchasedCigarettes',\n",
       "       u'RecentlyPurchasedSmokingCessationProducts',\n",
       "       u'PurchasedWineRegularlyUntilRecentlyThenStopped',\n",
       "       u'RecentlyPurchasedWine', u'RecentlyPurchasedMaternityClothing',\n",
       "       u'IsPregnant'],\n",
       "      dtype='object')"
      ]
     },
     "execution_count": 184,
     "metadata": {},
     "output_type": "execute_result"
    }
   ],
   "source": [
    "df.columns"
   ]
  },
  {
   "cell_type": "code",
   "execution_count": 186,
   "metadata": {},
   "outputs": [],
   "source": [
    "df.drop('AccountHolderImpliedGender', axis=1, inplace=True)\n",
    "df.drop('AccountHolderAddress', axis=1, inplace=True)"
   ]
  },
  {
   "cell_type": "code",
   "execution_count": 169,
   "metadata": {
    "collapsed": true
   },
   "outputs": [],
   "source": [
    "\n",
    "\n",
    "df.drop('RecentlyPurchasedBirthControl',axis=1,inplace=True)\n",
    "df.drop('RecentlyPurchasedFeminineHygieneProducts',axis=1,inplace=True)\n",
    "#df.drop('RecentlyPurchasedCigarettes',axis=1,inplace=True)\n",
    "#df.drop('RecentlyPurchasedWine',axis=1,inplace=True)"
   ]
  },
  {
   "cell_type": "markdown",
   "metadata": {},
   "source": [
    "Check if there are any null values in data set"
   ]
  },
  {
   "cell_type": "code",
   "execution_count": 188,
   "metadata": {},
   "outputs": [
    {
     "data": {
      "text/plain": [
       "True"
      ]
     },
     "execution_count": 188,
     "metadata": {},
     "output_type": "execute_result"
    }
   ],
   "source": [
    "df.isnull().values.any()"
   ]
  },
  {
   "cell_type": "markdown",
   "metadata": {},
   "source": [
    "drop row if any of the vlaue are null"
   ]
  },
  {
   "cell_type": "code",
   "execution_count": 189,
   "metadata": {
    "collapsed": true
   },
   "outputs": [],
   "source": [
    "df=df.dropna(axis=0, how='any')"
   ]
  },
  {
   "cell_type": "markdown",
   "metadata": {},
   "source": [
    "cross-verify null values"
   ]
  },
  {
   "cell_type": "code",
   "execution_count": 190,
   "metadata": {},
   "outputs": [
    {
     "data": {
      "text/plain": [
       "False"
      ]
     },
     "execution_count": 190,
     "metadata": {},
     "output_type": "execute_result"
    }
   ],
   "source": [
    "df.isnull().values.any()"
   ]
  },
  {
   "cell_type": "code",
   "execution_count": 191,
   "metadata": {
    "collapsed": true
   },
   "outputs": [],
   "source": [
    "df=df.astype(int)"
   ]
  },
  {
   "cell_type": "code",
   "execution_count": 192,
   "metadata": {},
   "outputs": [
    {
     "data": {
      "text/html": [
       "<div>\n",
       "<style>\n",
       "    .dataframe thead tr:only-child th {\n",
       "        text-align: right;\n",
       "    }\n",
       "\n",
       "    .dataframe thead th {\n",
       "        text-align: left;\n",
       "    }\n",
       "\n",
       "    .dataframe tbody tr th {\n",
       "        vertical-align: top;\n",
       "    }\n",
       "</style>\n",
       "<table border=\"1\" class=\"dataframe\">\n",
       "  <thead>\n",
       "    <tr style=\"text-align: right;\">\n",
       "      <th></th>\n",
       "      <th>RecentlyPurchasedPregnancyTest</th>\n",
       "      <th>RecentlyPurchasedBirthControl</th>\n",
       "      <th>RecentlyPurchasedFeminineHygieneProducts</th>\n",
       "      <th>RecentlyPurchasedFolicAcidSupplements</th>\n",
       "      <th>RecentlyPurchasedPrenatalVitamins</th>\n",
       "      <th>...</th>\n",
       "      <th>RecentlyPurchasedCigarettes</th>\n",
       "      <th>RecentlyPurchasedSmokingCessationProducts</th>\n",
       "      <th>PurchasedWineRegularlyUntilRecentlyThenStopped</th>\n",
       "      <th>RecentlyPurchasedWine</th>\n",
       "      <th>RecentlyPurchasedMaternityClothing</th>\n",
       "    </tr>\n",
       "    <tr>\n",
       "      <th>IsPregnant</th>\n",
       "      <th></th>\n",
       "      <th></th>\n",
       "      <th></th>\n",
       "      <th></th>\n",
       "      <th></th>\n",
       "      <th></th>\n",
       "      <th></th>\n",
       "      <th></th>\n",
       "      <th></th>\n",
       "      <th></th>\n",
       "      <th></th>\n",
       "    </tr>\n",
       "  </thead>\n",
       "  <tbody>\n",
       "    <tr>\n",
       "      <th>0</th>\n",
       "      <td>0.016129</td>\n",
       "      <td>0.245968</td>\n",
       "      <td>0.245968</td>\n",
       "      <td>0.00</td>\n",
       "      <td>0.048387</td>\n",
       "      <td>...</td>\n",
       "      <td>0.177419</td>\n",
       "      <td>0.012097</td>\n",
       "      <td>0.032258</td>\n",
       "      <td>0.197581</td>\n",
       "      <td>0.040323</td>\n",
       "    </tr>\n",
       "    <tr>\n",
       "      <th>1</th>\n",
       "      <td>0.148000</td>\n",
       "      <td>0.024000</td>\n",
       "      <td>0.056000</td>\n",
       "      <td>0.22</td>\n",
       "      <td>0.236000</td>\n",
       "      <td>...</td>\n",
       "      <td>0.056000</td>\n",
       "      <td>0.128000</td>\n",
       "      <td>0.212000</td>\n",
       "      <td>0.024000</td>\n",
       "      <td>0.236000</td>\n",
       "    </tr>\n",
       "  </tbody>\n",
       "</table>\n",
       "<p>2 rows × 15 columns</p>\n",
       "</div>"
      ],
      "text/plain": [
       "            RecentlyPurchasedPregnancyTest  RecentlyPurchasedBirthControl  \\\n",
       "IsPregnant                                                                  \n",
       "0                                 0.016129                       0.245968   \n",
       "1                                 0.148000                       0.024000   \n",
       "\n",
       "            RecentlyPurchasedFeminineHygieneProducts  \\\n",
       "IsPregnant                                             \n",
       "0                                           0.245968   \n",
       "1                                           0.056000   \n",
       "\n",
       "            RecentlyPurchasedFolicAcidSupplements  \\\n",
       "IsPregnant                                          \n",
       "0                                            0.00   \n",
       "1                                            0.22   \n",
       "\n",
       "            RecentlyPurchasedPrenatalVitamins  \\\n",
       "IsPregnant                                      \n",
       "0                                    0.048387   \n",
       "1                                    0.236000   \n",
       "\n",
       "                           ...                  RecentlyPurchasedCigarettes  \\\n",
       "IsPregnant                 ...                                                \n",
       "0                          ...                                     0.177419   \n",
       "1                          ...                                     0.056000   \n",
       "\n",
       "            RecentlyPurchasedSmokingCessationProducts  \\\n",
       "IsPregnant                                              \n",
       "0                                            0.012097   \n",
       "1                                            0.128000   \n",
       "\n",
       "            PurchasedWineRegularlyUntilRecentlyThenStopped  \\\n",
       "IsPregnant                                                   \n",
       "0                                                 0.032258   \n",
       "1                                                 0.212000   \n",
       "\n",
       "            RecentlyPurchasedWine  RecentlyPurchasedMaternityClothing  \n",
       "IsPregnant                                                             \n",
       "0                        0.197581                            0.040323  \n",
       "1                        0.024000                            0.236000  \n",
       "\n",
       "[2 rows x 15 columns]"
      ]
     },
     "execution_count": 192,
     "metadata": {},
     "output_type": "execute_result"
    }
   ],
   "source": [
    "df.groupby('IsPregnant').mean()"
   ]
  },
  {
   "cell_type": "code",
   "execution_count": 197,
   "metadata": {},
   "outputs": [
    {
     "data": {
      "text/html": [
       "<div>\n",
       "<style>\n",
       "    .dataframe thead tr:only-child th {\n",
       "        text-align: right;\n",
       "    }\n",
       "\n",
       "    .dataframe thead th {\n",
       "        text-align: left;\n",
       "    }\n",
       "\n",
       "    .dataframe tbody tr th {\n",
       "        vertical-align: top;\n",
       "    }\n",
       "</style>\n",
       "<table border=\"1\" class=\"dataframe\">\n",
       "  <thead>\n",
       "    <tr style=\"text-align: right;\">\n",
       "      <th></th>\n",
       "      <th>coef</th>\n",
       "      <th>value</th>\n",
       "    </tr>\n",
       "  </thead>\n",
       "  <tbody>\n",
       "    <tr>\n",
       "      <th>0</th>\n",
       "      <td>RecentlyPurchasedPregnancyTest</td>\n",
       "      <td>1.356294</td>\n",
       "    </tr>\n",
       "    <tr>\n",
       "      <th>1</th>\n",
       "      <td>RecentlyPurchasedFolicAcidSupplements</td>\n",
       "      <td>2.505621</td>\n",
       "    </tr>\n",
       "    <tr>\n",
       "      <th>2</th>\n",
       "      <td>RecentlyPurchasedPrenatalVitamins</td>\n",
       "      <td>1.672636</td>\n",
       "    </tr>\n",
       "    <tr>\n",
       "      <th>3</th>\n",
       "      <td>RecentlyPurchasedPrenatalYogaDVD</td>\n",
       "      <td>0.471286</td>\n",
       "    </tr>\n",
       "    <tr>\n",
       "      <th>4</th>\n",
       "      <td>RecentlyPurchasedBodyPillow</td>\n",
       "      <td>0.955476</td>\n",
       "    </tr>\n",
       "    <tr>\n",
       "      <th>5</th>\n",
       "      <td>RecentlyPurchasedGingerAle</td>\n",
       "      <td>1.104774</td>\n",
       "    </tr>\n",
       "    <tr>\n",
       "      <th>6</th>\n",
       "      <td>RecentlyPurchasedSeaBands</td>\n",
       "      <td>1.187551</td>\n",
       "    </tr>\n",
       "    <tr>\n",
       "      <th>7</th>\n",
       "      <td>PurchasedCigarettesRegularlyUntilRecentlyThenS...</td>\n",
       "      <td>0.838216</td>\n",
       "    </tr>\n",
       "    <tr>\n",
       "      <th>8</th>\n",
       "      <td>RecentlyPurchasedCigarettes</td>\n",
       "      <td>-0.838863</td>\n",
       "    </tr>\n",
       "    <tr>\n",
       "      <th>9</th>\n",
       "      <td>RecentlyPurchasedSmokingCessationProducts</td>\n",
       "      <td>1.791920</td>\n",
       "    </tr>\n",
       "    <tr>\n",
       "      <th>10</th>\n",
       "      <td>PurchasedWineRegularlyUntilRecentlyThenStopped</td>\n",
       "      <td>1.541251</td>\n",
       "    </tr>\n",
       "    <tr>\n",
       "      <th>11</th>\n",
       "      <td>RecentlyPurchasedWine</td>\n",
       "      <td>-1.432412</td>\n",
       "    </tr>\n",
       "    <tr>\n",
       "      <th>12</th>\n",
       "      <td>RecentlyPurchasedMaternityClothing</td>\n",
       "      <td>1.293736</td>\n",
       "    </tr>\n",
       "  </tbody>\n",
       "</table>\n",
       "</div>"
      ],
      "text/plain": [
       "                                                 coef     value\n",
       "0                      RecentlyPurchasedPregnancyTest  1.356294\n",
       "1               RecentlyPurchasedFolicAcidSupplements  2.505621\n",
       "2                   RecentlyPurchasedPrenatalVitamins  1.672636\n",
       "3                    RecentlyPurchasedPrenatalYogaDVD  0.471286\n",
       "4                         RecentlyPurchasedBodyPillow  0.955476\n",
       "5                          RecentlyPurchasedGingerAle  1.104774\n",
       "6                           RecentlyPurchasedSeaBands  1.187551\n",
       "7   PurchasedCigarettesRegularlyUntilRecentlyThenS...  0.838216\n",
       "8                         RecentlyPurchasedCigarettes -0.838863\n",
       "9           RecentlyPurchasedSmokingCessationProducts  1.791920\n",
       "10     PurchasedWineRegularlyUntilRecentlyThenStopped  1.541251\n",
       "11                              RecentlyPurchasedWine -1.432412\n",
       "12                 RecentlyPurchasedMaternityClothing  1.293736"
      ]
     },
     "execution_count": 197,
     "metadata": {},
     "output_type": "execute_result"
    }
   ],
   "source": [
    "#Table of coefficients and their values\n",
    "coef = pd.DataFrame(zip(X.columns, np.transpose(lr.coef_[0])), columns=[\"coef\", \"value\"])\n",
    "coef"
   ]
  },
  {
   "cell_type": "code",
   "execution_count": 175,
   "metadata": {
    "collapsed": true
   },
   "outputs": [],
   "source": [
    "#Create X and y variables\n",
    "X = df.drop(\"IsPregnant\", axis=1)\n",
    "y = df.IsPregnant"
   ]
  },
  {
   "cell_type": "raw",
   "metadata": {},
   "source": [
    "\n",
    "\n",
    "#Intialize, fit, and score the model\n",
    "lr = LogisticRegression()\n",
    "\n",
    "lr.fit(X,y)\n",
    "\n",
    "score = lr.score(X,y)\n",
    "\n",
    "print (\"The model produces an accuracy score of {:.2f} percent\".format(score*100))"
   ]
  },
  {
   "cell_type": "code",
   "execution_count": 176,
   "metadata": {},
   "outputs": [
    {
     "data": {
      "text/plain": [
       "LogisticRegression(C=1.0, class_weight=None, dual=False, fit_intercept=True,\n",
       "          intercept_scaling=1, max_iter=100, multi_class='ovr', n_jobs=1,\n",
       "          penalty='l2', random_state=None, solver='liblinear', tol=0.0001,\n",
       "          verbose=0, warm_start=False)"
      ]
     },
     "execution_count": 176,
     "metadata": {},
     "output_type": "execute_result"
    }
   ],
   "source": [
    "#Step 1\n",
    "X_train, X_test, y_train, y_test = train_test_split(X, y, \n",
    "                                                    test_size=0.4,\n",
    "                                                    random_state=42)\n",
    "#Step 2\n",
    "lr = LogisticRegression()\n",
    "lr.fit(X_train, y_train)\n",
    "\n"
   ]
  },
  {
   "cell_type": "code",
   "execution_count": 196,
   "metadata": {},
   "outputs": [
    {
     "data": {
      "text/html": [
       "<div>\n",
       "<style>\n",
       "    .dataframe thead tr:only-child th {\n",
       "        text-align: right;\n",
       "    }\n",
       "\n",
       "    .dataframe thead th {\n",
       "        text-align: left;\n",
       "    }\n",
       "\n",
       "    .dataframe tbody tr th {\n",
       "        vertical-align: top;\n",
       "    }\n",
       "</style>\n",
       "<table border=\"1\" class=\"dataframe\">\n",
       "  <thead>\n",
       "    <tr style=\"text-align: right;\">\n",
       "      <th></th>\n",
       "      <th>coef</th>\n",
       "      <th>value</th>\n",
       "    </tr>\n",
       "  </thead>\n",
       "  <tbody>\n",
       "    <tr>\n",
       "      <th>0</th>\n",
       "      <td>RecentlyPurchasedPregnancyTest</td>\n",
       "      <td>1.356294</td>\n",
       "    </tr>\n",
       "    <tr>\n",
       "      <th>1</th>\n",
       "      <td>RecentlyPurchasedFolicAcidSupplements</td>\n",
       "      <td>2.505621</td>\n",
       "    </tr>\n",
       "    <tr>\n",
       "      <th>2</th>\n",
       "      <td>RecentlyPurchasedPrenatalVitamins</td>\n",
       "      <td>1.672636</td>\n",
       "    </tr>\n",
       "    <tr>\n",
       "      <th>3</th>\n",
       "      <td>RecentlyPurchasedPrenatalYogaDVD</td>\n",
       "      <td>0.471286</td>\n",
       "    </tr>\n",
       "    <tr>\n",
       "      <th>4</th>\n",
       "      <td>RecentlyPurchasedBodyPillow</td>\n",
       "      <td>0.955476</td>\n",
       "    </tr>\n",
       "    <tr>\n",
       "      <th>5</th>\n",
       "      <td>RecentlyPurchasedGingerAle</td>\n",
       "      <td>1.104774</td>\n",
       "    </tr>\n",
       "    <tr>\n",
       "      <th>6</th>\n",
       "      <td>RecentlyPurchasedSeaBands</td>\n",
       "      <td>1.187551</td>\n",
       "    </tr>\n",
       "    <tr>\n",
       "      <th>7</th>\n",
       "      <td>PurchasedCigarettesRegularlyUntilRecentlyThenS...</td>\n",
       "      <td>0.838216</td>\n",
       "    </tr>\n",
       "    <tr>\n",
       "      <th>8</th>\n",
       "      <td>RecentlyPurchasedCigarettes</td>\n",
       "      <td>-0.838863</td>\n",
       "    </tr>\n",
       "    <tr>\n",
       "      <th>9</th>\n",
       "      <td>RecentlyPurchasedSmokingCessationProducts</td>\n",
       "      <td>1.791920</td>\n",
       "    </tr>\n",
       "    <tr>\n",
       "      <th>10</th>\n",
       "      <td>PurchasedWineRegularlyUntilRecentlyThenStopped</td>\n",
       "      <td>1.541251</td>\n",
       "    </tr>\n",
       "    <tr>\n",
       "      <th>11</th>\n",
       "      <td>RecentlyPurchasedWine</td>\n",
       "      <td>-1.432412</td>\n",
       "    </tr>\n",
       "    <tr>\n",
       "      <th>12</th>\n",
       "      <td>RecentlyPurchasedMaternityClothing</td>\n",
       "      <td>1.293736</td>\n",
       "    </tr>\n",
       "  </tbody>\n",
       "</table>\n",
       "</div>"
      ],
      "text/plain": [
       "                                                 coef     value\n",
       "0                      RecentlyPurchasedPregnancyTest  1.356294\n",
       "1               RecentlyPurchasedFolicAcidSupplements  2.505621\n",
       "2                   RecentlyPurchasedPrenatalVitamins  1.672636\n",
       "3                    RecentlyPurchasedPrenatalYogaDVD  0.471286\n",
       "4                         RecentlyPurchasedBodyPillow  0.955476\n",
       "5                          RecentlyPurchasedGingerAle  1.104774\n",
       "6                           RecentlyPurchasedSeaBands  1.187551\n",
       "7   PurchasedCigarettesRegularlyUntilRecentlyThenS...  0.838216\n",
       "8                         RecentlyPurchasedCigarettes -0.838863\n",
       "9           RecentlyPurchasedSmokingCessationProducts  1.791920\n",
       "10     PurchasedWineRegularlyUntilRecentlyThenStopped  1.541251\n",
       "11                              RecentlyPurchasedWine -1.432412\n",
       "12                 RecentlyPurchasedMaternityClothing  1.293736"
      ]
     },
     "execution_count": 196,
     "metadata": {},
     "output_type": "execute_result"
    }
   ],
   "source": []
  },
  {
   "cell_type": "code",
   "execution_count": 178,
   "metadata": {
    "scrolled": false
   },
   "outputs": [
    {
     "data": {
      "text/html": [
       "<div>\n",
       "<style>\n",
       "    .dataframe thead tr:only-child th {\n",
       "        text-align: right;\n",
       "    }\n",
       "\n",
       "    .dataframe thead th {\n",
       "        text-align: left;\n",
       "    }\n",
       "\n",
       "    .dataframe tbody tr th {\n",
       "        vertical-align: top;\n",
       "    }\n",
       "</style>\n",
       "<table border=\"1\" class=\"dataframe\">\n",
       "  <thead>\n",
       "    <tr style=\"text-align: right;\">\n",
       "      <th></th>\n",
       "      <th>coef</th>\n",
       "      <th>value</th>\n",
       "      <th>odds_ratio</th>\n",
       "    </tr>\n",
       "  </thead>\n",
       "  <tbody>\n",
       "    <tr>\n",
       "      <th>0</th>\n",
       "      <td>RecentlyPurchasedPregnancyTest</td>\n",
       "      <td>1.356294</td>\n",
       "      <td>3.881780</td>\n",
       "    </tr>\n",
       "    <tr>\n",
       "      <th>1</th>\n",
       "      <td>RecentlyPurchasedFolicAcidSupplements</td>\n",
       "      <td>2.505621</td>\n",
       "      <td>12.251162</td>\n",
       "    </tr>\n",
       "    <tr>\n",
       "      <th>2</th>\n",
       "      <td>RecentlyPurchasedPrenatalVitamins</td>\n",
       "      <td>1.672636</td>\n",
       "      <td>5.326189</td>\n",
       "    </tr>\n",
       "    <tr>\n",
       "      <th>3</th>\n",
       "      <td>RecentlyPurchasedPrenatalYogaDVD</td>\n",
       "      <td>0.471286</td>\n",
       "      <td>1.602053</td>\n",
       "    </tr>\n",
       "    <tr>\n",
       "      <th>4</th>\n",
       "      <td>RecentlyPurchasedBodyPillow</td>\n",
       "      <td>0.955476</td>\n",
       "      <td>2.599907</td>\n",
       "    </tr>\n",
       "    <tr>\n",
       "      <th>5</th>\n",
       "      <td>RecentlyPurchasedGingerAle</td>\n",
       "      <td>1.104774</td>\n",
       "      <td>3.018543</td>\n",
       "    </tr>\n",
       "    <tr>\n",
       "      <th>6</th>\n",
       "      <td>RecentlyPurchasedSeaBands</td>\n",
       "      <td>1.187551</td>\n",
       "      <td>3.279042</td>\n",
       "    </tr>\n",
       "    <tr>\n",
       "      <th>7</th>\n",
       "      <td>PurchasedCigarettesRegularlyUntilRecentlyThenS...</td>\n",
       "      <td>0.838216</td>\n",
       "      <td>2.312237</td>\n",
       "    </tr>\n",
       "    <tr>\n",
       "      <th>8</th>\n",
       "      <td>RecentlyPurchasedCigarettes</td>\n",
       "      <td>-0.838863</td>\n",
       "      <td>0.432201</td>\n",
       "    </tr>\n",
       "    <tr>\n",
       "      <th>9</th>\n",
       "      <td>RecentlyPurchasedSmokingCessationProducts</td>\n",
       "      <td>1.791920</td>\n",
       "      <td>6.000964</td>\n",
       "    </tr>\n",
       "    <tr>\n",
       "      <th>10</th>\n",
       "      <td>PurchasedWineRegularlyUntilRecentlyThenStopped</td>\n",
       "      <td>1.541251</td>\n",
       "      <td>4.670429</td>\n",
       "    </tr>\n",
       "    <tr>\n",
       "      <th>11</th>\n",
       "      <td>RecentlyPurchasedWine</td>\n",
       "      <td>-1.432412</td>\n",
       "      <td>0.238732</td>\n",
       "    </tr>\n",
       "    <tr>\n",
       "      <th>12</th>\n",
       "      <td>RecentlyPurchasedMaternityClothing</td>\n",
       "      <td>1.293736</td>\n",
       "      <td>3.646384</td>\n",
       "    </tr>\n",
       "  </tbody>\n",
       "</table>\n",
       "</div>"
      ],
      "text/plain": [
       "                                                 coef     value  odds_ratio\n",
       "0                      RecentlyPurchasedPregnancyTest  1.356294    3.881780\n",
       "1               RecentlyPurchasedFolicAcidSupplements  2.505621   12.251162\n",
       "2                   RecentlyPurchasedPrenatalVitamins  1.672636    5.326189\n",
       "3                    RecentlyPurchasedPrenatalYogaDVD  0.471286    1.602053\n",
       "4                         RecentlyPurchasedBodyPillow  0.955476    2.599907\n",
       "5                          RecentlyPurchasedGingerAle  1.104774    3.018543\n",
       "6                           RecentlyPurchasedSeaBands  1.187551    3.279042\n",
       "7   PurchasedCigarettesRegularlyUntilRecentlyThenS...  0.838216    2.312237\n",
       "8                         RecentlyPurchasedCigarettes -0.838863    0.432201\n",
       "9           RecentlyPurchasedSmokingCessationProducts  1.791920    6.000964\n",
       "10     PurchasedWineRegularlyUntilRecentlyThenStopped  1.541251    4.670429\n",
       "11                              RecentlyPurchasedWine -1.432412    0.238732\n",
       "12                 RecentlyPurchasedMaternityClothing  1.293736    3.646384"
      ]
     },
     "execution_count": 178,
     "metadata": {},
     "output_type": "execute_result"
    }
   ],
   "source": [
    "coef_odds = np.e**(coef[\"value\"])\n",
    "coef[\"odds_ratio\"] = coef_odds\n",
    "coef"
   ]
  },
  {
   "cell_type": "code",
   "execution_count": 179,
   "metadata": {},
   "outputs": [
    {
     "name": "stdout",
     "output_type": "stream",
     "text": [
      "The model accurately classified 81.55 percent of the testing data\n"
     ]
    }
   ],
   "source": [
    "#Step 3\n",
    "preds = lr.predict(X_test)\n",
    "\n",
    "#Step 4\n",
    "testing_score = accuracy_score(y_test, preds)\n",
    "\n",
    "print (\"The model accurately classified {:.2f} percent of the testing data\".format(testing_score*100))"
   ]
  },
  {
   "cell_type": "code",
   "execution_count": 180,
   "metadata": {},
   "outputs": [
    {
     "name": "stdout",
     "output_type": "stream",
     "text": [
      "The cross validated accuracy score is 81.86 percent\n"
     ]
    }
   ],
   "source": [
    "mean_cv_score = cross_val_score(LogisticRegression(), X,y, cv=5, scoring=\"accuracy\").mean()\n",
    "\n",
    "print (\"The cross validated accuracy score is {:.2f} percent\").format(mean_cv_score*100)"
   ]
  },
  {
   "cell_type": "code",
   "execution_count": null,
   "metadata": {
    "collapsed": true
   },
   "outputs": [],
   "source": []
  }
 ],
 "metadata": {
  "kernelspec": {
   "display_name": "Python 2",
   "language": "python",
   "name": "python2"
  },
  "language_info": {
   "codemirror_mode": {
    "name": "ipython",
    "version": 2
   },
   "file_extension": ".py",
   "mimetype": "text/x-python",
   "name": "python",
   "nbconvert_exporter": "python",
   "pygments_lexer": "ipython2",
   "version": "2.7.13"
  }
 },
 "nbformat": 4,
 "nbformat_minor": 2
}
