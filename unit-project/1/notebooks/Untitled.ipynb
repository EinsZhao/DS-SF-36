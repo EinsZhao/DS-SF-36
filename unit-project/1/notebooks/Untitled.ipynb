{
 "cells": [
  {
   "cell_type": "code",
   "execution_count": 1,
   "metadata": {},
   "outputs": [
    {
     "name": "stdout",
     "output_type": "stream",
     "text": [
      "/c/Users/einst_000/DS-SF-36/unit-project/1/notebooks\n"
     ]
    }
   ],
   "source": [
    "!pwd"
   ]
  },
  {
   "cell_type": "code",
   "execution_count": 2,
   "metadata": {},
   "outputs": [
    {
     "name": "stdout",
     "output_type": "stream",
     "text": [
      " Volume in drive C is Windows\n",
      " Volume Serial Number is 283D-E715\n",
      "\n",
      " Directory of C:\\Users\\einst_000\\DS-SF-36\\unit-project\\1\\notebooks\n",
      "\n",
      "07/17/2017  06:44 PM    <DIR>          .\n",
      "07/17/2017  06:44 PM    <DIR>          ..\n",
      "07/17/2017  06:43 PM    <DIR>          .ipynb_checkpoints\n",
      "07/17/2017  06:29 PM            26,281 unit-project-1-Eins_Zhiyin_Zhao.ipynb\n",
      "06/28/2017  07:01 PM             3,056 unit-project-1-sample.ipynb\n",
      "06/28/2017  06:59 PM             7,429 unit-project-1-starter-code.ipynb\n",
      "07/17/2017  06:44 PM               581 Untitled.ipynb\n",
      "               4 File(s)         37,347 bytes\n",
      "               3 Dir(s)  16,494,059,520 bytes free\n"
     ]
    }
   ],
   "source": [
    "ls"
   ]
  },
  {
   "cell_type": "code",
   "execution_count": null,
   "metadata": {
    "collapsed": true
   },
   "outputs": [],
   "source": []
  }
 ],
 "metadata": {
  "kernelspec": {
   "display_name": "Python 3",
   "language": "python",
   "name": "python3"
  },
  "language_info": {
   "codemirror_mode": {
    "name": "ipython",
    "version": 3
   },
   "file_extension": ".py",
   "mimetype": "text/x-python",
   "name": "python",
   "nbconvert_exporter": "python",
   "pygments_lexer": "ipython3",
   "version": "3.6.1"
  }
 },
 "nbformat": 4,
 "nbformat_minor": 2
}
