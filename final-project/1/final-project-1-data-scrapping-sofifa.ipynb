{
 "cells": [
  {
   "cell_type": "markdown",
   "metadata": {},
   "source": [
    "# Data Scrapping from SOFIFA.COM"
   ]
  },
  {
   "cell_type": "markdown",
   "metadata": {},
   "source": [
    "### Import the necessary libraries in Python"
   ]
  },
  {
   "cell_type": "code",
   "execution_count": 1,
   "metadata": {
    "collapsed": true
   },
   "outputs": [],
   "source": [
    "from bs4 import BeautifulSoup\n",
    "import requests\n",
    "import os\n",
    "import pandas as pd\n",
    "pd.set_option('display.max_rows', 10)\n",
    "pd.set_option('display.notebook_repr_html', True)\n",
    "pd.set_option('display.max_columns', 10)\n",
    "\n",
    "import re\n",
    "import sqlite3"
   ]
  },
  {
   "cell_type": "markdown",
   "metadata": {},
   "source": [
    "### Connect to SQLite database"
   ]
  },
  {
   "cell_type": "code",
   "execution_count": 2,
   "metadata": {
    "collapsed": true
   },
   "outputs": [],
   "source": [
    "db = sqlite3.connect(os.path.join('..', 'dataset', 'soccer2017.db'))"
   ]
  },
  {
   "cell_type": "markdown",
   "metadata": {},
   "source": [
    "Function for Creating BeautifulSoup object"
   ]
  },
  {
   "cell_type": "code",
   "execution_count": 3,
   "metadata": {
    "collapsed": true
   },
   "outputs": [],
   "source": [
    "def get_beautifulsoup(url):\n",
    "    \n",
    "    ## Grab the HTML from URL webpage and create a beautifulSoup object.    \n",
    "    r = requests.get(url)\n",
    "    data = r.text\n",
    "    soup = BeautifulSoup(data,'html.parser')\n",
    "    return soup"
   ]
  },
  {
   "cell_type": "markdown",
   "metadata": {},
   "source": [
    "Function to get Table rows from Soup object"
   ]
  },
  {
   "cell_type": "code",
   "execution_count": 4,
   "metadata": {
    "collapsed": true
   },
   "outputs": [],
   "source": [
    "def get_data_rows(soup):\n",
    "    \n",
    "    ## we want to grab the first table from the webpage. \n",
    "    ## Since we want information from the first table only, we need to specify the table we want by using index [0]\n",
    "    table = soup.find_all('table')[0]\n",
    "    \n",
    "    ## Next we find all the tr elements, which are all the rows of table first. \n",
    "    ## We want to skip the first row because it contain header, so we use [1:] to capture only the rows with data.\n",
    "    rows = table.find_all('tr')[1:]\n",
    "    \n",
    "    return rows"
   ]
  },
  {
   "cell_type": "markdown",
   "metadata": {},
   "source": [
    "## League Data"
   ]
  },
  {
   "cell_type": "code",
   "execution_count": 442,
   "metadata": {
    "collapsed": true
   },
   "outputs": [],
   "source": [
    "source_url='https://sofifa.com/leagues'"
   ]
  },
  {
   "cell_type": "markdown",
   "metadata": {},
   "source": [
    "Functions to Read Data from HTML node"
   ]
  },
  {
   "cell_type": "code",
   "execution_count": 443,
   "metadata": {
    "collapsed": true
   },
   "outputs": [],
   "source": [
    "def league_id(row):\n",
    "    return row.find_all('td')[1].find_all('a')[0].get('href').replace('/league/','').encode('utf-8')\n",
    "    \n",
    "def league_name(row):\n",
    "    return row.find_all('td')[1].get_text().encode('utf-8')   \n",
    "\n",
    "def teams(row):\n",
    "    return row.find_all('td')[2].get_text().encode('utf-8')   \n",
    "\n",
    "def division(row):\n",
    "    line= row.find_all('td')[1].get_text()  \n",
    "    value = re.search(r'\\([0-9]\\)',  line,re.M|re.I)\n",
    "    if value:\n",
    "        return value.group().replace('(','').replace(')','').encode('utf-8')\n",
    "    else:\n",
    "        return '1'\n",
    "\n",
    "def hits(row):\n",
    "    return row.find_all('td')[3].get_text().encode('utf-8')   "
   ]
  },
  {
   "cell_type": "markdown",
   "metadata": {},
   "source": [
    "Clear leagues table data before loading new data"
   ]
  },
  {
   "cell_type": "code",
   "execution_count": 361,
   "metadata": {},
   "outputs": [
    {
     "name": "stdout",
     "output_type": "stream",
     "text": [
      "Total 38 records has been deleted from leagues table\n"
     ]
    }
   ],
   "source": [
    "cursor = db.cursor()\n",
    "count = cursor.execute(''' DELETE FROM leagues''')\n",
    "db.commit()\n",
    "print('Total {0} records has been deleted from leagues table').format(count.rowcount)"
   ]
  },
  {
   "cell_type": "markdown",
   "metadata": {},
   "source": [
    "Next, loop through all the rows that are in the leagues table, and insert into league table"
   ]
  },
  {
   "cell_type": "code",
   "execution_count": 362,
   "metadata": {
    "collapsed": true
   },
   "outputs": [],
   "source": [
    "def insert_into_leagues_table(rows):\n",
    "    cur = db.cursor()\n",
    "    i=1\n",
    "    for row in rows:         \n",
    "        values = (i+1, league_id(row), league_name(row), teams(row), division(row), hits(row))        \n",
    "        ##print(\"insert into leagues values\"+str(values))        \n",
    "        cur.execute(\"insert into leagues values\"+str(values))\n",
    "        i +=1\n",
    "        \n",
    "    db.commit()"
   ]
  },
  {
   "cell_type": "markdown",
   "metadata": {},
   "source": [
    "Perform Operations"
   ]
  },
  {
   "cell_type": "code",
   "execution_count": 363,
   "metadata": {
    "collapsed": true
   },
   "outputs": [],
   "source": [
    "soup = get_beautifulsoup(source_url)\n",
    "rows = get_data_rows(soup)\n",
    "insert_into_leagues_table(rows)"
   ]
  },
  {
   "cell_type": "markdown",
   "metadata": {},
   "source": [
    "Verify leagues table data"
   ]
  },
  {
   "cell_type": "code",
   "execution_count": 444,
   "metadata": {
    "collapsed": true
   },
   "outputs": [],
   "source": [
    "df = pd.io.sql.read_sql(\n",
    "'''\n",
    "    SELECT *\n",
    "    FROM leagues    \n",
    "    \n",
    ";\n",
    "''', con = db)"
   ]
  },
  {
   "cell_type": "code",
   "execution_count": 445,
   "metadata": {},
   "outputs": [
    {
     "data": {
      "text/plain": [
       "38"
      ]
     },
     "execution_count": 445,
     "metadata": {},
     "output_type": "execute_result"
    }
   ],
   "source": [
    "## Total Records\n",
    "df.shape[0]"
   ]
  },
  {
   "cell_type": "markdown",
   "metadata": {},
   "source": [
    "### Load Calendar Info"
   ]
  },
  {
   "cell_type": "code",
   "execution_count": 7,
   "metadata": {},
   "outputs": [
    {
     "data": {
      "text/html": [
       "<div>\n",
       "<style>\n",
       "    .dataframe thead tr:only-child th {\n",
       "        text-align: right;\n",
       "    }\n",
       "\n",
       "    .dataframe thead th {\n",
       "        text-align: left;\n",
       "    }\n",
       "\n",
       "    .dataframe tbody tr th {\n",
       "        vertical-align: top;\n",
       "    }\n",
       "</style>\n",
       "<table border=\"1\" class=\"dataframe\">\n",
       "  <thead>\n",
       "    <tr style=\"text-align: right;\">\n",
       "      <th></th>\n",
       "      <th>id</th>\n",
       "      <th>season</th>\n",
       "      <th>season_v</th>\n",
       "      <th>year</th>\n",
       "      <th>month</th>\n",
       "      <th>day</th>\n",
       "      <th>value</th>\n",
       "      <th>date</th>\n",
       "    </tr>\n",
       "  </thead>\n",
       "  <tbody>\n",
       "  </tbody>\n",
       "</table>\n",
       "</div>"
      ],
      "text/plain": [
       "Empty DataFrame\n",
       "Columns: [id, season, season_v, year, month, day, value, date]\n",
       "Index: []"
      ]
     },
     "execution_count": 7,
     "metadata": {},
     "output_type": "execute_result"
    }
   ],
   "source": [
    "pd.io.sql.read_sql(\n",
    "'''\n",
    "SELECT *\n",
    "    FROM calendar\n",
    "    \n",
    ";\n",
    "''', con = db)"
   ]
  },
  {
   "cell_type": "code",
   "execution_count": 8,
   "metadata": {
    "collapsed": true
   },
   "outputs": [],
   "source": [
    "source_url='https://sofifa.com/players/top'"
   ]
  },
  {
   "cell_type": "code",
   "execution_count": 9,
   "metadata": {
    "collapsed": true
   },
   "outputs": [],
   "source": [
    "soup = get_beautifulsoup(source_url)\n",
    "calender_div = soup.find(\"div\", {\"id\": \"version-calendar\"})"
   ]
  },
  {
   "cell_type": "code",
   "execution_count": 10,
   "metadata": {
    "collapsed": true
   },
   "outputs": [],
   "source": [
    "cards= calender_div.find('div',{'class':'filter-body'}).find_all('div',{'class':'column col-4'})"
   ]
  },
  {
   "cell_type": "code",
   "execution_count": 11,
   "metadata": {
    "collapsed": true
   },
   "outputs": [],
   "source": [
    "def season_name(card):    \n",
    "    return card.get('data-tag').replace('tag-','').replace('-',' ').upper().encode('utf-8') \n",
    "\n",
    "def season_name_v(card):    \n",
    "    return card.get('data-tag').replace('tag-','').replace('-',' ').upper().encode('utf-8')[-2:] \n",
    "\n",
    "def season_year(card):\n",
    "    card_header = card.find('div',{'class':'card-header'}).get_text()\n",
    "    return card_header.split(' ')[2].encode('utf-8') \n",
    "\n",
    "def season_month(card):\n",
    "    card_header = card.find('div',{'class':'card-header'}).get_text()\n",
    "    return card_header.split(' ')[0].encode('utf-8') \n",
    "\n",
    "def season_day(card_item):    \n",
    "    return card_item.get_text().encode('utf-8') \n",
    "\n",
    "def season_value(card_item):    \n",
    "    return card_item.get('class')[0].split('-')[1].encode('utf-8') "
   ]
  },
  {
   "cell_type": "code",
   "execution_count": 17,
   "metadata": {},
   "outputs": [
    {
     "name": "stdout",
     "output_type": "stream",
     "text": [
      "Total 299 records has been deleted from calendar table\n"
     ]
    }
   ],
   "source": [
    "cursor = db.cursor()\n",
    "count = cursor.execute(''' DELETE FROM calendar''')\n",
    "db.commit()\n",
    "print('Total {0} records has been deleted from calendar table').format(count.rowcount)"
   ]
  },
  {
   "cell_type": "code",
   "execution_count": 20,
   "metadata": {
    "collapsed": true
   },
   "outputs": [],
   "source": [
    "def insert_into_calendar(cards):\n",
    "    cur = db.cursor()\n",
    "    for card in cards:\n",
    "        card_body = card.find('div',{'class':'card-body'})\n",
    "        card_items=card_body.find_all('a')\n",
    "        for card_item in card_items:\n",
    "            sql = \"insert into calendar(season, season_v, year, month, day, value)\\\n",
    "                values('{0}', {1},{2}, '{3}', {4}, {5})\"\\\n",
    "            .format(season_name(card), season_name_v(card), season_year(card), season_month(card), season_day(card_item), season_value(card_item))\n",
    "            \n",
    "            cur.execute(sql)\n",
    "            #print(sql)\n",
    "            \n",
    "        if card.get('data-tag')=='tag-fifa-07':\n",
    "            break;\n",
    "            \n",
    "    sql_update_date =\"\\\n",
    "    UPDATE calendar\\\n",
    "    SET date = year||'-'||CASE month \\\n",
    "         WHEN 'Jan' THEN 1 \\\n",
    "         WHEN 'Feb' THEN 2 \\\n",
    "         WHEN 'Mar' THEN 3 \\\n",
    "         WHEN 'Apr' THEN 4 \\\n",
    "         WHEN 'May' THEN 5 \\\n",
    "         WHEN 'Jun' THEN 6 \\\n",
    "         WHEN 'Jul' THEN 7 \\\n",
    "         WHEN 'Aug' THEN 8 \\\n",
    "         WHEN 'Sep' THEN 9 \\\n",
    "         WHEN 'Oct' THEN 10 \\\n",
    "         WHEN 'Nov' THEN 11 \\\n",
    "         WHEN 'Dec' THEN 12 \\\n",
    "      END ||'-'|| day \"\n",
    "    \n",
    "    cur.execute(sql_update_date)\n",
    "    \n",
    "    db.commit()"
   ]
  },
  {
   "cell_type": "code",
   "execution_count": 21,
   "metadata": {
    "collapsed": true
   },
   "outputs": [],
   "source": [
    "#do not execute below line since calendar table has already been loaded\n",
    "\n",
    "insert_into_calendar(cards)"
   ]
  },
  {
   "cell_type": "code",
   "execution_count": 22,
   "metadata": {
    "collapsed": true
   },
   "outputs": [],
   "source": [
    "# remove duplicate record\n",
    "cursor = db.cursor()\n",
    "count = cursor.execute(''' delete from calendar where id in (1414,1461)''')\n",
    "db.commit()\n"
   ]
  },
  {
   "cell_type": "code",
   "execution_count": 14,
   "metadata": {
    "collapsed": true
   },
   "outputs": [],
   "source": [
    "df_calendar_last_5_season = pd.io.sql.read_sql(\n",
    "'''\n",
    "SELECT *\n",
    "    FROM calendar\n",
    "WHERE\n",
    "    season in ( 'FIFA 17','FIFA 16', 'FIFA 15', 'FIFA 14', 'FIFA 13')\n",
    "    \n",
    ";\n",
    "''', con = db)"
   ]
  },
  {
   "cell_type": "code",
   "execution_count": 15,
   "metadata": {},
   "outputs": [
    {
     "data": {
      "text/html": [
       "<div>\n",
       "<style>\n",
       "    .dataframe thead tr:only-child th {\n",
       "        text-align: right;\n",
       "    }\n",
       "\n",
       "    .dataframe thead th {\n",
       "        text-align: left;\n",
       "    }\n",
       "\n",
       "    .dataframe tbody tr th {\n",
       "        vertical-align: top;\n",
       "    }\n",
       "</style>\n",
       "<table border=\"1\" class=\"dataframe\">\n",
       "  <thead>\n",
       "    <tr style=\"text-align: right;\">\n",
       "      <th></th>\n",
       "      <th>id</th>\n",
       "      <th>season</th>\n",
       "      <th>season_v</th>\n",
       "      <th>year</th>\n",
       "      <th>month</th>\n",
       "      <th>day</th>\n",
       "      <th>value</th>\n",
       "      <th>date</th>\n",
       "    </tr>\n",
       "  </thead>\n",
       "  <tbody>\n",
       "    <tr>\n",
       "      <th>0</th>\n",
       "      <td>906</td>\n",
       "      <td>FIFA 17</td>\n",
       "      <td>17</td>\n",
       "      <td>2017</td>\n",
       "      <td>Aug</td>\n",
       "      <td>10</td>\n",
       "      <td>158816</td>\n",
       "      <td>None</td>\n",
       "    </tr>\n",
       "    <tr>\n",
       "      <th>1</th>\n",
       "      <td>907</td>\n",
       "      <td>FIFA 17</td>\n",
       "      <td>17</td>\n",
       "      <td>2017</td>\n",
       "      <td>Aug</td>\n",
       "      <td>3</td>\n",
       "      <td>158809</td>\n",
       "      <td>None</td>\n",
       "    </tr>\n",
       "    <tr>\n",
       "      <th>2</th>\n",
       "      <td>908</td>\n",
       "      <td>FIFA 17</td>\n",
       "      <td>17</td>\n",
       "      <td>2017</td>\n",
       "      <td>Jul</td>\n",
       "      <td>31</td>\n",
       "      <td>158806</td>\n",
       "      <td>None</td>\n",
       "    </tr>\n",
       "    <tr>\n",
       "      <th>3</th>\n",
       "      <td>909</td>\n",
       "      <td>FIFA 17</td>\n",
       "      <td>17</td>\n",
       "      <td>2017</td>\n",
       "      <td>Jul</td>\n",
       "      <td>27</td>\n",
       "      <td>158802</td>\n",
       "      <td>None</td>\n",
       "    </tr>\n",
       "    <tr>\n",
       "      <th>4</th>\n",
       "      <td>910</td>\n",
       "      <td>FIFA 17</td>\n",
       "      <td>17</td>\n",
       "      <td>2017</td>\n",
       "      <td>Jul</td>\n",
       "      <td>24</td>\n",
       "      <td>158799</td>\n",
       "      <td>None</td>\n",
       "    </tr>\n",
       "    <tr>\n",
       "      <th>...</th>\n",
       "      <td>...</td>\n",
       "      <td>...</td>\n",
       "      <td>...</td>\n",
       "      <td>...</td>\n",
       "      <td>...</td>\n",
       "      <td>...</td>\n",
       "      <td>...</td>\n",
       "      <td>...</td>\n",
       "    </tr>\n",
       "    <tr>\n",
       "      <th>285</th>\n",
       "      <td>1191</td>\n",
       "      <td>FIFA 13</td>\n",
       "      <td>13</td>\n",
       "      <td>2013</td>\n",
       "      <td>Mar</td>\n",
       "      <td>4</td>\n",
       "      <td>157196</td>\n",
       "      <td>None</td>\n",
       "    </tr>\n",
       "    <tr>\n",
       "      <th>286</th>\n",
       "      <td>1192</td>\n",
       "      <td>FIFA 13</td>\n",
       "      <td>13</td>\n",
       "      <td>2013</td>\n",
       "      <td>Mar</td>\n",
       "      <td>1</td>\n",
       "      <td>157193</td>\n",
       "      <td>None</td>\n",
       "    </tr>\n",
       "    <tr>\n",
       "      <th>287</th>\n",
       "      <td>1193</td>\n",
       "      <td>FIFA 13</td>\n",
       "      <td>13</td>\n",
       "      <td>2013</td>\n",
       "      <td>Feb</td>\n",
       "      <td>22</td>\n",
       "      <td>157186</td>\n",
       "      <td>None</td>\n",
       "    </tr>\n",
       "    <tr>\n",
       "      <th>288</th>\n",
       "      <td>1194</td>\n",
       "      <td>FIFA 13</td>\n",
       "      <td>13</td>\n",
       "      <td>2013</td>\n",
       "      <td>Feb</td>\n",
       "      <td>15</td>\n",
       "      <td>157179</td>\n",
       "      <td>None</td>\n",
       "    </tr>\n",
       "    <tr>\n",
       "      <th>289</th>\n",
       "      <td>1195</td>\n",
       "      <td>FIFA 13</td>\n",
       "      <td>13</td>\n",
       "      <td>2012</td>\n",
       "      <td>Aug</td>\n",
       "      <td>31</td>\n",
       "      <td>157011</td>\n",
       "      <td>None</td>\n",
       "    </tr>\n",
       "  </tbody>\n",
       "</table>\n",
       "<p>290 rows × 8 columns</p>\n",
       "</div>"
      ],
      "text/plain": [
       "       id   season  season_v  year month  day   value  date\n",
       "0     906  FIFA 17        17  2017   Aug   10  158816  None\n",
       "1     907  FIFA 17        17  2017   Aug    3  158809  None\n",
       "2     908  FIFA 17        17  2017   Jul   31  158806  None\n",
       "3     909  FIFA 17        17  2017   Jul   27  158802  None\n",
       "4     910  FIFA 17        17  2017   Jul   24  158799  None\n",
       "..    ...      ...       ...   ...   ...  ...     ...   ...\n",
       "285  1191  FIFA 13        13  2013   Mar    4  157196  None\n",
       "286  1192  FIFA 13        13  2013   Mar    1  157193  None\n",
       "287  1193  FIFA 13        13  2013   Feb   22  157186  None\n",
       "288  1194  FIFA 13        13  2013   Feb   15  157179  None\n",
       "289  1195  FIFA 13        13  2012   Aug   31  157011  None\n",
       "\n",
       "[290 rows x 8 columns]"
      ]
     },
     "execution_count": 15,
     "metadata": {},
     "output_type": "execute_result"
    }
   ],
   "source": [
    "df_calendar_last_5_season"
   ]
  },
  {
   "cell_type": "code",
   "execution_count": null,
   "metadata": {
    "collapsed": true
   },
   "outputs": [],
   "source": []
  },
  {
   "cell_type": "markdown",
   "metadata": {},
   "source": [
    "### Teams Data"
   ]
  },
  {
   "cell_type": "code",
   "execution_count": 450,
   "metadata": {
    "collapsed": true
   },
   "outputs": [],
   "source": [
    "df = pd.io.sql.read_sql(\n",
    "'''\n",
    "SELECT *\n",
    "    FROM teams\n",
    "    \n",
    ";\n",
    "''', con = db)"
   ]
  },
  {
   "cell_type": "code",
   "execution_count": 451,
   "metadata": {},
   "outputs": [
    {
     "data": {
      "text/plain": [
       "Index([u'record_id', u'team_id', u'league_id', u'name', u'overall', u'attack',\n",
       "       u'midfield', u'defence', u'home_stadium', u'rival_team',\n",
       "       u'international_prestige', u'domestic_prestige', u'transfer_budget',\n",
       "       u'starting_11_average_age', u'whole_team_average_age', u'captain',\n",
       "       u'short_free_kick', u'long_free_kick', u'penalties', u'left_corner',\n",
       "       u'right_corner', u'date_value'],\n",
       "      dtype='object')"
      ]
     },
     "execution_count": 451,
     "metadata": {},
     "output_type": "execute_result"
    }
   ],
   "source": [
    "df.columns"
   ]
  },
  {
   "cell_type": "code",
   "execution_count": 479,
   "metadata": {
    "collapsed": true
   },
   "outputs": [],
   "source": [
    "def team_id(row):    \n",
    "    return row.find_all('td')[0].find_all('a')[0].get('href').replace('/team/','').encode('utf-8')\n",
    "\n",
    "def team_name(row):    \n",
    "    return row.find_all('td')[0].find_all('a')[0].get_text().encode('utf-8') \n",
    "\n",
    "def team_overall(row):\n",
    "    return row.find_all('td')[1].find_all('span')[0].get_text().encode('utf-8') "
   ]
  },
  {
   "cell_type": "code",
   "execution_count": 453,
   "metadata": {},
   "outputs": [
    {
     "name": "stdout",
     "output_type": "stream",
     "text": [
      "Total 0 records has been deleted from teams table\n"
     ]
    }
   ],
   "source": [
    "cursor = db.cursor()\n",
    "count = cursor.execute(''' DELETE FROM teams''')\n",
    "db.commit()\n",
    "print('Total {0} records has been deleted from teams table').format(count.rowcount)"
   ]
  },
  {
   "cell_type": "code",
   "execution_count": 454,
   "metadata": {
    "collapsed": true
   },
   "outputs": [],
   "source": [
    "def insert_into_teams_table(lg_id, items):\n",
    "    cur = db.cursor()\n",
    "    i=1\n",
    "    for row in items: \n",
    "        values = ( team_id(row), lg_id, team_name(row), team_overall(row))\n",
    "        ##print(\"insert into team( 'team_id', 'league_id', 'name', 'overall') values\"+str(values))        \n",
    "        cur.execute(\"insert into teams('team_id', 'league_id', 'name', 'overall') values\"+str(values))\n",
    "        i +=1\n",
    "    db.commit()"
   ]
  },
  {
   "cell_type": "markdown",
   "metadata": {},
   "source": [
    "<div class=\"alert alert-info\">\n",
    "\n",
    "**Note:** Executing below cell will scrap all leagues data. Please use Responsibly.\n",
    "\n",
    "</div>"
   ]
  },
  {
   "cell_type": "raw",
   "metadata": {},
   "source": [
    "## Please convert cell mode to Code to execute below code\n",
    "\n",
    "items = rows ## rows will have leagues records\n",
    "\n",
    "for row in items: \n",
    "    lg_id = league_id(row)\n",
    "    source_url='https://sofifa.com/league/{0}'.format(lg_id)\n",
    "    soup = get_beautifulsoup(source_url)\n",
    "    rows = get_data_rows(soup)\n",
    "    insert_into_teams_table(lg_id, rows)"
   ]
  },
  {
   "cell_type": "markdown",
   "metadata": {},
   "source": [
    "### English Premier League Data Only"
   ]
  },
  {
   "cell_type": "code",
   "execution_count": 455,
   "metadata": {
    "collapsed": true
   },
   "outputs": [],
   "source": [
    "lg_id=13 ## English Premier League \n",
    "source_url='https://sofifa.com/league/{0}'.format(lg_id)\n",
    "soup = get_beautifulsoup(source_url)\n",
    "epl_rows = get_data_rows(soup)\n",
    "#insert_into_teams_table(league_id, rows)"
   ]
  },
  {
   "cell_type": "markdown",
   "metadata": {},
   "source": [
    "Validate teams table records"
   ]
  },
  {
   "cell_type": "markdown",
   "metadata": {},
   "source": [
    "### Load Team profile"
   ]
  },
  {
   "cell_type": "code",
   "execution_count": 456,
   "metadata": {
    "collapsed": true
   },
   "outputs": [],
   "source": [
    "df = pd.io.sql.read_sql(\n",
    "'''\n",
    "SELECT *\n",
    "    FROM teams\n",
    "    \n",
    ";\n",
    "''', con = db)"
   ]
  },
  {
   "cell_type": "code",
   "execution_count": 457,
   "metadata": {},
   "outputs": [
    {
     "data": {
      "text/html": [
       "<div>\n",
       "<style>\n",
       "    .dataframe thead tr:only-child th {\n",
       "        text-align: right;\n",
       "    }\n",
       "\n",
       "    .dataframe thead th {\n",
       "        text-align: left;\n",
       "    }\n",
       "\n",
       "    .dataframe tbody tr th {\n",
       "        vertical-align: top;\n",
       "    }\n",
       "</style>\n",
       "<table border=\"1\" class=\"dataframe\">\n",
       "  <thead>\n",
       "    <tr style=\"text-align: right;\">\n",
       "      <th></th>\n",
       "      <th>record_id</th>\n",
       "      <th>team_id</th>\n",
       "      <th>league_id</th>\n",
       "      <th>name</th>\n",
       "      <th>overall</th>\n",
       "      <th>...</th>\n",
       "      <th>long_free_kick</th>\n",
       "      <th>penalties</th>\n",
       "      <th>left_corner</th>\n",
       "      <th>right_corner</th>\n",
       "      <th>date_value</th>\n",
       "    </tr>\n",
       "  </thead>\n",
       "  <tbody>\n",
       "  </tbody>\n",
       "</table>\n",
       "<p>0 rows × 22 columns</p>\n",
       "</div>"
      ],
      "text/plain": [
       "Empty DataFrame\n",
       "Columns: [record_id, team_id, league_id, name, overall, attack, midfield, defence, home_stadium, rival_team, international_prestige, domestic_prestige, transfer_budget, starting_11_average_age, whole_team_average_age, captain, short_free_kick, long_free_kick, penalties, left_corner, right_corner, date_value]\n",
       "Index: []\n",
       "\n",
       "[0 rows x 22 columns]"
      ]
     },
     "execution_count": 457,
     "metadata": {},
     "output_type": "execute_result"
    }
   ],
   "source": [
    "df.head()"
   ]
  },
  {
   "cell_type": "raw",
   "metadata": {},
   "source": [
    "def team_id(row_stat):        \n",
    "    line = row_stat.find('h1').get_text() \n",
    "    value = re.search(r'\\([ID:0-9]\\)',  line,re.M|re.I)\n",
    "    return value.group().replace('(','').replace(')','').encode('utf-8')\n",
    "\n",
    "def team_name(row_stat):    \n",
    "    return row_stat.find('h1').get_text().split('(')[0]"
   ]
  },
  {
   "cell_type": "code",
   "execution_count": 480,
   "metadata": {
    "collapsed": true
   },
   "outputs": [],
   "source": [
    "def team_overall(row):    \n",
    "    return row.find_all('td')[0].find_all('span')[0].get_text().encode('utf-8') \n",
    "\n",
    "def team_attack(row):    \n",
    "    return row.find_all('td')[1].find_all('span')[0].get_text().encode('utf-8') \n",
    "\n",
    "def team_midfield(row):    \n",
    "    return row.find_all('td')[2].find_all('span')[0].get_text().encode('utf-8') \n",
    "\n",
    "def team_defence(row):\n",
    "    return row.find_all('td')[3].find_all('span')[0].get_text().encode('utf-8') "
   ]
  },
  {
   "cell_type": "code",
   "execution_count": 481,
   "metadata": {
    "collapsed": true
   },
   "outputs": [],
   "source": [
    "def team_home_stadium(ul):    \n",
    "    return ul.find_all('li')[0].contents[2].strip().encode('utf-8') \n",
    "\n",
    "def team_rival_team(ul):    \n",
    "    return ul.find_all('li')[1].find('a').get_text().encode('utf-8') \n",
    "\n",
    "def team_international_prestige(ul):    \n",
    "    return ul.find_all('li')[2].find('span').get_text().encode('utf-8') \n",
    "\n",
    "def team_domestic_prestige(ul):    \n",
    "    return ul.find_all('li')[2].find('span').get_text().encode('utf-8') \n",
    "\n",
    "def team_transfer_budget(ul):    \n",
    "    return ul.find_all('li')[4].contents[2].strip().encode('utf-8') \n",
    "\n",
    "def team_starting_xi_avg_age(ul):    \n",
    "    return ul.find_all('li')[5].contents[2].strip().encode('utf-8') \n",
    "\n",
    "def team_avg_age(ul):    \n",
    "    return ul.find_all('li')[6].contents[2].strip().encode('utf-8') \n",
    "\n",
    "def team_captain(ul):    \n",
    "    return ul.find_all('li')[7].find('a').get_text().encode('utf-8') \n",
    "\n",
    "def team_short_free_kick(ul):    \n",
    "    return ul.find_all('li')[8].find('a').get_text().encode('utf-8') \n",
    "\n",
    "def team_long_free_kick(ul):    \n",
    "    return ul.find_all('li')[9].find('a').get_text().encode('utf-8') \n",
    "\n",
    "def team_penalties(ul):    \n",
    "    return ul.find_all('li')[10].find('a').get_text().encode('utf-8') \n",
    "\n",
    "def team_left_corner(ul):    \n",
    "    return ul.find_all('li')[11].find('a').get_text().encode('utf-8') \n",
    "\n",
    "def team_right_corner(ul):    \n",
    "    return ul.find_all('li')[12].find('a').get_text().encode('utf-8') "
   ]
  },
  {
   "cell_type": "code",
   "execution_count": 493,
   "metadata": {
    "collapsed": true
   },
   "outputs": [],
   "source": [
    "def insert_team_profile_score(lg_id, tm_id,tm_name, date_value, soup):    \n",
    "    tbl = soup.find_all('table')[0]\n",
    "    rows = tbl.find_all('tr')\n",
    "    row=rows[0]\n",
    "    \n",
    "    cur = db.cursor()\n",
    "    \n",
    "    #values = ( team_id(row), lg_id, team_name(row), team_overall(row),team_attack(row), team_midfield(row), team_defence(row), team_id, date_value )\n",
    "    sql = \"insert into teams('team_id', 'league_id', 'name', 'overall', 'attack','midfield', 'defence', 'date_value')\"\n",
    "    values=\"values({0},{1},'{2}',{3},{4},{5},{6},{7})\".format(tm_id, lg_id, tm_name, team_overall(row),team_attack(row), team_midfield(row), team_defence(row), date_value)\n",
    "        \n",
    "          \n",
    "    cur.execute(sql+values)\n",
    "    #print(sql+values)\n",
    "        \n",
    "    db.commit()"
   ]
  },
  {
   "cell_type": "code",
   "execution_count": 494,
   "metadata": {
    "collapsed": true
   },
   "outputs": [],
   "source": [
    "def update_team_profile(tm_id, date_value, soup):    \n",
    "    ul = soup.find_all('ul')[2]  \n",
    "    \n",
    "    cur = db.cursor()\n",
    "    sql =(\"\"\" update teams set \\\n",
    "                home_stadium = \"{0}\", \\\n",
    "                rival_team = \"{1}\", \\\n",
    "                international_prestige = \"{2}\", \\\n",
    "                domestic_prestige = \"{3}\" ,\\\n",
    "                transfer_budget = \"{4}\",\\\n",
    "                starting_11_average_age =\"{5}\",\\\n",
    "                whole_team_average_age =\"{6}\",\\\n",
    "                captain=\"{7}\",\\\n",
    "                short_free_kick =\"{8}\",\\\n",
    "                long_free_kick = \"{9}\",\\\n",
    "                penalties = \"{10}\",\\\n",
    "                left_corner = \"{11}\",\\\n",
    "                right_corner = \"{12}\"\\                \n",
    "                where team_id = {13}  and date_value = {14} \"\"\"\n",
    "                .format(\n",
    "                    team_home_stadium(ul),\n",
    "                    team_rival_team(ul), \n",
    "                    team_international_prestige(ul), \n",
    "                    team_domestic_prestige(ul), \n",
    "                    team_transfer_budget(ul), \n",
    "                    team_starting_xi_avg_age(ul), \n",
    "                    team_avg_age(ul), \n",
    "                    team_captain(ul), \n",
    "                    team_short_free_kick(ul), \n",
    "                    team_long_free_kick(ul), \n",
    "                    team_penalties(ul), \n",
    "                    team_left_corner(ul), \n",
    "                    team_right_corner(ul),                    \n",
    "                    tm_id,\n",
    "                    date_value))\n",
    "    \n",
    "    cur.execute(sql)\n",
    "    ##print(sql)    \n",
    "    db.commit()\n",
    "    "
   ]
  },
  {
   "cell_type": "markdown",
   "metadata": {},
   "source": [
    "update team score"
   ]
  },
  {
   "cell_type": "code",
   "execution_count": 495,
   "metadata": {
    "collapsed": true
   },
   "outputs": [],
   "source": [
    "import time\n"
   ]
  },
  {
   "cell_type": "code",
   "execution_count": 496,
   "metadata": {
    "collapsed": true
   },
   "outputs": [],
   "source": [
    "for row in epl_rows: \n",
    "    tm_name = team_name(row)\n",
    "    tm_id = team_id(row) \n",
    "    for i,date_value in df_calendar_last_5_season.iterrows():\n",
    "        source_url=\"https://sofifa.com/team/{0}?v={1}&e={2}&set=true\".format(tm_id, date_value['season_v'], date_value['value'])\n",
    "        soup = get_beautifulsoup(source_url)   \n",
    "        insert_team_profile_score(lg_id,tm_id,tm_name,date_value['value'],soup)  \n",
    "        #update_team_profile(tm_id,soup)  \n",
    "        \n",
    "        #Delay 1 sec\n",
    "        time.sleep(1)"
   ]
  },
  {
   "cell_type": "code",
   "execution_count": null,
   "metadata": {
    "collapsed": true
   },
   "outputs": [],
   "source": [
    "df_calendar_last_5_season"
   ]
  },
  {
   "cell_type": "code",
   "execution_count": 497,
   "metadata": {
    "collapsed": true
   },
   "outputs": [],
   "source": [
    "df_teams_epl=pd.io.sql.read_sql(\n",
    "'''\n",
    "SELECT *\n",
    "    FROM teams\n",
    "where league_id=13\n",
    ";\n",
    "''', con = db)"
   ]
  },
  {
   "cell_type": "code",
   "execution_count": 498,
   "metadata": {},
   "outputs": [
    {
     "data": {
      "text/html": [
       "<div>\n",
       "<style>\n",
       "    .dataframe thead tr:only-child th {\n",
       "        text-align: right;\n",
       "    }\n",
       "\n",
       "    .dataframe thead th {\n",
       "        text-align: left;\n",
       "    }\n",
       "\n",
       "    .dataframe tbody tr th {\n",
       "        vertical-align: top;\n",
       "    }\n",
       "</style>\n",
       "<table border=\"1\" class=\"dataframe\">\n",
       "  <thead>\n",
       "    <tr style=\"text-align: right;\">\n",
       "      <th></th>\n",
       "      <th>record_id</th>\n",
       "      <th>team_id</th>\n",
       "      <th>league_id</th>\n",
       "      <th>name</th>\n",
       "      <th>overall</th>\n",
       "      <th>...</th>\n",
       "      <th>long_free_kick</th>\n",
       "      <th>penalties</th>\n",
       "      <th>left_corner</th>\n",
       "      <th>right_corner</th>\n",
       "      <th>date_value</th>\n",
       "    </tr>\n",
       "  </thead>\n",
       "  <tbody>\n",
       "    <tr>\n",
       "      <th>0</th>\n",
       "      <td>1115</td>\n",
       "      <td>1</td>\n",
       "      <td>13</td>\n",
       "      <td>Arsenal</td>\n",
       "      <td>83</td>\n",
       "      <td>...</td>\n",
       "      <td>None</td>\n",
       "      <td>None</td>\n",
       "      <td>None</td>\n",
       "      <td>None</td>\n",
       "      <td>158816</td>\n",
       "    </tr>\n",
       "    <tr>\n",
       "      <th>1</th>\n",
       "      <td>1116</td>\n",
       "      <td>1</td>\n",
       "      <td>13</td>\n",
       "      <td>Arsenal</td>\n",
       "      <td>83</td>\n",
       "      <td>...</td>\n",
       "      <td>None</td>\n",
       "      <td>None</td>\n",
       "      <td>None</td>\n",
       "      <td>None</td>\n",
       "      <td>158809</td>\n",
       "    </tr>\n",
       "    <tr>\n",
       "      <th>2</th>\n",
       "      <td>1117</td>\n",
       "      <td>1</td>\n",
       "      <td>13</td>\n",
       "      <td>Arsenal</td>\n",
       "      <td>83</td>\n",
       "      <td>...</td>\n",
       "      <td>None</td>\n",
       "      <td>None</td>\n",
       "      <td>None</td>\n",
       "      <td>None</td>\n",
       "      <td>158806</td>\n",
       "    </tr>\n",
       "    <tr>\n",
       "      <th>3</th>\n",
       "      <td>1118</td>\n",
       "      <td>1</td>\n",
       "      <td>13</td>\n",
       "      <td>Arsenal</td>\n",
       "      <td>83</td>\n",
       "      <td>...</td>\n",
       "      <td>None</td>\n",
       "      <td>None</td>\n",
       "      <td>None</td>\n",
       "      <td>None</td>\n",
       "      <td>158802</td>\n",
       "    </tr>\n",
       "    <tr>\n",
       "      <th>4</th>\n",
       "      <td>1119</td>\n",
       "      <td>1</td>\n",
       "      <td>13</td>\n",
       "      <td>Arsenal</td>\n",
       "      <td>83</td>\n",
       "      <td>...</td>\n",
       "      <td>None</td>\n",
       "      <td>None</td>\n",
       "      <td>None</td>\n",
       "      <td>None</td>\n",
       "      <td>158799</td>\n",
       "    </tr>\n",
       "    <tr>\n",
       "      <th>...</th>\n",
       "      <td>...</td>\n",
       "      <td>...</td>\n",
       "      <td>...</td>\n",
       "      <td>...</td>\n",
       "      <td>...</td>\n",
       "      <td>...</td>\n",
       "      <td>...</td>\n",
       "      <td>...</td>\n",
       "      <td>...</td>\n",
       "      <td>...</td>\n",
       "      <td>...</td>\n",
       "    </tr>\n",
       "    <tr>\n",
       "      <th>17395</th>\n",
       "      <td>18510</td>\n",
       "      <td>1960</td>\n",
       "      <td>13</td>\n",
       "      <td>Swansea City</td>\n",
       "      <td>74</td>\n",
       "      <td>...</td>\n",
       "      <td>None</td>\n",
       "      <td>None</td>\n",
       "      <td>None</td>\n",
       "      <td>None</td>\n",
       "      <td>157196</td>\n",
       "    </tr>\n",
       "    <tr>\n",
       "      <th>17396</th>\n",
       "      <td>18511</td>\n",
       "      <td>1960</td>\n",
       "      <td>13</td>\n",
       "      <td>Swansea City</td>\n",
       "      <td>74</td>\n",
       "      <td>...</td>\n",
       "      <td>None</td>\n",
       "      <td>None</td>\n",
       "      <td>None</td>\n",
       "      <td>None</td>\n",
       "      <td>157193</td>\n",
       "    </tr>\n",
       "    <tr>\n",
       "      <th>17397</th>\n",
       "      <td>18512</td>\n",
       "      <td>1960</td>\n",
       "      <td>13</td>\n",
       "      <td>Swansea City</td>\n",
       "      <td>74</td>\n",
       "      <td>...</td>\n",
       "      <td>None</td>\n",
       "      <td>None</td>\n",
       "      <td>None</td>\n",
       "      <td>None</td>\n",
       "      <td>157186</td>\n",
       "    </tr>\n",
       "    <tr>\n",
       "      <th>17398</th>\n",
       "      <td>18513</td>\n",
       "      <td>1960</td>\n",
       "      <td>13</td>\n",
       "      <td>Swansea City</td>\n",
       "      <td>74</td>\n",
       "      <td>...</td>\n",
       "      <td>None</td>\n",
       "      <td>None</td>\n",
       "      <td>None</td>\n",
       "      <td>None</td>\n",
       "      <td>157179</td>\n",
       "    </tr>\n",
       "    <tr>\n",
       "      <th>17399</th>\n",
       "      <td>18514</td>\n",
       "      <td>1960</td>\n",
       "      <td>13</td>\n",
       "      <td>Swansea City</td>\n",
       "      <td>74</td>\n",
       "      <td>...</td>\n",
       "      <td>None</td>\n",
       "      <td>None</td>\n",
       "      <td>None</td>\n",
       "      <td>None</td>\n",
       "      <td>157011</td>\n",
       "    </tr>\n",
       "  </tbody>\n",
       "</table>\n",
       "<p>17400 rows × 22 columns</p>\n",
       "</div>"
      ],
      "text/plain": [
       "       record_id  team_id  league_id          name  overall    ...      \\\n",
       "0           1115        1         13       Arsenal       83    ...       \n",
       "1           1116        1         13       Arsenal       83    ...       \n",
       "2           1117        1         13       Arsenal       83    ...       \n",
       "3           1118        1         13       Arsenal       83    ...       \n",
       "4           1119        1         13       Arsenal       83    ...       \n",
       "...          ...      ...        ...           ...      ...    ...       \n",
       "17395      18510     1960         13  Swansea City       74    ...       \n",
       "17396      18511     1960         13  Swansea City       74    ...       \n",
       "17397      18512     1960         13  Swansea City       74    ...       \n",
       "17398      18513     1960         13  Swansea City       74    ...       \n",
       "17399      18514     1960         13  Swansea City       74    ...       \n",
       "\n",
       "       long_free_kick  penalties  left_corner right_corner date_value  \n",
       "0                None       None         None         None     158816  \n",
       "1                None       None         None         None     158809  \n",
       "2                None       None         None         None     158806  \n",
       "3                None       None         None         None     158802  \n",
       "4                None       None         None         None     158799  \n",
       "...               ...        ...          ...          ...        ...  \n",
       "17395            None       None         None         None     157196  \n",
       "17396            None       None         None         None     157193  \n",
       "17397            None       None         None         None     157186  \n",
       "17398            None       None         None         None     157179  \n",
       "17399            None       None         None         None     157011  \n",
       "\n",
       "[17400 rows x 22 columns]"
      ]
     },
     "execution_count": 498,
     "metadata": {},
     "output_type": "execute_result"
    }
   ],
   "source": [
    "df_teams_epl"
   ]
  },
  {
   "cell_type": "markdown",
   "metadata": {},
   "source": [
    "### Load Sqad Data"
   ]
  },
  {
   "cell_type": "code",
   "execution_count": 499,
   "metadata": {
    "collapsed": true
   },
   "outputs": [],
   "source": [
    "df=pd.io.sql.read_sql(\n",
    "'''\n",
    "SELECT *\n",
    "    FROM squad\n",
    "\n",
    ";\n",
    "''', con = db)"
   ]
  },
  {
   "cell_type": "code",
   "execution_count": 500,
   "metadata": {},
   "outputs": [
    {
     "data": {
      "text/plain": [
       "Index([u'id', u'team_id', u'player_id', u'name', u'age', u'ova', u'pot',\n",
       "       u'team_contract', u'value', u'wage', u'total', u'pos', u'date_value'],\n",
       "      dtype='object')"
      ]
     },
     "execution_count": 500,
     "metadata": {},
     "output_type": "execute_result"
    }
   ],
   "source": [
    "df.columns"
   ]
  },
  {
   "cell_type": "code",
   "execution_count": 501,
   "metadata": {
    "collapsed": true
   },
   "outputs": [],
   "source": [
    "def player_id(row):\n",
    "    return row.find_all('td')[1].find_all('a')[1].get('href').replace('/player/','').encode('utf-8')\n",
    "\n",
    "def player_name(row):\n",
    "    return row.find_all('td')[1].find_all('a')[1].get_text().encode('utf-8')\n",
    "\n",
    "def player_age(row):\n",
    "    return row.find_all('td')[2].get_text().encode('utf-8')\n",
    "\n",
    "def player_ova(row):\n",
    "    return row.find_all('td')[3].get_text().encode('utf-8')\n",
    "\n",
    "def player_pot(row):\n",
    "    return row.find_all('td')[4].get_text().encode('utf-8')\n",
    "\n",
    "def player_value(row):\n",
    "    return row.find_all('td')[6].get_text().encode('utf-8')\n",
    "\n",
    "def player_wage(row):\n",
    "    return row.find_all('td')[7].get_text().encode('utf-8')\n",
    "\n",
    "def player_total(row):\n",
    "    return row.find_all('td')[8].get_text().encode('utf-8')"
   ]
  },
  {
   "cell_type": "code",
   "execution_count": 502,
   "metadata": {},
   "outputs": [
    {
     "data": {
      "text/html": [
       "<div>\n",
       "<style>\n",
       "    .dataframe thead tr:only-child th {\n",
       "        text-align: right;\n",
       "    }\n",
       "\n",
       "    .dataframe thead th {\n",
       "        text-align: left;\n",
       "    }\n",
       "\n",
       "    .dataframe tbody tr th {\n",
       "        vertical-align: top;\n",
       "    }\n",
       "</style>\n",
       "<table border=\"1\" class=\"dataframe\">\n",
       "  <thead>\n",
       "    <tr style=\"text-align: right;\">\n",
       "      <th></th>\n",
       "      <th>record_id</th>\n",
       "      <th>team_id</th>\n",
       "      <th>league_id</th>\n",
       "      <th>name</th>\n",
       "      <th>overall</th>\n",
       "      <th>...</th>\n",
       "      <th>long_free_kick</th>\n",
       "      <th>penalties</th>\n",
       "      <th>left_corner</th>\n",
       "      <th>right_corner</th>\n",
       "      <th>date_value</th>\n",
       "    </tr>\n",
       "  </thead>\n",
       "  <tbody>\n",
       "    <tr>\n",
       "      <th>0</th>\n",
       "      <td>1115</td>\n",
       "      <td>1</td>\n",
       "      <td>13</td>\n",
       "      <td>Arsenal</td>\n",
       "      <td>83</td>\n",
       "      <td>...</td>\n",
       "      <td>None</td>\n",
       "      <td>None</td>\n",
       "      <td>None</td>\n",
       "      <td>None</td>\n",
       "      <td>158816</td>\n",
       "    </tr>\n",
       "    <tr>\n",
       "      <th>1</th>\n",
       "      <td>1116</td>\n",
       "      <td>1</td>\n",
       "      <td>13</td>\n",
       "      <td>Arsenal</td>\n",
       "      <td>83</td>\n",
       "      <td>...</td>\n",
       "      <td>None</td>\n",
       "      <td>None</td>\n",
       "      <td>None</td>\n",
       "      <td>None</td>\n",
       "      <td>158809</td>\n",
       "    </tr>\n",
       "    <tr>\n",
       "      <th>2</th>\n",
       "      <td>1117</td>\n",
       "      <td>1</td>\n",
       "      <td>13</td>\n",
       "      <td>Arsenal</td>\n",
       "      <td>83</td>\n",
       "      <td>...</td>\n",
       "      <td>None</td>\n",
       "      <td>None</td>\n",
       "      <td>None</td>\n",
       "      <td>None</td>\n",
       "      <td>158806</td>\n",
       "    </tr>\n",
       "    <tr>\n",
       "      <th>3</th>\n",
       "      <td>1118</td>\n",
       "      <td>1</td>\n",
       "      <td>13</td>\n",
       "      <td>Arsenal</td>\n",
       "      <td>83</td>\n",
       "      <td>...</td>\n",
       "      <td>None</td>\n",
       "      <td>None</td>\n",
       "      <td>None</td>\n",
       "      <td>None</td>\n",
       "      <td>158802</td>\n",
       "    </tr>\n",
       "    <tr>\n",
       "      <th>4</th>\n",
       "      <td>1119</td>\n",
       "      <td>1</td>\n",
       "      <td>13</td>\n",
       "      <td>Arsenal</td>\n",
       "      <td>83</td>\n",
       "      <td>...</td>\n",
       "      <td>None</td>\n",
       "      <td>None</td>\n",
       "      <td>None</td>\n",
       "      <td>None</td>\n",
       "      <td>158799</td>\n",
       "    </tr>\n",
       "  </tbody>\n",
       "</table>\n",
       "<p>5 rows × 22 columns</p>\n",
       "</div>"
      ],
      "text/plain": [
       "   record_id  team_id  league_id     name  overall    ...      long_free_kick  \\\n",
       "0       1115        1         13  Arsenal       83    ...                None   \n",
       "1       1116        1         13  Arsenal       83    ...                None   \n",
       "2       1117        1         13  Arsenal       83    ...                None   \n",
       "3       1118        1         13  Arsenal       83    ...                None   \n",
       "4       1119        1         13  Arsenal       83    ...                None   \n",
       "\n",
       "   penalties  left_corner right_corner date_value  \n",
       "0       None         None         None     158816  \n",
       "1       None         None         None     158809  \n",
       "2       None         None         None     158806  \n",
       "3       None         None         None     158802  \n",
       "4       None         None         None     158799  \n",
       "\n",
       "[5 rows x 22 columns]"
      ]
     },
     "execution_count": 502,
     "metadata": {},
     "output_type": "execute_result"
    }
   ],
   "source": [
    "df_teams_epl.head()"
   ]
  },
  {
   "cell_type": "code",
   "execution_count": 35,
   "metadata": {
    "collapsed": true
   },
   "outputs": [],
   "source": [
    "def insert_into_squad_table(tm_id, items):\n",
    "    cur = db.cursor()\n",
    "    \n",
    "    for row in items: \n",
    "        values = ( tm_id, player_id(row), player_name(row), player_age(row), player_ova(row), player_pot(row), player_value(row), player_wage(row), player_total(row))\n",
    "        print(\"insert into squad\\\n",
    "              ( 'team_id', 'player_id', 'name', 'age', 'ova', 'pot', 'team_contract', 'value', 'wage', 'total', 'pos', 'date')\\\n",
    "              values\"+str(values))        \n",
    "        ##cur.execute(\"insert into teams('team_id', 'league_id', 'name', 'overall') values\"+str(values))\n",
    "        \n",
    "    db.commit()"
   ]
  },
  {
   "cell_type": "code",
   "execution_count": null,
   "metadata": {
    "collapsed": true
   },
   "outputs": [],
   "source": []
  },
  {
   "cell_type": "code",
   "execution_count": null,
   "metadata": {
    "collapsed": true
   },
   "outputs": [],
   "source": []
  }
 ],
 "metadata": {
  "kernelspec": {
   "display_name": "Python 2",
   "language": "python",
   "name": "python2"
  },
  "language_info": {
   "codemirror_mode": {
    "name": "ipython",
    "version": 2
   },
   "file_extension": ".py",
   "mimetype": "text/x-python",
   "name": "python",
   "nbconvert_exporter": "python",
   "pygments_lexer": "ipython2",
   "version": "2.7.13"
  }
 },
 "nbformat": 4,
 "nbformat_minor": 2
}
