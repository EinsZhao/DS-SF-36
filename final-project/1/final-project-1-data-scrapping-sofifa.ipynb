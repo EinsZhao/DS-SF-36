{
 "cells": [
  {
   "cell_type": "markdown",
   "metadata": {},
   "source": [
    "# Data Scrapping from SOFIFA.COM"
   ]
  },
  {
   "cell_type": "markdown",
   "metadata": {},
   "source": [
    "### Import the necessary libraries in Python"
   ]
  },
  {
   "cell_type": "code",
   "execution_count": 1,
   "metadata": {
    "collapsed": true
   },
   "outputs": [],
   "source": [
    "from bs4 import BeautifulSoup\n",
    "import requests\n",
    "import os\n",
    "import pandas as pd\n",
    "pd.set_option('display.max_rows', 10)\n",
    "pd.set_option('display.notebook_repr_html', True)\n",
    "pd.set_option('display.max_columns', 10)\n",
    "\n",
    "import re\n",
    "import sqlite3"
   ]
  },
  {
   "cell_type": "markdown",
   "metadata": {},
   "source": [
    "### Connect to SQLite database"
   ]
  },
  {
   "cell_type": "code",
   "execution_count": 2,
   "metadata": {
    "collapsed": true
   },
   "outputs": [],
   "source": [
    "db = sqlite3.connect(os.path.join('..', 'dataset', 'soccer2017.db'))"
   ]
  },
  {
   "cell_type": "markdown",
   "metadata": {},
   "source": [
    "Function for Creating BeautifulSoup object"
   ]
  },
  {
   "cell_type": "code",
   "execution_count": 3,
   "metadata": {
    "collapsed": true
   },
   "outputs": [],
   "source": [
    "def get_beautifulsoup(url):\n",
    "    \n",
    "    ## Grab the HTML from URL webpage and create a beautifulSoup object.    \n",
    "    r = requests.get(url)\n",
    "    data = r.text\n",
    "    soup = BeautifulSoup(data,'html.parser')\n",
    "    return soup"
   ]
  },
  {
   "cell_type": "markdown",
   "metadata": {},
   "source": [
    "Function to get Table rows from Soup object"
   ]
  },
  {
   "cell_type": "code",
   "execution_count": 4,
   "metadata": {
    "collapsed": true
   },
   "outputs": [],
   "source": [
    "def get_data_rows(soup):\n",
    "    \n",
    "    ## we want to grab the first table from the webpage. \n",
    "    ## Since we want information from the first table only, we need to specify the table we want by using index [0]\n",
    "    table = soup.find_all('table')[0]\n",
    "    \n",
    "    ## Next we find all the tr elements, which are all the rows of table first. \n",
    "    ## We want to skip the first row because it contain header, so we use [1:] to capture only the rows with data.\n",
    "    rows = table.find_all('tr')[1:]\n",
    "    \n",
    "    return rows"
   ]
  },
  {
   "cell_type": "markdown",
   "metadata": {},
   "source": [
    "## League Data"
   ]
  },
  {
   "cell_type": "code",
   "execution_count": 214,
   "metadata": {
    "collapsed": true
   },
   "outputs": [],
   "source": [
    "source_url='https://sofifa.com/leagues'"
   ]
  },
  {
   "cell_type": "markdown",
   "metadata": {},
   "source": [
    "Functions to Read Data from HTML node"
   ]
  },
  {
   "cell_type": "code",
   "execution_count": 198,
   "metadata": {
    "collapsed": true
   },
   "outputs": [],
   "source": [
    "def league_id(row):\n",
    "    return row.find_all('td')[1].find_all('a')[0].get('href').replace('/league/','').encode('utf-8')\n",
    "    \n",
    "def league_name(row):\n",
    "    return row.find_all('td')[1].get_text().encode('utf-8')   \n",
    "\n",
    "def teams(row):\n",
    "    return row.find_all('td')[2].get_text().encode('utf-8')   \n",
    "\n",
    "def division(row):\n",
    "    line= row.find_all('td')[1].get_text()  \n",
    "    value = re.search(r'\\([0-9]\\)',  line,re.M|re.I)\n",
    "    if value:\n",
    "        return value.group().replace('(','').replace(')','').encode('utf-8')\n",
    "    else:\n",
    "        return '1'\n",
    "\n",
    "def hits(row):\n",
    "    return row.find_all('td')[3].get_text().encode('utf-8')   "
   ]
  },
  {
   "cell_type": "markdown",
   "metadata": {},
   "source": [
    "Clear leagues table data before loading new data"
   ]
  },
  {
   "cell_type": "code",
   "execution_count": 200,
   "metadata": {},
   "outputs": [
    {
     "name": "stdout",
     "output_type": "stream",
     "text": [
      "Total 38 records has been deleted from leagues table\n"
     ]
    }
   ],
   "source": [
    "cursor = db.cursor()\n",
    "count = cursor.execute(''' DELETE FROM leagues''')\n",
    "db.commit()\n",
    "print('Total {0} records has been deleted from leagues table').format(count.rowcount)"
   ]
  },
  {
   "cell_type": "markdown",
   "metadata": {},
   "source": [
    "Next, loop through all the rows that are in the leagues table, and insert into league table"
   ]
  },
  {
   "cell_type": "code",
   "execution_count": 201,
   "metadata": {
    "collapsed": true
   },
   "outputs": [],
   "source": [
    "def insert_into_leagues_table(rows):\n",
    "    cur = db.cursor()\n",
    "    i=1\n",
    "    for row in rows:         \n",
    "        values = (i+1, league_id(row), league_name(row), teams(row), division(row), hits(row))        \n",
    "        ##print(\"insert into leagues values\"+str(values))        \n",
    "        cur.execute(\"insert into leagues values\"+str(values))\n",
    "        i +=1\n",
    "        \n",
    "    db.commit()"
   ]
  },
  {
   "cell_type": "markdown",
   "metadata": {},
   "source": [
    "Perform Operations"
   ]
  },
  {
   "cell_type": "code",
   "execution_count": 202,
   "metadata": {
    "collapsed": true
   },
   "outputs": [],
   "source": [
    "soup = get_beautifulsoup(source_url)\n",
    "rows = get_data_rows(soup)\n",
    "insert_into_leagues_table(rows)"
   ]
  },
  {
   "cell_type": "markdown",
   "metadata": {},
   "source": [
    "Verify leagues table data"
   ]
  },
  {
   "cell_type": "code",
   "execution_count": 203,
   "metadata": {
    "collapsed": true
   },
   "outputs": [],
   "source": [
    "df = pd.io.sql.read_sql(\n",
    "'''\n",
    "    SELECT *\n",
    "    FROM leagues    \n",
    "    \n",
    ";\n",
    "''', con = db)"
   ]
  },
  {
   "cell_type": "code",
   "execution_count": 204,
   "metadata": {},
   "outputs": [
    {
     "data": {
      "text/plain": [
       "38"
      ]
     },
     "execution_count": 204,
     "metadata": {},
     "output_type": "execute_result"
    }
   ],
   "source": [
    "## Total Records\n",
    "df.shape[0]"
   ]
  },
  {
   "cell_type": "markdown",
   "metadata": {},
   "source": [
    "### Teams Data"
   ]
  },
  {
   "cell_type": "code",
   "execution_count": 205,
   "metadata": {
    "collapsed": true
   },
   "outputs": [],
   "source": [
    "df = pd.io.sql.read_sql(\n",
    "'''\n",
    "SELECT *\n",
    "    FROM teams\n",
    "    \n",
    ";\n",
    "''', con = db)"
   ]
  },
  {
   "cell_type": "code",
   "execution_count": 206,
   "metadata": {},
   "outputs": [
    {
     "data": {
      "text/plain": [
       "Index([u'record_id', u'team_id', u'league_id', u'name', u'overall', u'attack',\n",
       "       u'midfield', u'defence', u'home_stadium', u'rival_team',\n",
       "       u'international_prestige', u'domestic_prestige', u'transfer_budget',\n",
       "       u'starting_11_average_age', u'whole_team_average_age', u'captain',\n",
       "       u'short_free_kick', u'long_free_kick', u'penalties', u'left_corner',\n",
       "       u'right_corner'],\n",
       "      dtype='object')"
      ]
     },
     "execution_count": 206,
     "metadata": {},
     "output_type": "execute_result"
    }
   ],
   "source": [
    "df.columns"
   ]
  },
  {
   "cell_type": "code",
   "execution_count": 207,
   "metadata": {
    "collapsed": true
   },
   "outputs": [],
   "source": [
    "def team_id(row):    \n",
    "    return row.find_all('td')[0].find_all('a')[0].get('href').replace('/team/','').encode('utf-8')\n",
    "\n",
    "def team_name(row):    \n",
    "    return row.find_all('td')[0].find_all('a')[0].get_text().encode('utf-8') \n",
    "\n",
    "def team_overall(row):\n",
    "    return row.find_all('td')[1].find_all('span')[0].get_text().encode('utf-8') "
   ]
  },
  {
   "cell_type": "code",
   "execution_count": 208,
   "metadata": {},
   "outputs": [
    {
     "name": "stdout",
     "output_type": "stream",
     "text": [
      "Total 420 records has been deleted from teams table\n"
     ]
    }
   ],
   "source": [
    "cursor = db.cursor()\n",
    "count = cursor.execute(''' DELETE FROM teams''')\n",
    "db.commit()\n",
    "print('Total {0} records has been deleted from teams table').format(count.rowcount)"
   ]
  },
  {
   "cell_type": "code",
   "execution_count": 209,
   "metadata": {
    "collapsed": true
   },
   "outputs": [],
   "source": [
    "def insert_into_teams_table(lg_id, items):\n",
    "    cur = db.cursor()\n",
    "    i=1\n",
    "    for row in items: \n",
    "        values = ( team_id(row), lg_id, team_name(row), team_overall(row))\n",
    "        ##print(\"insert into team( 'team_id', 'league_id', 'name', 'overall') values\"+str(values))        \n",
    "        cur.execute(\"insert into teams('team_id', 'league_id', 'name', 'overall') values\"+str(values))\n",
    "        i +=1\n",
    "    db.commit()"
   ]
  },
  {
   "cell_type": "markdown",
   "metadata": {},
   "source": [
    "<div class=\"alert alert-info\">\n",
    "\n",
    "**Note:** Executing below cell will scrap all leagues data. Please use Responsibly.\n",
    "\n",
    "</div>"
   ]
  },
  {
   "cell_type": "code",
   "execution_count": 210,
   "metadata": {
    "collapsed": true
   },
   "outputs": [],
   "source": [
    "## Please convert cell mode to Code to execute below code\n",
    "\n",
    "items = rows ## rows will have leagues records\n",
    "\n",
    "for row in items: \n",
    "    lg_id = league_id(row)\n",
    "    source_url='https://sofifa.com/league/{0}'.format(lg_id)\n",
    "    soup = get_beautifulsoup(source_url)\n",
    "    rows = get_data_rows(soup)\n",
    "    insert_into_teams_table(lg_id, rows)"
   ]
  },
  {
   "cell_type": "markdown",
   "metadata": {},
   "source": [
    "### English Premier League Data Only"
   ]
  },
  {
   "cell_type": "code",
   "execution_count": 150,
   "metadata": {
    "collapsed": true
   },
   "outputs": [],
   "source": [
    "league_id=13 ## English Premier League \n",
    "source_url='https://sofifa.com/league/{0}'.format(league_id)\n",
    "soup = get_beautifulsoup(source_url)\n",
    "rows = get_data_rows(soup)\n",
    "insert_into_teams_table(league_id, rows)"
   ]
  },
  {
   "cell_type": "markdown",
   "metadata": {},
   "source": [
    "Validate teams table records"
   ]
  },
  {
   "cell_type": "code",
   "execution_count": 7,
   "metadata": {
    "collapsed": true
   },
   "outputs": [],
   "source": [
    "df = pd.io.sql.read_sql(\n",
    "'''\n",
    "SELECT *\n",
    "    FROM teams\n",
    "    \n",
    ";\n",
    "''', con = db)"
   ]
  },
  {
   "cell_type": "code",
   "execution_count": 8,
   "metadata": {},
   "outputs": [
    {
     "data": {
      "text/plain": [
       "693"
      ]
     },
     "execution_count": 8,
     "metadata": {},
     "output_type": "execute_result"
    }
   ],
   "source": [
    "## Records count\n",
    "df.shape[0]"
   ]
  },
  {
   "cell_type": "code",
   "execution_count": 9,
   "metadata": {},
   "outputs": [
    {
     "data": {
      "text/html": [
       "<div>\n",
       "<style>\n",
       "    .dataframe thead tr:only-child th {\n",
       "        text-align: right;\n",
       "    }\n",
       "\n",
       "    .dataframe thead th {\n",
       "        text-align: left;\n",
       "    }\n",
       "\n",
       "    .dataframe tbody tr th {\n",
       "        vertical-align: top;\n",
       "    }\n",
       "</style>\n",
       "<table border=\"1\" class=\"dataframe\">\n",
       "  <thead>\n",
       "    <tr style=\"text-align: right;\">\n",
       "      <th></th>\n",
       "      <th>record_id</th>\n",
       "      <th>team_id</th>\n",
       "      <th>league_id</th>\n",
       "      <th>name</th>\n",
       "      <th>overall</th>\n",
       "      <th>...</th>\n",
       "      <th>short_free_kick</th>\n",
       "      <th>long_free_kick</th>\n",
       "      <th>penalties</th>\n",
       "      <th>left_corner</th>\n",
       "      <th>right_corner</th>\n",
       "    </tr>\n",
       "  </thead>\n",
       "  <tbody>\n",
       "    <tr>\n",
       "      <th>688</th>\n",
       "      <td>1110</td>\n",
       "      <td>113008</td>\n",
       "      <td>2136</td>\n",
       "      <td>Sweden Women</td>\n",
       "      <td>79</td>\n",
       "      <td>...</td>\n",
       "      <td>None</td>\n",
       "      <td>None</td>\n",
       "      <td>None</td>\n",
       "      <td>None</td>\n",
       "      <td>None</td>\n",
       "    </tr>\n",
       "    <tr>\n",
       "      <th>689</th>\n",
       "      <td>1111</td>\n",
       "      <td>113009</td>\n",
       "      <td>2136</td>\n",
       "      <td>United States Women</td>\n",
       "      <td>82</td>\n",
       "      <td>...</td>\n",
       "      <td>None</td>\n",
       "      <td>None</td>\n",
       "      <td>None</td>\n",
       "      <td>None</td>\n",
       "      <td>None</td>\n",
       "    </tr>\n",
       "    <tr>\n",
       "      <th>690</th>\n",
       "      <td>1112</td>\n",
       "      <td>113010</td>\n",
       "      <td>2136</td>\n",
       "      <td>Mexico Women</td>\n",
       "      <td>72</td>\n",
       "      <td>...</td>\n",
       "      <td>None</td>\n",
       "      <td>None</td>\n",
       "      <td>None</td>\n",
       "      <td>None</td>\n",
       "      <td>None</td>\n",
       "    </tr>\n",
       "    <tr>\n",
       "      <th>691</th>\n",
       "      <td>1113</td>\n",
       "      <td>113011</td>\n",
       "      <td>2136</td>\n",
       "      <td>Netherlands Women</td>\n",
       "      <td>76</td>\n",
       "      <td>...</td>\n",
       "      <td>None</td>\n",
       "      <td>None</td>\n",
       "      <td>None</td>\n",
       "      <td>None</td>\n",
       "      <td>None</td>\n",
       "    </tr>\n",
       "    <tr>\n",
       "      <th>692</th>\n",
       "      <td>1114</td>\n",
       "      <td>113012</td>\n",
       "      <td>2136</td>\n",
       "      <td>Spain Women</td>\n",
       "      <td>75</td>\n",
       "      <td>...</td>\n",
       "      <td>None</td>\n",
       "      <td>None</td>\n",
       "      <td>None</td>\n",
       "      <td>None</td>\n",
       "      <td>None</td>\n",
       "    </tr>\n",
       "  </tbody>\n",
       "</table>\n",
       "<p>5 rows × 21 columns</p>\n",
       "</div>"
      ],
      "text/plain": [
       "     record_id  team_id  league_id                 name  overall     ...       \\\n",
       "688       1110   113008       2136         Sweden Women       79     ...        \n",
       "689       1111   113009       2136  United States Women       82     ...        \n",
       "690       1112   113010       2136         Mexico Women       72     ...        \n",
       "691       1113   113011       2136    Netherlands Women       76     ...        \n",
       "692       1114   113012       2136          Spain Women       75     ...        \n",
       "\n",
       "    short_free_kick long_free_kick penalties left_corner right_corner  \n",
       "688            None           None      None        None         None  \n",
       "689            None           None      None        None         None  \n",
       "690            None           None      None        None         None  \n",
       "691            None           None      None        None         None  \n",
       "692            None           None      None        None         None  \n",
       "\n",
       "[5 rows x 21 columns]"
      ]
     },
     "execution_count": 9,
     "metadata": {},
     "output_type": "execute_result"
    }
   ],
   "source": [
    "df.tail()"
   ]
  },
  {
   "cell_type": "markdown",
   "metadata": {},
   "source": [
    "### Load Team profile"
   ]
  },
  {
   "cell_type": "code",
   "execution_count": 40,
   "metadata": {
    "collapsed": true
   },
   "outputs": [],
   "source": [
    "df = pd.io.sql.read_sql(\n",
    "'''\n",
    "SELECT *\n",
    "    FROM teams\n",
    "    \n",
    ";\n",
    "''', con = db)"
   ]
  },
  {
   "cell_type": "code",
   "execution_count": 41,
   "metadata": {},
   "outputs": [
    {
     "data": {
      "text/html": [
       "<div>\n",
       "<style>\n",
       "    .dataframe thead tr:only-child th {\n",
       "        text-align: right;\n",
       "    }\n",
       "\n",
       "    .dataframe thead th {\n",
       "        text-align: left;\n",
       "    }\n",
       "\n",
       "    .dataframe tbody tr th {\n",
       "        vertical-align: top;\n",
       "    }\n",
       "</style>\n",
       "<table border=\"1\" class=\"dataframe\">\n",
       "  <thead>\n",
       "    <tr style=\"text-align: right;\">\n",
       "      <th></th>\n",
       "      <th>record_id</th>\n",
       "      <th>team_id</th>\n",
       "      <th>league_id</th>\n",
       "      <th>name</th>\n",
       "      <th>overall</th>\n",
       "      <th>...</th>\n",
       "      <th>short_free_kick</th>\n",
       "      <th>long_free_kick</th>\n",
       "      <th>penalties</th>\n",
       "      <th>left_corner</th>\n",
       "      <th>right_corner</th>\n",
       "    </tr>\n",
       "  </thead>\n",
       "  <tbody>\n",
       "    <tr>\n",
       "      <th>0</th>\n",
       "      <td>422</td>\n",
       "      <td>269</td>\n",
       "      <td>1</td>\n",
       "      <td>Br\\xc3\\xb8ndby IF</td>\n",
       "      <td>83</td>\n",
       "      <td>...</td>\n",
       "      <td>None</td>\n",
       "      <td>None</td>\n",
       "      <td>None</td>\n",
       "      <td>None</td>\n",
       "      <td>None</td>\n",
       "    </tr>\n",
       "    <tr>\n",
       "      <th>1</th>\n",
       "      <td>423</td>\n",
       "      <td>270</td>\n",
       "      <td>1</td>\n",
       "      <td>Silkeborg IF</td>\n",
       "      <td>83</td>\n",
       "      <td>...</td>\n",
       "      <td>None</td>\n",
       "      <td>None</td>\n",
       "      <td>None</td>\n",
       "      <td>None</td>\n",
       "      <td>None</td>\n",
       "    </tr>\n",
       "    <tr>\n",
       "      <th>2</th>\n",
       "      <td>424</td>\n",
       "      <td>271</td>\n",
       "      <td>1</td>\n",
       "      <td>Aarhus GF</td>\n",
       "      <td>83</td>\n",
       "      <td>...</td>\n",
       "      <td>None</td>\n",
       "      <td>None</td>\n",
       "      <td>None</td>\n",
       "      <td>None</td>\n",
       "      <td>None</td>\n",
       "    </tr>\n",
       "    <tr>\n",
       "      <th>3</th>\n",
       "      <td>425</td>\n",
       "      <td>272</td>\n",
       "      <td>1</td>\n",
       "      <td>Odense Boldklub</td>\n",
       "      <td>83</td>\n",
       "      <td>...</td>\n",
       "      <td>None</td>\n",
       "      <td>None</td>\n",
       "      <td>None</td>\n",
       "      <td>None</td>\n",
       "      <td>None</td>\n",
       "    </tr>\n",
       "    <tr>\n",
       "      <th>4</th>\n",
       "      <td>426</td>\n",
       "      <td>819</td>\n",
       "      <td>1</td>\n",
       "      <td>FC K\\xc3\\xb8benhavn</td>\n",
       "      <td>83</td>\n",
       "      <td>...</td>\n",
       "      <td>None</td>\n",
       "      <td>None</td>\n",
       "      <td>None</td>\n",
       "      <td>None</td>\n",
       "      <td>None</td>\n",
       "    </tr>\n",
       "  </tbody>\n",
       "</table>\n",
       "<p>5 rows × 21 columns</p>\n",
       "</div>"
      ],
      "text/plain": [
       "   record_id  team_id  league_id                 name  overall     ...       \\\n",
       "0        422      269          1    Br\\xc3\\xb8ndby IF       83     ...        \n",
       "1        423      270          1         Silkeborg IF       83     ...        \n",
       "2        424      271          1            Aarhus GF       83     ...        \n",
       "3        425      272          1      Odense Boldklub       83     ...        \n",
       "4        426      819          1  FC K\\xc3\\xb8benhavn       83     ...        \n",
       "\n",
       "   short_free_kick  long_free_kick  penalties left_corner right_corner  \n",
       "0             None            None       None        None         None  \n",
       "1             None            None       None        None         None  \n",
       "2             None            None       None        None         None  \n",
       "3             None            None       None        None         None  \n",
       "4             None            None       None        None         None  \n",
       "\n",
       "[5 rows x 21 columns]"
      ]
     },
     "execution_count": 41,
     "metadata": {},
     "output_type": "execute_result"
    }
   ],
   "source": [
    "df.head()"
   ]
  },
  {
   "cell_type": "code",
   "execution_count": 6,
   "metadata": {},
   "outputs": [
    {
     "data": {
      "text/plain": [
       "Index([u'record_id', u'team_id', u'league_id', u'name', u'overall', u'attack',\n",
       "       u'midfield', u'defence', u'home_stadium', u'rival_team',\n",
       "       u'international_prestige', u'domestic_prestige', u'transfer_budget',\n",
       "       u'starting_11_average_age', u'whole_team_average_age', u'captain',\n",
       "       u'short_free_kick', u'long_free_kick', u'penalties', u'left_corner',\n",
       "       u'right_corner'],\n",
       "      dtype='object')"
      ]
     },
     "execution_count": 6,
     "metadata": {},
     "output_type": "execute_result"
    }
   ],
   "source": [
    "df.columns"
   ]
  },
  {
   "cell_type": "code",
   "execution_count": 42,
   "metadata": {},
   "outputs": [],
   "source": [
    "def team_overall(row):    \n",
    "    return row.find_all('td')[0].find_all('span')[0].get_text().encode('utf-8') \n",
    "\n",
    "def team_attack(row):    \n",
    "    return row.find_all('td')[1].find_all('span')[0].get_text().encode('utf-8') \n",
    "\n",
    "def team_midfield(row):    \n",
    "    return row.find_all('td')[2].find_all('span')[0].get_text().encode('utf-8') \n",
    "\n",
    "def team_defence(row):\n",
    "    return row.find_all('td')[3].find_all('span')[0].get_text().encode('utf-8') "
   ]
  },
  {
   "cell_type": "code",
   "execution_count": 222,
   "metadata": {
    "collapsed": true
   },
   "outputs": [],
   "source": [
    "def team_home_stadium(ul):    \n",
    "    return ul.find_all('li')[0].contents[2].strip().encode('utf-8') \n",
    "\n",
    "def team_rival_team(ul):    \n",
    "    return ul.find_all('li')[1].find('a').get_text().encode('utf-8') \n",
    "\n",
    "def team_international_prestige(ul):    \n",
    "    return ul.find_all('li')[2].find('span').get_text().encode('utf-8') \n",
    "\n",
    "def team_domestic_prestige(ul):    \n",
    "    return ul.find_all('li')[2].find('span').get_text().encode('utf-8') \n",
    "\n",
    "def team_transfer_budget(ul):    \n",
    "    return ul.find_all('li')[4].contents[2].strip().encode('utf-8') \n",
    "\n",
    "def team_starting_xi_avg_age(ul):    \n",
    "    return ul.find_all('li')[5].contents[2].strip().encode('utf-8') \n",
    "\n",
    "def team_avg_age(ul):    \n",
    "    return ul.find_all('li')[6].contents[2].strip().encode('utf-8') \n",
    "\n",
    "def team_captain(ul):    \n",
    "    return ul.find_all('li')[7].find('a').get_text().encode('utf-8') \n",
    "\n",
    "def team_short_free_kick(ul):    \n",
    "    return ul.find_all('li')[8].find('a').get_text().encode('utf-8') \n",
    "\n",
    "def team_long_free_kick(ul):    \n",
    "    return ul.find_all('li')[9].find('a').get_text().encode('utf-8') \n",
    "\n",
    "def team_penalties(ul):    \n",
    "    return ul.find_all('li')[10].find('a').get_text().encode('utf-8') \n",
    "\n",
    "def team_left_corner(ul):    \n",
    "    return ul.find_all('li')[11].find('a').get_text().encode('utf-8') \n",
    "\n",
    "def team_right_corner(ul):    \n",
    "    return ul.find_all('li')[12].find('a').get_text().encode('utf-8') "
   ]
  },
  {
   "cell_type": "code",
   "execution_count": 91,
   "metadata": {},
   "outputs": [],
   "source": [
    "def update_team_profile_score(team_id, soup):\n",
    "    tbl = soup.find_all('table')[0]\n",
    "    rows = tbl.find_all('tr')\n",
    "    row=rows[0]\n",
    "    cur = db.cursor()\n",
    "    \n",
    "    cur.execute('update teams set overall = {0}, attack = {1}, midfield = {2}, defence = {3} where team_id = {4}'\n",
    "                .format(team_overall(row), team_attack(row), team_midfield(row), team_defence(row), team_id))\n",
    "        \n",
    "    db.commit()"
   ]
  },
  {
   "cell_type": "code",
   "execution_count": 235,
   "metadata": {},
   "outputs": [],
   "source": [
    "def update_team_profile(team_id, soup):    \n",
    "    ul = soup.find_all('ul')[2]  \n",
    "    \n",
    "    cur = db.cursor()\n",
    "    sql =(\"\"\" update teams set \\\n",
    "                home_stadium = \"{0}\", \\\n",
    "                rival_team = \"{1}\", \\\n",
    "                international_prestige = \"{2}\", \\\n",
    "                domestic_prestige = \"{3}\" ,\\\n",
    "                transfer_budget = \"{4}\",\\\n",
    "                starting_11_average_age =\"{5}\",\\\n",
    "                whole_team_average_age =\"{6}\",\\\n",
    "                captain=\"{7}\",\\\n",
    "                short_free_kick =\"{8}\",\\\n",
    "                long_free_kick = \"{9}\",\\\n",
    "                penalties = \"{10}\",\\\n",
    "                left_corner = \"{11}\",\\\n",
    "                right_corner = \"{12}\"\\\n",
    "                where team_id = {13} \"\"\"\n",
    "                .format(\n",
    "                    team_home_stadium(ul),\n",
    "                    team_rival_team(ul), \n",
    "                    team_international_prestige(ul), \n",
    "                    team_domestic_prestige(ul), \n",
    "                    team_transfer_budget(ul), \n",
    "                    team_starting_xi_avg_age(ul), \n",
    "                    team_avg_age(ul), \n",
    "                    team_captain(ul), \n",
    "                    team_short_free_kick(ul), \n",
    "                    team_long_free_kick(ul), \n",
    "                    team_penalties(ul), \n",
    "                    team_left_corner(ul), \n",
    "                    team_right_corner(ul),\n",
    "                    team_id))\n",
    "    \n",
    "    cur.execute(sql)\n",
    "    ##print(sql)    \n",
    "    db.commit()\n",
    "    "
   ]
  },
  {
   "cell_type": "markdown",
   "metadata": {},
   "source": [
    "update team score"
   ]
  },
  {
   "cell_type": "code",
   "execution_count": 236,
   "metadata": {},
   "outputs": [],
   "source": [
    "## EPL League Only\n",
    "df_epl = df[df.league_id==13]"
   ]
  },
  {
   "cell_type": "code",
   "execution_count": 237,
   "metadata": {},
   "outputs": [],
   "source": [
    "for i,row in df_epl.iterrows(): \n",
    "    tm_id = row['team_id']    \n",
    "    source_url='https://sofifa.com/team/{0}'.format(tm_id)\n",
    "    soup = get_beautifulsoup(source_url)   \n",
    "    update_team_profile_score(tm_id,soup)  \n",
    "    update_team_profile(tm_id,soup)  "
   ]
  },
  {
   "cell_type": "code",
   "execution_count": 239,
   "metadata": {},
   "outputs": [
    {
     "data": {
      "text/html": [
       "<div>\n",
       "<style>\n",
       "    .dataframe thead tr:only-child th {\n",
       "        text-align: right;\n",
       "    }\n",
       "\n",
       "    .dataframe thead th {\n",
       "        text-align: left;\n",
       "    }\n",
       "\n",
       "    .dataframe tbody tr th {\n",
       "        vertical-align: top;\n",
       "    }\n",
       "</style>\n",
       "<table border=\"1\" class=\"dataframe\">\n",
       "  <thead>\n",
       "    <tr style=\"text-align: right;\">\n",
       "      <th></th>\n",
       "      <th>record_id</th>\n",
       "      <th>team_id</th>\n",
       "      <th>league_id</th>\n",
       "      <th>name</th>\n",
       "      <th>overall</th>\n",
       "      <th>...</th>\n",
       "      <th>short_free_kick</th>\n",
       "      <th>long_free_kick</th>\n",
       "      <th>penalties</th>\n",
       "      <th>left_corner</th>\n",
       "      <th>right_corner</th>\n",
       "    </tr>\n",
       "  </thead>\n",
       "  <tbody>\n",
       "    <tr>\n",
       "      <th>0</th>\n",
       "      <td>488</td>\n",
       "      <td>1</td>\n",
       "      <td>13</td>\n",
       "      <td>Arsenal</td>\n",
       "      <td>83</td>\n",
       "      <td>...</td>\n",
       "      <td>A. Sánchez</td>\n",
       "      <td>M. Özil</td>\n",
       "      <td>A. Sánchez</td>\n",
       "      <td>M. Özil</td>\n",
       "      <td>M. Özil</td>\n",
       "    </tr>\n",
       "    <tr>\n",
       "      <th>1</th>\n",
       "      <td>489</td>\n",
       "      <td>5</td>\n",
       "      <td>13</td>\n",
       "      <td>Chelsea</td>\n",
       "      <td>83</td>\n",
       "      <td>...</td>\n",
       "      <td>David Luiz</td>\n",
       "      <td>Marcos Alonso</td>\n",
       "      <td>E. Hazard</td>\n",
       "      <td>Pedro</td>\n",
       "      <td>Pedro</td>\n",
       "    </tr>\n",
       "    <tr>\n",
       "      <th>2</th>\n",
       "      <td>490</td>\n",
       "      <td>7</td>\n",
       "      <td>13</td>\n",
       "      <td>Everton</td>\n",
       "      <td>80</td>\n",
       "      <td>...</td>\n",
       "      <td>R. Barkley</td>\n",
       "      <td>R. Barkley</td>\n",
       "      <td>L. Baines</td>\n",
       "      <td>R. Barkley</td>\n",
       "      <td>R. Barkley</td>\n",
       "    </tr>\n",
       "    <tr>\n",
       "      <th>3</th>\n",
       "      <td>491</td>\n",
       "      <td>9</td>\n",
       "      <td>13</td>\n",
       "      <td>Liverpool</td>\n",
       "      <td>81</td>\n",
       "      <td>...</td>\n",
       "      <td>Coutinho</td>\n",
       "      <td>J. Henderson</td>\n",
       "      <td>J. Milner</td>\n",
       "      <td>Coutinho</td>\n",
       "      <td>Coutinho</td>\n",
       "    </tr>\n",
       "    <tr>\n",
       "      <th>4</th>\n",
       "      <td>492</td>\n",
       "      <td>10</td>\n",
       "      <td>13</td>\n",
       "      <td>Manchester City</td>\n",
       "      <td>83</td>\n",
       "      <td>...</td>\n",
       "      <td>K. De Bruyne</td>\n",
       "      <td>K. De Bruyne</td>\n",
       "      <td>S. Agüero</td>\n",
       "      <td>David Silva</td>\n",
       "      <td>K. De Bruyne</td>\n",
       "    </tr>\n",
       "    <tr>\n",
       "      <th>...</th>\n",
       "      <td>...</td>\n",
       "      <td>...</td>\n",
       "      <td>...</td>\n",
       "      <td>...</td>\n",
       "      <td>...</td>\n",
       "      <td>...</td>\n",
       "      <td>...</td>\n",
       "      <td>...</td>\n",
       "      <td>...</td>\n",
       "      <td>...</td>\n",
       "      <td>...</td>\n",
       "    </tr>\n",
       "    <tr>\n",
       "      <th>15</th>\n",
       "      <td>503</td>\n",
       "      <td>1799</td>\n",
       "      <td>13</td>\n",
       "      <td>Crystal Palace</td>\n",
       "      <td>77</td>\n",
       "      <td>...</td>\n",
       "      <td>A. Townsend</td>\n",
       "      <td>Y. Cabaye</td>\n",
       "      <td>L. Milivojević</td>\n",
       "      <td>Y. Cabaye</td>\n",
       "      <td>A. Townsend</td>\n",
       "    </tr>\n",
       "    <tr>\n",
       "      <th>16</th>\n",
       "      <td>504</td>\n",
       "      <td>1806</td>\n",
       "      <td>13</td>\n",
       "      <td>Stoke City</td>\n",
       "      <td>78</td>\n",
       "      <td>...</td>\n",
       "      <td>M. Arnautović</td>\n",
       "      <td>X. Shaqiri</td>\n",
       "      <td>M. Arnautović</td>\n",
       "      <td>M. Arnautović</td>\n",
       "      <td>X. Shaqiri</td>\n",
       "    </tr>\n",
       "    <tr>\n",
       "      <th>17</th>\n",
       "      <td>505</td>\n",
       "      <td>1943</td>\n",
       "      <td>13</td>\n",
       "      <td>Bournemouth</td>\n",
       "      <td>74</td>\n",
       "      <td>...</td>\n",
       "      <td>C. Daniels</td>\n",
       "      <td>C. Daniels</td>\n",
       "      <td>C. Daniels</td>\n",
       "      <td>C. Daniels</td>\n",
       "      <td>C. Daniels</td>\n",
       "    </tr>\n",
       "    <tr>\n",
       "      <th>18</th>\n",
       "      <td>506</td>\n",
       "      <td>1952</td>\n",
       "      <td>13</td>\n",
       "      <td>Hull City</td>\n",
       "      <td>75</td>\n",
       "      <td>...</td>\n",
       "      <td>K. Grosicki</td>\n",
       "      <td>S. Clucas</td>\n",
       "      <td>O. Niasse</td>\n",
       "      <td>K. Grosicki</td>\n",
       "      <td>K. Grosicki</td>\n",
       "    </tr>\n",
       "    <tr>\n",
       "      <th>19</th>\n",
       "      <td>507</td>\n",
       "      <td>1960</td>\n",
       "      <td>13</td>\n",
       "      <td>Swansea City</td>\n",
       "      <td>77</td>\n",
       "      <td>...</td>\n",
       "      <td>G. Sigurðsson</td>\n",
       "      <td>G. Sigurðsson</td>\n",
       "      <td>G. Sigurðsson</td>\n",
       "      <td>G. Sigurðsson</td>\n",
       "      <td>G. Sigurðsson</td>\n",
       "    </tr>\n",
       "  </tbody>\n",
       "</table>\n",
       "<p>20 rows × 21 columns</p>\n",
       "</div>"
      ],
      "text/plain": [
       "    record_id  team_id  league_id             name  overall      ...        \\\n",
       "0         488        1         13          Arsenal       83      ...         \n",
       "1         489        5         13          Chelsea       83      ...         \n",
       "2         490        7         13          Everton       80      ...         \n",
       "3         491        9         13        Liverpool       81      ...         \n",
       "4         492       10         13  Manchester City       83      ...         \n",
       "..        ...      ...        ...              ...      ...      ...         \n",
       "15        503     1799         13   Crystal Palace       77      ...         \n",
       "16        504     1806         13       Stoke City       78      ...         \n",
       "17        505     1943         13      Bournemouth       74      ...         \n",
       "18        506     1952         13        Hull City       75      ...         \n",
       "19        507     1960         13     Swansea City       77      ...         \n",
       "\n",
       "    short_free_kick  long_free_kick       penalties    left_corner  \\\n",
       "0        A. Sánchez         M. Özil      A. Sánchez        M. Özil   \n",
       "1        David Luiz   Marcos Alonso       E. Hazard          Pedro   \n",
       "2        R. Barkley      R. Barkley       L. Baines     R. Barkley   \n",
       "3          Coutinho    J. Henderson       J. Milner       Coutinho   \n",
       "4      K. De Bruyne    K. De Bruyne       S. Agüero    David Silva   \n",
       "..              ...             ...             ...            ...   \n",
       "15      A. Townsend       Y. Cabaye  L. Milivojević      Y. Cabaye   \n",
       "16    M. Arnautović      X. Shaqiri   M. Arnautović  M. Arnautović   \n",
       "17       C. Daniels      C. Daniels      C. Daniels     C. Daniels   \n",
       "18      K. Grosicki       S. Clucas       O. Niasse    K. Grosicki   \n",
       "19    G. Sigurðsson   G. Sigurðsson   G. Sigurðsson  G. Sigurðsson   \n",
       "\n",
       "     right_corner  \n",
       "0         M. Özil  \n",
       "1           Pedro  \n",
       "2      R. Barkley  \n",
       "3        Coutinho  \n",
       "4    K. De Bruyne  \n",
       "..            ...  \n",
       "15    A. Townsend  \n",
       "16     X. Shaqiri  \n",
       "17     C. Daniels  \n",
       "18    K. Grosicki  \n",
       "19  G. Sigurðsson  \n",
       "\n",
       "[20 rows x 21 columns]"
      ]
     },
     "execution_count": 239,
     "metadata": {},
     "output_type": "execute_result"
    }
   ],
   "source": [
    "pd.io.sql.read_sql(\n",
    "'''\n",
    "SELECT *\n",
    "    FROM teams\n",
    "where league_id=13\n",
    ";\n",
    "''', con = db)"
   ]
  },
  {
   "cell_type": "code",
   "execution_count": 242,
   "metadata": {},
   "outputs": [],
   "source": [
    "df=pd.io.sql.read_sql(\n",
    "'''\n",
    "SELECT *\n",
    "    FROM squad\n",
    "\n",
    ";\n",
    "''', con = db)"
   ]
  },
  {
   "cell_type": "code",
   "execution_count": 243,
   "metadata": {},
   "outputs": [
    {
     "data": {
      "text/plain": [
       "Index([u'id', u'team_id', u'player_id', u'name', u'age', u'ova', u'pot',\n",
       "       u'team_contract', u'value', u'wage', u'total', u'pos'],\n",
       "      dtype='object')"
      ]
     },
     "execution_count": 243,
     "metadata": {},
     "output_type": "execute_result"
    }
   ],
   "source": [
    "df.columns"
   ]
  },
  {
   "cell_type": "code",
   "execution_count": null,
   "metadata": {
    "collapsed": true
   },
   "outputs": [],
   "source": []
  }
 ],
 "metadata": {
  "kernelspec": {
   "display_name": "Python 2",
   "language": "python",
   "name": "python2"
  },
  "language_info": {
   "codemirror_mode": {
    "name": "ipython",
    "version": 2
   },
   "file_extension": ".py",
   "mimetype": "text/x-python",
   "name": "python",
   "nbconvert_exporter": "python",
   "pygments_lexer": "ipython2",
   "version": "2.7.13"
  }
 },
 "nbformat": 4,
 "nbformat_minor": 2
}
