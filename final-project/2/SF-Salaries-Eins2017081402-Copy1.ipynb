{
 "cells": [
  {
   "cell_type": "markdown",
   "metadata": {},
   "source": [
    "# SF Salaries "
   ]
  },
  {
   "cell_type": "markdown",
   "metadata": {},
   "source": [
    "## Exploratory Analysis Writeup"
   ]
  },
  {
   "cell_type": "markdown",
   "metadata": {},
   "source": [
    "# Requirements:\n",
    "\n",
    "A well organized Jupyter notebook with code and fully ran top to bottom.\n",
    "\n",
    "At least one visual for each independent variable and, if possible, its relationship to your dependent variable.\n",
    "\n",
    "    It's just as important to show what's not correlated as it is to show any actual correlations found.\n",
    "\n",
    "    Visuals should be well labeled and intuitive based on the data types.\n",
    "        \n",
    "        (For example, if your x variable is temperature and y is \"did it rain,\" a reasonable visual would be two histograms of temperature, one where it rained, and one where it didn't.)\n",
    "\n",
    "    Tables are a perfectly valid visualization tool! Interweave them into your work.\n",
    "\n",
    "Provide insight about dataset and its impact on your hypothesis."
   ]
  },
  {
   "cell_type": "code",
   "execution_count": 1,
   "metadata": {
    "collapsed": true
   },
   "outputs": [],
   "source": [
    "import os\n",
    "\n",
    "import math\n",
    "\n",
    "import numpy as np\n",
    "import pandas as pd\n",
    "pd.set_option('display.max_rows', 20)\n",
    "pd.set_option('display.notebook_repr_html', True)\n",
    "pd.set_option('display.max_columns', 10)\n",
    "\n",
    "import matplotlib.pyplot as plt\n",
    "%matplotlib inline\n",
    "plt.style.use('ggplot')"
   ]
  },
  {
   "cell_type": "code",
   "execution_count": 2,
   "metadata": {},
   "outputs": [
    {
     "name": "stderr",
     "output_type": "stream",
     "text": [
      "C:\\ProgramData\\Anaconda2\\lib\\site-packages\\IPython\\core\\interactiveshell.py:2717: DtypeWarning: Columns (3,4,5,6,12) have mixed types. Specify dtype option on import or set low_memory=False.\n",
      "  interactivity=interactivity, compiler=compiler, result=result)\n"
     ]
    },
    {
     "data": {
      "text/html": [
       "<div>\n",
       "<style>\n",
       "    .dataframe thead tr:only-child th {\n",
       "        text-align: right;\n",
       "    }\n",
       "\n",
       "    .dataframe thead th {\n",
       "        text-align: left;\n",
       "    }\n",
       "\n",
       "    .dataframe tbody tr th {\n",
       "        vertical-align: top;\n",
       "    }\n",
       "</style>\n",
       "<table border=\"1\" class=\"dataframe\">\n",
       "  <thead>\n",
       "    <tr style=\"text-align: right;\">\n",
       "      <th></th>\n",
       "      <th>Id</th>\n",
       "      <th>EmployeeName</th>\n",
       "      <th>JobTitle</th>\n",
       "      <th>BasePay</th>\n",
       "      <th>OvertimePay</th>\n",
       "      <th>...</th>\n",
       "      <th>TotalPayBenefits</th>\n",
       "      <th>Year</th>\n",
       "      <th>Notes</th>\n",
       "      <th>Agency</th>\n",
       "      <th>Status</th>\n",
       "    </tr>\n",
       "  </thead>\n",
       "  <tbody>\n",
       "    <tr>\n",
       "      <th>0</th>\n",
       "      <td>1</td>\n",
       "      <td>NATHANIEL FORD</td>\n",
       "      <td>GENERAL MANAGER-METROPOLITAN TRANSIT AUTHORITY</td>\n",
       "      <td>167411</td>\n",
       "      <td>0</td>\n",
       "      <td>...</td>\n",
       "      <td>567595.43</td>\n",
       "      <td>2011</td>\n",
       "      <td>NaN</td>\n",
       "      <td>San Francisco</td>\n",
       "      <td>NaN</td>\n",
       "    </tr>\n",
       "    <tr>\n",
       "      <th>1</th>\n",
       "      <td>2</td>\n",
       "      <td>GARY JIMENEZ</td>\n",
       "      <td>CAPTAIN III (POLICE DEPARTMENT)</td>\n",
       "      <td>155966</td>\n",
       "      <td>245132</td>\n",
       "      <td>...</td>\n",
       "      <td>538909.28</td>\n",
       "      <td>2011</td>\n",
       "      <td>NaN</td>\n",
       "      <td>San Francisco</td>\n",
       "      <td>NaN</td>\n",
       "    </tr>\n",
       "    <tr>\n",
       "      <th>2</th>\n",
       "      <td>3</td>\n",
       "      <td>ALBERT PARDINI</td>\n",
       "      <td>CAPTAIN III (POLICE DEPARTMENT)</td>\n",
       "      <td>212739</td>\n",
       "      <td>106088</td>\n",
       "      <td>...</td>\n",
       "      <td>335279.91</td>\n",
       "      <td>2011</td>\n",
       "      <td>NaN</td>\n",
       "      <td>San Francisco</td>\n",
       "      <td>NaN</td>\n",
       "    </tr>\n",
       "    <tr>\n",
       "      <th>3</th>\n",
       "      <td>4</td>\n",
       "      <td>CHRISTOPHER CHONG</td>\n",
       "      <td>WIRE ROPE CABLE MAINTENANCE MECHANIC</td>\n",
       "      <td>77916</td>\n",
       "      <td>56120.7</td>\n",
       "      <td>...</td>\n",
       "      <td>332343.61</td>\n",
       "      <td>2011</td>\n",
       "      <td>NaN</td>\n",
       "      <td>San Francisco</td>\n",
       "      <td>NaN</td>\n",
       "    </tr>\n",
       "    <tr>\n",
       "      <th>4</th>\n",
       "      <td>5</td>\n",
       "      <td>PATRICK GARDNER</td>\n",
       "      <td>DEPUTY CHIEF OF DEPARTMENT,(FIRE DEPARTMENT)</td>\n",
       "      <td>134402</td>\n",
       "      <td>9737</td>\n",
       "      <td>...</td>\n",
       "      <td>326373.19</td>\n",
       "      <td>2011</td>\n",
       "      <td>NaN</td>\n",
       "      <td>San Francisco</td>\n",
       "      <td>NaN</td>\n",
       "    </tr>\n",
       "  </tbody>\n",
       "</table>\n",
       "<p>5 rows × 13 columns</p>\n",
       "</div>"
      ],
      "text/plain": [
       "   Id       EmployeeName                                        JobTitle  \\\n",
       "0   1     NATHANIEL FORD  GENERAL MANAGER-METROPOLITAN TRANSIT AUTHORITY   \n",
       "1   2       GARY JIMENEZ                 CAPTAIN III (POLICE DEPARTMENT)   \n",
       "2   3     ALBERT PARDINI                 CAPTAIN III (POLICE DEPARTMENT)   \n",
       "3   4  CHRISTOPHER CHONG            WIRE ROPE CABLE MAINTENANCE MECHANIC   \n",
       "4   5    PATRICK GARDNER    DEPUTY CHIEF OF DEPARTMENT,(FIRE DEPARTMENT)   \n",
       "\n",
       "  BasePay OvertimePay   ...   TotalPayBenefits  Year  Notes         Agency  \\\n",
       "0  167411           0   ...          567595.43  2011    NaN  San Francisco   \n",
       "1  155966      245132   ...          538909.28  2011    NaN  San Francisco   \n",
       "2  212739      106088   ...          335279.91  2011    NaN  San Francisco   \n",
       "3   77916     56120.7   ...          332343.61  2011    NaN  San Francisco   \n",
       "4  134402        9737   ...          326373.19  2011    NaN  San Francisco   \n",
       "\n",
       "   Status  \n",
       "0     NaN  \n",
       "1     NaN  \n",
       "2     NaN  \n",
       "3     NaN  \n",
       "4     NaN  \n",
       "\n",
       "[5 rows x 13 columns]"
      ]
     },
     "execution_count": 2,
     "metadata": {},
     "output_type": "execute_result"
    }
   ],
   "source": [
    "# Import dataset\n",
    "df_salaries = pd.read_csv('datasets/sf-salaries/Salaries.csv')\n",
    "df_salaries.head()"
   ]
  },
  {
   "cell_type": "code",
   "execution_count": 3,
   "metadata": {},
   "outputs": [
    {
     "data": {
      "text/html": [
       "<div>\n",
       "<style>\n",
       "    .dataframe thead tr:only-child th {\n",
       "        text-align: right;\n",
       "    }\n",
       "\n",
       "    .dataframe thead th {\n",
       "        text-align: left;\n",
       "    }\n",
       "\n",
       "    .dataframe tbody tr th {\n",
       "        vertical-align: top;\n",
       "    }\n",
       "</style>\n",
       "<table border=\"1\" class=\"dataframe\">\n",
       "  <thead>\n",
       "    <tr style=\"text-align: right;\">\n",
       "      <th></th>\n",
       "      <th>Id</th>\n",
       "      <th>EmployeeName</th>\n",
       "      <th>JobTitle</th>\n",
       "      <th>BasePay</th>\n",
       "      <th>OvertimePay</th>\n",
       "      <th>...</th>\n",
       "      <th>TotalPayBenefits</th>\n",
       "      <th>Year</th>\n",
       "      <th>Notes</th>\n",
       "      <th>Agency</th>\n",
       "      <th>Status</th>\n",
       "    </tr>\n",
       "  </thead>\n",
       "  <tbody>\n",
       "    <tr>\n",
       "      <th>0</th>\n",
       "      <td>1</td>\n",
       "      <td>NATHANIEL FORD</td>\n",
       "      <td>general manager-metropolitan transit authority</td>\n",
       "      <td>167411</td>\n",
       "      <td>0</td>\n",
       "      <td>...</td>\n",
       "      <td>567595.43</td>\n",
       "      <td>2011</td>\n",
       "      <td>NaN</td>\n",
       "      <td>San Francisco</td>\n",
       "      <td>NaN</td>\n",
       "    </tr>\n",
       "    <tr>\n",
       "      <th>1</th>\n",
       "      <td>2</td>\n",
       "      <td>GARY JIMENEZ</td>\n",
       "      <td>captain iii (police department)</td>\n",
       "      <td>155966</td>\n",
       "      <td>245132</td>\n",
       "      <td>...</td>\n",
       "      <td>538909.28</td>\n",
       "      <td>2011</td>\n",
       "      <td>NaN</td>\n",
       "      <td>San Francisco</td>\n",
       "      <td>NaN</td>\n",
       "    </tr>\n",
       "    <tr>\n",
       "      <th>2</th>\n",
       "      <td>3</td>\n",
       "      <td>ALBERT PARDINI</td>\n",
       "      <td>captain iii (police department)</td>\n",
       "      <td>212739</td>\n",
       "      <td>106088</td>\n",
       "      <td>...</td>\n",
       "      <td>335279.91</td>\n",
       "      <td>2011</td>\n",
       "      <td>NaN</td>\n",
       "      <td>San Francisco</td>\n",
       "      <td>NaN</td>\n",
       "    </tr>\n",
       "    <tr>\n",
       "      <th>3</th>\n",
       "      <td>4</td>\n",
       "      <td>CHRISTOPHER CHONG</td>\n",
       "      <td>wire rope cable maintenance mechanic</td>\n",
       "      <td>77916</td>\n",
       "      <td>56120.7</td>\n",
       "      <td>...</td>\n",
       "      <td>332343.61</td>\n",
       "      <td>2011</td>\n",
       "      <td>NaN</td>\n",
       "      <td>San Francisco</td>\n",
       "      <td>NaN</td>\n",
       "    </tr>\n",
       "    <tr>\n",
       "      <th>4</th>\n",
       "      <td>5</td>\n",
       "      <td>PATRICK GARDNER</td>\n",
       "      <td>deputy chief of department,(fire department)</td>\n",
       "      <td>134402</td>\n",
       "      <td>9737</td>\n",
       "      <td>...</td>\n",
       "      <td>326373.19</td>\n",
       "      <td>2011</td>\n",
       "      <td>NaN</td>\n",
       "      <td>San Francisco</td>\n",
       "      <td>NaN</td>\n",
       "    </tr>\n",
       "  </tbody>\n",
       "</table>\n",
       "<p>5 rows × 13 columns</p>\n",
       "</div>"
      ],
      "text/plain": [
       "   Id       EmployeeName                                        JobTitle  \\\n",
       "0   1     NATHANIEL FORD  general manager-metropolitan transit authority   \n",
       "1   2       GARY JIMENEZ                 captain iii (police department)   \n",
       "2   3     ALBERT PARDINI                 captain iii (police department)   \n",
       "3   4  CHRISTOPHER CHONG            wire rope cable maintenance mechanic   \n",
       "4   5    PATRICK GARDNER    deputy chief of department,(fire department)   \n",
       "\n",
       "  BasePay OvertimePay   ...   TotalPayBenefits  Year  Notes         Agency  \\\n",
       "0  167411           0   ...          567595.43  2011    NaN  San Francisco   \n",
       "1  155966      245132   ...          538909.28  2011    NaN  San Francisco   \n",
       "2  212739      106088   ...          335279.91  2011    NaN  San Francisco   \n",
       "3   77916     56120.7   ...          332343.61  2011    NaN  San Francisco   \n",
       "4  134402        9737   ...          326373.19  2011    NaN  San Francisco   \n",
       "\n",
       "   Status  \n",
       "0     NaN  \n",
       "1     NaN  \n",
       "2     NaN  \n",
       "3     NaN  \n",
       "4     NaN  \n",
       "\n",
       "[5 rows x 13 columns]"
      ]
     },
     "execution_count": 3,
     "metadata": {},
     "output_type": "execute_result"
    }
   ],
   "source": [
    "df_salaries['JobTitle'] = df_salaries['JobTitle'].str.lower()\n",
    "df_salaries.head()"
   ]
  },
  {
   "cell_type": "code",
   "execution_count": 4,
   "metadata": {},
   "outputs": [
    {
     "data": {
      "text/html": [
       "<div>\n",
       "<style>\n",
       "    .dataframe thead tr:only-child th {\n",
       "        text-align: right;\n",
       "    }\n",
       "\n",
       "    .dataframe thead th {\n",
       "        text-align: left;\n",
       "    }\n",
       "\n",
       "    .dataframe tbody tr th {\n",
       "        vertical-align: top;\n",
       "    }\n",
       "</style>\n",
       "<table border=\"1\" class=\"dataframe\">\n",
       "  <thead>\n",
       "    <tr style=\"text-align: right;\">\n",
       "      <th></th>\n",
       "      <th>Id</th>\n",
       "      <th>TotalPay</th>\n",
       "      <th>TotalPayBenefits</th>\n",
       "      <th>Year</th>\n",
       "      <th>Notes</th>\n",
       "    </tr>\n",
       "  </thead>\n",
       "  <tbody>\n",
       "    <tr>\n",
       "      <th>count</th>\n",
       "      <td>148654.000000</td>\n",
       "      <td>148654.000000</td>\n",
       "      <td>148654.000000</td>\n",
       "      <td>148654.000000</td>\n",
       "      <td>0.0</td>\n",
       "    </tr>\n",
       "    <tr>\n",
       "      <th>mean</th>\n",
       "      <td>74327.500000</td>\n",
       "      <td>74768.321972</td>\n",
       "      <td>93692.554811</td>\n",
       "      <td>2012.522643</td>\n",
       "      <td>NaN</td>\n",
       "    </tr>\n",
       "    <tr>\n",
       "      <th>std</th>\n",
       "      <td>42912.857795</td>\n",
       "      <td>50517.005274</td>\n",
       "      <td>62793.533483</td>\n",
       "      <td>1.117538</td>\n",
       "      <td>NaN</td>\n",
       "    </tr>\n",
       "    <tr>\n",
       "      <th>min</th>\n",
       "      <td>1.000000</td>\n",
       "      <td>-618.130000</td>\n",
       "      <td>-618.130000</td>\n",
       "      <td>2011.000000</td>\n",
       "      <td>NaN</td>\n",
       "    </tr>\n",
       "    <tr>\n",
       "      <th>25%</th>\n",
       "      <td>37164.250000</td>\n",
       "      <td>36168.995000</td>\n",
       "      <td>44065.650000</td>\n",
       "      <td>2012.000000</td>\n",
       "      <td>NaN</td>\n",
       "    </tr>\n",
       "    <tr>\n",
       "      <th>50%</th>\n",
       "      <td>74327.500000</td>\n",
       "      <td>71426.610000</td>\n",
       "      <td>92404.090000</td>\n",
       "      <td>2013.000000</td>\n",
       "      <td>NaN</td>\n",
       "    </tr>\n",
       "    <tr>\n",
       "      <th>75%</th>\n",
       "      <td>111490.750000</td>\n",
       "      <td>105839.135000</td>\n",
       "      <td>132876.450000</td>\n",
       "      <td>2014.000000</td>\n",
       "      <td>NaN</td>\n",
       "    </tr>\n",
       "    <tr>\n",
       "      <th>max</th>\n",
       "      <td>148654.000000</td>\n",
       "      <td>567595.430000</td>\n",
       "      <td>567595.430000</td>\n",
       "      <td>2014.000000</td>\n",
       "      <td>NaN</td>\n",
       "    </tr>\n",
       "  </tbody>\n",
       "</table>\n",
       "</div>"
      ],
      "text/plain": [
       "                  Id       TotalPay  TotalPayBenefits           Year  Notes\n",
       "count  148654.000000  148654.000000     148654.000000  148654.000000    0.0\n",
       "mean    74327.500000   74768.321972      93692.554811    2012.522643    NaN\n",
       "std     42912.857795   50517.005274      62793.533483       1.117538    NaN\n",
       "min         1.000000    -618.130000       -618.130000    2011.000000    NaN\n",
       "25%     37164.250000   36168.995000      44065.650000    2012.000000    NaN\n",
       "50%     74327.500000   71426.610000      92404.090000    2013.000000    NaN\n",
       "75%    111490.750000  105839.135000     132876.450000    2014.000000    NaN\n",
       "max    148654.000000  567595.430000     567595.430000    2014.000000    NaN"
      ]
     },
     "execution_count": 4,
     "metadata": {},
     "output_type": "execute_result"
    }
   ],
   "source": [
    "df_salaries.describe()"
   ]
  },
  {
   "cell_type": "code",
   "execution_count": 5,
   "metadata": {},
   "outputs": [
    {
     "data": {
      "text/plain": [
       "Id                       0\n",
       "EmployeeName             0\n",
       "JobTitle                 0\n",
       "BasePay                605\n",
       "OvertimePay              0\n",
       "OtherPay                 0\n",
       "Benefits             36159\n",
       "TotalPay                 0\n",
       "TotalPayBenefits         0\n",
       "Year                     0\n",
       "Notes               148654\n",
       "Agency                   0\n",
       "Status              110535\n",
       "dtype: int64"
      ]
     },
     "execution_count": 5,
     "metadata": {},
     "output_type": "execute_result"
    }
   ],
   "source": [
    "# find out null data\n",
    "df_salaries.isnull().sum()"
   ]
  },
  {
   "cell_type": "code",
   "execution_count": 6,
   "metadata": {
    "collapsed": true
   },
   "outputs": [],
   "source": [
    "# fill empty data with 0\n",
    "df_salaries[\"BasePay\"] = pd.to_numeric(df_salaries['BasePay'], errors='coerce').fillna(0)\n",
    "df_salaries[\"OvertimePay\"] = pd.to_numeric(df_salaries['OvertimePay'], errors='coerce').fillna(0)\n",
    "df_salaries[\"OtherPay\"] = pd.to_numeric(df_salaries['OtherPay'], errors='coerce').fillna(0)\n",
    "df_salaries[\"Benefits\"] = pd.to_numeric(df_salaries['Benefits'], errors='coerce').fillna(0)"
   ]
  },
  {
   "cell_type": "code",
   "execution_count": 7,
   "metadata": {},
   "outputs": [
    {
     "data": {
      "text/plain": [
       "Id                       0\n",
       "EmployeeName             0\n",
       "JobTitle                 0\n",
       "BasePay                  0\n",
       "OvertimePay              0\n",
       "OtherPay                 0\n",
       "Benefits                 0\n",
       "TotalPay                 0\n",
       "TotalPayBenefits         0\n",
       "Year                     0\n",
       "Notes               148654\n",
       "Agency                   0\n",
       "Status              110535\n",
       "dtype: int64"
      ]
     },
     "execution_count": 7,
     "metadata": {},
     "output_type": "execute_result"
    }
   ],
   "source": [
    "df_salaries.isnull().sum()"
   ]
  },
  {
   "cell_type": "code",
   "execution_count": 8,
   "metadata": {},
   "outputs": [
    {
     "data": {
      "text/html": [
       "<div>\n",
       "<style>\n",
       "    .dataframe thead tr:only-child th {\n",
       "        text-align: right;\n",
       "    }\n",
       "\n",
       "    .dataframe thead th {\n",
       "        text-align: left;\n",
       "    }\n",
       "\n",
       "    .dataframe tbody tr th {\n",
       "        vertical-align: top;\n",
       "    }\n",
       "</style>\n",
       "<table border=\"1\" class=\"dataframe\">\n",
       "  <thead>\n",
       "    <tr style=\"text-align: right;\">\n",
       "      <th></th>\n",
       "      <th>EmployeeName</th>\n",
       "      <th>JobTitle</th>\n",
       "      <th>BasePay</th>\n",
       "      <th>OvertimePay</th>\n",
       "      <th>OtherPay</th>\n",
       "      <th>...</th>\n",
       "      <th>TotalPay</th>\n",
       "      <th>TotalPayBenefits</th>\n",
       "      <th>Year</th>\n",
       "      <th>Agency</th>\n",
       "      <th>Status</th>\n",
       "    </tr>\n",
       "  </thead>\n",
       "  <tbody>\n",
       "    <tr>\n",
       "      <th>0</th>\n",
       "      <td>NATHANIEL FORD</td>\n",
       "      <td>general manager-metropolitan transit authority</td>\n",
       "      <td>167411.18</td>\n",
       "      <td>0.00</td>\n",
       "      <td>400184.25</td>\n",
       "      <td>...</td>\n",
       "      <td>567595.43</td>\n",
       "      <td>567595.43</td>\n",
       "      <td>2011</td>\n",
       "      <td>San Francisco</td>\n",
       "      <td>NaN</td>\n",
       "    </tr>\n",
       "    <tr>\n",
       "      <th>1</th>\n",
       "      <td>GARY JIMENEZ</td>\n",
       "      <td>captain iii (police department)</td>\n",
       "      <td>155966.02</td>\n",
       "      <td>245131.88</td>\n",
       "      <td>137811.38</td>\n",
       "      <td>...</td>\n",
       "      <td>538909.28</td>\n",
       "      <td>538909.28</td>\n",
       "      <td>2011</td>\n",
       "      <td>San Francisco</td>\n",
       "      <td>NaN</td>\n",
       "    </tr>\n",
       "    <tr>\n",
       "      <th>2</th>\n",
       "      <td>ALBERT PARDINI</td>\n",
       "      <td>captain iii (police department)</td>\n",
       "      <td>212739.13</td>\n",
       "      <td>106088.18</td>\n",
       "      <td>16452.60</td>\n",
       "      <td>...</td>\n",
       "      <td>335279.91</td>\n",
       "      <td>335279.91</td>\n",
       "      <td>2011</td>\n",
       "      <td>San Francisco</td>\n",
       "      <td>NaN</td>\n",
       "    </tr>\n",
       "    <tr>\n",
       "      <th>3</th>\n",
       "      <td>CHRISTOPHER CHONG</td>\n",
       "      <td>wire rope cable maintenance mechanic</td>\n",
       "      <td>77916.00</td>\n",
       "      <td>56120.71</td>\n",
       "      <td>198306.90</td>\n",
       "      <td>...</td>\n",
       "      <td>332343.61</td>\n",
       "      <td>332343.61</td>\n",
       "      <td>2011</td>\n",
       "      <td>San Francisco</td>\n",
       "      <td>NaN</td>\n",
       "    </tr>\n",
       "    <tr>\n",
       "      <th>4</th>\n",
       "      <td>PATRICK GARDNER</td>\n",
       "      <td>deputy chief of department,(fire department)</td>\n",
       "      <td>134401.60</td>\n",
       "      <td>9737.00</td>\n",
       "      <td>182234.59</td>\n",
       "      <td>...</td>\n",
       "      <td>326373.19</td>\n",
       "      <td>326373.19</td>\n",
       "      <td>2011</td>\n",
       "      <td>San Francisco</td>\n",
       "      <td>NaN</td>\n",
       "    </tr>\n",
       "  </tbody>\n",
       "</table>\n",
       "<p>5 rows × 11 columns</p>\n",
       "</div>"
      ],
      "text/plain": [
       "        EmployeeName                                        JobTitle  \\\n",
       "0     NATHANIEL FORD  general manager-metropolitan transit authority   \n",
       "1       GARY JIMENEZ                 captain iii (police department)   \n",
       "2     ALBERT PARDINI                 captain iii (police department)   \n",
       "3  CHRISTOPHER CHONG            wire rope cable maintenance mechanic   \n",
       "4    PATRICK GARDNER    deputy chief of department,(fire department)   \n",
       "\n",
       "     BasePay  OvertimePay   OtherPay  ...     TotalPay  TotalPayBenefits  \\\n",
       "0  167411.18         0.00  400184.25  ...    567595.43         567595.43   \n",
       "1  155966.02    245131.88  137811.38  ...    538909.28         538909.28   \n",
       "2  212739.13    106088.18   16452.60  ...    335279.91         335279.91   \n",
       "3   77916.00     56120.71  198306.90  ...    332343.61         332343.61   \n",
       "4  134401.60      9737.00  182234.59  ...    326373.19         326373.19   \n",
       "\n",
       "   Year         Agency Status  \n",
       "0  2011  San Francisco    NaN  \n",
       "1  2011  San Francisco    NaN  \n",
       "2  2011  San Francisco    NaN  \n",
       "3  2011  San Francisco    NaN  \n",
       "4  2011  San Francisco    NaN  \n",
       "\n",
       "[5 rows x 11 columns]"
      ]
     },
     "execution_count": 8,
     "metadata": {},
     "output_type": "execute_result"
    }
   ],
   "source": [
    "# drop the useless columns\n",
    "df_salaries = df_salaries.drop(['Id','Notes'],axis =1)\n",
    "df_salaries.head()"
   ]
  },
  {
   "cell_type": "code",
   "execution_count": 9,
   "metadata": {},
   "outputs": [
    {
     "data": {
      "text/html": [
       "<div>\n",
       "<style>\n",
       "    .dataframe thead tr:only-child th {\n",
       "        text-align: right;\n",
       "    }\n",
       "\n",
       "    .dataframe thead th {\n",
       "        text-align: left;\n",
       "    }\n",
       "\n",
       "    .dataframe tbody tr th {\n",
       "        vertical-align: top;\n",
       "    }\n",
       "</style>\n",
       "<table border=\"1\" class=\"dataframe\">\n",
       "  <thead>\n",
       "    <tr style=\"text-align: right;\">\n",
       "      <th></th>\n",
       "      <th>BasePay</th>\n",
       "      <th>OvertimePay</th>\n",
       "      <th>OtherPay</th>\n",
       "      <th>Benefits</th>\n",
       "      <th>TotalPay</th>\n",
       "      <th>TotalPayBenefits</th>\n",
       "      <th>Year</th>\n",
       "    </tr>\n",
       "  </thead>\n",
       "  <tbody>\n",
       "    <tr>\n",
       "      <th>BasePay</th>\n",
       "      <td>1.000000</td>\n",
       "      <td>0.268128</td>\n",
       "      <td>0.281796</td>\n",
       "      <td>0.654153</td>\n",
       "      <td>0.954693</td>\n",
       "      <td>0.946864</td>\n",
       "      <td>0.030829</td>\n",
       "    </tr>\n",
       "    <tr>\n",
       "      <th>OvertimePay</th>\n",
       "      <td>0.268128</td>\n",
       "      <td>1.000000</td>\n",
       "      <td>0.316595</td>\n",
       "      <td>0.226173</td>\n",
       "      <td>0.504860</td>\n",
       "      <td>0.467984</td>\n",
       "      <td>0.027870</td>\n",
       "    </tr>\n",
       "    <tr>\n",
       "      <th>OtherPay</th>\n",
       "      <td>0.281796</td>\n",
       "      <td>0.316595</td>\n",
       "      <td>1.000000</td>\n",
       "      <td>0.160344</td>\n",
       "      <td>0.470499</td>\n",
       "      <td>0.422345</td>\n",
       "      <td>-0.002515</td>\n",
       "    </tr>\n",
       "    <tr>\n",
       "      <th>Benefits</th>\n",
       "      <td>0.654153</td>\n",
       "      <td>0.226173</td>\n",
       "      <td>0.160344</td>\n",
       "      <td>1.000000</td>\n",
       "      <td>0.632202</td>\n",
       "      <td>0.781963</td>\n",
       "      <td>0.461408</td>\n",
       "    </tr>\n",
       "    <tr>\n",
       "      <th>TotalPay</th>\n",
       "      <td>0.954693</td>\n",
       "      <td>0.504860</td>\n",
       "      <td>0.470499</td>\n",
       "      <td>0.632202</td>\n",
       "      <td>1.000000</td>\n",
       "      <td>0.977313</td>\n",
       "      <td>0.032090</td>\n",
       "    </tr>\n",
       "    <tr>\n",
       "      <th>TotalPayBenefits</th>\n",
       "      <td>0.946864</td>\n",
       "      <td>0.467984</td>\n",
       "      <td>0.422345</td>\n",
       "      <td>0.781963</td>\n",
       "      <td>0.977313</td>\n",
       "      <td>1.000000</td>\n",
       "      <td>0.151947</td>\n",
       "    </tr>\n",
       "    <tr>\n",
       "      <th>Year</th>\n",
       "      <td>0.030829</td>\n",
       "      <td>0.027870</td>\n",
       "      <td>-0.002515</td>\n",
       "      <td>0.461408</td>\n",
       "      <td>0.032090</td>\n",
       "      <td>0.151947</td>\n",
       "      <td>1.000000</td>\n",
       "    </tr>\n",
       "  </tbody>\n",
       "</table>\n",
       "</div>"
      ],
      "text/plain": [
       "                   BasePay  OvertimePay  OtherPay  Benefits  TotalPay  \\\n",
       "BasePay           1.000000     0.268128  0.281796  0.654153  0.954693   \n",
       "OvertimePay       0.268128     1.000000  0.316595  0.226173  0.504860   \n",
       "OtherPay          0.281796     0.316595  1.000000  0.160344  0.470499   \n",
       "Benefits          0.654153     0.226173  0.160344  1.000000  0.632202   \n",
       "TotalPay          0.954693     0.504860  0.470499  0.632202  1.000000   \n",
       "TotalPayBenefits  0.946864     0.467984  0.422345  0.781963  0.977313   \n",
       "Year              0.030829     0.027870 -0.002515  0.461408  0.032090   \n",
       "\n",
       "                  TotalPayBenefits      Year  \n",
       "BasePay                   0.946864  0.030829  \n",
       "OvertimePay               0.467984  0.027870  \n",
       "OtherPay                  0.422345 -0.002515  \n",
       "Benefits                  0.781963  0.461408  \n",
       "TotalPay                  0.977313  0.032090  \n",
       "TotalPayBenefits          1.000000  0.151947  \n",
       "Year                      0.151947  1.000000  "
      ]
     },
     "execution_count": 9,
     "metadata": {},
     "output_type": "execute_result"
    }
   ],
   "source": [
    "df_salaries.corr()"
   ]
  },
  {
   "cell_type": "code",
   "execution_count": 10,
   "metadata": {
    "scrolled": true
   },
   "outputs": [
    {
     "data": {
      "text/plain": [
       "<matplotlib.image.AxesImage at 0xbb13518>"
      ]
     },
     "execution_count": 10,
     "metadata": {},
     "output_type": "execute_result"
    },
    {
     "data": {
      "image/png": "[encoded data removed]",
      "text/plain": [
       "<matplotlib.figure.Figure at 0x9992908>"
      ]
     },
     "metadata": {},
     "output_type": "display_data"
    }
   ],
   "source": [
    "plt.matshow(df_salaries.corr())"
   ]
  },
  {
   "cell_type": "code",
   "execution_count": 11,
   "metadata": {
    "collapsed": true
   },
   "outputs": [],
   "source": [
    "# It seems the BasePay, Benefits, TotalPay and TotalPayBenefits are some level related."
   ]
  },
  {
   "cell_type": "code",
   "execution_count": 12,
   "metadata": {
    "scrolled": false
   },
   "outputs": [
    {
     "data": {
      "text/plain": [
       "array([[<matplotlib.axes._subplots.AxesSubplot object at 0x000000000A9A51D0>,\n",
       "        <matplotlib.axes._subplots.AxesSubplot object at 0x000000000B9692B0>,\n",
       "        <matplotlib.axes._subplots.AxesSubplot object at 0x000000000BC3FE48>],\n",
       "       [<matplotlib.axes._subplots.AxesSubplot object at 0x000000000BCF2AC8>,\n",
       "        <matplotlib.axes._subplots.AxesSubplot object at 0x000000000BDBD6A0>,\n",
       "        <matplotlib.axes._subplots.AxesSubplot object at 0x000000000BEA4EF0>],\n",
       "       [<matplotlib.axes._subplots.AxesSubplot object at 0x000000000BF6FC50>,\n",
       "        <matplotlib.axes._subplots.AxesSubplot object at 0x000000000C066438>,\n",
       "        <matplotlib.axes._subplots.AxesSubplot object at 0x000000000C131198>]], dtype=object)"
      ]
     },
     "execution_count": 12,
     "metadata": {},
     "output_type": "execute_result"
    },
    {
     "data": {
      "image/png": "[encoded data removed]",
      "text/plain": [
       "<matplotlib.figure.Figure at 0xba0ec18>"
      ]
     },
     "metadata": {},
     "output_type": "display_data"
    }
   ],
   "source": [
    "df_salaries.hist(bins=50, figsize=(20,15))"
   ]
  },
  {
   "cell_type": "code",
   "execution_count": 13,
   "metadata": {
    "collapsed": true
   },
   "outputs": [],
   "source": [
    "# It seems there were a few people earning a lot."
   ]
  },
  {
   "cell_type": "code",
   "execution_count": 14,
   "metadata": {},
   "outputs": [
    {
     "data": {
      "text/html": [
       "<div>\n",
       "<style>\n",
       "    .dataframe thead tr:only-child th {\n",
       "        text-align: right;\n",
       "    }\n",
       "\n",
       "    .dataframe thead th {\n",
       "        text-align: left;\n",
       "    }\n",
       "\n",
       "    .dataframe tbody tr th {\n",
       "        vertical-align: top;\n",
       "    }\n",
       "</style>\n",
       "<table border=\"1\" class=\"dataframe\">\n",
       "  <thead>\n",
       "    <tr style=\"text-align: right;\">\n",
       "      <th></th>\n",
       "      <th>BasePay</th>\n",
       "      <th>OvertimePay</th>\n",
       "      <th>OtherPay</th>\n",
       "      <th>Benefits</th>\n",
       "      <th>TotalPay</th>\n",
       "      <th>TotalPayBenefits</th>\n",
       "      <th>Year</th>\n",
       "      <th>Agency</th>\n",
       "      <th>Status</th>\n",
       "    </tr>\n",
       "  </thead>\n",
       "  <tbody>\n",
       "    <tr>\n",
       "      <th>0</th>\n",
       "      <td>167411.18</td>\n",
       "      <td>0.00</td>\n",
       "      <td>400184.25</td>\n",
       "      <td>0.0</td>\n",
       "      <td>567595.43</td>\n",
       "      <td>567595.43</td>\n",
       "      <td>2011</td>\n",
       "      <td>San Francisco</td>\n",
       "      <td>NaN</td>\n",
       "    </tr>\n",
       "    <tr>\n",
       "      <th>1</th>\n",
       "      <td>155966.02</td>\n",
       "      <td>245131.88</td>\n",
       "      <td>137811.38</td>\n",
       "      <td>0.0</td>\n",
       "      <td>538909.28</td>\n",
       "      <td>538909.28</td>\n",
       "      <td>2011</td>\n",
       "      <td>San Francisco</td>\n",
       "      <td>NaN</td>\n",
       "    </tr>\n",
       "    <tr>\n",
       "      <th>2</th>\n",
       "      <td>212739.13</td>\n",
       "      <td>106088.18</td>\n",
       "      <td>16452.60</td>\n",
       "      <td>0.0</td>\n",
       "      <td>335279.91</td>\n",
       "      <td>335279.91</td>\n",
       "      <td>2011</td>\n",
       "      <td>San Francisco</td>\n",
       "      <td>NaN</td>\n",
       "    </tr>\n",
       "    <tr>\n",
       "      <th>3</th>\n",
       "      <td>77916.00</td>\n",
       "      <td>56120.71</td>\n",
       "      <td>198306.90</td>\n",
       "      <td>0.0</td>\n",
       "      <td>332343.61</td>\n",
       "      <td>332343.61</td>\n",
       "      <td>2011</td>\n",
       "      <td>San Francisco</td>\n",
       "      <td>NaN</td>\n",
       "    </tr>\n",
       "    <tr>\n",
       "      <th>4</th>\n",
       "      <td>134401.60</td>\n",
       "      <td>9737.00</td>\n",
       "      <td>182234.59</td>\n",
       "      <td>0.0</td>\n",
       "      <td>326373.19</td>\n",
       "      <td>326373.19</td>\n",
       "      <td>2011</td>\n",
       "      <td>San Francisco</td>\n",
       "      <td>NaN</td>\n",
       "    </tr>\n",
       "  </tbody>\n",
       "</table>\n",
       "</div>"
      ],
      "text/plain": [
       "     BasePay  OvertimePay   OtherPay  Benefits   TotalPay  TotalPayBenefits  \\\n",
       "0  167411.18         0.00  400184.25       0.0  567595.43         567595.43   \n",
       "1  155966.02    245131.88  137811.38       0.0  538909.28         538909.28   \n",
       "2  212739.13    106088.18   16452.60       0.0  335279.91         335279.91   \n",
       "3   77916.00     56120.71  198306.90       0.0  332343.61         332343.61   \n",
       "4  134401.60      9737.00  182234.59       0.0  326373.19         326373.19   \n",
       "\n",
       "   Year         Agency Status  \n",
       "0  2011  San Francisco    NaN  \n",
       "1  2011  San Francisco    NaN  \n",
       "2  2011  San Francisco    NaN  \n",
       "3  2011  San Francisco    NaN  \n",
       "4  2011  San Francisco    NaN  "
      ]
     },
     "execution_count": 14,
     "metadata": {},
     "output_type": "execute_result"
    }
   ],
   "source": [
    "dfd_salaries = df_salaries.drop(['EmployeeName','JobTitle'],1)\n",
    "dfd_salaries.head(5)"
   ]
  },
  {
   "cell_type": "code",
   "execution_count": 15,
   "metadata": {},
   "outputs": [
    {
     "data": {
      "text/html": [
       "<div>\n",
       "<style>\n",
       "    .dataframe thead tr:only-child th {\n",
       "        text-align: right;\n",
       "    }\n",
       "\n",
       "    .dataframe thead th {\n",
       "        text-align: left;\n",
       "    }\n",
       "\n",
       "    .dataframe tbody tr th {\n",
       "        vertical-align: top;\n",
       "    }\n",
       "</style>\n",
       "<table border=\"1\" class=\"dataframe\">\n",
       "  <thead>\n",
       "    <tr style=\"text-align: right;\">\n",
       "      <th></th>\n",
       "      <th>BasePay</th>\n",
       "      <th>OvertimePay</th>\n",
       "      <th>OtherPay</th>\n",
       "      <th>Benefits</th>\n",
       "      <th>TotalPay</th>\n",
       "      <th>TotalPayBenefits</th>\n",
       "      <th>Year</th>\n",
       "      <th>Agency</th>\n",
       "      <th>Status</th>\n",
       "    </tr>\n",
       "  </thead>\n",
       "  <tbody>\n",
       "    <tr>\n",
       "      <th>72925</th>\n",
       "      <td>319275.01</td>\n",
       "      <td>0.00</td>\n",
       "      <td>20007.06</td>\n",
       "      <td>86533.21</td>\n",
       "      <td>339282.07</td>\n",
       "      <td>425815.28</td>\n",
       "      <td>2013</td>\n",
       "      <td>San Francisco</td>\n",
       "      <td>NaN</td>\n",
       "    </tr>\n",
       "    <tr>\n",
       "      <th>110532</th>\n",
       "      <td>318835.49</td>\n",
       "      <td>10712.95</td>\n",
       "      <td>60563.54</td>\n",
       "      <td>89540.23</td>\n",
       "      <td>390111.98</td>\n",
       "      <td>479652.21</td>\n",
       "      <td>2014</td>\n",
       "      <td>San Francisco</td>\n",
       "      <td>FT</td>\n",
       "    </tr>\n",
       "    <tr>\n",
       "      <th>72929</th>\n",
       "      <td>315572.01</td>\n",
       "      <td>0.00</td>\n",
       "      <td>0.00</td>\n",
       "      <td>82849.66</td>\n",
       "      <td>315572.01</td>\n",
       "      <td>398421.67</td>\n",
       "      <td>2013</td>\n",
       "      <td>San Francisco</td>\n",
       "      <td>NaN</td>\n",
       "    </tr>\n",
       "    <tr>\n",
       "      <th>72926</th>\n",
       "      <td>313686.01</td>\n",
       "      <td>0.00</td>\n",
       "      <td>23236.00</td>\n",
       "      <td>85431.39</td>\n",
       "      <td>336922.01</td>\n",
       "      <td>422353.40</td>\n",
       "      <td>2013</td>\n",
       "      <td>San Francisco</td>\n",
       "      <td>NaN</td>\n",
       "    </tr>\n",
       "    <tr>\n",
       "      <th>72931</th>\n",
       "      <td>313312.52</td>\n",
       "      <td>0.00</td>\n",
       "      <td>0.00</td>\n",
       "      <td>82319.51</td>\n",
       "      <td>313312.52</td>\n",
       "      <td>395632.03</td>\n",
       "      <td>2013</td>\n",
       "      <td>San Francisco</td>\n",
       "      <td>NaN</td>\n",
       "    </tr>\n",
       "  </tbody>\n",
       "</table>\n",
       "</div>"
      ],
      "text/plain": [
       "          BasePay  OvertimePay  OtherPay  Benefits   TotalPay  \\\n",
       "72925   319275.01         0.00  20007.06  86533.21  339282.07   \n",
       "110532  318835.49     10712.95  60563.54  89540.23  390111.98   \n",
       "72929   315572.01         0.00      0.00  82849.66  315572.01   \n",
       "72926   313686.01         0.00  23236.00  85431.39  336922.01   \n",
       "72931   313312.52         0.00      0.00  82319.51  313312.52   \n",
       "\n",
       "        TotalPayBenefits  Year         Agency Status  \n",
       "72925          425815.28  2013  San Francisco    NaN  \n",
       "110532         479652.21  2014  San Francisco     FT  \n",
       "72929          398421.67  2013  San Francisco    NaN  \n",
       "72926          422353.40  2013  San Francisco    NaN  \n",
       "72931          395632.03  2013  San Francisco    NaN  "
      ]
     },
     "execution_count": 15,
     "metadata": {},
     "output_type": "execute_result"
    }
   ],
   "source": [
    "dfd_salaries.sort_values('BasePay',axis=0, ascending=False).head(5)"
   ]
  },
  {
   "cell_type": "code",
   "execution_count": 16,
   "metadata": {},
   "outputs": [
    {
     "data": {
      "text/html": [
       "<div>\n",
       "<style>\n",
       "    .dataframe thead tr:only-child th {\n",
       "        text-align: right;\n",
       "    }\n",
       "\n",
       "    .dataframe thead th {\n",
       "        text-align: left;\n",
       "    }\n",
       "\n",
       "    .dataframe tbody tr th {\n",
       "        vertical-align: top;\n",
       "    }\n",
       "</style>\n",
       "<table border=\"1\" class=\"dataframe\">\n",
       "  <thead>\n",
       "    <tr style=\"text-align: right;\">\n",
       "      <th></th>\n",
       "      <th>BasePay</th>\n",
       "      <th>OvertimePay</th>\n",
       "      <th>OtherPay</th>\n",
       "      <th>Benefits</th>\n",
       "      <th>TotalPay</th>\n",
       "      <th>TotalPayBenefits</th>\n",
       "      <th>Year</th>\n",
       "      <th>Agency</th>\n",
       "      <th>Status</th>\n",
       "    </tr>\n",
       "  </thead>\n",
       "  <tbody>\n",
       "    <tr>\n",
       "      <th>1</th>\n",
       "      <td>155966.02</td>\n",
       "      <td>245131.88</td>\n",
       "      <td>137811.38</td>\n",
       "      <td>0.00</td>\n",
       "      <td>538909.28</td>\n",
       "      <td>538909.28</td>\n",
       "      <td>2011</td>\n",
       "      <td>San Francisco</td>\n",
       "      <td>NaN</td>\n",
       "    </tr>\n",
       "    <tr>\n",
       "      <th>36159</th>\n",
       "      <td>128808.87</td>\n",
       "      <td>220909.48</td>\n",
       "      <td>13126.31</td>\n",
       "      <td>44430.12</td>\n",
       "      <td>362844.66</td>\n",
       "      <td>407274.78</td>\n",
       "      <td>2012</td>\n",
       "      <td>San Francisco</td>\n",
       "      <td>NaN</td>\n",
       "    </tr>\n",
       "    <tr>\n",
       "      <th>72964</th>\n",
       "      <td>95123.00</td>\n",
       "      <td>196689.18</td>\n",
       "      <td>16622.66</td>\n",
       "      <td>36125.49</td>\n",
       "      <td>308434.84</td>\n",
       "      <td>344560.33</td>\n",
       "      <td>2013</td>\n",
       "      <td>San Francisco</td>\n",
       "      <td>NaN</td>\n",
       "    </tr>\n",
       "    <tr>\n",
       "      <th>36163</th>\n",
       "      <td>126863.19</td>\n",
       "      <td>192424.49</td>\n",
       "      <td>17917.18</td>\n",
       "      <td>44438.25</td>\n",
       "      <td>337204.86</td>\n",
       "      <td>381643.11</td>\n",
       "      <td>2012</td>\n",
       "      <td>San Francisco</td>\n",
       "      <td>NaN</td>\n",
       "    </tr>\n",
       "    <tr>\n",
       "      <th>110574</th>\n",
       "      <td>94191.04</td>\n",
       "      <td>173547.73</td>\n",
       "      <td>19740.81</td>\n",
       "      <td>38238.57</td>\n",
       "      <td>287479.58</td>\n",
       "      <td>325718.15</td>\n",
       "      <td>2014</td>\n",
       "      <td>San Francisco</td>\n",
       "      <td>FT</td>\n",
       "    </tr>\n",
       "  </tbody>\n",
       "</table>\n",
       "</div>"
      ],
      "text/plain": [
       "          BasePay  OvertimePay   OtherPay  Benefits   TotalPay  \\\n",
       "1       155966.02    245131.88  137811.38      0.00  538909.28   \n",
       "36159   128808.87    220909.48   13126.31  44430.12  362844.66   \n",
       "72964    95123.00    196689.18   16622.66  36125.49  308434.84   \n",
       "36163   126863.19    192424.49   17917.18  44438.25  337204.86   \n",
       "110574   94191.04    173547.73   19740.81  38238.57  287479.58   \n",
       "\n",
       "        TotalPayBenefits  Year         Agency Status  \n",
       "1              538909.28  2011  San Francisco    NaN  \n",
       "36159          407274.78  2012  San Francisco    NaN  \n",
       "72964          344560.33  2013  San Francisco    NaN  \n",
       "36163          381643.11  2012  San Francisco    NaN  \n",
       "110574         325718.15  2014  San Francisco     FT  "
      ]
     },
     "execution_count": 16,
     "metadata": {},
     "output_type": "execute_result"
    }
   ],
   "source": [
    "dfd_salaries.sort_values('OvertimePay',axis=0, ascending=False).head(5)"
   ]
  },
  {
   "cell_type": "code",
   "execution_count": 17,
   "metadata": {},
   "outputs": [
    {
     "data": {
      "text/html": [
       "<div>\n",
       "<style>\n",
       "    .dataframe thead tr:only-child th {\n",
       "        text-align: right;\n",
       "    }\n",
       "\n",
       "    .dataframe thead th {\n",
       "        text-align: left;\n",
       "    }\n",
       "\n",
       "    .dataframe tbody tr th {\n",
       "        vertical-align: top;\n",
       "    }\n",
       "</style>\n",
       "<table border=\"1\" class=\"dataframe\">\n",
       "  <thead>\n",
       "    <tr style=\"text-align: right;\">\n",
       "      <th></th>\n",
       "      <th>BasePay</th>\n",
       "      <th>OvertimePay</th>\n",
       "      <th>OtherPay</th>\n",
       "      <th>Benefits</th>\n",
       "      <th>TotalPay</th>\n",
       "      <th>TotalPayBenefits</th>\n",
       "      <th>Year</th>\n",
       "      <th>Agency</th>\n",
       "      <th>Status</th>\n",
       "    </tr>\n",
       "  </thead>\n",
       "  <tbody>\n",
       "    <tr>\n",
       "      <th>0</th>\n",
       "      <td>167411.18</td>\n",
       "      <td>0.0</td>\n",
       "      <td>400184.25</td>\n",
       "      <td>0.00</td>\n",
       "      <td>567595.43</td>\n",
       "      <td>567595.43</td>\n",
       "      <td>2011</td>\n",
       "      <td>San Francisco</td>\n",
       "      <td>NaN</td>\n",
       "    </tr>\n",
       "    <tr>\n",
       "      <th>110531</th>\n",
       "      <td>129150.01</td>\n",
       "      <td>0.0</td>\n",
       "      <td>342802.63</td>\n",
       "      <td>38780.04</td>\n",
       "      <td>471952.64</td>\n",
       "      <td>510732.68</td>\n",
       "      <td>2014</td>\n",
       "      <td>San Francisco</td>\n",
       "      <td>PT</td>\n",
       "    </tr>\n",
       "    <tr>\n",
       "      <th>36167</th>\n",
       "      <td>104404.00</td>\n",
       "      <td>0.0</td>\n",
       "      <td>245999.41</td>\n",
       "      <td>24287.23</td>\n",
       "      <td>350403.41</td>\n",
       "      <td>374690.64</td>\n",
       "      <td>2012</td>\n",
       "      <td>San Francisco</td>\n",
       "      <td>NaN</td>\n",
       "    </tr>\n",
       "    <tr>\n",
       "      <th>36888</th>\n",
       "      <td>15158.50</td>\n",
       "      <td>0.0</td>\n",
       "      <td>206752.00</td>\n",
       "      <td>14074.28</td>\n",
       "      <td>221910.50</td>\n",
       "      <td>235984.78</td>\n",
       "      <td>2012</td>\n",
       "      <td>San Francisco</td>\n",
       "      <td>NaN</td>\n",
       "    </tr>\n",
       "    <tr>\n",
       "      <th>36195</th>\n",
       "      <td>104404.00</td>\n",
       "      <td>0.0</td>\n",
       "      <td>204290.09</td>\n",
       "      <td>24688.54</td>\n",
       "      <td>308694.09</td>\n",
       "      <td>333382.63</td>\n",
       "      <td>2012</td>\n",
       "      <td>San Francisco</td>\n",
       "      <td>NaN</td>\n",
       "    </tr>\n",
       "  </tbody>\n",
       "</table>\n",
       "</div>"
      ],
      "text/plain": [
       "          BasePay  OvertimePay   OtherPay  Benefits   TotalPay  \\\n",
       "0       167411.18          0.0  400184.25      0.00  567595.43   \n",
       "110531  129150.01          0.0  342802.63  38780.04  471952.64   \n",
       "36167   104404.00          0.0  245999.41  24287.23  350403.41   \n",
       "36888    15158.50          0.0  206752.00  14074.28  221910.50   \n",
       "36195   104404.00          0.0  204290.09  24688.54  308694.09   \n",
       "\n",
       "        TotalPayBenefits  Year         Agency Status  \n",
       "0              567595.43  2011  San Francisco    NaN  \n",
       "110531         510732.68  2014  San Francisco     PT  \n",
       "36167          374690.64  2012  San Francisco    NaN  \n",
       "36888          235984.78  2012  San Francisco    NaN  \n",
       "36195          333382.63  2012  San Francisco    NaN  "
      ]
     },
     "execution_count": 17,
     "metadata": {},
     "output_type": "execute_result"
    }
   ],
   "source": [
    "dfd_salaries.sort_values('OtherPay',axis=0, ascending=False).head(5)"
   ]
  },
  {
   "cell_type": "code",
   "execution_count": 18,
   "metadata": {
    "scrolled": true
   },
   "outputs": [
    {
     "data": {
      "text/html": [
       "<div>\n",
       "<style>\n",
       "    .dataframe thead tr:only-child th {\n",
       "        text-align: right;\n",
       "    }\n",
       "\n",
       "    .dataframe thead th {\n",
       "        text-align: left;\n",
       "    }\n",
       "\n",
       "    .dataframe tbody tr th {\n",
       "        vertical-align: top;\n",
       "    }\n",
       "</style>\n",
       "<table border=\"1\" class=\"dataframe\">\n",
       "  <thead>\n",
       "    <tr style=\"text-align: right;\">\n",
       "      <th></th>\n",
       "      <th>BasePay</th>\n",
       "      <th>OvertimePay</th>\n",
       "      <th>OtherPay</th>\n",
       "      <th>Benefits</th>\n",
       "      <th>TotalPay</th>\n",
       "      <th>TotalPayBenefits</th>\n",
       "      <th>Year</th>\n",
       "      <th>Agency</th>\n",
       "      <th>Status</th>\n",
       "    </tr>\n",
       "  </thead>\n",
       "  <tbody>\n",
       "    <tr>\n",
       "      <th>110533</th>\n",
       "      <td>257340.00</td>\n",
       "      <td>0.00</td>\n",
       "      <td>82313.70</td>\n",
       "      <td>96570.66</td>\n",
       "      <td>339653.70</td>\n",
       "      <td>436224.36</td>\n",
       "      <td>2014</td>\n",
       "      <td>San Francisco</td>\n",
       "      <td>PT</td>\n",
       "    </tr>\n",
       "    <tr>\n",
       "      <th>110534</th>\n",
       "      <td>307450.04</td>\n",
       "      <td>0.00</td>\n",
       "      <td>19266.72</td>\n",
       "      <td>91302.46</td>\n",
       "      <td>326716.76</td>\n",
       "      <td>418019.22</td>\n",
       "      <td>2014</td>\n",
       "      <td>San Francisco</td>\n",
       "      <td>FT</td>\n",
       "    </tr>\n",
       "    <tr>\n",
       "      <th>110535</th>\n",
       "      <td>302068.00</td>\n",
       "      <td>0.00</td>\n",
       "      <td>24165.44</td>\n",
       "      <td>91201.66</td>\n",
       "      <td>326233.44</td>\n",
       "      <td>417435.10</td>\n",
       "      <td>2014</td>\n",
       "      <td>San Francisco</td>\n",
       "      <td>FT</td>\n",
       "    </tr>\n",
       "    <tr>\n",
       "      <th>110537</th>\n",
       "      <td>311298.55</td>\n",
       "      <td>0.00</td>\n",
       "      <td>0.00</td>\n",
       "      <td>89772.32</td>\n",
       "      <td>311298.55</td>\n",
       "      <td>401070.87</td>\n",
       "      <td>2014</td>\n",
       "      <td>San Francisco</td>\n",
       "      <td>FT</td>\n",
       "    </tr>\n",
       "    <tr>\n",
       "      <th>110532</th>\n",
       "      <td>318835.49</td>\n",
       "      <td>10712.95</td>\n",
       "      <td>60563.54</td>\n",
       "      <td>89540.23</td>\n",
       "      <td>390111.98</td>\n",
       "      <td>479652.21</td>\n",
       "      <td>2014</td>\n",
       "      <td>San Francisco</td>\n",
       "      <td>FT</td>\n",
       "    </tr>\n",
       "  </tbody>\n",
       "</table>\n",
       "</div>"
      ],
      "text/plain": [
       "          BasePay  OvertimePay  OtherPay  Benefits   TotalPay  \\\n",
       "110533  257340.00         0.00  82313.70  96570.66  339653.70   \n",
       "110534  307450.04         0.00  19266.72  91302.46  326716.76   \n",
       "110535  302068.00         0.00  24165.44  91201.66  326233.44   \n",
       "110537  311298.55         0.00      0.00  89772.32  311298.55   \n",
       "110532  318835.49     10712.95  60563.54  89540.23  390111.98   \n",
       "\n",
       "        TotalPayBenefits  Year         Agency Status  \n",
       "110533         436224.36  2014  San Francisco     PT  \n",
       "110534         418019.22  2014  San Francisco     FT  \n",
       "110535         417435.10  2014  San Francisco     FT  \n",
       "110537         401070.87  2014  San Francisco     FT  \n",
       "110532         479652.21  2014  San Francisco     FT  "
      ]
     },
     "execution_count": 18,
     "metadata": {},
     "output_type": "execute_result"
    }
   ],
   "source": [
    "dfd_salaries.sort_values('Benefits',axis=0, ascending=False).head(5)"
   ]
  },
  {
   "cell_type": "code",
   "execution_count": 19,
   "metadata": {},
   "outputs": [
    {
     "data": {
      "text/html": [
       "<div>\n",
       "<style>\n",
       "    .dataframe thead tr:only-child th {\n",
       "        text-align: right;\n",
       "    }\n",
       "\n",
       "    .dataframe thead th {\n",
       "        text-align: left;\n",
       "    }\n",
       "\n",
       "    .dataframe tbody tr th {\n",
       "        vertical-align: top;\n",
       "    }\n",
       "</style>\n",
       "<table border=\"1\" class=\"dataframe\">\n",
       "  <thead>\n",
       "    <tr style=\"text-align: right;\">\n",
       "      <th></th>\n",
       "      <th>BasePay</th>\n",
       "      <th>OvertimePay</th>\n",
       "      <th>OtherPay</th>\n",
       "      <th>Benefits</th>\n",
       "      <th>TotalPay</th>\n",
       "      <th>TotalPayBenefits</th>\n",
       "      <th>Year</th>\n",
       "      <th>Agency</th>\n",
       "      <th>Status</th>\n",
       "    </tr>\n",
       "  </thead>\n",
       "  <tbody>\n",
       "    <tr>\n",
       "      <th>0</th>\n",
       "      <td>167411.18</td>\n",
       "      <td>0.00</td>\n",
       "      <td>400184.25</td>\n",
       "      <td>0.00</td>\n",
       "      <td>567595.43</td>\n",
       "      <td>567595.43</td>\n",
       "      <td>2011</td>\n",
       "      <td>San Francisco</td>\n",
       "      <td>NaN</td>\n",
       "    </tr>\n",
       "    <tr>\n",
       "      <th>1</th>\n",
       "      <td>155966.02</td>\n",
       "      <td>245131.88</td>\n",
       "      <td>137811.38</td>\n",
       "      <td>0.00</td>\n",
       "      <td>538909.28</td>\n",
       "      <td>538909.28</td>\n",
       "      <td>2011</td>\n",
       "      <td>San Francisco</td>\n",
       "      <td>NaN</td>\n",
       "    </tr>\n",
       "    <tr>\n",
       "      <th>110531</th>\n",
       "      <td>129150.01</td>\n",
       "      <td>0.00</td>\n",
       "      <td>342802.63</td>\n",
       "      <td>38780.04</td>\n",
       "      <td>471952.64</td>\n",
       "      <td>510732.68</td>\n",
       "      <td>2014</td>\n",
       "      <td>San Francisco</td>\n",
       "      <td>PT</td>\n",
       "    </tr>\n",
       "    <tr>\n",
       "      <th>110532</th>\n",
       "      <td>318835.49</td>\n",
       "      <td>10712.95</td>\n",
       "      <td>60563.54</td>\n",
       "      <td>89540.23</td>\n",
       "      <td>390111.98</td>\n",
       "      <td>479652.21</td>\n",
       "      <td>2014</td>\n",
       "      <td>San Francisco</td>\n",
       "      <td>FT</td>\n",
       "    </tr>\n",
       "    <tr>\n",
       "      <th>36159</th>\n",
       "      <td>128808.87</td>\n",
       "      <td>220909.48</td>\n",
       "      <td>13126.31</td>\n",
       "      <td>44430.12</td>\n",
       "      <td>362844.66</td>\n",
       "      <td>407274.78</td>\n",
       "      <td>2012</td>\n",
       "      <td>San Francisco</td>\n",
       "      <td>NaN</td>\n",
       "    </tr>\n",
       "  </tbody>\n",
       "</table>\n",
       "</div>"
      ],
      "text/plain": [
       "          BasePay  OvertimePay   OtherPay  Benefits   TotalPay  \\\n",
       "0       167411.18         0.00  400184.25      0.00  567595.43   \n",
       "1       155966.02    245131.88  137811.38      0.00  538909.28   \n",
       "110531  129150.01         0.00  342802.63  38780.04  471952.64   \n",
       "110532  318835.49     10712.95   60563.54  89540.23  390111.98   \n",
       "36159   128808.87    220909.48   13126.31  44430.12  362844.66   \n",
       "\n",
       "        TotalPayBenefits  Year         Agency Status  \n",
       "0              567595.43  2011  San Francisco    NaN  \n",
       "1              538909.28  2011  San Francisco    NaN  \n",
       "110531         510732.68  2014  San Francisco     PT  \n",
       "110532         479652.21  2014  San Francisco     FT  \n",
       "36159          407274.78  2012  San Francisco    NaN  "
      ]
     },
     "execution_count": 19,
     "metadata": {},
     "output_type": "execute_result"
    }
   ],
   "source": [
    "dfd_salaries.sort_values('TotalPay',axis=0, ascending=False).head(5)"
   ]
  },
  {
   "cell_type": "code",
   "execution_count": 20,
   "metadata": {},
   "outputs": [
    {
     "data": {
      "text/html": [
       "<div>\n",
       "<style>\n",
       "    .dataframe thead tr:only-child th {\n",
       "        text-align: right;\n",
       "    }\n",
       "\n",
       "    .dataframe thead th {\n",
       "        text-align: left;\n",
       "    }\n",
       "\n",
       "    .dataframe tbody tr th {\n",
       "        vertical-align: top;\n",
       "    }\n",
       "</style>\n",
       "<table border=\"1\" class=\"dataframe\">\n",
       "  <thead>\n",
       "    <tr style=\"text-align: right;\">\n",
       "      <th></th>\n",
       "      <th>BasePay</th>\n",
       "      <th>OvertimePay</th>\n",
       "      <th>OtherPay</th>\n",
       "      <th>Benefits</th>\n",
       "      <th>TotalPay</th>\n",
       "      <th>TotalPayBenefits</th>\n",
       "      <th>Year</th>\n",
       "      <th>Agency</th>\n",
       "      <th>Status</th>\n",
       "    </tr>\n",
       "  </thead>\n",
       "  <tbody>\n",
       "    <tr>\n",
       "      <th>0</th>\n",
       "      <td>167411.18</td>\n",
       "      <td>0.00</td>\n",
       "      <td>400184.25</td>\n",
       "      <td>0.00</td>\n",
       "      <td>567595.43</td>\n",
       "      <td>567595.43</td>\n",
       "      <td>2011</td>\n",
       "      <td>San Francisco</td>\n",
       "      <td>NaN</td>\n",
       "    </tr>\n",
       "    <tr>\n",
       "      <th>1</th>\n",
       "      <td>155966.02</td>\n",
       "      <td>245131.88</td>\n",
       "      <td>137811.38</td>\n",
       "      <td>0.00</td>\n",
       "      <td>538909.28</td>\n",
       "      <td>538909.28</td>\n",
       "      <td>2011</td>\n",
       "      <td>San Francisco</td>\n",
       "      <td>NaN</td>\n",
       "    </tr>\n",
       "    <tr>\n",
       "      <th>110531</th>\n",
       "      <td>129150.01</td>\n",
       "      <td>0.00</td>\n",
       "      <td>342802.63</td>\n",
       "      <td>38780.04</td>\n",
       "      <td>471952.64</td>\n",
       "      <td>510732.68</td>\n",
       "      <td>2014</td>\n",
       "      <td>San Francisco</td>\n",
       "      <td>PT</td>\n",
       "    </tr>\n",
       "    <tr>\n",
       "      <th>110532</th>\n",
       "      <td>318835.49</td>\n",
       "      <td>10712.95</td>\n",
       "      <td>60563.54</td>\n",
       "      <td>89540.23</td>\n",
       "      <td>390111.98</td>\n",
       "      <td>479652.21</td>\n",
       "      <td>2014</td>\n",
       "      <td>San Francisco</td>\n",
       "      <td>FT</td>\n",
       "    </tr>\n",
       "    <tr>\n",
       "      <th>110533</th>\n",
       "      <td>257340.00</td>\n",
       "      <td>0.00</td>\n",
       "      <td>82313.70</td>\n",
       "      <td>96570.66</td>\n",
       "      <td>339653.70</td>\n",
       "      <td>436224.36</td>\n",
       "      <td>2014</td>\n",
       "      <td>San Francisco</td>\n",
       "      <td>PT</td>\n",
       "    </tr>\n",
       "  </tbody>\n",
       "</table>\n",
       "</div>"
      ],
      "text/plain": [
       "          BasePay  OvertimePay   OtherPay  Benefits   TotalPay  \\\n",
       "0       167411.18         0.00  400184.25      0.00  567595.43   \n",
       "1       155966.02    245131.88  137811.38      0.00  538909.28   \n",
       "110531  129150.01         0.00  342802.63  38780.04  471952.64   \n",
       "110532  318835.49     10712.95   60563.54  89540.23  390111.98   \n",
       "110533  257340.00         0.00   82313.70  96570.66  339653.70   \n",
       "\n",
       "        TotalPayBenefits  Year         Agency Status  \n",
       "0              567595.43  2011  San Francisco    NaN  \n",
       "1              538909.28  2011  San Francisco    NaN  \n",
       "110531         510732.68  2014  San Francisco     PT  \n",
       "110532         479652.21  2014  San Francisco     FT  \n",
       "110533         436224.36  2014  San Francisco     PT  "
      ]
     },
     "execution_count": 20,
     "metadata": {},
     "output_type": "execute_result"
    }
   ],
   "source": [
    "dfd_salaries.sort_values('TotalPayBenefits',axis=0, ascending=False).head(5)"
   ]
  },
  {
   "cell_type": "code",
   "execution_count": 21,
   "metadata": {
    "collapsed": true
   },
   "outputs": [],
   "source": [
    "# Does the BasePay has positive relationship with Benefits?"
   ]
  },
  {
   "cell_type": "code",
   "execution_count": null,
   "metadata": {
    "collapsed": true
   },
   "outputs": [],
   "source": []
  },
  {
   "cell_type": "code",
   "execution_count": 22,
   "metadata": {},
   "outputs": [
    {
     "data": {
      "text/plain": [
       "Year\n",
       "2011     71744.103871\n",
       "2012    100553.229232\n",
       "2013    101440.519714\n",
       "2014    100250.918884\n",
       "Name: TotalPayBenefits, dtype: float64"
      ]
     },
     "execution_count": 22,
     "metadata": {},
     "output_type": "execute_result"
    }
   ],
   "source": [
    "# The average paid(TotalPayBenefits) of all employees per year \n",
    "df_salaries.groupby('Year').mean()['TotalPayBenefits']"
   ]
  },
  {
   "cell_type": "code",
   "execution_count": 23,
   "metadata": {},
   "outputs": [
    {
     "data": {
      "image/png": "[encoded data removed]",
      "text/plain": [
       "<matplotlib.figure.Figure at 0x10bd4c88>"
      ]
     },
     "metadata": {},
     "output_type": "display_data"
    },
    {
     "data": {
      "image/png": "[encoded data removed]",
      "text/plain": [
       "<matplotlib.figure.Figure at 0x12239ef0>"
      ]
     },
     "metadata": {},
     "output_type": "display_data"
    }
   ],
   "source": [
    "# BoxPlot Data\n",
    "y2011 = df_salaries.loc[df_salaries['Year'] == 2011] \n",
    "y2012 = df_salaries.loc[df_salaries['Year'] == 2012] \n",
    "y2013 = df_salaries.loc[df_salaries['Year'] == 2013] \n",
    "y2014 = df_salaries.loc[df_salaries['Year'] == 2014]\n",
    "\n",
    "plt.figure(figsize=(10,5))\n",
    "plt.boxplot([y2011.TotalPay, y2012.TotalPay, y2013.TotalPay, y2014.TotalPay])\n",
    "plt.ylim(0,200000) #limit of y\n",
    "plt.title('TotalPay - Boxplot')\n",
    "plt.xticks([1,2,3,4],['2011','2012','2013','2014'])\n",
    "plt.tight_layout()\n",
    "\n",
    "plt.figure(figsize=(10,5))\n",
    "plt.boxplot([y2011.TotalPayBenefits, y2012.TotalPayBenefits, y2013.TotalPayBenefits, y2014.TotalPayBenefits])\n",
    "plt.ylim(0,200000) #limit of y\n",
    "plt.title('TotalPayBenefits - Boxplot')\n",
    "plt.xticks([1,2,3,4],['2011','2012','2013','2014'])\n",
    "plt.tight_layout()"
   ]
  },
  {
   "cell_type": "code",
   "execution_count": 24,
   "metadata": {
    "scrolled": false
   },
   "outputs": [
    {
     "data": {
      "text/plain": [
       "<matplotlib.axes._subplots.AxesSubplot at 0xba0e1d0>"
      ]
     },
     "execution_count": 24,
     "metadata": {},
     "output_type": "execute_result"
    },
    {
     "data": {
      "image/png": "[encoded data removed]",
      "text/plain": [
       "<matplotlib.figure.Figure at 0xc5cc128>"
      ]
     },
     "metadata": {},
     "output_type": "display_data"
    },
    {
     "data": {
      "image/png": "[encoded data removed]",
      "text/plain": [
       "<matplotlib.figure.Figure at 0x114d4470>"
      ]
     },
     "metadata": {},
     "output_type": "display_data"
    }
   ],
   "source": [
    "plotTableMean = df_salaries[[\"Year\", \"BasePay\", \"TotalPay\", \"TotalPayBenefits\"]].groupby(\"Year\").mean()\n",
    "plotTableMean.plot(kind=\"bar\", title = \"Mean\")\n",
    "plotTableMedian = df_salaries[[\"Year\", \"BasePay\", \"TotalPay\", \"TotalPayBenefits\"]].groupby(\"Year\").median()\n",
    "plotTableMedian.plot(kind=\"bar\", title = \"Median\")"
   ]
  },
  {
   "cell_type": "code",
   "execution_count": 25,
   "metadata": {
    "collapsed": true
   },
   "outputs": [],
   "source": [
    "# After 2011, the Benefits increase into a new level."
   ]
  },
  {
   "cell_type": "code",
   "execution_count": 26,
   "metadata": {},
   "outputs": [
    {
     "data": {
      "text/plain": [
       "1637"
      ]
     },
     "execution_count": 26,
     "metadata": {},
     "output_type": "execute_result"
    }
   ],
   "source": [
    "# How many job titles\n",
    "df_salaries['JobTitle'].nunique()"
   ]
  },
  {
   "cell_type": "code",
   "execution_count": 27,
   "metadata": {},
   "outputs": [
    {
     "data": {
      "text/plain": [
       "transit operator                                  9424\n",
       "special nurse                                     5791\n",
       "registered nurse                                  4955\n",
       "custodian                                         3214\n",
       "firefighter                                       3153\n",
       "recreation leader                                 2663\n",
       "deputy sheriff                                    2618\n",
       "public svc aide-public works                      2518\n",
       "police officer 3                                  2421\n",
       "patient care assistant                            1945\n",
       "                                                  ... \n",
       "assistant director, juvenile hall                    1\n",
       "public safety comm tech                              1\n",
       "secretary,juvenile probation commission              1\n",
       "chief of department, (fire department)               1\n",
       "asst dir clinical svcs 2                             1\n",
       "electric motor repair supervisor i                   1\n",
       "automotive body and fender worker supervisor i       1\n",
       "is trainer - senior                                  1\n",
       "chief victim/witness investigator                    1\n",
       "senior operations manager                            1\n",
       "Name: JobTitle, Length: 1637, dtype: int64"
      ]
     },
     "execution_count": 27,
     "metadata": {},
     "output_type": "execute_result"
    }
   ],
   "source": [
    "# How many people in each job title\n",
    "df_salaries.JobTitle.value_counts()"
   ]
  },
  {
   "cell_type": "code",
   "execution_count": 28,
   "metadata": {
    "collapsed": true
   },
   "outputs": [],
   "source": [
    "import seaborn as sns\n",
    "\n",
    "def find_job_title(row):\n",
    "    \n",
    "    police_title = ['police', 'sherif', 'probation', 'sergeant', 'officer', 'lieutenant']\n",
    "    fire_title = ['fire']\n",
    "    transit_title = ['mta', 'transit']\n",
    "    medical_title = ['anesth', 'medical', 'nurs', 'health', 'physician', 'orthopedic', 'pharm', 'care']\n",
    "    court_title = ['court', 'legal']\n",
    "    automotive_title = ['automotive', 'mechanic', 'truck']\n",
    "    engineer_title = ['engineer', 'engr', 'eng', 'program']\n",
    "    general_laborer_title = ['general laborer', 'painter', 'inspector', 'carpenter', \n",
    "                             'electrician', 'plumber', 'maintenance']\n",
    "    aide_title = ['aide', 'assistant', 'secretary', 'attendant']\n",
    "    \n",
    "    for police in police_title:\n",
    "        if police in row.lower():\n",
    "            return 'police'    \n",
    "    for fire in fire_title:\n",
    "        if fire in row.lower():\n",
    "            return 'fire'\n",
    "    for aide in aide_title:\n",
    "        if aide in row.lower():\n",
    "            return 'assistant'\n",
    "    for transit in transit_title:\n",
    "        if transit in row.lower():\n",
    "            return 'transit'\n",
    "    for medical in medical_title:\n",
    "        if medical in row.lower():\n",
    "            return 'medical'\n",
    "    if 'airport' in row.lower():\n",
    "        return 'airport'\n",
    "    if 'worker' in row.lower():\n",
    "        return 'social worker'\n",
    "    if 'architect' in row.lower():\n",
    "        return 'architect'\n",
    "    for court in court_title:\n",
    "        if court in row.lower():\n",
    "            return 'court'\n",
    "    if 'major' in row.lower():\n",
    "        return 'mayor'\n",
    "    if 'librar' in row.lower():\n",
    "        return 'library'\n",
    "    if 'guard' in row.lower():\n",
    "        return 'guard'\n",
    "    if 'public' in row.lower():\n",
    "        return 'public works'\n",
    "    if 'attorney' in row.lower():\n",
    "        return 'attorney'\n",
    "    if 'custodian' in row.lower():\n",
    "        return 'custodian'\n",
    "    if 'account' in row.lower():\n",
    "        return 'account'\n",
    "    if 'garden' in row.lower():\n",
    "        return 'gardener'\n",
    "    if 'recreation' in row.lower():\n",
    "        return 'recreation leader'\n",
    "    for automotive in automotive_title:\n",
    "        if automotive in row.lower():\n",
    "            return 'automotive'\n",
    "    for engineer in engineer_title:\n",
    "        if engineer in row.lower():\n",
    "            return 'engineer'\n",
    "    for general_laborer in general_laborer_title:\n",
    "        if general_laborer in row.lower():\n",
    "            return 'general laborer'\n",
    "    if 'food serv' in row.lower():\n",
    "        return 'food service'\n",
    "    if 'clerk' in row.lower():\n",
    "        return 'clerk'\n",
    "    if 'porter' in row.lower():\n",
    "        return 'porter' \n",
    "    if 'analy' in row.lower():\n",
    "        return 'analyst'\n",
    "    if 'manager' in row.lower():\n",
    "        return 'manager'\n",
    "    else:\n",
    "        return 'other'\n",
    "    \n",
    "df_salaries['CombJobTitle'] = df_salaries['JobTitle'].map(find_job_title)"
   ]
  },
  {
   "cell_type": "code",
   "execution_count": 29,
   "metadata": {
    "scrolled": true
   },
   "outputs": [
    {
     "data": {
      "image/png": "[encoded data removed]",
      "text/plain": [
       "<matplotlib.figure.Figure at 0x12239668>"
      ]
     },
     "metadata": {},
     "output_type": "display_data"
    }
   ],
   "source": [
    "#Plot Counts of Job Title, Expand on this to add more subsets if desired as Other Title is still pretty high\n",
    "plt.figure(figsize=(16,5))\n",
    "sns.countplot('CombJobTitle', data = df_salaries)\n",
    "plt.xticks(rotation = 45)\n",
    "plt.tight_layout()"
   ]
  },
  {
   "cell_type": "code",
   "execution_count": 30,
   "metadata": {
    "scrolled": true
   },
   "outputs": [
    {
     "data": {
      "text/plain": [
       "medical              19496\n",
       "other                18847\n",
       "police               17622\n",
       "assistant            14540\n",
       "transit              12469\n",
       "social worker         7784\n",
       "engineer              7667\n",
       "clerk                 6627\n",
       "general laborer       6466\n",
       "fire                  5129\n",
       "analyst               4336\n",
       "manager               3258\n",
       "custodian             3214\n",
       "recreation leader     3077\n",
       "public works          2460\n",
       "account               2207\n",
       "guard                 2193\n",
       "library               2127\n",
       "automotive            1878\n",
       "court                 1762\n",
       "Name: CombJobTitle, dtype: int64"
      ]
     },
     "execution_count": 30,
     "metadata": {},
     "output_type": "execute_result"
    }
   ],
   "source": [
    "# How many people in each CombTobTitle, shown top 20\n",
    "# df_salaries.CombJobTitle.value_counts().head(20)"
   ]
  },
  {
   "cell_type": "code",
   "execution_count": null,
   "metadata": {
    "scrolled": false
   },
   "outputs": [
    {
     "data": {
      "image/png": "[encoded data removed]",
      "text/plain": [
       "<matplotlib.figure.Figure at 0x12322d68>"
      ]
     },
     "metadata": {},
     "output_type": "display_data"
    }
   ],
   "source": [
    "plt.figure(figsize=(16,5))\n",
    "sns.countplot('CombJobTitle', data = df_salaries, hue = 'Year')\n",
    "plt.xticks(rotation = 45)\n",
    "plt.tight_layout()"
   ]
  },
  {
   "cell_type": "code",
   "execution_count": null,
   "metadata": {},
   "outputs": [],
   "source": [
    "plt.figure(figsize=(16,5))\n",
    "sns.countplot('TotalPayBenefits', data = df_salaries, hue = 'Year')\n",
    "plt.xticks(rotation = 45)\n",
    "plt.tight_layout()"
   ]
  },
  {
   "cell_type": "code",
   "execution_count": null,
   "metadata": {
    "collapsed": true
   },
   "outputs": [],
   "source": [
    "# df_CombJobTitle_2011 = df_salaries.CombJobTitle.loc[df_salaries['Year'] == 2011].value_counts().head(50)\n",
    "# df_CombJobTitle_2011 =pd.DataFrame(df_CombJobTitle_2011)\n",
    "# df_CombJobTitle_2011.columns =['2011']\n",
    "# df_CombJobTitle_2012 = df_salaries.CombJobTitle.loc[df_salaries['Year'] == 2012].value_counts().head(50)\n",
    "# df_CombJobTitle_2012 =pd.DataFrame(df_CombJobTitle_2012)\n",
    "# df_CombJobTitle_2012.columns =['2012']\n",
    "# df_CombJobTitle_2013 = df_salaries.CombJobTitle.loc[df_salaries['Year'] == 2013].value_counts().head(50)\n",
    "# df_CombJobTitle_2013 =pd.DataFrame(df_CombJobTitle_2013)\n",
    "# df_CombJobTitle_2013.columns =['2013']\n",
    "# df_CombJobTitle_2014 = df_salaries.CombJobTitle.loc[df_salaries['Year'] == 2014].value_counts().head(50)\n",
    "# df_CombJobTitle_2014 =pd.DataFrame(df_CombJobTitle_2014)\n",
    "# df_CombJobTitle_2014.columns =['2014']"
   ]
  },
  {
   "cell_type": "code",
   "execution_count": null,
   "metadata": {
    "collapsed": true
   },
   "outputs": [],
   "source": [
    "# I am trying to make a table include each of the CombJobTitle, Sal_2011, Sal_2012, Sal_2013, Sal_2014. Then, graph it into lines"
   ]
  },
  {
   "cell_type": "code",
   "execution_count": null,
   "metadata": {
    "collapsed": true
   },
   "outputs": [],
   "source": [
    "plt.figure(figsize=(16,5))\n",
    "sns.countplot('CombJobTitle', data = df_salaries, hue = 'Status')\n",
    "plt.xticks(rotation = 45)\n",
    "plt.tight_layout()"
   ]
  },
  {
   "cell_type": "code",
   "execution_count": null,
   "metadata": {
    "collapsed": true
   },
   "outputs": [],
   "source": [
    "plt.figure(figsize=(16,5))\n",
    "sns.countplot('Status', data = df_salaries, hue = 'Year')\n",
    "plt.xticks(rotation = 45)\n",
    "plt.tight_layout()"
   ]
  },
  {
   "cell_type": "code",
   "execution_count": null,
   "metadata": {
    "collapsed": true
   },
   "outputs": [],
   "source": [
    "df_salaries.Status.count()"
   ]
  },
  {
   "cell_type": "code",
   "execution_count": null,
   "metadata": {
    "collapsed": true
   },
   "outputs": [],
   "source": [
    "df_salaries.Status.isnull().sum()"
   ]
  },
  {
   "cell_type": "markdown",
   "metadata": {},
   "source": [
    "## Project Design Writeup"
   ]
  },
  {
   "cell_type": "markdown",
   "metadata": {},
   "source": [
    "### Requirements:\n",
    "\n",
    "Well-articulated problem statement with \"specific aim\" and hypothesis, based on your lightning talk.\n",
    "An outline of any potential methods and models.\n",
    "Detailed explanation of the available data. (i.e., build a data dictionary or link to pre-built data dictionaries)\n",
    "Describe any outstanding questions, assumptions, risks, and caveats.\n",
    "Demonstrate domain knowledge, including specific features or relevant benchmarks from similar projects.\n",
    "Define your goals and criteria, in order to explain what success looks like."
   ]
  },
  {
   "cell_type": "markdown",
   "metadata": {},
   "source": [
    "Below is a guide to help you complete the project design writeup. The questions for each section are merely there to suggest what the baseline should cover; be sure to use detail as it will make the project much easier to approach as the class moves on."
   ]
  },
  {
   "cell_type": "markdown",
   "metadata": {},
   "source": [
    "### Project Problem and Hypothesis\n",
    "\n",
    "1. What's the project about? What problem are you solving?\n",
    "\n",
    "2. Where does this seem to reside as a machine learning problem? Are you predicting some continuous number, or predicting a binary value?\n",
    "\n",
    "3. What kind of impact do you think it could have?\n",
    "\n",
    "4. What do you think will have the most impact in predicting the value you are interested in solving for?"
   ]
  },
  {
   "cell_type": "markdown",
   "metadata": {},
   "source": [
    "1. The project is about how salaries grow during years.\n",
    "\n",
    "2. I am trying to predict 1. the Salaries rise for the future years, and 2. the population increase for each of the Job title. \n",
    "\n",
    "3. I think the year is positive correlate with the Salaries and the population of each of the Job Title. \n",
    "\n",
    "4. I am trying to find out the top 20 job that increases the salaries the most and how much are increases for each job."
   ]
  },
  {
   "cell_type": "markdown",
   "metadata": {},
   "source": [
    "### Datasets\n",
    "\n",
    "Description of data set available, at the field level.\n",
    "\n"
   ]
  },
  {
   "cell_type": "markdown",
   "metadata": {},
   "source": [
    "The dataset is from import kaggle.com\n",
    "\n",
    "https://www.kaggle.com/kaggle/sf-salaries\n",
    "\n",
    "One way to understand how a city government works is by looking at who it employs and how its employees are compensated. This data contains the names, job title, and compensation for San Francisco city employees on an annual basis from 2011 to 2014."
   ]
  },
  {
   "cell_type": "code",
   "execution_count": null,
   "metadata": {
    "collapsed": true
   },
   "outputs": [],
   "source": [
    "df_salaries.columns"
   ]
  },
  {
   "cell_type": "code",
   "execution_count": null,
   "metadata": {
    "collapsed": true
   },
   "outputs": [],
   "source": [
    "df_salaries.head()"
   ]
  },
  {
   "cell_type": "code",
   "execution_count": null,
   "metadata": {
    "collapsed": true
   },
   "outputs": [],
   "source": [
    "df_salaries.describe()"
   ]
  },
  {
   "cell_type": "markdown",
   "metadata": {},
   "source": [
    "### Domain knowledge\n",
    "\n",
    "1. What experience do you already have around this area?\n",
    "\n",
    "2. Does it relate or help inform the project in any way?\n",
    "\n",
    "3. What other research efforts exist?\n",
    "\n",
    "4. Use a quick Google search to see what approaches others have made, or talk with your colleagues if it is work related about previous attempts at similar problems.\n",
    "\n",
    "5. This could even just be something like \"the marketing team put together a forecast in excel that doesn't do well.\"\n",
    "\n",
    "6. Include a benchmark, how other models have performed, even if you are unsure what the metric means."
   ]
  },
  {
   "cell_type": "markdown",
   "metadata": {},
   "source": [
    "1. I am learning a lot on the data exploration. I am learning the scripting from other study and rewrite the script into my study.\n",
    "\n",
    "2. I found there are a lot of study on the same dataset. Some of them are related to what I am trying to study in this project.\n",
    "\n",
    "3.   \n",
    "\n",
    "4. Google search is helpful. It's easy to find the scripting that I am trying to use. Also, there are many good studies are shared by other people on Kaggle.com."
   ]
  },
  {
   "cell_type": "markdown",
   "metadata": {},
   "source": [
    "### Project Concerns\n",
    "\n",
    "What questions do you have about your project? What are you not sure you quite yet understand? (The more honest you are about this, the easier your instructors can help)\n",
    "\n",
    "What are the assumptions and caveats to the problem?\n",
    "\n",
    "    What data do you not have access to but wish you had?\n",
    "\n",
    "    What is already implied about the observations in your data set? For example, if your primary data set is twitter data, it may not be representative of the whole sample. (say, predicting who would win an election)\n",
    "\n",
    "What are the risks to the project?\n",
    "\n",
    "    What's the cost of your model being wrong? (What's the benefit of your model being right?)\n",
    "\n",
    "    Is any of the data incorrect? Could it be incorrect?"
   ]
  },
  {
   "cell_type": "markdown",
   "metadata": {},
   "source": [
    "### Outcomes\n",
    "\n",
    "1. What do you expect the output to look like?\n",
    "\n",
    "2. What does your target audience expect the output to look like?\n",
    "\n",
    "3. What gain do you expect from your most important feature on its own?\n",
    "\n",
    "4. How complicated does your model have to be?\n",
    "\n",
    "5. How successful does your project have to be in order to be considered a \"success\"?\n",
    "\n",
    "6. What will you do if the project is a bust (this happens! but it shouldn't here)?"
   ]
  },
  {
   "cell_type": "markdown",
   "metadata": {},
   "source": []
  },
  {
   "cell_type": "code",
   "execution_count": null,
   "metadata": {},
   "outputs": [],
   "source": [
    "#Plot Counts of Job Title, Expand on this to add more subsets if desired as Other Title is still pretty high\n",
    "plt.figure(figsize=(16,5))\n",
    "sns.countplot('CombJobTitle', data = df_salaries)\n",
    "plt.xticks(rotation = 45)\n",
    "plt.tight_layout()"
   ]
  },
  {
   "cell_type": "code",
   "execution_count": null,
   "metadata": {
    "collapsed": true
   },
   "outputs": [],
   "source": []
  }
 ],
 "metadata": {
  "kernelspec": {
   "display_name": "Python 2",
   "language": "python",
   "name": "python2"
  },
  "language_info": {
   "codemirror_mode": {
    "name": "ipython",
    "version": 2
   },
   "file_extension": ".py",
   "mimetype": "text/x-python",
   "name": "python",
   "nbconvert_exporter": "python",
   "pygments_lexer": "ipython2",
   "version": "2.7.13"
  }
 },
 "nbformat": 4,
 "nbformat_minor": 2
}
