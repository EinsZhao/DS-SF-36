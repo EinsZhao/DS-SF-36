{
 "cells": [
  {
   "cell_type": "markdown",
   "metadata": {},
   "source": [
    "## English Premiere League (EPL) | Season 2017/18 | Which teams will finish top 3 ?"
   ]
  },
  {
   "cell_type": "code",
   "execution_count": 102,
   "metadata": {},
   "outputs": [],
   "source": [
    "import os\n",
    "\n",
    "import pandas as pd\n",
    "import numpy as np\n",
    "\n",
    "import matplotlib.pyplot as plt\n",
    "%matplotlib inline\n",
    "plt.style.use(\"fivethirtyeight\")\n",
    "\n",
    "\n",
    "from sklearn.cross_validation import train_test_split, cross_val_score\n",
    "from sklearn.metrics import accuracy_score, precision_score, recall_score, confusion_matrix, classification_report, roc_auc_score, roc_curve\n",
    "from sklearn.linear_model import LogisticRegression, LinearRegression\n",
    "from sklearn.datasets import make_classification\n",
    "\n",
    "from sklearn.feature_selection import RFE"
   ]
  },
  {
   "cell_type": "code",
   "execution_count": 103,
   "metadata": {
    "collapsed": true
   },
   "outputs": [],
   "source": [
    "df = pd.read_csv(os.path.join('..', 'dataset', 'epl-predict-dataset-01'))"
   ]
  },
  {
   "cell_type": "code",
   "execution_count": 104,
   "metadata": {},
   "outputs": [
    {
     "data": {
      "text/html": [
       "<div>\n",
       "<style>\n",
       "    .dataframe thead tr:only-child th {\n",
       "        text-align: right;\n",
       "    }\n",
       "\n",
       "    .dataframe thead th {\n",
       "        text-align: left;\n",
       "    }\n",
       "\n",
       "    .dataframe tbody tr th {\n",
       "        vertical-align: top;\n",
       "    }\n",
       "</style>\n",
       "<table border=\"1\" class=\"dataframe\">\n",
       "  <thead>\n",
       "    <tr style=\"text-align: right;\">\n",
       "      <th></th>\n",
       "      <th>Unnamed: 0</th>\n",
       "      <th>id</th>\n",
       "      <th>team_fifa_api_id</th>\n",
       "      <th>date</th>\n",
       "      <th>buildUpPlaySpeed</th>\n",
       "      <th>buildUpPlaySpeedClass</th>\n",
       "      <th>buildUpPlayDribblingClass</th>\n",
       "      <th>buildUpPlayPassing</th>\n",
       "      <th>buildUpPlayPassingClass</th>\n",
       "      <th>buildUpPlayPositioningClass</th>\n",
       "      <th>...</th>\n",
       "      <th>chanceCreationPositioningClass</th>\n",
       "      <th>defencePressure</th>\n",
       "      <th>defencePressureClass</th>\n",
       "      <th>defenceAggression</th>\n",
       "      <th>defenceAggressionClass</th>\n",
       "      <th>defenceTeamWidth</th>\n",
       "      <th>defenceTeamWidthClass</th>\n",
       "      <th>defenceDefenderLineClass</th>\n",
       "      <th>team_name</th>\n",
       "      <th>qualify</th>\n",
       "    </tr>\n",
       "  </thead>\n",
       "  <tbody>\n",
       "    <tr>\n",
       "      <th>0</th>\n",
       "      <td>70</td>\n",
       "      <td>71</td>\n",
       "      <td>1</td>\n",
       "      <td>2010-02-22</td>\n",
       "      <td>66</td>\n",
       "      <td>2</td>\n",
       "      <td>1</td>\n",
       "      <td>30</td>\n",
       "      <td>1</td>\n",
       "      <td>2</td>\n",
       "      <td>...</td>\n",
       "      <td>2</td>\n",
       "      <td>30</td>\n",
       "      <td>1</td>\n",
       "      <td>40</td>\n",
       "      <td>1</td>\n",
       "      <td>50</td>\n",
       "      <td>2</td>\n",
       "      <td>1</td>\n",
       "      <td>Arsenal</td>\n",
       "      <td>0</td>\n",
       "    </tr>\n",
       "    <tr>\n",
       "      <th>1</th>\n",
       "      <td>71</td>\n",
       "      <td>72</td>\n",
       "      <td>1</td>\n",
       "      <td>2011-02-22</td>\n",
       "      <td>75</td>\n",
       "      <td>1</td>\n",
       "      <td>1</td>\n",
       "      <td>40</td>\n",
       "      <td>2</td>\n",
       "      <td>2</td>\n",
       "      <td>...</td>\n",
       "      <td>2</td>\n",
       "      <td>50</td>\n",
       "      <td>2</td>\n",
       "      <td>40</td>\n",
       "      <td>1</td>\n",
       "      <td>45</td>\n",
       "      <td>2</td>\n",
       "      <td>1</td>\n",
       "      <td>Arsenal</td>\n",
       "      <td>1</td>\n",
       "    </tr>\n",
       "    <tr>\n",
       "      <th>2</th>\n",
       "      <td>72</td>\n",
       "      <td>73</td>\n",
       "      <td>1</td>\n",
       "      <td>2012-02-22</td>\n",
       "      <td>25</td>\n",
       "      <td>3</td>\n",
       "      <td>1</td>\n",
       "      <td>32</td>\n",
       "      <td>1</td>\n",
       "      <td>1</td>\n",
       "      <td>...</td>\n",
       "      <td>2</td>\n",
       "      <td>57</td>\n",
       "      <td>2</td>\n",
       "      <td>57</td>\n",
       "      <td>1</td>\n",
       "      <td>52</td>\n",
       "      <td>2</td>\n",
       "      <td>1</td>\n",
       "      <td>Arsenal</td>\n",
       "      <td>0</td>\n",
       "    </tr>\n",
       "    <tr>\n",
       "      <th>3</th>\n",
       "      <td>73</td>\n",
       "      <td>74</td>\n",
       "      <td>1</td>\n",
       "      <td>2013-09-20</td>\n",
       "      <td>30</td>\n",
       "      <td>3</td>\n",
       "      <td>1</td>\n",
       "      <td>29</td>\n",
       "      <td>1</td>\n",
       "      <td>1</td>\n",
       "      <td>...</td>\n",
       "      <td>2</td>\n",
       "      <td>64</td>\n",
       "      <td>2</td>\n",
       "      <td>54</td>\n",
       "      <td>1</td>\n",
       "      <td>52</td>\n",
       "      <td>2</td>\n",
       "      <td>1</td>\n",
       "      <td>Arsenal</td>\n",
       "      <td>0</td>\n",
       "    </tr>\n",
       "    <tr>\n",
       "      <th>4</th>\n",
       "      <td>74</td>\n",
       "      <td>75</td>\n",
       "      <td>1</td>\n",
       "      <td>2014-09-19</td>\n",
       "      <td>59</td>\n",
       "      <td>2</td>\n",
       "      <td>2</td>\n",
       "      <td>26</td>\n",
       "      <td>1</td>\n",
       "      <td>1</td>\n",
       "      <td>...</td>\n",
       "      <td>2</td>\n",
       "      <td>51</td>\n",
       "      <td>2</td>\n",
       "      <td>44</td>\n",
       "      <td>1</td>\n",
       "      <td>52</td>\n",
       "      <td>2</td>\n",
       "      <td>1</td>\n",
       "      <td>Arsenal</td>\n",
       "      <td>1</td>\n",
       "    </tr>\n",
       "  </tbody>\n",
       "</table>\n",
       "<p>5 rows × 26 columns</p>\n",
       "</div>"
      ],
      "text/plain": [
       "   Unnamed: 0  id  team_fifa_api_id        date  buildUpPlaySpeed  \\\n",
       "0          70  71                 1  2010-02-22                66   \n",
       "1          71  72                 1  2011-02-22                75   \n",
       "2          72  73                 1  2012-02-22                25   \n",
       "3          73  74                 1  2013-09-20                30   \n",
       "4          74  75                 1  2014-09-19                59   \n",
       "\n",
       "   buildUpPlaySpeedClass  buildUpPlayDribblingClass  buildUpPlayPassing  \\\n",
       "0                      2                          1                  30   \n",
       "1                      1                          1                  40   \n",
       "2                      3                          1                  32   \n",
       "3                      3                          1                  29   \n",
       "4                      2                          2                  26   \n",
       "\n",
       "   buildUpPlayPassingClass  buildUpPlayPositioningClass   ...     \\\n",
       "0                        1                            2   ...      \n",
       "1                        2                            2   ...      \n",
       "2                        1                            1   ...      \n",
       "3                        1                            1   ...      \n",
       "4                        1                            1   ...      \n",
       "\n",
       "   chanceCreationPositioningClass  defencePressure  defencePressureClass  \\\n",
       "0                               2               30                     1   \n",
       "1                               2               50                     2   \n",
       "2                               2               57                     2   \n",
       "3                               2               64                     2   \n",
       "4                               2               51                     2   \n",
       "\n",
       "   defenceAggression  defenceAggressionClass  defenceTeamWidth  \\\n",
       "0                 40                       1                50   \n",
       "1                 40                       1                45   \n",
       "2                 57                       1                52   \n",
       "3                 54                       1                52   \n",
       "4                 44                       1                52   \n",
       "\n",
       "   defenceTeamWidthClass  defenceDefenderLineClass  team_name  qualify  \n",
       "0                      2                         1    Arsenal        0  \n",
       "1                      2                         1    Arsenal        1  \n",
       "2                      2                         1    Arsenal        0  \n",
       "3                      2                         1    Arsenal        0  \n",
       "4                      2                         1    Arsenal        1  \n",
       "\n",
       "[5 rows x 26 columns]"
      ]
     },
     "execution_count": 104,
     "metadata": {},
     "output_type": "execute_result"
    }
   ],
   "source": [
    "df.head()"
   ]
  },
  {
   "cell_type": "code",
   "execution_count": 105,
   "metadata": {},
   "outputs": [
    {
     "data": {
      "text/plain": [
       "Index([u'Unnamed: 0', u'id', u'team_fifa_api_id', u'date', u'buildUpPlaySpeed',\n",
       "       u'buildUpPlaySpeedClass', u'buildUpPlayDribblingClass',\n",
       "       u'buildUpPlayPassing', u'buildUpPlayPassingClass',\n",
       "       u'buildUpPlayPositioningClass', u'chanceCreationPassing',\n",
       "       u'chanceCreationPassingClass', u'chanceCreationCrossing',\n",
       "       u'chanceCreationCrossingClass', u'chanceCreationShooting',\n",
       "       u'chanceCreationShootingClass', u'chanceCreationPositioningClass',\n",
       "       u'defencePressure', u'defencePressureClass', u'defenceAggression',\n",
       "       u'defenceAggressionClass', u'defenceTeamWidth',\n",
       "       u'defenceTeamWidthClass', u'defenceDefenderLineClass', u'team_name',\n",
       "       u'qualify'],\n",
       "      dtype='object')"
      ]
     },
     "execution_count": 105,
     "metadata": {},
     "output_type": "execute_result"
    }
   ],
   "source": [
    "df.columns"
   ]
  },
  {
   "cell_type": "code",
   "execution_count": 106,
   "metadata": {
    "collapsed": true
   },
   "outputs": [],
   "source": [
    "df.drop('Unnamed: 0',inplace=True, axis=1)"
   ]
  },
  {
   "cell_type": "markdown",
   "metadata": {},
   "source": [
    "Accuracy Score "
   ]
  },
  {
   "cell_type": "code",
   "execution_count": 185,
   "metadata": {},
   "outputs": [
    {
     "name": "stdout",
     "output_type": "stream",
     "text": [
      "The model produces an accuracy score of 89.17 percent\n"
     ]
    }
   ],
   "source": [
    "#Create X and y variables\n",
    "X = df.drop([\"qualify\",'team_name','date','id','team_fifa_api_id'], axis=1)\n",
    "y = df.qualify\n",
    "\n",
    "#Intialize, fit, and score the model\n",
    "lr = LogisticRegression()\n",
    "\n",
    "lr.fit(X,y)\n",
    "\n",
    "score = lr.score(X,y)\n",
    "\n",
    "print (\"The model produces an accuracy score of {:.2f} percent\".format(score*100))"
   ]
  },
  {
   "cell_type": "markdown",
   "metadata": {},
   "source": [
    "Null Accuracy ?"
   ]
  },
  {
   "cell_type": "code",
   "execution_count": 186,
   "metadata": {},
   "outputs": [
    {
     "data": {
      "text/plain": [
       "0    0.85\n",
       "1    0.15\n",
       "Name: qualify, dtype: float64"
      ]
     },
     "execution_count": 186,
     "metadata": {},
     "output_type": "execute_result"
    }
   ],
   "source": [
    "#Find the null accuracy \n",
    "y.value_counts(normalize=True)"
   ]
  },
  {
   "cell_type": "markdown",
   "metadata": {},
   "source": [
    "## Training and Test Set"
   ]
  },
  {
   "cell_type": "code",
   "execution_count": 187,
   "metadata": {},
   "outputs": [
    {
     "name": "stdout",
     "output_type": "stream",
     "text": [
      "The model accurately classified 87.50 percent of the testing data\n"
     ]
    }
   ],
   "source": [
    "#Step 1\n",
    "X_train, X_test, y_train, y_test = train_test_split(X, y, \n",
    "                                                    test_size=0.4,\n",
    "                                                    random_state=42)\n",
    "#Step 2\n",
    "lr = LogisticRegression()\n",
    "lr.fit(X_train, y_train)\n",
    "\n",
    "#Step 3\n",
    "preds = lr.predict(X_test)\n",
    "\n",
    "#Step 4\n",
    "testing_score = accuracy_score(y_test, preds)\n",
    "\n",
    "print (\"The model accurately classified {:.2f} percent of the testing data\".format(testing_score*100))"
   ]
  },
  {
   "cell_type": "code",
   "execution_count": 188,
   "metadata": {},
   "outputs": [
    {
     "name": "stdout",
     "output_type": "stream",
     "text": [
      "The cross validated accuracy score is 86.58 percent\n"
     ]
    }
   ],
   "source": [
    "#Use cross_val_score method to generate the average accuracy score for 5 CVs\n",
    "mean_cv_score = cross_val_score(LogisticRegression(), X,y, cv=5, scoring=\"accuracy\").mean()\n",
    "\n",
    "print (\"The cross validated accuracy score is {:.2f} percent\").format(mean_cv_score*100)"
   ]
  },
  {
   "cell_type": "markdown",
   "metadata": {},
   "source": [
    "## Feature Selection | Coefficients"
   ]
  },
  {
   "cell_type": "code",
   "execution_count": 196,
   "metadata": {
    "collapsed": true
   },
   "outputs": [],
   "source": [
    "X = df.drop([\"qualify\",'team_name','date','id', 'team_fifa_api_id'], axis=1)\n",
    "y = df.qualify\n",
    "lr = LogisticRegression()\n",
    "lr.fit(X,y);"
   ]
  },
  {
   "cell_type": "code",
   "execution_count": 197,
   "metadata": {},
   "outputs": [
    {
     "data": {
      "text/html": [
       "<div>\n",
       "<style>\n",
       "    .dataframe thead tr:only-child th {\n",
       "        text-align: right;\n",
       "    }\n",
       "\n",
       "    .dataframe thead th {\n",
       "        text-align: left;\n",
       "    }\n",
       "\n",
       "    .dataframe tbody tr th {\n",
       "        vertical-align: top;\n",
       "    }\n",
       "</style>\n",
       "<table border=\"1\" class=\"dataframe\">\n",
       "  <thead>\n",
       "    <tr style=\"text-align: right;\">\n",
       "      <th></th>\n",
       "      <th>coef</th>\n",
       "      <th>value</th>\n",
       "    </tr>\n",
       "  </thead>\n",
       "  <tbody>\n",
       "    <tr>\n",
       "      <th>0</th>\n",
       "      <td>buildUpPlaySpeed</td>\n",
       "      <td>0.002941</td>\n",
       "    </tr>\n",
       "    <tr>\n",
       "      <th>1</th>\n",
       "      <td>buildUpPlaySpeedClass</td>\n",
       "      <td>-0.917882</td>\n",
       "    </tr>\n",
       "    <tr>\n",
       "      <th>2</th>\n",
       "      <td>buildUpPlayDribblingClass</td>\n",
       "      <td>-0.198782</td>\n",
       "    </tr>\n",
       "    <tr>\n",
       "      <th>3</th>\n",
       "      <td>buildUpPlayPassing</td>\n",
       "      <td>-0.027742</td>\n",
       "    </tr>\n",
       "    <tr>\n",
       "      <th>4</th>\n",
       "      <td>buildUpPlayPassingClass</td>\n",
       "      <td>-0.283588</td>\n",
       "    </tr>\n",
       "    <tr>\n",
       "      <th>5</th>\n",
       "      <td>buildUpPlayPositioningClass</td>\n",
       "      <td>-0.055747</td>\n",
       "    </tr>\n",
       "    <tr>\n",
       "      <th>6</th>\n",
       "      <td>chanceCreationPassing</td>\n",
       "      <td>-0.032999</td>\n",
       "    </tr>\n",
       "    <tr>\n",
       "      <th>7</th>\n",
       "      <td>chanceCreationPassingClass</td>\n",
       "      <td>-0.721296</td>\n",
       "    </tr>\n",
       "    <tr>\n",
       "      <th>8</th>\n",
       "      <td>chanceCreationCrossing</td>\n",
       "      <td>-0.007130</td>\n",
       "    </tr>\n",
       "    <tr>\n",
       "      <th>9</th>\n",
       "      <td>chanceCreationCrossingClass</td>\n",
       "      <td>0.309687</td>\n",
       "    </tr>\n",
       "    <tr>\n",
       "      <th>10</th>\n",
       "      <td>chanceCreationShooting</td>\n",
       "      <td>0.065158</td>\n",
       "    </tr>\n",
       "    <tr>\n",
       "      <th>11</th>\n",
       "      <td>chanceCreationShootingClass</td>\n",
       "      <td>0.435501</td>\n",
       "    </tr>\n",
       "    <tr>\n",
       "      <th>12</th>\n",
       "      <td>chanceCreationPositioningClass</td>\n",
       "      <td>1.030721</td>\n",
       "    </tr>\n",
       "    <tr>\n",
       "      <th>13</th>\n",
       "      <td>defencePressure</td>\n",
       "      <td>0.074447</td>\n",
       "    </tr>\n",
       "    <tr>\n",
       "      <th>14</th>\n",
       "      <td>defencePressureClass</td>\n",
       "      <td>-0.126427</td>\n",
       "    </tr>\n",
       "    <tr>\n",
       "      <th>15</th>\n",
       "      <td>defenceAggression</td>\n",
       "      <td>-0.030333</td>\n",
       "    </tr>\n",
       "    <tr>\n",
       "      <th>16</th>\n",
       "      <td>defenceAggressionClass</td>\n",
       "      <td>-0.623186</td>\n",
       "    </tr>\n",
       "    <tr>\n",
       "      <th>17</th>\n",
       "      <td>defenceTeamWidth</td>\n",
       "      <td>-0.032189</td>\n",
       "    </tr>\n",
       "    <tr>\n",
       "      <th>18</th>\n",
       "      <td>defenceTeamWidthClass</td>\n",
       "      <td>-0.199216</td>\n",
       "    </tr>\n",
       "    <tr>\n",
       "      <th>19</th>\n",
       "      <td>defenceDefenderLineClass</td>\n",
       "      <td>-0.059362</td>\n",
       "    </tr>\n",
       "  </tbody>\n",
       "</table>\n",
       "</div>"
      ],
      "text/plain": [
       "                              coef     value\n",
       "0                 buildUpPlaySpeed  0.002941\n",
       "1            buildUpPlaySpeedClass -0.917882\n",
       "2        buildUpPlayDribblingClass -0.198782\n",
       "3               buildUpPlayPassing -0.027742\n",
       "4          buildUpPlayPassingClass -0.283588\n",
       "5      buildUpPlayPositioningClass -0.055747\n",
       "6            chanceCreationPassing -0.032999\n",
       "7       chanceCreationPassingClass -0.721296\n",
       "8           chanceCreationCrossing -0.007130\n",
       "9      chanceCreationCrossingClass  0.309687\n",
       "10          chanceCreationShooting  0.065158\n",
       "11     chanceCreationShootingClass  0.435501\n",
       "12  chanceCreationPositioningClass  1.030721\n",
       "13                 defencePressure  0.074447\n",
       "14            defencePressureClass -0.126427\n",
       "15               defenceAggression -0.030333\n",
       "16          defenceAggressionClass -0.623186\n",
       "17                defenceTeamWidth -0.032189\n",
       "18           defenceTeamWidthClass -0.199216\n",
       "19        defenceDefenderLineClass -0.059362"
      ]
     },
     "execution_count": 197,
     "metadata": {},
     "output_type": "execute_result"
    }
   ],
   "source": [
    "#Table of coefficients and their values\n",
    "coef = pd.DataFrame(zip(X.columns, np.transpose(lr.coef_[0])), columns=[\"coef\", \"value\"])\n",
    "coef"
   ]
  },
  {
   "cell_type": "code",
   "execution_count": 198,
   "metadata": {},
   "outputs": [],
   "source": [
    "coef.value = coef.value.apply(lambda x: pd.to_numeric(x))"
   ]
  },
  {
   "cell_type": "code",
   "execution_count": 199,
   "metadata": {},
   "outputs": [],
   "source": [
    "coef.value = coef.value.round(2)"
   ]
  },
  {
   "cell_type": "code",
   "execution_count": 200,
   "metadata": {},
   "outputs": [
    {
     "data": {
      "text/html": [
       "<div>\n",
       "<style>\n",
       "    .dataframe thead tr:only-child th {\n",
       "        text-align: right;\n",
       "    }\n",
       "\n",
       "    .dataframe thead th {\n",
       "        text-align: left;\n",
       "    }\n",
       "\n",
       "    .dataframe tbody tr th {\n",
       "        vertical-align: top;\n",
       "    }\n",
       "</style>\n",
       "<table border=\"1\" class=\"dataframe\">\n",
       "  <thead>\n",
       "    <tr style=\"text-align: right;\">\n",
       "      <th></th>\n",
       "      <th>coef</th>\n",
       "      <th>value</th>\n",
       "    </tr>\n",
       "  </thead>\n",
       "  <tbody>\n",
       "    <tr>\n",
       "      <th>0</th>\n",
       "      <td>buildUpPlaySpeed</td>\n",
       "      <td>0.00</td>\n",
       "    </tr>\n",
       "    <tr>\n",
       "      <th>1</th>\n",
       "      <td>buildUpPlaySpeedClass</td>\n",
       "      <td>-0.92</td>\n",
       "    </tr>\n",
       "    <tr>\n",
       "      <th>2</th>\n",
       "      <td>buildUpPlayDribblingClass</td>\n",
       "      <td>-0.20</td>\n",
       "    </tr>\n",
       "    <tr>\n",
       "      <th>3</th>\n",
       "      <td>buildUpPlayPassing</td>\n",
       "      <td>-0.03</td>\n",
       "    </tr>\n",
       "    <tr>\n",
       "      <th>4</th>\n",
       "      <td>buildUpPlayPassingClass</td>\n",
       "      <td>-0.28</td>\n",
       "    </tr>\n",
       "    <tr>\n",
       "      <th>5</th>\n",
       "      <td>buildUpPlayPositioningClass</td>\n",
       "      <td>-0.06</td>\n",
       "    </tr>\n",
       "    <tr>\n",
       "      <th>6</th>\n",
       "      <td>chanceCreationPassing</td>\n",
       "      <td>-0.03</td>\n",
       "    </tr>\n",
       "    <tr>\n",
       "      <th>7</th>\n",
       "      <td>chanceCreationPassingClass</td>\n",
       "      <td>-0.72</td>\n",
       "    </tr>\n",
       "    <tr>\n",
       "      <th>8</th>\n",
       "      <td>chanceCreationCrossing</td>\n",
       "      <td>-0.01</td>\n",
       "    </tr>\n",
       "    <tr>\n",
       "      <th>9</th>\n",
       "      <td>chanceCreationCrossingClass</td>\n",
       "      <td>0.31</td>\n",
       "    </tr>\n",
       "    <tr>\n",
       "      <th>10</th>\n",
       "      <td>chanceCreationShooting</td>\n",
       "      <td>0.07</td>\n",
       "    </tr>\n",
       "    <tr>\n",
       "      <th>11</th>\n",
       "      <td>chanceCreationShootingClass</td>\n",
       "      <td>0.44</td>\n",
       "    </tr>\n",
       "    <tr>\n",
       "      <th>12</th>\n",
       "      <td>chanceCreationPositioningClass</td>\n",
       "      <td>1.03</td>\n",
       "    </tr>\n",
       "    <tr>\n",
       "      <th>13</th>\n",
       "      <td>defencePressure</td>\n",
       "      <td>0.07</td>\n",
       "    </tr>\n",
       "    <tr>\n",
       "      <th>14</th>\n",
       "      <td>defencePressureClass</td>\n",
       "      <td>-0.13</td>\n",
       "    </tr>\n",
       "    <tr>\n",
       "      <th>15</th>\n",
       "      <td>defenceAggression</td>\n",
       "      <td>-0.03</td>\n",
       "    </tr>\n",
       "    <tr>\n",
       "      <th>16</th>\n",
       "      <td>defenceAggressionClass</td>\n",
       "      <td>-0.62</td>\n",
       "    </tr>\n",
       "    <tr>\n",
       "      <th>17</th>\n",
       "      <td>defenceTeamWidth</td>\n",
       "      <td>-0.03</td>\n",
       "    </tr>\n",
       "    <tr>\n",
       "      <th>18</th>\n",
       "      <td>defenceTeamWidthClass</td>\n",
       "      <td>-0.20</td>\n",
       "    </tr>\n",
       "    <tr>\n",
       "      <th>19</th>\n",
       "      <td>defenceDefenderLineClass</td>\n",
       "      <td>-0.06</td>\n",
       "    </tr>\n",
       "  </tbody>\n",
       "</table>\n",
       "</div>"
      ],
      "text/plain": [
       "                              coef  value\n",
       "0                 buildUpPlaySpeed   0.00\n",
       "1            buildUpPlaySpeedClass  -0.92\n",
       "2        buildUpPlayDribblingClass  -0.20\n",
       "3               buildUpPlayPassing  -0.03\n",
       "4          buildUpPlayPassingClass  -0.28\n",
       "5      buildUpPlayPositioningClass  -0.06\n",
       "6            chanceCreationPassing  -0.03\n",
       "7       chanceCreationPassingClass  -0.72\n",
       "8           chanceCreationCrossing  -0.01\n",
       "9      chanceCreationCrossingClass   0.31\n",
       "10          chanceCreationShooting   0.07\n",
       "11     chanceCreationShootingClass   0.44\n",
       "12  chanceCreationPositioningClass   1.03\n",
       "13                 defencePressure   0.07\n",
       "14            defencePressureClass  -0.13\n",
       "15               defenceAggression  -0.03\n",
       "16          defenceAggressionClass  -0.62\n",
       "17                defenceTeamWidth  -0.03\n",
       "18           defenceTeamWidthClass  -0.20\n",
       "19        defenceDefenderLineClass  -0.06"
      ]
     },
     "execution_count": 200,
     "metadata": {},
     "output_type": "execute_result"
    }
   ],
   "source": [
    "coef"
   ]
  },
  {
   "cell_type": "code",
   "execution_count": 204,
   "metadata": {},
   "outputs": [
    {
     "data": {
      "text/plain": [
       "array(['chanceCreationCrossingClass', 'chanceCreationShooting',\n",
       "       'chanceCreationShootingClass', 'chanceCreationPositioningClass',\n",
       "       'defencePressure'], dtype=object)"
      ]
     },
     "execution_count": 204,
     "metadata": {},
     "output_type": "execute_result"
    }
   ],
   "source": [
    "coef[coef.value >= 0.05].coef.values"
   ]
  },
  {
   "cell_type": "code",
   "execution_count": 225,
   "metadata": {},
   "outputs": [
    {
     "name": "stdout",
     "output_type": "stream",
     "text": [
      "The model produces an accuracy score of 89.17 percent\n"
     ]
    }
   ],
   "source": [
    "#Create X and y variables\n",
    "X = df[coef[coef.value != 0.00].coef.values]\n",
    "y = df.qualify\n",
    "\n",
    "#Intialize, fit, and score the model\n",
    "lr = LogisticRegression()\n",
    "\n",
    "lr.fit(X,y)\n",
    "\n",
    "score = lr.score(X,y)\n",
    "\n",
    "print (\"The model produces an accuracy score of {:.2f} percent\".format(score*100))"
   ]
  },
  {
   "cell_type": "markdown",
   "metadata": {},
   "source": []
  },
  {
   "cell_type": "markdown",
   "metadata": {},
   "source": [
    "### Recursive Feature Elimination"
   ]
  },
  {
   "cell_type": "markdown",
   "metadata": {},
   "source": [
    "source: https://machinelearningmastery.com/feature-selection-in-python-with-scikit-learn/"
   ]
  },
  {
   "cell_type": "code",
   "execution_count": 219,
   "metadata": {},
   "outputs": [],
   "source": [
    "\n",
    "\n",
    "X = df.drop([\"qualify\",'team_name','date','id','team_fifa_api_id'], axis=1)\n",
    "y = df.qualify\n",
    "\n",
    "# create a base classifier used to evaluate a subset of attributes\n",
    "model = LogisticRegression()\n",
    "# create the RFE model and select 15 attributes\n",
    "rfe = RFE(model, 15)\n",
    "rfe = rfe.fit(X, y)\n",
    "\n"
   ]
  },
  {
   "cell_type": "code",
   "execution_count": 220,
   "metadata": {},
   "outputs": [],
   "source": [
    "# summarize the selection of the attributes\n",
    "rfe_final= pd.DataFrame(zip(X.columns, np.transpose(rfe.support_)), columns=[\"attributes\", \"sel\"])"
   ]
  },
  {
   "cell_type": "code",
   "execution_count": 221,
   "metadata": {},
   "outputs": [
    {
     "data": {
      "text/html": [
       "<div>\n",
       "<style>\n",
       "    .dataframe thead tr:only-child th {\n",
       "        text-align: right;\n",
       "    }\n",
       "\n",
       "    .dataframe thead th {\n",
       "        text-align: left;\n",
       "    }\n",
       "\n",
       "    .dataframe tbody tr th {\n",
       "        vertical-align: top;\n",
       "    }\n",
       "</style>\n",
       "<table border=\"1\" class=\"dataframe\">\n",
       "  <thead>\n",
       "    <tr style=\"text-align: right;\">\n",
       "      <th></th>\n",
       "      <th>attributes</th>\n",
       "      <th>sel</th>\n",
       "    </tr>\n",
       "  </thead>\n",
       "  <tbody>\n",
       "    <tr>\n",
       "      <th>0</th>\n",
       "      <td>buildUpPlaySpeed</td>\n",
       "      <td>False</td>\n",
       "    </tr>\n",
       "    <tr>\n",
       "      <th>1</th>\n",
       "      <td>buildUpPlaySpeedClass</td>\n",
       "      <td>True</td>\n",
       "    </tr>\n",
       "    <tr>\n",
       "      <th>2</th>\n",
       "      <td>buildUpPlayDribblingClass</td>\n",
       "      <td>True</td>\n",
       "    </tr>\n",
       "    <tr>\n",
       "      <th>3</th>\n",
       "      <td>buildUpPlayPassing</td>\n",
       "      <td>False</td>\n",
       "    </tr>\n",
       "    <tr>\n",
       "      <th>4</th>\n",
       "      <td>buildUpPlayPassingClass</td>\n",
       "      <td>True</td>\n",
       "    </tr>\n",
       "    <tr>\n",
       "      <th>5</th>\n",
       "      <td>buildUpPlayPositioningClass</td>\n",
       "      <td>True</td>\n",
       "    </tr>\n",
       "    <tr>\n",
       "      <th>6</th>\n",
       "      <td>chanceCreationPassing</td>\n",
       "      <td>True</td>\n",
       "    </tr>\n",
       "    <tr>\n",
       "      <th>7</th>\n",
       "      <td>chanceCreationPassingClass</td>\n",
       "      <td>True</td>\n",
       "    </tr>\n",
       "    <tr>\n",
       "      <th>8</th>\n",
       "      <td>chanceCreationCrossing</td>\n",
       "      <td>False</td>\n",
       "    </tr>\n",
       "    <tr>\n",
       "      <th>9</th>\n",
       "      <td>chanceCreationCrossingClass</td>\n",
       "      <td>True</td>\n",
       "    </tr>\n",
       "    <tr>\n",
       "      <th>10</th>\n",
       "      <td>chanceCreationShooting</td>\n",
       "      <td>True</td>\n",
       "    </tr>\n",
       "    <tr>\n",
       "      <th>11</th>\n",
       "      <td>chanceCreationShootingClass</td>\n",
       "      <td>True</td>\n",
       "    </tr>\n",
       "    <tr>\n",
       "      <th>12</th>\n",
       "      <td>chanceCreationPositioningClass</td>\n",
       "      <td>True</td>\n",
       "    </tr>\n",
       "    <tr>\n",
       "      <th>13</th>\n",
       "      <td>defencePressure</td>\n",
       "      <td>True</td>\n",
       "    </tr>\n",
       "    <tr>\n",
       "      <th>14</th>\n",
       "      <td>defencePressureClass</td>\n",
       "      <td>True</td>\n",
       "    </tr>\n",
       "    <tr>\n",
       "      <th>15</th>\n",
       "      <td>defenceAggression</td>\n",
       "      <td>False</td>\n",
       "    </tr>\n",
       "    <tr>\n",
       "      <th>16</th>\n",
       "      <td>defenceAggressionClass</td>\n",
       "      <td>True</td>\n",
       "    </tr>\n",
       "    <tr>\n",
       "      <th>17</th>\n",
       "      <td>defenceTeamWidth</td>\n",
       "      <td>False</td>\n",
       "    </tr>\n",
       "    <tr>\n",
       "      <th>18</th>\n",
       "      <td>defenceTeamWidthClass</td>\n",
       "      <td>True</td>\n",
       "    </tr>\n",
       "    <tr>\n",
       "      <th>19</th>\n",
       "      <td>defenceDefenderLineClass</td>\n",
       "      <td>True</td>\n",
       "    </tr>\n",
       "  </tbody>\n",
       "</table>\n",
       "</div>"
      ],
      "text/plain": [
       "                        attributes    sel\n",
       "0                 buildUpPlaySpeed  False\n",
       "1            buildUpPlaySpeedClass   True\n",
       "2        buildUpPlayDribblingClass   True\n",
       "3               buildUpPlayPassing  False\n",
       "4          buildUpPlayPassingClass   True\n",
       "5      buildUpPlayPositioningClass   True\n",
       "6            chanceCreationPassing   True\n",
       "7       chanceCreationPassingClass   True\n",
       "8           chanceCreationCrossing  False\n",
       "9      chanceCreationCrossingClass   True\n",
       "10          chanceCreationShooting   True\n",
       "11     chanceCreationShootingClass   True\n",
       "12  chanceCreationPositioningClass   True\n",
       "13                 defencePressure   True\n",
       "14            defencePressureClass   True\n",
       "15               defenceAggression  False\n",
       "16          defenceAggressionClass   True\n",
       "17                defenceTeamWidth  False\n",
       "18           defenceTeamWidthClass   True\n",
       "19        defenceDefenderLineClass   True"
      ]
     },
     "execution_count": 221,
     "metadata": {},
     "output_type": "execute_result"
    }
   ],
   "source": [
    "rfe_final"
   ]
  },
  {
   "cell_type": "code",
   "execution_count": 222,
   "metadata": {},
   "outputs": [],
   "source": [
    "features_final = rfe_final[rfe_final.sel == 1 ].attributes.values"
   ]
  },
  {
   "cell_type": "code",
   "execution_count": 223,
   "metadata": {},
   "outputs": [
    {
     "data": {
      "text/plain": [
       "array(['buildUpPlaySpeedClass', 'buildUpPlayDribblingClass',\n",
       "       'buildUpPlayPassingClass', 'buildUpPlayPositioningClass',\n",
       "       'chanceCreationPassing', 'chanceCreationPassingClass',\n",
       "       'chanceCreationCrossingClass', 'chanceCreationShooting',\n",
       "       'chanceCreationShootingClass', 'chanceCreationPositioningClass',\n",
       "       'defencePressure', 'defencePressureClass', 'defenceAggressionClass',\n",
       "       'defenceTeamWidthClass', 'defenceDefenderLineClass'], dtype=object)"
      ]
     },
     "execution_count": 223,
     "metadata": {},
     "output_type": "execute_result"
    }
   ],
   "source": [
    "features_final"
   ]
  },
  {
   "cell_type": "code",
   "execution_count": 224,
   "metadata": {},
   "outputs": [
    {
     "name": "stdout",
     "output_type": "stream",
     "text": [
      "The model produces an accuracy score of 88.33 percent\n"
     ]
    }
   ],
   "source": [
    "#Create X and y variables\n",
    "X = df[features_final]\n",
    "y = df.qualify\n",
    "\n",
    "#Intialize, fit, and score the model\n",
    "lr = LogisticRegression()\n",
    "\n",
    "lr.fit(X,y)\n",
    "\n",
    "score = lr.score(X,y)\n",
    "\n",
    "print (\"The model produces an accuracy score of {:.2f} percent\".format(score*100))"
   ]
  },
  {
   "cell_type": "code",
   "execution_count": null,
   "metadata": {
    "collapsed": true
   },
   "outputs": [],
   "source": []
  },
  {
   "cell_type": "code",
   "execution_count": null,
   "metadata": {
    "collapsed": true
   },
   "outputs": [],
   "source": []
  }
 ],
 "metadata": {
  "kernelspec": {
   "display_name": "Python 2",
   "language": "python",
   "name": "python2"
  },
  "language_info": {
   "codemirror_mode": {
    "name": "ipython",
    "version": 2
   },
   "file_extension": ".py",
   "mimetype": "text/x-python",
   "name": "python",
   "nbconvert_exporter": "python",
   "pygments_lexer": "ipython2",
   "version": "2.7.13"
  }
 },
 "nbformat": 4,
 "nbformat_minor": 2
}
