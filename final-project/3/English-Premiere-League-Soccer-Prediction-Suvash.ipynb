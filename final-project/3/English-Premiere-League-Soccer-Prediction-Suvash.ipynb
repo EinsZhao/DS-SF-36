{
 "cells": [
  {
   "cell_type": "markdown",
   "metadata": {},
   "source": [
    "## English Premiere League (EPL) | Season 2017/18 | Which teams will finish top 3 ?"
   ]
  },
  {
   "cell_type": "code",
   "execution_count": null,
   "metadata": {
    "collapsed": true
   },
   "outputs": [],
   "source": []
  },
  {
   "cell_type": "code",
   "execution_count": null,
   "metadata": {
    "collapsed": true
   },
   "outputs": [],
   "source": []
  },
  {
   "cell_type": "code",
   "execution_count": 1,
   "metadata": {},
   "outputs": [
    {
     "name": "stderr",
     "output_type": "stream",
     "text": [
      "C:\\Users\\suvas\\Anaconda2\\lib\\site-packages\\statsmodels\\compat\\pandas.py:56: FutureWarning: The pandas.core.datetools module is deprecated and will be removed in a future version. Please use the pandas.tseries module instead.\n",
      "  from pandas.core import datetools\n"
     ]
    }
   ],
   "source": [
    "import os\n",
    "\n",
    "import numpy as np\n",
    "import pandas as pd\n",
    "pd.set_option('display.max_rows', 20)\n",
    "pd.set_option('display.notebook_repr_html', True)\n",
    "pd.set_option('display.max_columns', 10)\n",
    "\n",
    "import statsmodels.api as sm\n",
    "import statsmodels.formula.api as smf\n",
    "\n",
    "from sklearn import linear_model\n",
    "\n",
    "import matplotlib.pyplot as plt\n",
    "%matplotlib inline\n",
    "plt.style.use('ggplot')\n",
    "\n",
    "import seaborn as sns\n",
    "\n",
    "import sqlite3;"
   ]
  },
  {
   "cell_type": "markdown",
   "metadata": {},
   "source": [
    "Data Source: https://www.kaggle.com/hugomathien/soccer"
   ]
  },
  {
   "cell_type": "code",
   "execution_count": 114,
   "metadata": {
    "collapsed": true
   },
   "outputs": [],
   "source": [
    "data_source_01 = \"database.sqlite\"\n",
    "data_source_02 = \"soccer2017.db\""
   ]
  },
  {
   "cell_type": "code",
   "execution_count": 115,
   "metadata": {},
   "outputs": [],
   "source": [
    "db01 = sqlite3.connect(os.path.join('..', 'dataset', data_source_01))\n",
    "db02 = sqlite3.connect(os.path.join('..', 'dataset', data_source_02))"
   ]
  },
  {
   "cell_type": "code",
   "execution_count": 116,
   "metadata": {
    "collapsed": true
   },
   "outputs": [],
   "source": [
    "# Teams in EPL\n",
    "df_epl_teams = pd.io.sql.read_sql(\n",
    "'''\n",
    "    select distinct league_id, team_id as team_fifa_api_id, name from teams  where league_id = 13\n",
    "    \n",
    ";\n",
    "''', con = db02)"
   ]
  },
  {
   "cell_type": "code",
   "execution_count": 117,
   "metadata": {},
   "outputs": [],
   "source": [
    "df_epl_teams= df_epl_teams.set_index('team_fifa_api_id')"
   ]
  },
  {
   "cell_type": "code",
   "execution_count": 118,
   "metadata": {},
   "outputs": [
    {
     "data": {
      "text/html": [
       "<div>\n",
       "<style>\n",
       "    .dataframe thead tr:only-child th {\n",
       "        text-align: right;\n",
       "    }\n",
       "\n",
       "    .dataframe thead th {\n",
       "        text-align: left;\n",
       "    }\n",
       "\n",
       "    .dataframe tbody tr th {\n",
       "        vertical-align: top;\n",
       "    }\n",
       "</style>\n",
       "<table border=\"1\" class=\"dataframe\">\n",
       "  <thead>\n",
       "    <tr style=\"text-align: right;\">\n",
       "      <th></th>\n",
       "      <th>league_id</th>\n",
       "      <th>name</th>\n",
       "    </tr>\n",
       "    <tr>\n",
       "      <th>team_fifa_api_id</th>\n",
       "      <th></th>\n",
       "      <th></th>\n",
       "    </tr>\n",
       "  </thead>\n",
       "  <tbody>\n",
       "    <tr>\n",
       "      <th>1</th>\n",
       "      <td>13</td>\n",
       "      <td>Arsenal</td>\n",
       "    </tr>\n",
       "    <tr>\n",
       "      <th>5</th>\n",
       "      <td>13</td>\n",
       "      <td>Chelsea</td>\n",
       "    </tr>\n",
       "    <tr>\n",
       "      <th>7</th>\n",
       "      <td>13</td>\n",
       "      <td>Everton</td>\n",
       "    </tr>\n",
       "    <tr>\n",
       "      <th>9</th>\n",
       "      <td>13</td>\n",
       "      <td>Liverpool</td>\n",
       "    </tr>\n",
       "    <tr>\n",
       "      <th>10</th>\n",
       "      <td>13</td>\n",
       "      <td>Manchester City</td>\n",
       "    </tr>\n",
       "  </tbody>\n",
       "</table>\n",
       "</div>"
      ],
      "text/plain": [
       "                  league_id             name\n",
       "team_fifa_api_id                            \n",
       "1                        13          Arsenal\n",
       "5                        13          Chelsea\n",
       "7                        13          Everton\n",
       "9                        13        Liverpool\n",
       "10                       13  Manchester City"
      ]
     },
     "execution_count": 118,
     "metadata": {},
     "output_type": "execute_result"
    }
   ],
   "source": [
    "df_epl_teams.head()"
   ]
  },
  {
   "cell_type": "code",
   "execution_count": 119,
   "metadata": {
    "collapsed": true
   },
   "outputs": [],
   "source": [
    "df_teams_attr = pd.io.sql.read_sql(\n",
    "'''\n",
    "    select * from team_attributes\n",
    ";\n",
    "''', con = db01)"
   ]
  },
  {
   "cell_type": "code",
   "execution_count": 193,
   "metadata": {},
   "outputs": [
    {
     "data": {
      "text/plain": [
       "(1458, 25)"
      ]
     },
     "execution_count": 193,
     "metadata": {},
     "output_type": "execute_result"
    }
   ],
   "source": [
    "df_teams_attr.shape"
   ]
  },
  {
   "cell_type": "markdown",
   "metadata": {},
   "source": [
    "## Take only EPL teams"
   ]
  },
  {
   "cell_type": "code",
   "execution_count": 178,
   "metadata": {},
   "outputs": [],
   "source": [
    "# filter EPL teams \n",
    "df_epl_teams_attr = df_teams_attr[df_teams_attr.team_fifa_api_id.isin(df_epl_teams.index)]"
   ]
  },
  {
   "cell_type": "code",
   "execution_count": 179,
   "metadata": {},
   "outputs": [
    {
     "data": {
      "text/plain": [
       "(120, 25)"
      ]
     },
     "execution_count": 179,
     "metadata": {},
     "output_type": "execute_result"
    }
   ],
   "source": [
    "df_epl_teams_attr.shape"
   ]
  },
  {
   "cell_type": "code",
   "execution_count": 180,
   "metadata": {},
   "outputs": [
    {
     "name": "stdout",
     "output_type": "stream",
     "text": [
      "<class 'pandas.core.frame.DataFrame'>\n",
      "Int64Index: 120 entries, 70 to 1389\n",
      "Data columns (total 25 columns):\n",
      "id                                120 non-null int64\n",
      "team_fifa_api_id                  120 non-null int64\n",
      "team_api_id                       120 non-null int64\n",
      "date                              120 non-null object\n",
      "buildUpPlaySpeed                  120 non-null int64\n",
      "buildUpPlaySpeedClass             120 non-null object\n",
      "buildUpPlayDribbling              40 non-null float64\n",
      "buildUpPlayDribblingClass         120 non-null object\n",
      "buildUpPlayPassing                120 non-null int64\n",
      "buildUpPlayPassingClass           120 non-null object\n",
      "buildUpPlayPositioningClass       120 non-null object\n",
      "chanceCreationPassing             120 non-null int64\n",
      "chanceCreationPassingClass        120 non-null object\n",
      "chanceCreationCrossing            120 non-null int64\n",
      "chanceCreationCrossingClass       120 non-null object\n",
      "chanceCreationShooting            120 non-null int64\n",
      "chanceCreationShootingClass       120 non-null object\n",
      "chanceCreationPositioningClass    120 non-null object\n",
      "defencePressure                   120 non-null int64\n",
      "defencePressureClass              120 non-null object\n",
      "defenceAggression                 120 non-null int64\n",
      "defenceAggressionClass            120 non-null object\n",
      "defenceTeamWidth                  120 non-null int64\n",
      "defenceTeamWidthClass             120 non-null object\n",
      "defenceDefenderLineClass          120 non-null object\n",
      "dtypes: float64(1), int64(11), object(13)\n",
      "memory usage: 24.4+ KB\n"
     ]
    }
   ],
   "source": [
    "df_epl_teams_attr.info()"
   ]
  },
  {
   "cell_type": "markdown",
   "metadata": {},
   "source": [
    "## Remove un-necessary columns"
   ]
  },
  {
   "cell_type": "code",
   "execution_count": 181,
   "metadata": {},
   "outputs": [
    {
     "name": "stderr",
     "output_type": "stream",
     "text": [
      "C:\\Users\\suvas\\Anaconda2\\lib\\site-packages\\ipykernel_launcher.py:2: SettingWithCopyWarning: \n",
      "A value is trying to be set on a copy of a slice from a DataFrame\n",
      "\n",
      "See the caveats in the documentation: http://pandas.pydata.org/pandas-docs/stable/indexing.html#indexing-view-versus-copy\n",
      "  \n"
     ]
    }
   ],
   "source": [
    "# get rid of \"buildUpPlayDribbling\" and \"team_api_id\" column\n",
    "df_epl_teams_attr.drop(['buildUpPlayDribbling','team_api_id'], axis=1, inplace=True)"
   ]
  },
  {
   "cell_type": "code",
   "execution_count": 182,
   "metadata": {},
   "outputs": [
    {
     "name": "stdout",
     "output_type": "stream",
     "text": [
      "<class 'pandas.core.frame.DataFrame'>\n",
      "Int64Index: 120 entries, 70 to 1389\n",
      "Data columns (total 23 columns):\n",
      "id                                120 non-null int64\n",
      "team_fifa_api_id                  120 non-null int64\n",
      "date                              120 non-null object\n",
      "buildUpPlaySpeed                  120 non-null int64\n",
      "buildUpPlaySpeedClass             120 non-null object\n",
      "buildUpPlayDribblingClass         120 non-null object\n",
      "buildUpPlayPassing                120 non-null int64\n",
      "buildUpPlayPassingClass           120 non-null object\n",
      "buildUpPlayPositioningClass       120 non-null object\n",
      "chanceCreationPassing             120 non-null int64\n",
      "chanceCreationPassingClass        120 non-null object\n",
      "chanceCreationCrossing            120 non-null int64\n",
      "chanceCreationCrossingClass       120 non-null object\n",
      "chanceCreationShooting            120 non-null int64\n",
      "chanceCreationShootingClass       120 non-null object\n",
      "chanceCreationPositioningClass    120 non-null object\n",
      "defencePressure                   120 non-null int64\n",
      "defencePressureClass              120 non-null object\n",
      "defenceAggression                 120 non-null int64\n",
      "defenceAggressionClass            120 non-null object\n",
      "defenceTeamWidth                  120 non-null int64\n",
      "defenceTeamWidthClass             120 non-null object\n",
      "defenceDefenderLineClass          120 non-null object\n",
      "dtypes: int64(10), object(13)\n",
      "memory usage: 22.5+ KB\n"
     ]
    }
   ],
   "source": [
    "df_epl_teams_attr.info()"
   ]
  },
  {
   "cell_type": "markdown",
   "metadata": {},
   "source": [
    "## Convert categorical value to number"
   ]
  },
  {
   "cell_type": "code",
   "execution_count": 194,
   "metadata": {},
   "outputs": [
    {
     "data": {
      "text/html": [
       "<div>\n",
       "<style>\n",
       "    .dataframe thead tr:only-child th {\n",
       "        text-align: right;\n",
       "    }\n",
       "\n",
       "    .dataframe thead th {\n",
       "        text-align: left;\n",
       "    }\n",
       "\n",
       "    .dataframe tbody tr th {\n",
       "        vertical-align: top;\n",
       "    }\n",
       "</style>\n",
       "<table border=\"1\" class=\"dataframe\">\n",
       "  <thead>\n",
       "    <tr style=\"text-align: right;\">\n",
       "      <th></th>\n",
       "      <th>id</th>\n",
       "      <th>team_fifa_api_id</th>\n",
       "      <th>team_api_id</th>\n",
       "      <th>date</th>\n",
       "      <th>buildUpPlaySpeed</th>\n",
       "      <th>...</th>\n",
       "      <th>defenceAggression</th>\n",
       "      <th>defenceAggressionClass</th>\n",
       "      <th>defenceTeamWidth</th>\n",
       "      <th>defenceTeamWidthClass</th>\n",
       "      <th>defenceDefenderLineClass</th>\n",
       "    </tr>\n",
       "  </thead>\n",
       "  <tbody>\n",
       "    <tr>\n",
       "      <th>0</th>\n",
       "      <td>1</td>\n",
       "      <td>434</td>\n",
       "      <td>9930</td>\n",
       "      <td>2010-02-22 00:00:00</td>\n",
       "      <td>60</td>\n",
       "      <td>...</td>\n",
       "      <td>55</td>\n",
       "      <td>Press</td>\n",
       "      <td>45</td>\n",
       "      <td>Normal</td>\n",
       "      <td>Cover</td>\n",
       "    </tr>\n",
       "    <tr>\n",
       "      <th>1</th>\n",
       "      <td>2</td>\n",
       "      <td>434</td>\n",
       "      <td>9930</td>\n",
       "      <td>2014-09-19 00:00:00</td>\n",
       "      <td>52</td>\n",
       "      <td>...</td>\n",
       "      <td>44</td>\n",
       "      <td>Press</td>\n",
       "      <td>54</td>\n",
       "      <td>Normal</td>\n",
       "      <td>Cover</td>\n",
       "    </tr>\n",
       "    <tr>\n",
       "      <th>2</th>\n",
       "      <td>3</td>\n",
       "      <td>434</td>\n",
       "      <td>9930</td>\n",
       "      <td>2015-09-10 00:00:00</td>\n",
       "      <td>47</td>\n",
       "      <td>...</td>\n",
       "      <td>44</td>\n",
       "      <td>Press</td>\n",
       "      <td>54</td>\n",
       "      <td>Normal</td>\n",
       "      <td>Cover</td>\n",
       "    </tr>\n",
       "    <tr>\n",
       "      <th>3</th>\n",
       "      <td>4</td>\n",
       "      <td>77</td>\n",
       "      <td>8485</td>\n",
       "      <td>2010-02-22 00:00:00</td>\n",
       "      <td>70</td>\n",
       "      <td>...</td>\n",
       "      <td>70</td>\n",
       "      <td>Double</td>\n",
       "      <td>70</td>\n",
       "      <td>Wide</td>\n",
       "      <td>Cover</td>\n",
       "    </tr>\n",
       "    <tr>\n",
       "      <th>4</th>\n",
       "      <td>5</td>\n",
       "      <td>77</td>\n",
       "      <td>8485</td>\n",
       "      <td>2011-02-22 00:00:00</td>\n",
       "      <td>47</td>\n",
       "      <td>...</td>\n",
       "      <td>47</td>\n",
       "      <td>Press</td>\n",
       "      <td>52</td>\n",
       "      <td>Normal</td>\n",
       "      <td>Cover</td>\n",
       "    </tr>\n",
       "  </tbody>\n",
       "</table>\n",
       "<p>5 rows × 25 columns</p>\n",
       "</div>"
      ],
      "text/plain": [
       "   id  team_fifa_api_id  team_api_id                 date  buildUpPlaySpeed  \\\n",
       "0   1               434         9930  2010-02-22 00:00:00                60   \n",
       "1   2               434         9930  2014-09-19 00:00:00                52   \n",
       "2   3               434         9930  2015-09-10 00:00:00                47   \n",
       "3   4                77         8485  2010-02-22 00:00:00                70   \n",
       "4   5                77         8485  2011-02-22 00:00:00                47   \n",
       "\n",
       "            ...            defenceAggression  defenceAggressionClass  \\\n",
       "0           ...                           55                   Press   \n",
       "1           ...                           44                   Press   \n",
       "2           ...                           44                   Press   \n",
       "3           ...                           70                  Double   \n",
       "4           ...                           47                   Press   \n",
       "\n",
       "  defenceTeamWidth  defenceTeamWidthClass defenceDefenderLineClass  \n",
       "0               45                 Normal                    Cover  \n",
       "1               54                 Normal                    Cover  \n",
       "2               54                 Normal                    Cover  \n",
       "3               70                   Wide                    Cover  \n",
       "4               52                 Normal                    Cover  \n",
       "\n",
       "[5 rows x 25 columns]"
      ]
     },
     "execution_count": 194,
     "metadata": {},
     "output_type": "execute_result"
    }
   ],
   "source": [
    "df_teams_attr.head()"
   ]
  },
  {
   "cell_type": "code",
   "execution_count": 183,
   "metadata": {},
   "outputs": [],
   "source": [
    "# Find and replace class value into number\n",
    "\n",
    "#buildUpPlaySpeedClass             \n",
    "#buildUpPlayDribblingClass\n",
    "#buildUpPlayPassingClass\n",
    "#buildUpPlayPositioningClass\n",
    "#chanceCreationPassingClass\n",
    "#chanceCreationCrossingClass\n",
    "#chanceCreationShootingClass  \n",
    "#chanceCreationPositioningClass \n",
    "#defencePressureClass\n",
    "#defenceAggressionClass\n",
    "#defenceTeamWidthClass \n",
    "#defenceDefenderLineClass"
   ]
  },
  {
   "cell_type": "code",
   "execution_count": 184,
   "metadata": {},
   "outputs": [
    {
     "data": {
      "text/plain": [
       "array([u'Little', u'Normal'], dtype=object)"
      ]
     },
     "execution_count": 184,
     "metadata": {},
     "output_type": "execute_result"
    }
   ],
   "source": [
    "df_epl_teams_attr.buildUpPlayDribblingClass.unique()"
   ]
  },
  {
   "cell_type": "code",
   "execution_count": 185,
   "metadata": {},
   "outputs": [],
   "source": [
    "category_num = {\n",
    "    'buildUpPlaySpeedClass':\n",
    "        {\n",
    "            'Fast':1,\n",
    "            'Balanced': 2,\n",
    "            'Slow':3\n",
    "        },\n",
    "    'buildUpPlayDribblingClass':\n",
    "        {\n",
    "            'Little':1,\n",
    "            'Normal': 2,\n",
    "            'Lots':3\n",
    "        },\n",
    "    'buildUpPlayPassingClass':\n",
    "        {\n",
    "            'Short':1,\n",
    "            'Mixed': 2,\n",
    "            'Long':3\n",
    "        },\n",
    "    'buildUpPlayPositioningClass':\n",
    "        {\n",
    "            'Organised':1,\n",
    "            'Free Form': 2\n",
    "        },\n",
    "    'chanceCreationPassingClass':\n",
    "        {\n",
    "            'Safe':1,\n",
    "            'Normal': 2,\n",
    "            'Risky':3\n",
    "        },\n",
    "    'chanceCreationCrossingClass':\n",
    "        {\n",
    "            'Little':1,\n",
    "            'Normal': 2,\n",
    "            'Lots':3\n",
    "        },\n",
    "    'chanceCreationShootingClass':\n",
    "        {\n",
    "            'Little':1,\n",
    "            'Normal': 2,\n",
    "            'Lots':3\n",
    "        },\n",
    "    'chanceCreationPositioningClass':\n",
    "        {\n",
    "            'Organised':1,\n",
    "            'Free Form': 2\n",
    "        },\n",
    "     'defencePressureClass':\n",
    "        {\n",
    "            'Deep':1,\n",
    "            'Medium': 2,\n",
    "            'High':3\n",
    "        },\n",
    "    'defenceAggressionClass':\n",
    "        {\n",
    "            'Press':1,\n",
    "            'Double': 2,\n",
    "            'Contain':3\n",
    "        },\n",
    "    'defenceTeamWidthClass':\n",
    "        {\n",
    "            'Narrow':1,\n",
    "            'Normal': 2,\n",
    "            'Wide':3\n",
    "        },\n",
    "    'defenceDefenderLineClass':\n",
    "        {\n",
    "            'Cover':1\n",
    "        }\n",
    "    }\n",
    "    "
   ]
  },
  {
   "cell_type": "code",
   "execution_count": 186,
   "metadata": {},
   "outputs": [],
   "source": [
    "df_epl_teams_attr.replace(category_num, inplace=True)"
   ]
  },
  {
   "cell_type": "markdown",
   "metadata": {},
   "source": [
    "## Add Team Name"
   ]
  },
  {
   "cell_type": "code",
   "execution_count": 187,
   "metadata": {},
   "outputs": [
    {
     "name": "stderr",
     "output_type": "stream",
     "text": [
      "C:\\Users\\suvas\\Anaconda2\\lib\\site-packages\\ipykernel_launcher.py:2: SettingWithCopyWarning: \n",
      "A value is trying to be set on a copy of a slice from a DataFrame.\n",
      "Try using .loc[row_indexer,col_indexer] = value instead\n",
      "\n",
      "See the caveats in the documentation: http://pandas.pydata.org/pandas-docs/stable/indexing.html#indexing-view-versus-copy\n",
      "  \n"
     ]
    }
   ],
   "source": [
    "#Add team name column in dataframe\n",
    "df_epl_teams_attr['team_name'] = df_epl_teams_attr.team_fifa_api_id.apply(lambda row: df_epl_teams.loc[row,'name'])"
   ]
  },
  {
   "cell_type": "markdown",
   "metadata": {},
   "source": [
    "## Convert Date to date time column"
   ]
  },
  {
   "cell_type": "code",
   "execution_count": 191,
   "metadata": {},
   "outputs": [
    {
     "name": "stderr",
     "output_type": "stream",
     "text": [
      "C:\\Users\\suvas\\Anaconda2\\lib\\site-packages\\pandas\\core\\generic.py:2999: SettingWithCopyWarning: \n",
      "A value is trying to be set on a copy of a slice from a DataFrame.\n",
      "Try using .loc[row_indexer,col_indexer] = value instead\n",
      "\n",
      "See the caveats in the documentation: http://pandas.pydata.org/pandas-docs/stable/indexing.html#indexing-view-versus-copy\n",
      "  self[name] = value\n"
     ]
    }
   ],
   "source": [
    "df_epl_teams_attr.date = pd.to_datetime(df_epl_teams_attr.date)"
   ]
  },
  {
   "cell_type": "code",
   "execution_count": 192,
   "metadata": {},
   "outputs": [
    {
     "name": "stdout",
     "output_type": "stream",
     "text": [
      "<class 'pandas.core.frame.DataFrame'>\n",
      "Int64Index: 120 entries, 70 to 1389\n",
      "Data columns (total 24 columns):\n",
      "id                                120 non-null int64\n",
      "team_fifa_api_id                  120 non-null int64\n",
      "date                              120 non-null datetime64[ns]\n",
      "buildUpPlaySpeed                  120 non-null int64\n",
      "buildUpPlaySpeedClass             120 non-null int64\n",
      "buildUpPlayDribblingClass         120 non-null int64\n",
      "buildUpPlayPassing                120 non-null int64\n",
      "buildUpPlayPassingClass           120 non-null int64\n",
      "buildUpPlayPositioningClass       120 non-null int64\n",
      "chanceCreationPassing             120 non-null int64\n",
      "chanceCreationPassingClass        120 non-null int64\n",
      "chanceCreationCrossing            120 non-null int64\n",
      "chanceCreationCrossingClass       120 non-null int64\n",
      "chanceCreationShooting            120 non-null int64\n",
      "chanceCreationShootingClass       120 non-null int64\n",
      "chanceCreationPositioningClass    120 non-null int64\n",
      "defencePressure                   120 non-null int64\n",
      "defencePressureClass              120 non-null int64\n",
      "defenceAggression                 120 non-null int64\n",
      "defenceAggressionClass            120 non-null int64\n",
      "defenceTeamWidth                  120 non-null int64\n",
      "defenceTeamWidthClass             120 non-null int64\n",
      "defenceDefenderLineClass          120 non-null int64\n",
      "team_name                         120 non-null object\n",
      "dtypes: datetime64[ns](1), int64(22), object(1)\n",
      "memory usage: 28.4+ KB\n"
     ]
    }
   ],
   "source": [
    "df_epl_teams_attr.info()"
   ]
  },
  {
   "cell_type": "code",
   "execution_count": 197,
   "metadata": {},
   "outputs": [
    {
     "data": {
      "text/plain": [
       "array(['2010-02-22T00:00:00.000000000', '2011-02-22T00:00:00.000000000',\n",
       "       '2012-02-22T00:00:00.000000000', '2013-09-20T00:00:00.000000000',\n",
       "       '2014-09-19T00:00:00.000000000', '2015-09-10T00:00:00.000000000'], dtype='datetime64[ns]')"
      ]
     },
     "execution_count": 197,
     "metadata": {},
     "output_type": "execute_result"
    }
   ],
   "source": [
    "df_epl_teams_attr.date.unique()"
   ]
  },
  {
   "cell_type": "markdown",
   "metadata": {},
   "source": [
    "## Add qualify flag for top 3 teams"
   ]
  },
  {
   "cell_type": "markdown",
   "metadata": {},
   "source": [
    "Top 4 teams in the league will automatic qualify to Champions League"
   ]
  },
  {
   "cell_type": "code",
   "execution_count": 243,
   "metadata": {
    "collapsed": true
   },
   "outputs": [],
   "source": [
    "def is_qualify(row):    \n",
    "    if pd.to_datetime(row.date).year == 2010:\n",
    "        if row.team_name in ['Manchester United','Chelsea','Manchester City']:\n",
    "            return 1\n",
    "        else:\n",
    "            return 0\n",
    "    elif pd.to_datetime(row.date).year == 2011:\n",
    "        if row.team_name in ['Manchester United','Arsenal','Manchester City']:\n",
    "            return 1\n",
    "        else:\n",
    "            return 0\n",
    "    elif pd.to_datetime(row.date).year == 2012:\n",
    "        if row.team_name in ['Manchester United','Chelsea','Manchester City']:\n",
    "            return 1\n",
    "        else:\n",
    "            return 0\n",
    "    elif pd.to_datetime(row.date).year == 2013:\n",
    "        if row.team_name in ['Liverpool','Chelsea','Manchester City']:\n",
    "            return 1\n",
    "        else:\n",
    "            return 0\n",
    "    elif pd.to_datetime(row.date).year == 2014:\n",
    "        if row.team_name in ['Arsenal','Chelsea','Manchester City']:\n",
    "            return 1\n",
    "        else:\n",
    "            return 0\n",
    "    elif pd.to_datetime(row.date).year == 2015:\n",
    "        if row.team_name in ['Arsenal','Leicester City','Tottenham Hotspur']:\n",
    "            return 1\n",
    "        else:\n",
    "            return 0    \n",
    "    \n",
    "    else:\n",
    "        return -1\n",
    "    "
   ]
  },
  {
   "cell_type": "code",
   "execution_count": 246,
   "metadata": {},
   "outputs": [
    {
     "name": "stderr",
     "output_type": "stream",
     "text": [
      "C:\\Users\\suvas\\Anaconda2\\lib\\site-packages\\ipykernel_launcher.py:1: SettingWithCopyWarning: \n",
      "A value is trying to be set on a copy of a slice from a DataFrame.\n",
      "Try using .loc[row_indexer,col_indexer] = value instead\n",
      "\n",
      "See the caveats in the documentation: http://pandas.pydata.org/pandas-docs/stable/indexing.html#indexing-view-versus-copy\n",
      "  \"\"\"Entry point for launching an IPython kernel.\n"
     ]
    }
   ],
   "source": [
    "df_epl_teams_attr['qualify'] = df_epl_teams_attr[['date','team_name']].apply(lambda row: is_qualify(row), axis=1)"
   ]
  },
  {
   "cell_type": "code",
   "execution_count": 248,
   "metadata": {},
   "outputs": [
    {
     "data": {
      "text/html": [
       "<div>\n",
       "<style>\n",
       "    .dataframe thead tr:only-child th {\n",
       "        text-align: right;\n",
       "    }\n",
       "\n",
       "    .dataframe thead th {\n",
       "        text-align: left;\n",
       "    }\n",
       "\n",
       "    .dataframe tbody tr th {\n",
       "        vertical-align: top;\n",
       "    }\n",
       "</style>\n",
       "<table border=\"1\" class=\"dataframe\">\n",
       "  <thead>\n",
       "    <tr style=\"text-align: right;\">\n",
       "      <th></th>\n",
       "      <th>id</th>\n",
       "      <th>team_fifa_api_id</th>\n",
       "      <th>date</th>\n",
       "      <th>buildUpPlaySpeed</th>\n",
       "      <th>buildUpPlaySpeedClass</th>\n",
       "      <th>...</th>\n",
       "      <th>defenceTeamWidth</th>\n",
       "      <th>defenceTeamWidthClass</th>\n",
       "      <th>defenceDefenderLineClass</th>\n",
       "      <th>team_name</th>\n",
       "      <th>qualify</th>\n",
       "    </tr>\n",
       "  </thead>\n",
       "  <tbody>\n",
       "    <tr>\n",
       "      <th>71</th>\n",
       "      <td>72</td>\n",
       "      <td>1</td>\n",
       "      <td>2011-02-22</td>\n",
       "      <td>75</td>\n",
       "      <td>1</td>\n",
       "      <td>...</td>\n",
       "      <td>45</td>\n",
       "      <td>2</td>\n",
       "      <td>1</td>\n",
       "      <td>Arsenal</td>\n",
       "      <td>1</td>\n",
       "    </tr>\n",
       "    <tr>\n",
       "      <th>74</th>\n",
       "      <td>75</td>\n",
       "      <td>1</td>\n",
       "      <td>2014-09-19</td>\n",
       "      <td>59</td>\n",
       "      <td>2</td>\n",
       "      <td>...</td>\n",
       "      <td>52</td>\n",
       "      <td>2</td>\n",
       "      <td>1</td>\n",
       "      <td>Arsenal</td>\n",
       "      <td>1</td>\n",
       "    </tr>\n",
       "    <tr>\n",
       "      <th>75</th>\n",
       "      <td>76</td>\n",
       "      <td>1</td>\n",
       "      <td>2015-09-10</td>\n",
       "      <td>59</td>\n",
       "      <td>2</td>\n",
       "      <td>...</td>\n",
       "      <td>52</td>\n",
       "      <td>2</td>\n",
       "      <td>1</td>\n",
       "      <td>Arsenal</td>\n",
       "      <td>1</td>\n",
       "    </tr>\n",
       "    <tr>\n",
       "      <th>306</th>\n",
       "      <td>307</td>\n",
       "      <td>5</td>\n",
       "      <td>2010-02-22</td>\n",
       "      <td>70</td>\n",
       "      <td>1</td>\n",
       "      <td>...</td>\n",
       "      <td>35</td>\n",
       "      <td>2</td>\n",
       "      <td>1</td>\n",
       "      <td>Chelsea</td>\n",
       "      <td>1</td>\n",
       "    </tr>\n",
       "    <tr>\n",
       "      <th>308</th>\n",
       "      <td>309</td>\n",
       "      <td>5</td>\n",
       "      <td>2012-02-22</td>\n",
       "      <td>60</td>\n",
       "      <td>2</td>\n",
       "      <td>...</td>\n",
       "      <td>46</td>\n",
       "      <td>2</td>\n",
       "      <td>1</td>\n",
       "      <td>Chelsea</td>\n",
       "      <td>1</td>\n",
       "    </tr>\n",
       "    <tr>\n",
       "      <th>309</th>\n",
       "      <td>310</td>\n",
       "      <td>5</td>\n",
       "      <td>2013-09-20</td>\n",
       "      <td>46</td>\n",
       "      <td>2</td>\n",
       "      <td>...</td>\n",
       "      <td>46</td>\n",
       "      <td>2</td>\n",
       "      <td>1</td>\n",
       "      <td>Chelsea</td>\n",
       "      <td>1</td>\n",
       "    </tr>\n",
       "    <tr>\n",
       "      <th>310</th>\n",
       "      <td>311</td>\n",
       "      <td>5</td>\n",
       "      <td>2014-09-19</td>\n",
       "      <td>67</td>\n",
       "      <td>1</td>\n",
       "      <td>...</td>\n",
       "      <td>46</td>\n",
       "      <td>2</td>\n",
       "      <td>1</td>\n",
       "      <td>Chelsea</td>\n",
       "      <td>1</td>\n",
       "    </tr>\n",
       "    <tr>\n",
       "      <th>717</th>\n",
       "      <td>718</td>\n",
       "      <td>95</td>\n",
       "      <td>2015-09-10</td>\n",
       "      <td>63</td>\n",
       "      <td>2</td>\n",
       "      <td>...</td>\n",
       "      <td>55</td>\n",
       "      <td>2</td>\n",
       "      <td>1</td>\n",
       "      <td>Leicester City</td>\n",
       "      <td>1</td>\n",
       "    </tr>\n",
       "    <tr>\n",
       "      <th>745</th>\n",
       "      <td>746</td>\n",
       "      <td>9</td>\n",
       "      <td>2013-09-20</td>\n",
       "      <td>39</td>\n",
       "      <td>2</td>\n",
       "      <td>...</td>\n",
       "      <td>61</td>\n",
       "      <td>2</td>\n",
       "      <td>1</td>\n",
       "      <td>Liverpool</td>\n",
       "      <td>1</td>\n",
       "    </tr>\n",
       "    <tr>\n",
       "      <th>800</th>\n",
       "      <td>801</td>\n",
       "      <td>10</td>\n",
       "      <td>2010-02-22</td>\n",
       "      <td>70</td>\n",
       "      <td>1</td>\n",
       "      <td>...</td>\n",
       "      <td>45</td>\n",
       "      <td>2</td>\n",
       "      <td>1</td>\n",
       "      <td>Manchester City</td>\n",
       "      <td>1</td>\n",
       "    </tr>\n",
       "    <tr>\n",
       "      <th>801</th>\n",
       "      <td>802</td>\n",
       "      <td>10</td>\n",
       "      <td>2011-02-22</td>\n",
       "      <td>70</td>\n",
       "      <td>1</td>\n",
       "      <td>...</td>\n",
       "      <td>50</td>\n",
       "      <td>2</td>\n",
       "      <td>1</td>\n",
       "      <td>Manchester City</td>\n",
       "      <td>1</td>\n",
       "    </tr>\n",
       "    <tr>\n",
       "      <th>802</th>\n",
       "      <td>803</td>\n",
       "      <td>10</td>\n",
       "      <td>2012-02-22</td>\n",
       "      <td>45</td>\n",
       "      <td>2</td>\n",
       "      <td>...</td>\n",
       "      <td>54</td>\n",
       "      <td>2</td>\n",
       "      <td>1</td>\n",
       "      <td>Manchester City</td>\n",
       "      <td>1</td>\n",
       "    </tr>\n",
       "    <tr>\n",
       "      <th>803</th>\n",
       "      <td>804</td>\n",
       "      <td>10</td>\n",
       "      <td>2013-09-20</td>\n",
       "      <td>36</td>\n",
       "      <td>2</td>\n",
       "      <td>...</td>\n",
       "      <td>54</td>\n",
       "      <td>2</td>\n",
       "      <td>1</td>\n",
       "      <td>Manchester City</td>\n",
       "      <td>1</td>\n",
       "    </tr>\n",
       "    <tr>\n",
       "      <th>804</th>\n",
       "      <td>805</td>\n",
       "      <td>10</td>\n",
       "      <td>2014-09-19</td>\n",
       "      <td>59</td>\n",
       "      <td>2</td>\n",
       "      <td>...</td>\n",
       "      <td>54</td>\n",
       "      <td>2</td>\n",
       "      <td>1</td>\n",
       "      <td>Manchester City</td>\n",
       "      <td>1</td>\n",
       "    </tr>\n",
       "    <tr>\n",
       "      <th>806</th>\n",
       "      <td>807</td>\n",
       "      <td>11</td>\n",
       "      <td>2010-02-22</td>\n",
       "      <td>70</td>\n",
       "      <td>1</td>\n",
       "      <td>...</td>\n",
       "      <td>40</td>\n",
       "      <td>2</td>\n",
       "      <td>1</td>\n",
       "      <td>Manchester United</td>\n",
       "      <td>1</td>\n",
       "    </tr>\n",
       "    <tr>\n",
       "      <th>807</th>\n",
       "      <td>808</td>\n",
       "      <td>11</td>\n",
       "      <td>2011-02-22</td>\n",
       "      <td>65</td>\n",
       "      <td>2</td>\n",
       "      <td>...</td>\n",
       "      <td>65</td>\n",
       "      <td>2</td>\n",
       "      <td>1</td>\n",
       "      <td>Manchester United</td>\n",
       "      <td>1</td>\n",
       "    </tr>\n",
       "    <tr>\n",
       "      <th>808</th>\n",
       "      <td>809</td>\n",
       "      <td>11</td>\n",
       "      <td>2012-02-22</td>\n",
       "      <td>46</td>\n",
       "      <td>2</td>\n",
       "      <td>...</td>\n",
       "      <td>56</td>\n",
       "      <td>2</td>\n",
       "      <td>1</td>\n",
       "      <td>Manchester United</td>\n",
       "      <td>1</td>\n",
       "    </tr>\n",
       "    <tr>\n",
       "      <th>1280</th>\n",
       "      <td>1281</td>\n",
       "      <td>18</td>\n",
       "      <td>2015-09-10</td>\n",
       "      <td>47</td>\n",
       "      <td>2</td>\n",
       "      <td>...</td>\n",
       "      <td>56</td>\n",
       "      <td>2</td>\n",
       "      <td>1</td>\n",
       "      <td>Tottenham Hotspur</td>\n",
       "      <td>1</td>\n",
       "    </tr>\n",
       "  </tbody>\n",
       "</table>\n",
       "<p>18 rows × 25 columns</p>\n",
       "</div>"
      ],
      "text/plain": [
       "        id  team_fifa_api_id       date  buildUpPlaySpeed  \\\n",
       "71      72                 1 2011-02-22                75   \n",
       "74      75                 1 2014-09-19                59   \n",
       "75      76                 1 2015-09-10                59   \n",
       "306    307                 5 2010-02-22                70   \n",
       "308    309                 5 2012-02-22                60   \n",
       "309    310                 5 2013-09-20                46   \n",
       "310    311                 5 2014-09-19                67   \n",
       "717    718                95 2015-09-10                63   \n",
       "745    746                 9 2013-09-20                39   \n",
       "800    801                10 2010-02-22                70   \n",
       "801    802                10 2011-02-22                70   \n",
       "802    803                10 2012-02-22                45   \n",
       "803    804                10 2013-09-20                36   \n",
       "804    805                10 2014-09-19                59   \n",
       "806    807                11 2010-02-22                70   \n",
       "807    808                11 2011-02-22                65   \n",
       "808    809                11 2012-02-22                46   \n",
       "1280  1281                18 2015-09-10                47   \n",
       "\n",
       "      buildUpPlaySpeedClass   ...     defenceTeamWidth  defenceTeamWidthClass  \\\n",
       "71                        1   ...                   45                      2   \n",
       "74                        2   ...                   52                      2   \n",
       "75                        2   ...                   52                      2   \n",
       "306                       1   ...                   35                      2   \n",
       "308                       2   ...                   46                      2   \n",
       "309                       2   ...                   46                      2   \n",
       "310                       1   ...                   46                      2   \n",
       "717                       2   ...                   55                      2   \n",
       "745                       2   ...                   61                      2   \n",
       "800                       1   ...                   45                      2   \n",
       "801                       1   ...                   50                      2   \n",
       "802                       2   ...                   54                      2   \n",
       "803                       2   ...                   54                      2   \n",
       "804                       2   ...                   54                      2   \n",
       "806                       1   ...                   40                      2   \n",
       "807                       2   ...                   65                      2   \n",
       "808                       2   ...                   56                      2   \n",
       "1280                      2   ...                   56                      2   \n",
       "\n",
       "      defenceDefenderLineClass          team_name  qualify  \n",
       "71                           1            Arsenal        1  \n",
       "74                           1            Arsenal        1  \n",
       "75                           1            Arsenal        1  \n",
       "306                          1            Chelsea        1  \n",
       "308                          1            Chelsea        1  \n",
       "309                          1            Chelsea        1  \n",
       "310                          1            Chelsea        1  \n",
       "717                          1     Leicester City        1  \n",
       "745                          1          Liverpool        1  \n",
       "800                          1    Manchester City        1  \n",
       "801                          1    Manchester City        1  \n",
       "802                          1    Manchester City        1  \n",
       "803                          1    Manchester City        1  \n",
       "804                          1    Manchester City        1  \n",
       "806                          1  Manchester United        1  \n",
       "807                          1  Manchester United        1  \n",
       "808                          1  Manchester United        1  \n",
       "1280                         1  Tottenham Hotspur        1  \n",
       "\n",
       "[18 rows x 25 columns]"
      ]
     },
     "execution_count": 248,
     "metadata": {},
     "output_type": "execute_result"
    }
   ],
   "source": [
    "df_epl_teams_attr[df_epl_teams_attr.qualify==1]"
   ]
  },
  {
   "cell_type": "code",
   "execution_count": 254,
   "metadata": {
    "collapsed": true
   },
   "outputs": [],
   "source": [
    "df_epl_teams_attr.to_csv(os.path.join('..', 'dataset', 'epl-predict-dataset-01'))"
   ]
  },
  {
   "cell_type": "code",
   "execution_count": 252,
   "metadata": {
    "collapsed": true
   },
   "outputs": [],
   "source": []
  },
  {
   "cell_type": "code",
   "execution_count": null,
   "metadata": {
    "collapsed": true
   },
   "outputs": [],
   "source": []
  }
 ],
 "metadata": {
  "kernelspec": {
   "display_name": "Python 2",
   "language": "python",
   "name": "python2"
  },
  "language_info": {
   "codemirror_mode": {
    "name": "ipython",
    "version": 2
   },
   "file_extension": ".py",
   "mimetype": "text/x-python",
   "name": "python",
   "nbconvert_exporter": "python",
   "pygments_lexer": "ipython2",
   "version": "2.7.13"
  }
 },
 "nbformat": 4,
 "nbformat_minor": 2
}
