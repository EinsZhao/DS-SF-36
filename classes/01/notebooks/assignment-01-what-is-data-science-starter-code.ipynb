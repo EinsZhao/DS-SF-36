{
 "cells": [
  {
   "cell_type": "markdown",
   "metadata": {},
   "source": [
    "# DS-SF-36 | 01 | What is Data Science | Assignment | Starter Code"
   ]
  },
  {
   "cell_type": "markdown",
   "metadata": {},
   "source": [
    "## Python"
   ]
  },
  {
   "cell_type": "markdown",
   "metadata": {},
   "source": [
    "> ## \"Data scientists' most basic, universal skill is the ability to write code.\"\n",
    ">\n",
    "> Harvard Business Review | “Data Scientists: The Sexiest Job of the 21st Century” (2012)\n",
    ">\n",
    "> (https://hbr.org/2012/10/data-scientist-the-sexiest-job-of-the-21st-century)\n",
    "\n",
    "Today, to give you some more practice beyond the course pre-requisites, we are going to implement a few functions in Python.  This assignment covers to some extend the following topics:\n",
    "\n",
    "- Functions (defining and using your own functions but also calling functions from packages)\n",
    "- Loops\n",
    "- Arithmetic operations\n",
    "- Conditional statements\n",
    "\n",
    "**Don't worry if you get stuck.  Ask around, review the answer key, and ask around more.  As this course progresses, your programming proficiency will increase.**"
   ]
  },
  {
   "cell_type": "markdown",
   "metadata": {},
   "source": [
    "> ### Question 1.  Multiples of 3 and 5\n",
    ">\n",
    "> If we list all the natural numbers below 10 that are multiples of 3 or 5, we get 3, 5, 6 and 9.  The sum of these multiples is 23.\n",
    ">\n",
    "> Find the sum of all the multiples of 3 or 5 below 1,000.\n",
    ">\n",
    "> (Source: [Project Euler | Problem 1](https://projecteuler.net/problem=1))"
   ]
  },
  {
   "cell_type": "code",
   "execution_count": 9,
   "metadata": {
    "scrolled": true
   },
   "outputs": [
    {
     "name": "stdout",
     "output_type": "stream",
     "text": [
      "233168\n"
     ]
    }
   ],
   "source": [
    "sum =0;\n",
    "for i in range(3,1000):\n",
    "    if(i%3==0 or i%5==0):\n",
    "       sum+=i;\n",
    "print(sum);\n"
   ]
  },
  {
   "cell_type": "markdown",
   "metadata": {},
   "source": [
    "Answer: 233168"
   ]
  },
  {
   "cell_type": "markdown",
   "metadata": {},
   "source": [
    "> ### Question 2.  Estimating square roots\n",
    ">\n",
    "> Given a real number $m$, let's define the series $u$ as follow:\n",
    "> - $u_0 = 1$\n",
    "> - $u_{n+1} = \\frac{u_n ^ 2 + m}{2u_n}$\n",
    ">\n",
    ">\n",
    "> Implement the calculations of the series $u$ above to estimate square roots.  Verify that $\\sqrt{144} = 12$ and use your function to calculate $\\sqrt{1024}$."
   ]
  },
  {
   "cell_type": "code",
   "execution_count": 1,
   "metadata": {},
   "outputs": [
    {
     "name": "stdout",
     "output_type": "stream",
     "text": [
      "Enter your number: 12365\n",
      "111\n"
     ]
    }
   ],
   "source": [
    "arr = dict([(0,1)])\n",
    "errorRate = 0.1;\n",
    "\n",
    "def computeDiff(a,b):\n",
    "    return abs(a-b);\n",
    "\n",
    "def computeRoot(m):    \n",
    "    for i in range(1,m+1):\n",
    "        a = arr[i-1];\n",
    "        root = (a*a+m)/(2*a);\n",
    "        arr.update({i:root});\n",
    "        if computeDiff(arr[i],arr[i-1])* 100 <= errorRate:            \n",
    "            return arr[i];\n",
    "    \n",
    "    return arr[m];\n",
    " \n",
    "m = int(input('Enter your number: '));\n",
    "\n",
    "tot =computeRoot(m);\n",
    "print(tot);"
   ]
  },
  {
   "cell_type": "markdown",
   "metadata": {},
   "source": [
    "Answer: 32"
   ]
  },
  {
   "cell_type": "markdown",
   "metadata": {},
   "source": [
    "> ### Question 3.  Prime Numbers\n",
    ">\n",
    "> A prime (number) is a natural number greater than 1 that has no positive divisors other than 1 and itself.  ([Wikipedia](https://en.wikipedia.org/wiki/Prime_number))\n",
    ">\n",
    "> Calculate all primes below 1,000.  What's their sum?"
   ]
  },
  {
   "cell_type": "code",
   "execution_count": 13,
   "metadata": {},
   "outputs": [
    {
     "name": "stdout",
     "output_type": "stream",
     "text": [
      "76128\n"
     ]
    }
   ],
   "source": [
    "arr =[]\n",
    "\n",
    "\n",
    "def getPrimeSeq(n):\n",
    "    for i in range(1,n):\n",
    "        chk=1;\n",
    "        for j in range(2,int(i/2)+1):\n",
    "            if(i%j==0):\n",
    "                chk=0;\n",
    "                break;\n",
    "        if(chk):\n",
    "            arr.append(i);\n",
    "n=1000;\n",
    "getPrimeSeq(n);\n",
    "# print(arr);\n",
    "print(sum(arr))\n"
   ]
  },
  {
   "cell_type": "markdown",
   "metadata": {},
   "source": [
    "Answer: 76128"
   ]
  },
  {
   "cell_type": "markdown",
   "metadata": {},
   "source": [
    "> ### Question 4.  Largest prime factor\n",
    ">\n",
    "> The prime factors of 13195 are 5, 7, 13 and 29.\n",
    ">\n",
    "> What is the largest prime factor of the number 600851475143?\n",
    ">\n",
    "> (Source: [Project Euler | Problem 3](https://projecteuler.net/problem=3))"
   ]
  },
  {
   "cell_type": "code",
   "execution_count": 14,
   "metadata": {},
   "outputs": [
    {
     "name": "stdout",
     "output_type": "stream",
     "text": [
      "6857\n"
     ]
    }
   ],
   "source": [
    "num = 600851475143  \n",
    "i = 2  \n",
    "while i * i < num:  \n",
    "     while num % i == 0:  \n",
    "         num = num / i  \n",
    "     i = i + 1  \n",
    "print(num) "
   ]
  },
  {
   "cell_type": "markdown",
   "metadata": {},
   "source": [
    "Answer: 6857"
   ]
  },
  {
   "cell_type": "markdown",
   "metadata": {},
   "source": [
    "> ### Question 5.  Mean\n",
    ">\n",
    "> Write a function to calculate the mean (average) of a list.\n",
    ">\n",
    "> What's the mean of 10, 8, 13, 9, 11, 14, 6, 4, 12, 7, and 5?"
   ]
  },
  {
   "cell_type": "code",
   "execution_count": 15,
   "metadata": {},
   "outputs": [
    {
     "name": "stdout",
     "output_type": "stream",
     "text": [
      "9\n"
     ]
    }
   ],
   "source": [
    "arr=[10,8,13,9,11,14,6,4,12,7,5]\n",
    "\n",
    "print(sum(arr)/len(arr))\n"
   ]
  },
  {
   "cell_type": "markdown",
   "metadata": {},
   "source": [
    "Answer: 9"
   ]
  },
  {
   "cell_type": "markdown",
   "metadata": {},
   "source": [
    "> ### Question 6.  Sample standard deviation\n",
    ">\n",
    "> Write a function to calculate the standard deviation of a sample.\n",
    ">\n",
    "> Given the sample $x_1, x_2, ..., x_N$, its standard deviation is defined as $s = \\sqrt{\\frac{1}{N - 1} \\sum_{i = 1}^{N} (x_i  - \\bar{x})^2}$, with $\\bar{x}$ as the sample mean.\n",
    ">\n",
    "> What's the standard deviation of the following sample: 10, 8, 13, 9, 11, 14, 6, 4, 12, 7, and 5?\n",
    ">\n",
    "> ([Wikipedia](https://en.wikipedia.org/wiki/Standard_deviation#Sample_standard_deviation))"
   ]
  },
  {
   "cell_type": "code",
   "execution_count": 44,
   "metadata": {
    "scrolled": true
   },
   "outputs": [
    {
     "name": "stdout",
     "output_type": "stream",
     "text": [
      "3.31662479036\n"
     ]
    }
   ],
   "source": [
    "data=[10,8,13,9,11,14,6,4,12,7,5];\n",
    "\n",
    "s=0;\n",
    "\n",
    "for i in data:\n",
    "    s +=i;\n",
    "n=len(data)\n",
    "\n",
    "avg = s/n;\n",
    "\n",
    "tot =0;\n",
    "for i in data:\n",
    "    tot +=pow(i-avg,2);\n",
    "\n",
    "temp = tot/(len(data)-1);\n",
    "result = temp**(0.5)\n",
    "\n",
    "print(result);\n"
   ]
  },
  {
   "cell_type": "markdown",
   "metadata": {},
   "source": [
    "Answer: 3.31662479036"
   ]
  },
  {
   "cell_type": "markdown",
   "metadata": {},
   "source": [
    "> ### Question 7.  Median\n",
    ">\n",
    "> Write a function to calculate the median (\"middle value\") of a list.  ([Wikipedia](https://en.wikipedia.org/wiki/Median))\n",
    ">\n",
    "> What's the median of 10, 8, 13, 9, 11, 14, 6, 4, 12, 7, and 5?"
   ]
  },
  {
   "cell_type": "code",
   "execution_count": 31,
   "metadata": {},
   "outputs": [
    {
     "name": "stdout",
     "output_type": "stream",
     "text": [
      "9\n"
     ]
    }
   ],
   "source": [
    "data=[10,8,13,9,11,14,6,4,12,7,5]\n",
    "\n",
    "data = sorted(data)\n",
    "n = len(data);\n",
    "mid = 0.0;\n",
    "if n%2 == 1:\n",
    "    i = n/2;\n",
    "    mid=data[i];\n",
    "else:\n",
    "    x=n/2;\n",
    "    y=x+1;\n",
    "    mid=(data[x]+data[y])/2;\n",
    "\n",
    "print(mid)"
   ]
  },
  {
   "cell_type": "markdown",
   "metadata": {},
   "source": [
    "Answer: 9"
   ]
  },
  {
   "cell_type": "markdown",
   "metadata": {},
   "source": [
    "> ### Question 8.  Mode\n",
    ">\n",
    "> Write a function to calculate the mode (\"most frequent value\") of a list.  ([Wikipedia](https://en.wikipedia.org/wiki/Mode_(statistics)))\n",
    ">\n",
    "> What's the mode of 10, 8, 13, 9, 11, 14, 6, 4, 12, 7 and 5?  How about the mode of 8, 8, 8, 8, 8, 8, 19, 8, 8 and 8?"
   ]
  },
  {
   "cell_type": "code",
   "execution_count": 32,
   "metadata": {},
   "outputs": [
    {
     "name": "stdout",
     "output_type": "stream",
     "text": [
      "8\n"
     ]
    }
   ],
   "source": [
    "#data=[10,8,13,9,11,14,6,4,12,7,5]\n",
    "\n",
    "data=[8, 8, 8, 8, 8, 8, 19, 8, 8 ,8 ]\n",
    "\n",
    "data = sorted(data)\n",
    "n= len(data)\n",
    "maxCount =0;\n",
    "count =0;\n",
    "mode =0;\n",
    "for i in range(1,n):\n",
    "    if data[i] == data[i-1]:\n",
    "        count +=1;\n",
    "    else:\n",
    "        if maxCount < count:\n",
    "            maxCount=count;\n",
    "            mode=data[i-1];\n",
    "        count =0;\n",
    "\n",
    "if mode > 0:\n",
    "    print(mode)\n",
    "else:\n",
    "    print('mode value does not exist')"
   ]
  },
  {
   "cell_type": "markdown",
   "metadata": {},
   "source": [
    "Answer: \n",
    "1. mode value does not exist\n",
    "2. 8"
   ]
  }
 ],
 "metadata": {
  "kernelspec": {
   "display_name": "Python 2",
   "language": "python",
   "name": "python2"
  },
  "language_info": {
   "codemirror_mode": {
    "name": "ipython",
    "version": 2
   },
   "file_extension": ".py",
   "mimetype": "text/x-python",
   "name": "python",
   "nbconvert_exporter": "python",
   "pygments_lexer": "ipython2",
   "version": "2.7.13"
  }
 },
 "nbformat": 4,
 "nbformat_minor": 1
}
