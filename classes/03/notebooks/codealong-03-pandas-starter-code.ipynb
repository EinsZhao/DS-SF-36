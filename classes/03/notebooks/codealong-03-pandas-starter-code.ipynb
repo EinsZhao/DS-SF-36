{
 "cells": [
  {
   "cell_type": "markdown",
   "metadata": {},
   "source": [
    "# DS-SF-36 | 03 | `pandas` | Codealong | Starter Code"
   ]
  },
  {
   "cell_type": "markdown",
   "metadata": {},
   "source": [
    "(http://pandas.pydata.org/pandas-docs/stable)"
   ]
  },
  {
   "cell_type": "markdown",
   "metadata": {},
   "source": [
    "## Part A | Introduction to `pandas`"
   ]
  },
  {
   "cell_type": "code",
   "execution_count": 52,
   "metadata": {},
   "outputs": [],
   "source": [
    "import os\n",
    "\n",
    "import pandas as pd\n",
    "pd.set_option('display.max_rows', 15)\n",
    "pd.set_option('display.notebook_repr_html', True)\n",
    "pd.set_option('display.max_columns', 10)\n",
    "#pd.set_option('html.border',10)"
   ]
  },
  {
   "cell_type": "markdown",
   "metadata": {},
   "source": [
    "> ## `pd.read_csv()`: load datasets from files (or even over the Internet)"
   ]
  },
  {
   "cell_type": "markdown",
   "metadata": {},
   "source": [
    "(http://pandas.pydata.org/pandas-docs/stable/generated/pandas.read_csv.html)"
   ]
  },
  {
   "cell_type": "code",
   "execution_count": 53,
   "metadata": {
    "collapsed": true
   },
   "outputs": [],
   "source": [
    "df = pd.read_csv(os.path.join('..', 'datasets', 'dataset-03-zillow-properties.csv'))"
   ]
  },
  {
   "cell_type": "markdown",
   "metadata": {},
   "source": [
    "> ## `DataFrame`"
   ]
  },
  {
   "cell_type": "markdown",
   "metadata": {},
   "source": [
    "Let's check `df`'s type:"
   ]
  },
  {
   "cell_type": "code",
   "execution_count": 58,
   "metadata": {},
   "outputs": [
    {
     "name": "stdout",
     "output_type": "stream",
     "text": [
      "compute.use_bottleneck : bool\n",
      "    Use the bottleneck library to accelerate if it is installed,\n",
      "    the default is True\n",
      "    Valid values: False,True\n",
      "    [default: True] [currently: True]\n",
      "\n",
      "compute.use_numexpr : bool\n",
      "    Use the numexpr library to accelerate computation if it is installed,\n",
      "    the default is True\n",
      "    Valid values: False,True\n",
      "    [default: True] [currently: True]\n",
      "\n",
      "display.chop_threshold : float or None\n",
      "    if set to a float value, all float values smaller then the given threshold\n",
      "    will be displayed as exactly 0 by repr and friends.\n",
      "    [default: None] [currently: None]\n",
      "\n",
      "display.colheader_justify : 'left'/'right'\n",
      "    Controls the justification of column headers. used by DataFrameFormatter.\n",
      "    [default: right] [currently: right]\n",
      "\n",
      "display.column_space No description available.\n",
      "    [default: 12] [currently: 12]\n",
      "\n",
      "display.date_dayfirst : boolean\n",
      "    When True, prints and parses dates with the day first, eg 20/01/2005\n",
      "    [default: False] [currently: False]\n",
      "\n",
      "display.date_yearfirst : boolean\n",
      "    When True, prints and parses dates with the year first, eg 2005/01/20\n",
      "    [default: False] [currently: False]\n",
      "\n",
      "display.encoding : str/unicode\n",
      "    Defaults to the detected encoding of the console.\n",
      "    Specifies the encoding to be used for strings returned by to_string,\n",
      "    these are generally strings meant to be displayed on the console.\n",
      "    [default: UTF-8] [currently: UTF-8]\n",
      "\n",
      "display.expand_frame_repr : boolean\n",
      "    Whether to print out the full DataFrame repr for wide DataFrames across\n",
      "    multiple lines, `max_columns` is still respected, but the output will\n",
      "    wrap-around across multiple \"pages\" if its width exceeds `display.width`.\n",
      "    [default: True] [currently: True]\n",
      "\n",
      "display.float_format : callable\n",
      "    The callable should accept a floating point number and return\n",
      "    a string with the desired format of the number. This is used\n",
      "    in some places like SeriesFormatter.\n",
      "    See formats.format.EngFormatter for an example.\n",
      "    [default: None] [currently: None]\n",
      "\n",
      "display.height : int\n",
      "    Deprecated.\n",
      "    [default: 60] [currently: 15]\n",
      "    (Deprecated, use `display.max_rows` instead.)\n",
      "\n",
      "display.html.table_schema : boolean\n",
      "    Whether to publish a Table Schema representation for frontends\n",
      "    that support it.\n",
      "    (default: False)\n",
      "    [default: False] [currently: False]\n",
      "\n",
      "display.large_repr : 'truncate'/'info'\n",
      "    For DataFrames exceeding max_rows/max_cols, the repr (and HTML repr) can\n",
      "    show a truncated table (the default from 0.13), or switch to the view from\n",
      "    df.info() (the behaviour in earlier versions of pandas).\n",
      "    [default: truncate] [currently: truncate]\n",
      "\n",
      "display.latex.escape : bool\n",
      "    This specifies if the to_latex method of a Dataframe uses escapes special\n",
      "    characters.\n",
      "    Valid values: False,True\n",
      "    [default: True] [currently: True]\n",
      "\n",
      "display.latex.longtable :bool\n",
      "    This specifies if the to_latex method of a Dataframe uses the longtable\n",
      "    format.\n",
      "    Valid values: False,True\n",
      "    [default: False] [currently: False]\n",
      "\n",
      "display.latex.multicolumn : bool\n",
      "    This specifies if the to_latex method of a Dataframe uses multicolumns\n",
      "    to pretty-print MultiIndex columns.\n",
      "    Valid values: False,True\n",
      "    [default: True] [currently: True]\n",
      "\n",
      "display.latex.multicolumn_format : bool\n",
      "    This specifies if the to_latex method of a Dataframe uses multicolumns\n",
      "    to pretty-print MultiIndex columns.\n",
      "    Valid values: False,True\n",
      "    [default: l] [currently: l]\n",
      "\n",
      "display.latex.multirow : bool\n",
      "    This specifies if the to_latex method of a Dataframe uses multirows\n",
      "    to pretty-print MultiIndex rows.\n",
      "    Valid values: False,True\n",
      "    [default: False] [currently: False]\n",
      "\n",
      "display.latex.repr : boolean\n",
      "    Whether to produce a latex DataFrame representation for jupyter\n",
      "    environments that support it.\n",
      "    (default: False)\n",
      "    [default: False] [currently: False]\n",
      "\n",
      "display.line_width : int\n",
      "    Deprecated.\n",
      "    [default: 80] [currently: 80]\n",
      "    (Deprecated, use `display.width` instead.)\n",
      "\n",
      "display.max_categories : int\n",
      "    This sets the maximum number of categories pandas should output when\n",
      "    printing out a `Categorical` or a Series of dtype \"category\".\n",
      "    [default: 8] [currently: 8]\n",
      "\n",
      "display.max_columns : int\n",
      "    If max_cols is exceeded, switch to truncate view. Depending on\n",
      "    `large_repr`, objects are either centrally truncated or printed as\n",
      "    a summary view. 'None' value means unlimited.\n",
      "\n",
      "    In case python/IPython is running in a terminal and `large_repr`\n",
      "    equals 'truncate' this can be set to 0 and pandas will auto-detect\n",
      "    the width of the terminal and print a truncated object which fits\n",
      "    the screen width. The IPython notebook, IPython qtconsole, or IDLE\n",
      "    do not run in a terminal and hence it is not possible to do\n",
      "    correct auto-detection.\n",
      "    [default: 20] [currently: 10]\n",
      "\n",
      "display.max_colwidth : int\n",
      "    The maximum width in characters of a column in the repr of\n",
      "    a pandas data structure. When the column overflows, a \"...\"\n",
      "    placeholder is embedded in the output.\n",
      "    [default: 50] [currently: 50]\n",
      "\n",
      "display.max_info_columns : int\n",
      "    max_info_columns is used in DataFrame.info method to decide if\n",
      "    per column information will be printed.\n",
      "    [default: 100] [currently: 100]\n",
      "\n",
      "display.max_info_rows : int or None\n",
      "    df.info() will usually show null-counts for each column.\n",
      "    For large frames this can be quite slow. max_info_rows and max_info_cols\n",
      "    limit this null check only to frames with smaller dimensions than\n",
      "    specified.\n",
      "    [default: 1690785] [currently: 1690785]\n",
      "\n",
      "display.max_rows : int\n",
      "    If max_rows is exceeded, switch to truncate view. Depending on\n",
      "    `large_repr`, objects are either centrally truncated or printed as\n",
      "    a summary view. 'None' value means unlimited.\n",
      "\n",
      "    In case python/IPython is running in a terminal and `large_repr`\n",
      "    equals 'truncate' this can be set to 0 and pandas will auto-detect\n",
      "    the height of the terminal and print a truncated object which fits\n",
      "    the screen height. The IPython notebook, IPython qtconsole, or\n",
      "    IDLE do not run in a terminal and hence it is not possible to do\n",
      "    correct auto-detection.\n",
      "    [default: 60] [currently: 15]\n",
      "\n",
      "display.max_seq_items : int or None\n",
      "    when pretty-printing a long sequence, no more then `max_seq_items`\n",
      "    will be printed. If items are omitted, they will be denoted by the\n",
      "    addition of \"...\" to the resulting string.\n",
      "\n",
      "    If set to None, the number of items to be printed is unlimited.\n",
      "    [default: 100] [currently: 100]\n",
      "\n",
      "display.memory_usage : bool, string or None\n",
      "    This specifies if the memory usage of a DataFrame should be displayed when\n",
      "    df.info() is called. Valid values True,False,'deep'\n",
      "    [default: True] [currently: True]\n",
      "\n",
      "display.mpl_style : bool\n",
      "    Setting this to 'default' will modify the rcParams used by matplotlib\n",
      "    to give plots a more pleasing visual style by default.\n",
      "    Setting this to None/False restores the values to their initial value.\n",
      "    [default: None] [currently: None]\n",
      "\n",
      "display.multi_sparse : boolean\n",
      "    \"sparsify\" MultiIndex display (don't display repeated\n",
      "    elements in outer levels within groups)\n",
      "    [default: True] [currently: True]\n",
      "\n",
      "display.notebook_repr_html : boolean\n",
      "    When True, IPython notebook will use html representation for\n",
      "    pandas objects (if it is available).\n",
      "    [default: True] [currently: True]\n",
      "\n",
      "display.pprint_nest_depth : int\n",
      "    Controls the number of nested levels to process when pretty-printing\n",
      "    [default: 3] [currently: 3]\n",
      "\n",
      "display.precision : int\n",
      "    Floating point output precision (number of significant digits). This is\n",
      "    only a suggestion\n",
      "    [default: 6] [currently: 6]\n",
      "\n",
      "display.show_dimensions : boolean or 'truncate'\n",
      "    Whether to print out dimensions at the end of DataFrame repr.\n",
      "    If 'truncate' is specified, only print out the dimensions if the\n",
      "    frame is truncated (e.g. not display all rows and/or columns)\n",
      "    [default: truncate] [currently: truncate]\n",
      "\n",
      "display.unicode.ambiguous_as_wide : boolean\n",
      "    Whether to use the Unicode East Asian Width to calculate the display text\n",
      "    width.\n",
      "    Enabling this may affect to the performance (default: False)\n",
      "    [default: False] [currently: False]\n",
      "\n",
      "display.unicode.east_asian_width : boolean\n",
      "    Whether to use the Unicode East Asian Width to calculate the display text\n",
      "    width.\n",
      "    Enabling this may affect to the performance (default: False)\n",
      "    [default: False] [currently: False]\n",
      "\n",
      "display.width : int\n",
      "    Width of the display in characters. In case python/IPython is running in\n",
      "    a terminal this can be set to None and pandas will correctly auto-detect\n",
      "    the width.\n",
      "    Note that the IPython notebook, IPython qtconsole, or IDLE do not run in a\n",
      "    terminal and hence it is not possible to correctly detect the width.\n",
      "    [default: 80] [currently: 80]\n",
      "\n",
      "html.border : int\n",
      "    A ``border=value`` attribute is inserted in the ``<table>`` tag\n",
      "    for the DataFrame HTML repr.\n",
      "    [default: 1] [currently: 10]\n",
      "\n",
      "io.excel.xls.writer : string\n",
      "    The default Excel writer engine for 'xls' files. Available options:\n",
      "    'xlwt' (the default).\n",
      "    [default: xlwt] [currently: xlwt]\n",
      "\n",
      "io.excel.xlsm.writer : string\n",
      "    The default Excel writer engine for 'xlsm' files. Available options:\n",
      "    'openpyxl' (the default).\n",
      "    [default: openpyxl] [currently: openpyxl]\n",
      "\n",
      "io.excel.xlsx.writer : string\n",
      "    The default Excel writer engine for 'xlsx' files. Available options:\n",
      "    'xlsxwriter' (the default), 'openpyxl'.\n",
      "    [default: xlsxwriter] [currently: xlsxwriter]\n",
      "\n",
      "io.hdf.default_format : format\n",
      "    default format writing format, if None, then\n",
      "    put will default to 'fixed' and append will default to 'table'\n",
      "    [default: None] [currently: None]\n",
      "\n",
      "io.hdf.dropna_table : boolean\n",
      "    drop ALL nan rows when appending to a table\n",
      "    [default: False] [currently: False]\n",
      "\n",
      "mode.chained_assignment : string\n",
      "    Raise an exception, warn, or no action if trying to use chained assignment,\n",
      "    The default is warn\n",
      "    [default: warn] [currently: warn]\n",
      "\n",
      "mode.sim_interactive : boolean\n",
      "    Whether to simulate interactive mode for purposes of testing\n",
      "    [default: False] [currently: False]\n",
      "\n",
      "mode.use_inf_as_null : boolean\n",
      "    True means treat None, NaN, INF, -INF as null (old way),\n",
      "    False means None and NaN are null, but INF, -INF are not null\n",
      "    (new way).\n",
      "    [default: False] [currently: False]\n",
      "\n",
      "\n"
     ]
    }
   ],
   "source": [
    "pd.describe_option()"
   ]
  },
  {
   "cell_type": "markdown",
   "metadata": {},
   "source": [
    "`df` is a `DataFrame`.  (http://pandas.pydata.org/pandas-docs/stable/dsintro.html)"
   ]
  },
  {
   "cell_type": "markdown",
   "metadata": {},
   "source": [
    "A `DataFrame` stores tabular data.  Let's have a look at its content:"
   ]
  },
  {
   "cell_type": "code",
   "execution_count": 54,
   "metadata": {
    "scrolled": true
   },
   "outputs": [
    {
     "data": {
      "text/html": [
       "<div>\n",
       "<style>\n",
       "    .dataframe thead tr:only-child th {\n",
       "        text-align: right;\n",
       "    }\n",
       "\n",
       "    .dataframe thead th {\n",
       "        text-align: left;\n",
       "    }\n",
       "\n",
       "    .dataframe tbody tr th {\n",
       "        vertical-align: top;\n",
       "    }\n",
       "</style>\n",
       "<table border=\"10\" class=\"dataframe\">\n",
       "  <thead>\n",
       "    <tr style=\"text-align: right;\">\n",
       "      <th></th>\n",
       "      <th>ID</th>\n",
       "      <th>Address</th>\n",
       "      <th>Latitude</th>\n",
       "      <th>Longitude</th>\n",
       "      <th>IsAStudio</th>\n",
       "      <th>...</th>\n",
       "      <th>Size</th>\n",
       "      <th>SizeUnit</th>\n",
       "      <th>LotSize</th>\n",
       "      <th>LotSizeUnit</th>\n",
       "      <th>BuiltInYear</th>\n",
       "    </tr>\n",
       "  </thead>\n",
       "  <tbody>\n",
       "    <tr>\n",
       "      <th>0</th>\n",
       "      <td>2121978635</td>\n",
       "      <td>829 Folsom St UNIT 906, San Francisco, CA</td>\n",
       "      <td>37781429</td>\n",
       "      <td>-122401860</td>\n",
       "      <td>False</td>\n",
       "      <td>...</td>\n",
       "      <td>557.0</td>\n",
       "      <td>sqft</td>\n",
       "      <td>NaN</td>\n",
       "      <td>NaN</td>\n",
       "      <td>2010.0</td>\n",
       "    </tr>\n",
       "    <tr>\n",
       "      <th>1</th>\n",
       "      <td>89239580</td>\n",
       "      <td>690 Market St UNIT 1705, San Francisco, CA</td>\n",
       "      <td>37788246</td>\n",
       "      <td>-122403198</td>\n",
       "      <td>False</td>\n",
       "      <td>...</td>\n",
       "      <td>1050.0</td>\n",
       "      <td>sqft</td>\n",
       "      <td>NaN</td>\n",
       "      <td>NaN</td>\n",
       "      <td>2007.0</td>\n",
       "    </tr>\n",
       "    <tr>\n",
       "      <th>2</th>\n",
       "      <td>15131782</td>\n",
       "      <td>401 Grand View Ave APT 3, San Francisco, CA</td>\n",
       "      <td>37752157</td>\n",
       "      <td>-122442356</td>\n",
       "      <td>False</td>\n",
       "      <td>...</td>\n",
       "      <td>937.0</td>\n",
       "      <td>sqft</td>\n",
       "      <td>NaN</td>\n",
       "      <td>NaN</td>\n",
       "      <td>1983.0</td>\n",
       "    </tr>\n",
       "    <tr>\n",
       "      <th>3</th>\n",
       "      <td>15179502</td>\n",
       "      <td>250 Concord St, San Francisco, CA</td>\n",
       "      <td>37710141</td>\n",
       "      <td>-122442063</td>\n",
       "      <td>False</td>\n",
       "      <td>...</td>\n",
       "      <td>1574.0</td>\n",
       "      <td>sqft</td>\n",
       "      <td>1947.0</td>\n",
       "      <td>sqft</td>\n",
       "      <td>1959.0</td>\n",
       "    </tr>\n",
       "    <tr>\n",
       "      <th>4</th>\n",
       "      <td>52266124</td>\n",
       "      <td>88 King St APT 317, San Francisco, CA</td>\n",
       "      <td>37780630</td>\n",
       "      <td>-122389635</td>\n",
       "      <td>False</td>\n",
       "      <td>...</td>\n",
       "      <td>1205.0</td>\n",
       "      <td>sqft</td>\n",
       "      <td>NaN</td>\n",
       "      <td>NaN</td>\n",
       "      <td>2000.0</td>\n",
       "    </tr>\n",
       "    <tr>\n",
       "      <th>5</th>\n",
       "      <td>2100994004</td>\n",
       "      <td>409 Miguel St, San Francisco, CA</td>\n",
       "      <td>37736625</td>\n",
       "      <td>-122427008</td>\n",
       "      <td>False</td>\n",
       "      <td>...</td>\n",
       "      <td>400.0</td>\n",
       "      <td>sqft</td>\n",
       "      <td>NaN</td>\n",
       "      <td>NaN</td>\n",
       "      <td>NaN</td>\n",
       "    </tr>\n",
       "    <tr>\n",
       "      <th>6</th>\n",
       "      <td>15067755</td>\n",
       "      <td>1250 Clay St APT 306, San Francisco, CA</td>\n",
       "      <td>37793575</td>\n",
       "      <td>-122413670</td>\n",
       "      <td>False</td>\n",
       "      <td>...</td>\n",
       "      <td>541.0</td>\n",
       "      <td>sqft</td>\n",
       "      <td>NaN</td>\n",
       "      <td>NaN</td>\n",
       "      <td>1950.0</td>\n",
       "    </tr>\n",
       "    <tr>\n",
       "      <th>...</th>\n",
       "      <td>...</td>\n",
       "      <td>...</td>\n",
       "      <td>...</td>\n",
       "      <td>...</td>\n",
       "      <td>...</td>\n",
       "      <td>...</td>\n",
       "      <td>...</td>\n",
       "      <td>...</td>\n",
       "      <td>...</td>\n",
       "      <td>...</td>\n",
       "      <td>...</td>\n",
       "    </tr>\n",
       "    <tr>\n",
       "      <th>993</th>\n",
       "      <td>61288364</td>\n",
       "      <td>439 19th Ave, San Francisco, CA</td>\n",
       "      <td>37779545</td>\n",
       "      <td>-122478580</td>\n",
       "      <td>False</td>\n",
       "      <td>...</td>\n",
       "      <td>1544.0</td>\n",
       "      <td>sqft</td>\n",
       "      <td>NaN</td>\n",
       "      <td>NaN</td>\n",
       "      <td>2001.0</td>\n",
       "    </tr>\n",
       "    <tr>\n",
       "      <th>994</th>\n",
       "      <td>69819412</td>\n",
       "      <td>250 King St UNIT 410, San Francisco, CA</td>\n",
       "      <td>37777645</td>\n",
       "      <td>-122393430</td>\n",
       "      <td>False</td>\n",
       "      <td>...</td>\n",
       "      <td>822.0</td>\n",
       "      <td>sqft</td>\n",
       "      <td>NaN</td>\n",
       "      <td>NaN</td>\n",
       "      <td>2004.0</td>\n",
       "    </tr>\n",
       "    <tr>\n",
       "      <th>995</th>\n",
       "      <td>82786211</td>\n",
       "      <td>310 Townsend St APT 311, San Francisco, CA</td>\n",
       "      <td>37777027</td>\n",
       "      <td>-122395736</td>\n",
       "      <td>False</td>\n",
       "      <td>...</td>\n",
       "      <td>853.0</td>\n",
       "      <td>sqft</td>\n",
       "      <td>NaN</td>\n",
       "      <td>NaN</td>\n",
       "      <td>2006.0</td>\n",
       "    </tr>\n",
       "    <tr>\n",
       "      <th>996</th>\n",
       "      <td>15103435</td>\n",
       "      <td>1343 31st Ave, San Francisco, CA</td>\n",
       "      <td>37762152</td>\n",
       "      <td>-122490254</td>\n",
       "      <td>False</td>\n",
       "      <td>...</td>\n",
       "      <td>1886.0</td>\n",
       "      <td>sqft</td>\n",
       "      <td>3000.0</td>\n",
       "      <td>sqft</td>\n",
       "      <td>1934.0</td>\n",
       "    </tr>\n",
       "    <tr>\n",
       "      <th>997</th>\n",
       "      <td>15195183</td>\n",
       "      <td>3916 Alemany Blvd, San Francisco, CA</td>\n",
       "      <td>37711527</td>\n",
       "      <td>-122467755</td>\n",
       "      <td>False</td>\n",
       "      <td>...</td>\n",
       "      <td>1300.0</td>\n",
       "      <td>sqft</td>\n",
       "      <td>2553.0</td>\n",
       "      <td>sqft</td>\n",
       "      <td>1941.0</td>\n",
       "    </tr>\n",
       "    <tr>\n",
       "      <th>998</th>\n",
       "      <td>15180783</td>\n",
       "      <td>430 Fair Oaks St, San Francisco, CA</td>\n",
       "      <td>37749725</td>\n",
       "      <td>-122424094</td>\n",
       "      <td>False</td>\n",
       "      <td>...</td>\n",
       "      <td>2678.0</td>\n",
       "      <td>sqft</td>\n",
       "      <td>NaN</td>\n",
       "      <td>NaN</td>\n",
       "      <td>1911.0</td>\n",
       "    </tr>\n",
       "    <tr>\n",
       "      <th>999</th>\n",
       "      <td>54854296</td>\n",
       "      <td>720 Stockton St APT 3, San Francisco, CA</td>\n",
       "      <td>37792578</td>\n",
       "      <td>-122407366</td>\n",
       "      <td>False</td>\n",
       "      <td>...</td>\n",
       "      <td>886.0</td>\n",
       "      <td>sqft</td>\n",
       "      <td>NaN</td>\n",
       "      <td>NaN</td>\n",
       "      <td>2001.0</td>\n",
       "    </tr>\n",
       "  </tbody>\n",
       "</table>\n",
       "<p>1000 rows × 12 columns</p>\n",
       "</div>"
      ],
      "text/plain": [
       "             ID                                      Address  Latitude  \\\n",
       "0    2121978635    829 Folsom St UNIT 906, San Francisco, CA  37781429   \n",
       "1      89239580   690 Market St UNIT 1705, San Francisco, CA  37788246   \n",
       "2      15131782  401 Grand View Ave APT 3, San Francisco, CA  37752157   \n",
       "3      15179502            250 Concord St, San Francisco, CA  37710141   \n",
       "4      52266124        88 King St APT 317, San Francisco, CA  37780630   \n",
       "5    2100994004             409 Miguel St, San Francisco, CA  37736625   \n",
       "6      15067755      1250 Clay St APT 306, San Francisco, CA  37793575   \n",
       "..          ...                                          ...       ...   \n",
       "993    61288364              439 19th Ave, San Francisco, CA  37779545   \n",
       "994    69819412      250 King St UNIT 410, San Francisco, CA  37777645   \n",
       "995    82786211   310 Townsend St APT 311, San Francisco, CA  37777027   \n",
       "996    15103435             1343 31st Ave, San Francisco, CA  37762152   \n",
       "997    15195183         3916 Alemany Blvd, San Francisco, CA  37711527   \n",
       "998    15180783          430 Fair Oaks St, San Francisco, CA  37749725   \n",
       "999    54854296     720 Stockton St APT 3, San Francisco, CA  37792578   \n",
       "\n",
       "     Longitude IsAStudio     ...         Size  SizeUnit  LotSize LotSizeUnit  \\\n",
       "0   -122401860     False     ...        557.0      sqft      NaN         NaN   \n",
       "1   -122403198     False     ...       1050.0      sqft      NaN         NaN   \n",
       "2   -122442356     False     ...        937.0      sqft      NaN         NaN   \n",
       "3   -122442063     False     ...       1574.0      sqft   1947.0        sqft   \n",
       "4   -122389635     False     ...       1205.0      sqft      NaN         NaN   \n",
       "5   -122427008     False     ...        400.0      sqft      NaN         NaN   \n",
       "6   -122413670     False     ...        541.0      sqft      NaN         NaN   \n",
       "..         ...       ...     ...          ...       ...      ...         ...   \n",
       "993 -122478580     False     ...       1544.0      sqft      NaN         NaN   \n",
       "994 -122393430     False     ...        822.0      sqft      NaN         NaN   \n",
       "995 -122395736     False     ...        853.0      sqft      NaN         NaN   \n",
       "996 -122490254     False     ...       1886.0      sqft   3000.0        sqft   \n",
       "997 -122467755     False     ...       1300.0      sqft   2553.0        sqft   \n",
       "998 -122424094     False     ...       2678.0      sqft      NaN         NaN   \n",
       "999 -122407366     False     ...        886.0      sqft      NaN         NaN   \n",
       "\n",
       "     BuiltInYear  \n",
       "0         2010.0  \n",
       "1         2007.0  \n",
       "2         1983.0  \n",
       "3         1959.0  \n",
       "4         2000.0  \n",
       "5            NaN  \n",
       "6         1950.0  \n",
       "..           ...  \n",
       "993       2001.0  \n",
       "994       2004.0  \n",
       "995       2006.0  \n",
       "996       1934.0  \n",
       "997       1941.0  \n",
       "998       1911.0  \n",
       "999       2001.0  \n",
       "\n",
       "[1000 rows x 12 columns]"
      ]
     },
     "execution_count": 54,
     "metadata": {},
     "output_type": "execute_result"
    }
   ],
   "source": [
    "df"
   ]
  },
  {
   "cell_type": "markdown",
   "metadata": {},
   "source": [
    "> ## `.head()`: first 5 (default) rows"
   ]
  },
  {
   "cell_type": "markdown",
   "metadata": {},
   "source": [
    "- (http://pandas.pydata.org/pandas-docs/stable/generated/pandas.DataFrame.head.html)\n",
    "- (http://pandas.pydata.org/pandas-docs/stable/generated/pandas.Series.head.html)"
   ]
  },
  {
   "cell_type": "code",
   "execution_count": null,
   "metadata": {
    "collapsed": true
   },
   "outputs": [],
   "source": [
    "df.head()"
   ]
  },
  {
   "cell_type": "markdown",
   "metadata": {},
   "source": [
    "> ## `.tail()`: last 5 (default) rows"
   ]
  },
  {
   "cell_type": "markdown",
   "metadata": {},
   "source": [
    "- (http://pandas.pydata.org/pandas-docs/stable/generated/pandas.DataFrame.tail.html)\n",
    "- (http://pandas.pydata.org/pandas-docs/stable/generated/pandas.Series.tail.html)"
   ]
  },
  {
   "cell_type": "code",
   "execution_count": null,
   "metadata": {
    "collapsed": true
   },
   "outputs": [],
   "source": [
    "# TODO"
   ]
  },
  {
   "cell_type": "markdown",
   "metadata": {},
   "source": [
    "> ## `.shape`: shape (i.e., number of rows and columns)"
   ]
  },
  {
   "cell_type": "markdown",
   "metadata": {},
   "source": [
    "- (http://pandas.pydata.org/pandas-docs/stable/generated/pandas.DataFrame.shape.html)\n",
    "- (http://pandas.pydata.org/pandas-docs/stable/generated/pandas.Series.shape.html)"
   ]
  },
  {
   "cell_type": "code",
   "execution_count": null,
   "metadata": {
    "collapsed": true
   },
   "outputs": [],
   "source": [
    "df.shape"
   ]
  },
  {
   "cell_type": "markdown",
   "metadata": {},
   "source": [
    "The first value (at index 0) is the number of rows, the second (at index 1), the number of columns:"
   ]
  },
  {
   "cell_type": "code",
   "execution_count": null,
   "metadata": {
    "collapsed": true
   },
   "outputs": [],
   "source": [
    "df.shape[0]"
   ]
  },
  {
   "cell_type": "code",
   "execution_count": null,
   "metadata": {
    "collapsed": true
   },
   "outputs": [],
   "source": [
    "# TODO"
   ]
  },
  {
   "cell_type": "markdown",
   "metadata": {},
   "source": [
    "You can also use the idiomatic Python `len` function to get the number of rows:"
   ]
  },
  {
   "cell_type": "code",
   "execution_count": 61,
   "metadata": {},
   "outputs": [
    {
     "data": {
      "text/plain": [
       "1000"
      ]
     },
     "execution_count": 61,
     "metadata": {},
     "output_type": "execute_result"
    }
   ],
   "source": [
    "len(df)"
   ]
  },
  {
   "cell_type": "markdown",
   "metadata": {},
   "source": [
    "> ## `.dtypes`: column types"
   ]
  },
  {
   "cell_type": "markdown",
   "metadata": {},
   "source": [
    "- (http://pandas.pydata.org/pandas-docs/stable/generated/pandas.DataFrame.dtypes.html)\n",
    "- (http://pandas.pydata.org/pandas-docs/stable/basics.html)"
   ]
  },
  {
   "cell_type": "code",
   "execution_count": 55,
   "metadata": {},
   "outputs": [
    {
     "data": {
      "text/plain": [
       "ID               int64\n",
       "Address         object\n",
       "Latitude         int64\n",
       "Longitude        int64\n",
       "IsAStudio       object\n",
       "Beds           float64\n",
       "Baths          float64\n",
       "Size           float64\n",
       "SizeUnit        object\n",
       "LotSize        float64\n",
       "LotSizeUnit     object\n",
       "BuiltInYear    float64\n",
       "dtype: object"
      ]
     },
     "execution_count": 55,
     "metadata": {},
     "output_type": "execute_result"
    }
   ],
   "source": [
    "df.dtypes"
   ]
  },
  {
   "cell_type": "markdown",
   "metadata": {},
   "source": [
    "> ## `.isnull()` and `.notnull()`: NaN (Not-a-Number)"
   ]
  },
  {
   "cell_type": "markdown",
   "metadata": {},
   "source": [
    "- (http://pandas.pydata.org/pandas-docs/stable/generated/pandas.isnull.html)\n",
    "- (http://pandas.pydata.org/pandas-docs/stable/generated/pandas.DataFrame.isnull.html)\n",
    "- (http://pandas.pydata.org/pandas-docs/stable/generated/pandas.Series.isnull.html)"
   ]
  },
  {
   "cell_type": "markdown",
   "metadata": {},
   "source": [
    "- (http://pandas.pydata.org/pandas-docs/stable/generated/pandas.notnull.html)\n",
    "- (http://pandas.pydata.org/pandas-docs/stable/generated/pandas.DataFrame.notnull.html)\n",
    "- (http://pandas.pydata.org/pandas-docs/stable/generated/pandas.Series.notnull.html)"
   ]
  },
  {
   "cell_type": "markdown",
   "metadata": {},
   "source": [
    "- (http://pandas.pydata.org/pandas-docs/stable/generated/pandas.DataFrame.sum.html)\n",
    "- (http://pandas.pydata.org/pandas-docs/stable/generated/pandas.Series.sum.html)"
   ]
  },
  {
   "cell_type": "markdown",
   "metadata": {},
   "source": [
    "As a data scientist, we will have to decide what to do when encountering missing values (a.k.a, not-a-numbers).  We might decide to drop the row containing it, drop the whole column, or impute it.  Today, let's focus on finding these NaNs."
   ]
  },
  {
   "cell_type": "code",
   "execution_count": null,
   "metadata": {
    "collapsed": true
   },
   "outputs": [],
   "source": [
    "df.isnull()"
   ]
  },
  {
   "cell_type": "markdown",
   "metadata": {},
   "source": [
    "In return, we get a new `DataFrame` with Boolean values.  `True` if the value is `NaN`, `False` otherwise."
   ]
  },
  {
   "cell_type": "markdown",
   "metadata": {},
   "source": [
    "We can also get the count per column:"
   ]
  },
  {
   "cell_type": "code",
   "execution_count": 64,
   "metadata": {},
   "outputs": [
    {
     "data": {
      "text/plain": [
       "ID               0\n",
       "Address          0\n",
       "Latitude         0\n",
       "Longitude        0\n",
       "IsAStudio       14\n",
       "Beds           164\n",
       "Baths           58\n",
       "Size            33\n",
       "SizeUnit        33\n",
       "LotSize        444\n",
       "LotSizeUnit    444\n",
       "BuiltInYear     25\n",
       "dtype: int64"
      ]
     },
     "execution_count": 64,
     "metadata": {},
     "output_type": "execute_result"
    }
   ],
   "source": [
    "df.isnull().sum()"
   ]
  },
  {
   "cell_type": "markdown",
   "metadata": {},
   "source": [
    "Summing again will return the number of cells in the `DataFrame` with missing values."
   ]
  },
  {
   "cell_type": "code",
   "execution_count": 66,
   "metadata": {},
   "outputs": [
    {
     "data": {
      "text/plain": [
       "1215L"
      ]
     },
     "execution_count": 66,
     "metadata": {},
     "output_type": "execute_result"
    }
   ],
   "source": [
    "df.isnull().sum().sum()"
   ]
  },
  {
   "cell_type": "markdown",
   "metadata": {},
   "source": [
    "Equivalently, we can also use the `.isnull()` function:"
   ]
  },
  {
   "cell_type": "code",
   "execution_count": null,
   "metadata": {
    "collapsed": true
   },
   "outputs": [],
   "source": [
    "pd.isnull(df)"
   ]
  },
  {
   "cell_type": "markdown",
   "metadata": {},
   "source": [
    "We also also use `.notnull()`, its complement method:"
   ]
  },
  {
   "cell_type": "code",
   "execution_count": null,
   "metadata": {
    "collapsed": true
   },
   "outputs": [],
   "source": [
    "df.notnull()"
   ]
  },
  {
   "cell_type": "code",
   "execution_count": null,
   "metadata": {
    "collapsed": true
   },
   "outputs": [],
   "source": [
    "pd.notnull(df)"
   ]
  },
  {
   "cell_type": "markdown",
   "metadata": {},
   "source": [
    "> ### `.index` and `.columns`: row and column labels"
   ]
  },
  {
   "cell_type": "markdown",
   "metadata": {},
   "source": [
    "(http://pandas.pydata.org/pandas-docs/stable/generated/pandas.Index.html)"
   ]
  },
  {
   "cell_type": "markdown",
   "metadata": {},
   "source": [
    "Use the `.index` property to get the label for rows.  For columns, use the `.columns` property."
   ]
  },
  {
   "cell_type": "code",
   "execution_count": null,
   "metadata": {
    "collapsed": true
   },
   "outputs": [],
   "source": [
    "df.index"
   ]
  },
  {
   "cell_type": "code",
   "execution_count": null,
   "metadata": {
    "collapsed": true
   },
   "outputs": [],
   "source": [
    "type(df.index)"
   ]
  },
  {
   "cell_type": "markdown",
   "metadata": {},
   "source": [
    "In this specific case, rows are just numbered from 0 to 1,000.  Note that, similarly to Python's standard `range` function, this range also excludes the last number."
   ]
  },
  {
   "cell_type": "code",
   "execution_count": null,
   "metadata": {
    "collapsed": true
   },
   "outputs": [],
   "source": [
    "df.columns"
   ]
  },
  {
   "cell_type": "code",
   "execution_count": null,
   "metadata": {
    "collapsed": true
   },
   "outputs": [],
   "source": [
    "type(df.columns)"
   ]
  },
  {
   "cell_type": "markdown",
   "metadata": {},
   "source": [
    "> ## `[ [] ]` and `[]`: subsetting on columns"
   ]
  },
  {
   "cell_type": "markdown",
   "metadata": {},
   "source": [
    "Selecting specific columns is performed by using the `[]` operator.\n",
    "\n",
    "If the values passed to `[]` are non-integers, the `DataFrame` will attempt to match them to those in the `columns` property."
   ]
  },
  {
   "cell_type": "markdown",
   "metadata": {},
   "source": [
    "> Let's subset the `DataFrame` on columns `Size` and `SizeUnit`:"
   ]
  },
  {
   "cell_type": "code",
   "execution_count": null,
   "metadata": {
    "collapsed": true
   },
   "outputs": [],
   "source": [
    "# TODO"
   ]
  },
  {
   "cell_type": "markdown",
   "metadata": {},
   "source": [
    "> How about just on `Address`?"
   ]
  },
  {
   "cell_type": "code",
   "execution_count": null,
   "metadata": {
    "collapsed": true
   },
   "outputs": [],
   "source": [
    "# TODO"
   ]
  },
  {
   "cell_type": "markdown",
   "metadata": {},
   "source": [
    "> ## `Series`"
   ]
  },
  {
   "cell_type": "markdown",
   "metadata": {},
   "source": [
    "(http://pandas.pydata.org/pandas-docs/stable/dsintro.html)"
   ]
  },
  {
   "cell_type": "markdown",
   "metadata": {},
   "source": [
    "Not passing a list will result in a `Series`:"
   ]
  },
  {
   "cell_type": "code",
   "execution_count": 67,
   "metadata": {},
   "outputs": [
    {
     "data": {
      "text/plain": [
       "0        829 Folsom St UNIT 906, San Francisco, CA\n",
       "1       690 Market St UNIT 1705, San Francisco, CA\n",
       "2      401 Grand View Ave APT 3, San Francisco, CA\n",
       "3                250 Concord St, San Francisco, CA\n",
       "4            88 King St APT 317, San Francisco, CA\n",
       "5                 409 Miguel St, San Francisco, CA\n",
       "6          1250 Clay St APT 306, San Francisco, CA\n",
       "                          ...                     \n",
       "993                439 19th Ave, San Francisco, CA\n",
       "994        250 King St UNIT 410, San Francisco, CA\n",
       "995     310 Townsend St APT 311, San Francisco, CA\n",
       "996               1343 31st Ave, San Francisco, CA\n",
       "997           3916 Alemany Blvd, San Francisco, CA\n",
       "998            430 Fair Oaks St, San Francisco, CA\n",
       "999       720 Stockton St APT 3, San Francisco, CA\n",
       "Name: Address, Length: 1000, dtype: object"
      ]
     },
     "execution_count": 67,
     "metadata": {},
     "output_type": "execute_result"
    }
   ],
   "source": [
    "df['Address']"
   ]
  },
  {
   "cell_type": "markdown",
   "metadata": {},
   "source": [
    "> Let's check the result type:"
   ]
  },
  {
   "cell_type": "code",
   "execution_count": 69,
   "metadata": {},
   "outputs": [
    {
     "data": {
      "text/plain": [
       "pandas.core.series.Series"
      ]
     },
     "execution_count": 69,
     "metadata": {},
     "output_type": "execute_result"
    }
   ],
   "source": [
    "type(df['Address'])"
   ]
  },
  {
   "cell_type": "markdown",
   "metadata": {},
   "source": [
    "Columns can also be retrieved using \"attribute\" access as `DataFrame`s add a property for each column with the names of the properties as the names of the columns.  This won't work however for columns that have spaces or dots in their name."
   ]
  },
  {
   "cell_type": "markdown",
   "metadata": {},
   "source": [
    "> Let's check the value of `df`'s `.Address` property:"
   ]
  },
  {
   "cell_type": "code",
   "execution_count": 70,
   "metadata": {},
   "outputs": [
    {
     "data": {
      "text/plain": [
       "0        829 Folsom St UNIT 906, San Francisco, CA\n",
       "1       690 Market St UNIT 1705, San Francisco, CA\n",
       "2      401 Grand View Ave APT 3, San Francisco, CA\n",
       "3                250 Concord St, San Francisco, CA\n",
       "4            88 King St APT 317, San Francisco, CA\n",
       "5                 409 Miguel St, San Francisco, CA\n",
       "6          1250 Clay St APT 306, San Francisco, CA\n",
       "                          ...                     \n",
       "993                439 19th Ave, San Francisco, CA\n",
       "994        250 King St UNIT 410, San Francisco, CA\n",
       "995     310 Townsend St APT 311, San Francisco, CA\n",
       "996               1343 31st Ave, San Francisco, CA\n",
       "997           3916 Alemany Blvd, San Francisco, CA\n",
       "998            430 Fair Oaks St, San Francisco, CA\n",
       "999       720 Stockton St APT 3, San Francisco, CA\n",
       "Name: Address, Length: 1000, dtype: object"
      ]
     },
     "execution_count": 70,
     "metadata": {},
     "output_type": "execute_result"
    }
   ],
   "source": [
    "df.Address"
   ]
  },
  {
   "cell_type": "markdown",
   "metadata": {},
   "source": [
    "> Use the `.name` property (not `.columns`, that's for a `DataFrame`) to get the name of the variable stored inside it."
   ]
  },
  {
   "cell_type": "markdown",
   "metadata": {},
   "source": [
    "(http://pandas.pydata.org/pandas-docs/stable/generated/pandas.Series.name.html)"
   ]
  },
  {
   "cell_type": "code",
   "execution_count": 76,
   "metadata": {},
   "outputs": [
    {
     "data": {
      "text/plain": [
       "'Address'"
      ]
     },
     "execution_count": 76,
     "metadata": {},
     "output_type": "execute_result"
    }
   ],
   "source": [
    "addr = df.Address\n",
    "addr.name"
   ]
  },
  {
   "cell_type": "markdown",
   "metadata": {},
   "source": [
    "> ## `[]`: slicing on rows"
   ]
  },
  {
   "cell_type": "markdown",
   "metadata": {},
   "source": [
    "> E.g., on the first five rows:"
   ]
  },
  {
   "cell_type": "code",
   "execution_count": 80,
   "metadata": {},
   "outputs": [
    {
     "data": {
      "text/html": [
       "<div>\n",
       "<style>\n",
       "    .dataframe thead tr:only-child th {\n",
       "        text-align: right;\n",
       "    }\n",
       "\n",
       "    .dataframe thead th {\n",
       "        text-align: left;\n",
       "    }\n",
       "\n",
       "    .dataframe tbody tr th {\n",
       "        vertical-align: top;\n",
       "    }\n",
       "</style>\n",
       "<table border=\"10\" class=\"dataframe\">\n",
       "  <thead>\n",
       "    <tr style=\"text-align: right;\">\n",
       "      <th></th>\n",
       "      <th>ID</th>\n",
       "      <th>Address</th>\n",
       "      <th>Latitude</th>\n",
       "      <th>Longitude</th>\n",
       "      <th>IsAStudio</th>\n",
       "      <th>...</th>\n",
       "      <th>Size</th>\n",
       "      <th>SizeUnit</th>\n",
       "      <th>LotSize</th>\n",
       "      <th>LotSizeUnit</th>\n",
       "      <th>BuiltInYear</th>\n",
       "    </tr>\n",
       "  </thead>\n",
       "  <tbody>\n",
       "    <tr>\n",
       "      <th>0</th>\n",
       "      <td>2121978635</td>\n",
       "      <td>829 Folsom St UNIT 906, San Francisco, CA</td>\n",
       "      <td>37781429</td>\n",
       "      <td>-122401860</td>\n",
       "      <td>False</td>\n",
       "      <td>...</td>\n",
       "      <td>557.000</td>\n",
       "      <td>sqft</td>\n",
       "      <td>nan</td>\n",
       "      <td>NaN</td>\n",
       "      <td>2010.000</td>\n",
       "    </tr>\n",
       "    <tr>\n",
       "      <th>1</th>\n",
       "      <td>89239580</td>\n",
       "      <td>690 Market St UNIT 1705, San Francisco, CA</td>\n",
       "      <td>37788246</td>\n",
       "      <td>-122403198</td>\n",
       "      <td>False</td>\n",
       "      <td>...</td>\n",
       "      <td>1050.000</td>\n",
       "      <td>sqft</td>\n",
       "      <td>nan</td>\n",
       "      <td>NaN</td>\n",
       "      <td>2007.000</td>\n",
       "    </tr>\n",
       "    <tr>\n",
       "      <th>2</th>\n",
       "      <td>15131782</td>\n",
       "      <td>401 Grand View Ave APT 3, San Francisco, CA</td>\n",
       "      <td>37752157</td>\n",
       "      <td>-122442356</td>\n",
       "      <td>False</td>\n",
       "      <td>...</td>\n",
       "      <td>937.000</td>\n",
       "      <td>sqft</td>\n",
       "      <td>nan</td>\n",
       "      <td>NaN</td>\n",
       "      <td>1983.000</td>\n",
       "    </tr>\n",
       "    <tr>\n",
       "      <th>3</th>\n",
       "      <td>15179502</td>\n",
       "      <td>250 Concord St, San Francisco, CA</td>\n",
       "      <td>37710141</td>\n",
       "      <td>-122442063</td>\n",
       "      <td>False</td>\n",
       "      <td>...</td>\n",
       "      <td>1574.000</td>\n",
       "      <td>sqft</td>\n",
       "      <td>1947.000</td>\n",
       "      <td>sqft</td>\n",
       "      <td>1959.000</td>\n",
       "    </tr>\n",
       "    <tr>\n",
       "      <th>4</th>\n",
       "      <td>52266124</td>\n",
       "      <td>88 King St APT 317, San Francisco, CA</td>\n",
       "      <td>37780630</td>\n",
       "      <td>-122389635</td>\n",
       "      <td>False</td>\n",
       "      <td>...</td>\n",
       "      <td>1205.000</td>\n",
       "      <td>sqft</td>\n",
       "      <td>nan</td>\n",
       "      <td>NaN</td>\n",
       "      <td>2000.000</td>\n",
       "    </tr>\n",
       "  </tbody>\n",
       "</table>\n",
       "<p>5 rows × 12 columns</p>\n",
       "</div>"
      ],
      "text/plain": [
       "           ID                                      Address  Latitude  \\\n",
       "0  2121978635    829 Folsom St UNIT 906, San Francisco, CA  37781429   \n",
       "1    89239580   690 Market St UNIT 1705, San Francisco, CA  37788246   \n",
       "2    15131782  401 Grand View Ave APT 3, San Francisco, CA  37752157   \n",
       "3    15179502            250 Concord St, San Francisco, CA  37710141   \n",
       "4    52266124        88 King St APT 317, San Francisco, CA  37780630   \n",
       "\n",
       "   Longitude IsAStudio     ...          Size  SizeUnit  LotSize LotSizeUnit  \\\n",
       "0 -122401860     False     ...       557.000      sqft      nan         NaN   \n",
       "1 -122403198     False     ...      1050.000      sqft      nan         NaN   \n",
       "2 -122442356     False     ...       937.000      sqft      nan         NaN   \n",
       "3 -122442063     False     ...      1574.000      sqft 1947.000        sqft   \n",
       "4 -122389635     False     ...      1205.000      sqft      nan         NaN   \n",
       "\n",
       "   BuiltInYear  \n",
       "0     2010.000  \n",
       "1     2007.000  \n",
       "2     1983.000  \n",
       "3     1959.000  \n",
       "4     2000.000  \n",
       "\n",
       "[5 rows x 12 columns]"
      ]
     },
     "execution_count": 80,
     "metadata": {},
     "output_type": "execute_result"
    }
   ],
   "source": [
    "df[:5]"
   ]
  },
  {
   "cell_type": "code",
   "execution_count": 106,
   "metadata": {},
   "outputs": [
    {
     "data": {
      "text/html": [
       "<div>\n",
       "<style>\n",
       "    .dataframe thead tr:only-child th {\n",
       "        text-align: right;\n",
       "    }\n",
       "\n",
       "    .dataframe thead th {\n",
       "        text-align: left;\n",
       "    }\n",
       "\n",
       "    .dataframe tbody tr th {\n",
       "        vertical-align: top;\n",
       "    }\n",
       "</style>\n",
       "<table border=\"10\" class=\"dataframe\">\n",
       "  <thead>\n",
       "    <tr style=\"text-align: right;\">\n",
       "      <th></th>\n",
       "      <th>ID</th>\n",
       "      <th>Address</th>\n",
       "      <th>Latitude</th>\n",
       "      <th>Longitude</th>\n",
       "      <th>IsAStudio</th>\n",
       "      <th>...</th>\n",
       "      <th>Size</th>\n",
       "      <th>SizeUnit</th>\n",
       "      <th>LotSize</th>\n",
       "      <th>LotSizeUnit</th>\n",
       "      <th>BuiltInYear</th>\n",
       "    </tr>\n",
       "  </thead>\n",
       "  <tbody>\n",
       "    <tr>\n",
       "      <th>1</th>\n",
       "      <td>89239580</td>\n",
       "      <td>690 Market St UNIT 1705, San Francisco, CA</td>\n",
       "      <td>37788246</td>\n",
       "      <td>-122403198</td>\n",
       "      <td>False</td>\n",
       "      <td>...</td>\n",
       "      <td>1050.000</td>\n",
       "      <td>sqft</td>\n",
       "      <td>nan</td>\n",
       "      <td>NaN</td>\n",
       "      <td>2007.000</td>\n",
       "    </tr>\n",
       "    <tr>\n",
       "      <th>2</th>\n",
       "      <td>15131782</td>\n",
       "      <td>401 Grand View Ave APT 3, San Francisco, CA</td>\n",
       "      <td>37752157</td>\n",
       "      <td>-122442356</td>\n",
       "      <td>False</td>\n",
       "      <td>...</td>\n",
       "      <td>937.000</td>\n",
       "      <td>sqft</td>\n",
       "      <td>nan</td>\n",
       "      <td>NaN</td>\n",
       "      <td>1983.000</td>\n",
       "    </tr>\n",
       "  </tbody>\n",
       "</table>\n",
       "<p>2 rows × 12 columns</p>\n",
       "</div>"
      ],
      "text/plain": [
       "         ID                                      Address  Latitude  Longitude  \\\n",
       "1  89239580   690 Market St UNIT 1705, San Francisco, CA  37788246 -122403198   \n",
       "2  15131782  401 Grand View Ave APT 3, San Francisco, CA  37752157 -122442356   \n",
       "\n",
       "  IsAStudio     ...          Size  SizeUnit  LotSize LotSizeUnit  BuiltInYear  \n",
       "1     False     ...      1050.000      sqft      nan         NaN     2007.000  \n",
       "2     False     ...       937.000      sqft      nan         NaN     1983.000  \n",
       "\n",
       "[2 rows x 12 columns]"
      ]
     },
     "execution_count": 106,
     "metadata": {},
     "output_type": "execute_result"
    }
   ],
   "source": [
    "df.loc[[1,2]]"
   ]
  },
  {
   "cell_type": "code",
   "execution_count": 104,
   "metadata": {},
   "outputs": [
    {
     "data": {
      "text/html": [
       "<div>\n",
       "<style>\n",
       "    .dataframe thead tr:only-child th {\n",
       "        text-align: right;\n",
       "    }\n",
       "\n",
       "    .dataframe thead th {\n",
       "        text-align: left;\n",
       "    }\n",
       "\n",
       "    .dataframe tbody tr th {\n",
       "        vertical-align: top;\n",
       "    }\n",
       "</style>\n",
       "<table border=\"10\" class=\"dataframe\">\n",
       "  <thead>\n",
       "    <tr style=\"text-align: right;\">\n",
       "      <th></th>\n",
       "      <th>ID</th>\n",
       "      <th>Address</th>\n",
       "      <th>Latitude</th>\n",
       "      <th>Longitude</th>\n",
       "      <th>IsAStudio</th>\n",
       "      <th>...</th>\n",
       "      <th>Size</th>\n",
       "      <th>SizeUnit</th>\n",
       "      <th>LotSize</th>\n",
       "      <th>LotSizeUnit</th>\n",
       "      <th>BuiltInYear</th>\n",
       "    </tr>\n",
       "  </thead>\n",
       "  <tbody>\n",
       "    <tr>\n",
       "      <th>1</th>\n",
       "      <td>89239580</td>\n",
       "      <td>690 Market St UNIT 1705, San Francisco, CA</td>\n",
       "      <td>37788246</td>\n",
       "      <td>-122403198</td>\n",
       "      <td>False</td>\n",
       "      <td>...</td>\n",
       "      <td>1050.000</td>\n",
       "      <td>sqft</td>\n",
       "      <td>nan</td>\n",
       "      <td>NaN</td>\n",
       "      <td>2007.000</td>\n",
       "    </tr>\n",
       "    <tr>\n",
       "      <th>2</th>\n",
       "      <td>15131782</td>\n",
       "      <td>401 Grand View Ave APT 3, San Francisco, CA</td>\n",
       "      <td>37752157</td>\n",
       "      <td>-122442356</td>\n",
       "      <td>False</td>\n",
       "      <td>...</td>\n",
       "      <td>937.000</td>\n",
       "      <td>sqft</td>\n",
       "      <td>nan</td>\n",
       "      <td>NaN</td>\n",
       "      <td>1983.000</td>\n",
       "    </tr>\n",
       "  </tbody>\n",
       "</table>\n",
       "<p>2 rows × 12 columns</p>\n",
       "</div>"
      ],
      "text/plain": [
       "         ID                                      Address  Latitude  Longitude  \\\n",
       "1  89239580   690 Market St UNIT 1705, San Francisco, CA  37788246 -122403198   \n",
       "2  15131782  401 Grand View Ave APT 3, San Francisco, CA  37752157 -122442356   \n",
       "\n",
       "  IsAStudio     ...          Size  SizeUnit  LotSize LotSizeUnit  BuiltInYear  \n",
       "1     False     ...      1050.000      sqft      nan         NaN     2007.000  \n",
       "2     False     ...       937.000      sqft      nan         NaN     1983.000  \n",
       "\n",
       "[2 rows x 12 columns]"
      ]
     },
     "execution_count": 104,
     "metadata": {},
     "output_type": "execute_result"
    }
   ],
   "source": [
    "df.iloc[[1,2]]"
   ]
  },
  {
   "cell_type": "markdown",
   "metadata": {},
   "source": [
    "### > ## `.loc[]` and `.iloc[]`: subsetting rows by index label and location"
   ]
  },
  {
   "cell_type": "markdown",
   "metadata": {},
   "source": [
    "- (http://pandas.pydata.org/pandas-docs/stable/generated/pandas.DataFrame.loc.html)\n",
    "- (http://pandas.pydata.org/pandas-docs/stable/generated/pandas.Series.loc.html)"
   ]
  },
  {
   "cell_type": "markdown",
   "metadata": {},
   "source": [
    "- (http://pandas.pydata.org/pandas-docs/stable/generated/pandas.DataFrame.iloc.html)\n",
    "- (http://pandas.pydata.org/pandas-docs/stable/generated/pandas.Series.iloc.html)"
   ]
  },
  {
   "cell_type": "markdown",
   "metadata": {},
   "source": [
    "- (http://pandas.pydata.org/pandas-docs/stable/generated/pandas.DataFrame.set_index.html)\n",
    "- (http://pandas.pydata.org/pandas-docs/stable/generated/pandas.Series.set_index.html)"
   ]
  },
  {
   "cell_type": "markdown",
   "metadata": {},
   "source": [
    "- (http://pandas.pydata.org/pandas-docs/stable/generated/pandas.DataFrame.reset_index.html)\n",
    "- (http://pandas.pydata.org/pandas-docs/stable/generated/pandas.Series.reset_index.html)"
   ]
  },
  {
   "cell_type": "markdown",
   "metadata": {},
   "source": [
    "Until now, the index of the `DataFrame` is a numerical starting from 0 but you can specify which column(s) should be in the index."
   ]
  },
  {
   "cell_type": "markdown",
   "metadata": {},
   "source": [
    "> E.g., `ID`:"
   ]
  },
  {
   "cell_type": "code",
   "execution_count": 113,
   "metadata": {
    "collapsed": true
   },
   "outputs": [],
   "source": [
    "df = df.set_index('ID')"
   ]
  },
  {
   "cell_type": "code",
   "execution_count": 114,
   "metadata": {},
   "outputs": [
    {
     "data": {
      "text/plain": [
       "Int64Index([2121978635,   89239580,   15131782,   15179502,   52266124,\n",
       "            2100994004,   15067755,   15112556,   15133321,   61288341,\n",
       "            ...\n",
       "              63197318,   15064669,   15142024,   61288364,   69819412,\n",
       "              82786211,   15103435,   15195183,   15180783,   54854296],\n",
       "           dtype='int64', name=u'ID', length=1000)"
      ]
     },
     "execution_count": 114,
     "metadata": {},
     "output_type": "execute_result"
    }
   ],
   "source": [
    "df.index"
   ]
  },
  {
   "cell_type": "code",
   "execution_count": 115,
   "metadata": {},
   "outputs": [
    {
     "data": {
      "text/html": [
       "<div>\n",
       "<style>\n",
       "    .dataframe thead tr:only-child th {\n",
       "        text-align: right;\n",
       "    }\n",
       "\n",
       "    .dataframe thead th {\n",
       "        text-align: left;\n",
       "    }\n",
       "\n",
       "    .dataframe tbody tr th {\n",
       "        vertical-align: top;\n",
       "    }\n",
       "</style>\n",
       "<table border=\"10\" class=\"dataframe\">\n",
       "  <thead>\n",
       "    <tr style=\"text-align: right;\">\n",
       "      <th></th>\n",
       "      <th>Address</th>\n",
       "      <th>Latitude</th>\n",
       "      <th>Longitude</th>\n",
       "      <th>IsAStudio</th>\n",
       "      <th>Beds</th>\n",
       "      <th>...</th>\n",
       "      <th>Size</th>\n",
       "      <th>SizeUnit</th>\n",
       "      <th>LotSize</th>\n",
       "      <th>LotSizeUnit</th>\n",
       "      <th>BuiltInYear</th>\n",
       "    </tr>\n",
       "    <tr>\n",
       "      <th>ID</th>\n",
       "      <th></th>\n",
       "      <th></th>\n",
       "      <th></th>\n",
       "      <th></th>\n",
       "      <th></th>\n",
       "      <th></th>\n",
       "      <th></th>\n",
       "      <th></th>\n",
       "      <th></th>\n",
       "      <th></th>\n",
       "      <th></th>\n",
       "    </tr>\n",
       "  </thead>\n",
       "  <tbody>\n",
       "    <tr>\n",
       "      <th>2121978635</th>\n",
       "      <td>829 Folsom St UNIT 906, San Francisco, CA</td>\n",
       "      <td>37781429</td>\n",
       "      <td>-122401860</td>\n",
       "      <td>False</td>\n",
       "      <td>1.000</td>\n",
       "      <td>...</td>\n",
       "      <td>557.000</td>\n",
       "      <td>sqft</td>\n",
       "      <td>nan</td>\n",
       "      <td>NaN</td>\n",
       "      <td>2010.000</td>\n",
       "    </tr>\n",
       "    <tr>\n",
       "      <th>89239580</th>\n",
       "      <td>690 Market St UNIT 1705, San Francisco, CA</td>\n",
       "      <td>37788246</td>\n",
       "      <td>-122403198</td>\n",
       "      <td>False</td>\n",
       "      <td>2.000</td>\n",
       "      <td>...</td>\n",
       "      <td>1050.000</td>\n",
       "      <td>sqft</td>\n",
       "      <td>nan</td>\n",
       "      <td>NaN</td>\n",
       "      <td>2007.000</td>\n",
       "    </tr>\n",
       "    <tr>\n",
       "      <th>15131782</th>\n",
       "      <td>401 Grand View Ave APT 3, San Francisco, CA</td>\n",
       "      <td>37752157</td>\n",
       "      <td>-122442356</td>\n",
       "      <td>False</td>\n",
       "      <td>2.000</td>\n",
       "      <td>...</td>\n",
       "      <td>937.000</td>\n",
       "      <td>sqft</td>\n",
       "      <td>nan</td>\n",
       "      <td>NaN</td>\n",
       "      <td>1983.000</td>\n",
       "    </tr>\n",
       "    <tr>\n",
       "      <th>15179502</th>\n",
       "      <td>250 Concord St, San Francisco, CA</td>\n",
       "      <td>37710141</td>\n",
       "      <td>-122442063</td>\n",
       "      <td>False</td>\n",
       "      <td>4.000</td>\n",
       "      <td>...</td>\n",
       "      <td>1574.000</td>\n",
       "      <td>sqft</td>\n",
       "      <td>1947.000</td>\n",
       "      <td>sqft</td>\n",
       "      <td>1959.000</td>\n",
       "    </tr>\n",
       "    <tr>\n",
       "      <th>52266124</th>\n",
       "      <td>88 King St APT 317, San Francisco, CA</td>\n",
       "      <td>37780630</td>\n",
       "      <td>-122389635</td>\n",
       "      <td>False</td>\n",
       "      <td>2.000</td>\n",
       "      <td>...</td>\n",
       "      <td>1205.000</td>\n",
       "      <td>sqft</td>\n",
       "      <td>nan</td>\n",
       "      <td>NaN</td>\n",
       "      <td>2000.000</td>\n",
       "    </tr>\n",
       "    <tr>\n",
       "      <th>2100994004</th>\n",
       "      <td>409 Miguel St, San Francisco, CA</td>\n",
       "      <td>37736625</td>\n",
       "      <td>-122427008</td>\n",
       "      <td>False</td>\n",
       "      <td>1.000</td>\n",
       "      <td>...</td>\n",
       "      <td>400.000</td>\n",
       "      <td>sqft</td>\n",
       "      <td>nan</td>\n",
       "      <td>NaN</td>\n",
       "      <td>nan</td>\n",
       "    </tr>\n",
       "    <tr>\n",
       "      <th>15067755</th>\n",
       "      <td>1250 Clay St APT 306, San Francisco, CA</td>\n",
       "      <td>37793575</td>\n",
       "      <td>-122413670</td>\n",
       "      <td>False</td>\n",
       "      <td>1.000</td>\n",
       "      <td>...</td>\n",
       "      <td>541.000</td>\n",
       "      <td>sqft</td>\n",
       "      <td>nan</td>\n",
       "      <td>NaN</td>\n",
       "      <td>1950.000</td>\n",
       "    </tr>\n",
       "    <tr>\n",
       "      <th>...</th>\n",
       "      <td>...</td>\n",
       "      <td>...</td>\n",
       "      <td>...</td>\n",
       "      <td>...</td>\n",
       "      <td>...</td>\n",
       "      <td>...</td>\n",
       "      <td>...</td>\n",
       "      <td>...</td>\n",
       "      <td>...</td>\n",
       "      <td>...</td>\n",
       "      <td>...</td>\n",
       "    </tr>\n",
       "    <tr>\n",
       "      <th>61288364</th>\n",
       "      <td>439 19th Ave, San Francisco, CA</td>\n",
       "      <td>37779545</td>\n",
       "      <td>-122478580</td>\n",
       "      <td>False</td>\n",
       "      <td>3.000</td>\n",
       "      <td>...</td>\n",
       "      <td>1544.000</td>\n",
       "      <td>sqft</td>\n",
       "      <td>nan</td>\n",
       "      <td>NaN</td>\n",
       "      <td>2001.000</td>\n",
       "    </tr>\n",
       "    <tr>\n",
       "      <th>69819412</th>\n",
       "      <td>250 King St UNIT 410, San Francisco, CA</td>\n",
       "      <td>37777645</td>\n",
       "      <td>-122393430</td>\n",
       "      <td>False</td>\n",
       "      <td>1.000</td>\n",
       "      <td>...</td>\n",
       "      <td>822.000</td>\n",
       "      <td>sqft</td>\n",
       "      <td>nan</td>\n",
       "      <td>NaN</td>\n",
       "      <td>2004.000</td>\n",
       "    </tr>\n",
       "    <tr>\n",
       "      <th>82786211</th>\n",
       "      <td>310 Townsend St APT 311, San Francisco, CA</td>\n",
       "      <td>37777027</td>\n",
       "      <td>-122395736</td>\n",
       "      <td>False</td>\n",
       "      <td>1.000</td>\n",
       "      <td>...</td>\n",
       "      <td>853.000</td>\n",
       "      <td>sqft</td>\n",
       "      <td>nan</td>\n",
       "      <td>NaN</td>\n",
       "      <td>2006.000</td>\n",
       "    </tr>\n",
       "    <tr>\n",
       "      <th>15103435</th>\n",
       "      <td>1343 31st Ave, San Francisco, CA</td>\n",
       "      <td>37762152</td>\n",
       "      <td>-122490254</td>\n",
       "      <td>False</td>\n",
       "      <td>3.000</td>\n",
       "      <td>...</td>\n",
       "      <td>1886.000</td>\n",
       "      <td>sqft</td>\n",
       "      <td>3000.000</td>\n",
       "      <td>sqft</td>\n",
       "      <td>1934.000</td>\n",
       "    </tr>\n",
       "    <tr>\n",
       "      <th>15195183</th>\n",
       "      <td>3916 Alemany Blvd, San Francisco, CA</td>\n",
       "      <td>37711527</td>\n",
       "      <td>-122467755</td>\n",
       "      <td>False</td>\n",
       "      <td>3.000</td>\n",
       "      <td>...</td>\n",
       "      <td>1300.000</td>\n",
       "      <td>sqft</td>\n",
       "      <td>2553.000</td>\n",
       "      <td>sqft</td>\n",
       "      <td>1941.000</td>\n",
       "    </tr>\n",
       "    <tr>\n",
       "      <th>15180783</th>\n",
       "      <td>430 Fair Oaks St, San Francisco, CA</td>\n",
       "      <td>37749725</td>\n",
       "      <td>-122424094</td>\n",
       "      <td>False</td>\n",
       "      <td>4.000</td>\n",
       "      <td>...</td>\n",
       "      <td>2678.000</td>\n",
       "      <td>sqft</td>\n",
       "      <td>nan</td>\n",
       "      <td>NaN</td>\n",
       "      <td>1911.000</td>\n",
       "    </tr>\n",
       "    <tr>\n",
       "      <th>54854296</th>\n",
       "      <td>720 Stockton St APT 3, San Francisco, CA</td>\n",
       "      <td>37792578</td>\n",
       "      <td>-122407366</td>\n",
       "      <td>False</td>\n",
       "      <td>2.000</td>\n",
       "      <td>...</td>\n",
       "      <td>886.000</td>\n",
       "      <td>sqft</td>\n",
       "      <td>nan</td>\n",
       "      <td>NaN</td>\n",
       "      <td>2001.000</td>\n",
       "    </tr>\n",
       "  </tbody>\n",
       "</table>\n",
       "<p>1000 rows × 11 columns</p>\n",
       "</div>"
      ],
      "text/plain": [
       "                                                Address  Latitude  Longitude  \\\n",
       "ID                                                                             \n",
       "2121978635    829 Folsom St UNIT 906, San Francisco, CA  37781429 -122401860   \n",
       "89239580     690 Market St UNIT 1705, San Francisco, CA  37788246 -122403198   \n",
       "15131782    401 Grand View Ave APT 3, San Francisco, CA  37752157 -122442356   \n",
       "15179502              250 Concord St, San Francisco, CA  37710141 -122442063   \n",
       "52266124          88 King St APT 317, San Francisco, CA  37780630 -122389635   \n",
       "2100994004             409 Miguel St, San Francisco, CA  37736625 -122427008   \n",
       "15067755        1250 Clay St APT 306, San Francisco, CA  37793575 -122413670   \n",
       "...                                                 ...       ...        ...   \n",
       "61288364                439 19th Ave, San Francisco, CA  37779545 -122478580   \n",
       "69819412        250 King St UNIT 410, San Francisco, CA  37777645 -122393430   \n",
       "82786211     310 Townsend St APT 311, San Francisco, CA  37777027 -122395736   \n",
       "15103435               1343 31st Ave, San Francisco, CA  37762152 -122490254   \n",
       "15195183           3916 Alemany Blvd, San Francisco, CA  37711527 -122467755   \n",
       "15180783            430 Fair Oaks St, San Francisco, CA  37749725 -122424094   \n",
       "54854296       720 Stockton St APT 3, San Francisco, CA  37792578 -122407366   \n",
       "\n",
       "           IsAStudio  Beds     ...         Size  SizeUnit  LotSize  \\\n",
       "ID                             ...                                   \n",
       "2121978635     False 1.000     ...      557.000      sqft      nan   \n",
       "89239580       False 2.000     ...     1050.000      sqft      nan   \n",
       "15131782       False 2.000     ...      937.000      sqft      nan   \n",
       "15179502       False 4.000     ...     1574.000      sqft 1947.000   \n",
       "52266124       False 2.000     ...     1205.000      sqft      nan   \n",
       "2100994004     False 1.000     ...      400.000      sqft      nan   \n",
       "15067755       False 1.000     ...      541.000      sqft      nan   \n",
       "...              ...   ...     ...          ...       ...      ...   \n",
       "61288364       False 3.000     ...     1544.000      sqft      nan   \n",
       "69819412       False 1.000     ...      822.000      sqft      nan   \n",
       "82786211       False 1.000     ...      853.000      sqft      nan   \n",
       "15103435       False 3.000     ...     1886.000      sqft 3000.000   \n",
       "15195183       False 3.000     ...     1300.000      sqft 2553.000   \n",
       "15180783       False 4.000     ...     2678.000      sqft      nan   \n",
       "54854296       False 2.000     ...      886.000      sqft      nan   \n",
       "\n",
       "            LotSizeUnit BuiltInYear  \n",
       "ID                                   \n",
       "2121978635          NaN    2010.000  \n",
       "89239580            NaN    2007.000  \n",
       "15131782            NaN    1983.000  \n",
       "15179502           sqft    1959.000  \n",
       "52266124            NaN    2000.000  \n",
       "2100994004          NaN         nan  \n",
       "15067755            NaN    1950.000  \n",
       "...                 ...         ...  \n",
       "61288364            NaN    2001.000  \n",
       "69819412            NaN    2004.000  \n",
       "82786211            NaN    2006.000  \n",
       "15103435           sqft    1934.000  \n",
       "15195183           sqft    1941.000  \n",
       "15180783            NaN    1911.000  \n",
       "54854296            NaN    2001.000  \n",
       "\n",
       "[1000 rows x 11 columns]"
      ]
     },
     "execution_count": 115,
     "metadata": {},
     "output_type": "execute_result"
    }
   ],
   "source": [
    "df"
   ]
  },
  {
   "cell_type": "markdown",
   "metadata": {},
   "source": [
    "> E.g., row with index 15063505:"
   ]
  },
  {
   "cell_type": "code",
   "execution_count": 120,
   "metadata": {},
   "outputs": [
    {
     "data": {
      "text/html": [
       "<div>\n",
       "<style>\n",
       "    .dataframe thead tr:only-child th {\n",
       "        text-align: right;\n",
       "    }\n",
       "\n",
       "    .dataframe thead th {\n",
       "        text-align: left;\n",
       "    }\n",
       "\n",
       "    .dataframe tbody tr th {\n",
       "        vertical-align: top;\n",
       "    }\n",
       "</style>\n",
       "<table border=\"10\" class=\"dataframe\">\n",
       "  <thead>\n",
       "    <tr style=\"text-align: right;\">\n",
       "      <th></th>\n",
       "      <th>Address</th>\n",
       "      <th>Latitude</th>\n",
       "      <th>Longitude</th>\n",
       "      <th>IsAStudio</th>\n",
       "      <th>Beds</th>\n",
       "      <th>...</th>\n",
       "      <th>Size</th>\n",
       "      <th>SizeUnit</th>\n",
       "      <th>LotSize</th>\n",
       "      <th>LotSizeUnit</th>\n",
       "      <th>BuiltInYear</th>\n",
       "    </tr>\n",
       "    <tr>\n",
       "      <th>ID</th>\n",
       "      <th></th>\n",
       "      <th></th>\n",
       "      <th></th>\n",
       "      <th></th>\n",
       "      <th></th>\n",
       "      <th></th>\n",
       "      <th></th>\n",
       "      <th></th>\n",
       "      <th></th>\n",
       "      <th></th>\n",
       "      <th></th>\n",
       "    </tr>\n",
       "  </thead>\n",
       "  <tbody>\n",
       "    <tr>\n",
       "      <th>15063505</th>\n",
       "      <td>740 Francisco St, San Francisco, CA</td>\n",
       "      <td>37804420</td>\n",
       "      <td>-122417389</td>\n",
       "      <td>False</td>\n",
       "      <td>nan</td>\n",
       "      <td>...</td>\n",
       "      <td>1430.000</td>\n",
       "      <td>sqft</td>\n",
       "      <td>2435.000</td>\n",
       "      <td>sqft</td>\n",
       "      <td>1948.000</td>\n",
       "    </tr>\n",
       "  </tbody>\n",
       "</table>\n",
       "<p>1 rows × 11 columns</p>\n",
       "</div>"
      ],
      "text/plain": [
       "                                      Address  Latitude  Longitude IsAStudio  \\\n",
       "ID                                                                             \n",
       "15063505  740 Francisco St, San Francisco, CA  37804420 -122417389     False   \n",
       "\n",
       "          Beds     ...         Size  SizeUnit  LotSize  LotSizeUnit  \\\n",
       "ID                 ...                                                \n",
       "15063505   nan     ...     1430.000      sqft 2435.000         sqft   \n",
       "\n",
       "         BuiltInYear  \n",
       "ID                    \n",
       "15063505    1948.000  \n",
       "\n",
       "[1 rows x 11 columns]"
      ]
     },
     "execution_count": 120,
     "metadata": {},
     "output_type": "execute_result"
    }
   ],
   "source": [
    "df.loc[[15063505]]"
   ]
  },
  {
   "cell_type": "markdown",
   "metadata": {},
   "source": [
    "Its name is its value in the index."
   ]
  },
  {
   "cell_type": "markdown",
   "metadata": {},
   "source": [
    "> E.g., rows with indices 15063505 and 15064044:"
   ]
  },
  {
   "cell_type": "code",
   "execution_count": 121,
   "metadata": {},
   "outputs": [
    {
     "data": {
      "text/html": [
       "<div>\n",
       "<style>\n",
       "    .dataframe thead tr:only-child th {\n",
       "        text-align: right;\n",
       "    }\n",
       "\n",
       "    .dataframe thead th {\n",
       "        text-align: left;\n",
       "    }\n",
       "\n",
       "    .dataframe tbody tr th {\n",
       "        vertical-align: top;\n",
       "    }\n",
       "</style>\n",
       "<table border=\"10\" class=\"dataframe\">\n",
       "  <thead>\n",
       "    <tr style=\"text-align: right;\">\n",
       "      <th></th>\n",
       "      <th>Address</th>\n",
       "      <th>Latitude</th>\n",
       "      <th>Longitude</th>\n",
       "      <th>IsAStudio</th>\n",
       "      <th>Beds</th>\n",
       "      <th>...</th>\n",
       "      <th>Size</th>\n",
       "      <th>SizeUnit</th>\n",
       "      <th>LotSize</th>\n",
       "      <th>LotSizeUnit</th>\n",
       "      <th>BuiltInYear</th>\n",
       "    </tr>\n",
       "    <tr>\n",
       "      <th>ID</th>\n",
       "      <th></th>\n",
       "      <th></th>\n",
       "      <th></th>\n",
       "      <th></th>\n",
       "      <th></th>\n",
       "      <th></th>\n",
       "      <th></th>\n",
       "      <th></th>\n",
       "      <th></th>\n",
       "      <th></th>\n",
       "      <th></th>\n",
       "    </tr>\n",
       "  </thead>\n",
       "  <tbody>\n",
       "    <tr>\n",
       "      <th>15063505</th>\n",
       "      <td>740 Francisco St, San Francisco, CA</td>\n",
       "      <td>37804420</td>\n",
       "      <td>-122417389</td>\n",
       "      <td>False</td>\n",
       "      <td>nan</td>\n",
       "      <td>...</td>\n",
       "      <td>1430.000</td>\n",
       "      <td>sqft</td>\n",
       "      <td>2435.000</td>\n",
       "      <td>sqft</td>\n",
       "      <td>1948.000</td>\n",
       "    </tr>\n",
       "    <tr>\n",
       "      <th>15064044</th>\n",
       "      <td>199 Chestnut St APT 5, San Francisco, CA</td>\n",
       "      <td>37804392</td>\n",
       "      <td>-122406590</td>\n",
       "      <td>False</td>\n",
       "      <td>1.000</td>\n",
       "      <td>...</td>\n",
       "      <td>1060.000</td>\n",
       "      <td>sqft</td>\n",
       "      <td>nan</td>\n",
       "      <td>NaN</td>\n",
       "      <td>1930.000</td>\n",
       "    </tr>\n",
       "  </tbody>\n",
       "</table>\n",
       "<p>2 rows × 11 columns</p>\n",
       "</div>"
      ],
      "text/plain": [
       "                                           Address  Latitude  Longitude  \\\n",
       "ID                                                                        \n",
       "15063505       740 Francisco St, San Francisco, CA  37804420 -122417389   \n",
       "15064044  199 Chestnut St APT 5, San Francisco, CA  37804392 -122406590   \n",
       "\n",
       "         IsAStudio  Beds     ...         Size  SizeUnit  LotSize  LotSizeUnit  \\\n",
       "ID                           ...                                                \n",
       "15063505     False   nan     ...     1430.000      sqft 2435.000         sqft   \n",
       "15064044     False 1.000     ...     1060.000      sqft      nan          NaN   \n",
       "\n",
       "         BuiltInYear  \n",
       "ID                    \n",
       "15063505    1948.000  \n",
       "15064044    1930.000  \n",
       "\n",
       "[2 rows x 11 columns]"
      ]
     },
     "execution_count": 121,
     "metadata": {},
     "output_type": "execute_result"
    }
   ],
   "source": [
    "df.loc[[15063505,15064044]]"
   ]
  },
  {
   "cell_type": "markdown",
   "metadata": {},
   "source": [
    "> E.g., rows #1 and #3:"
   ]
  },
  {
   "cell_type": "code",
   "execution_count": 122,
   "metadata": {},
   "outputs": [
    {
     "data": {
      "text/html": [
       "<div>\n",
       "<style>\n",
       "    .dataframe thead tr:only-child th {\n",
       "        text-align: right;\n",
       "    }\n",
       "\n",
       "    .dataframe thead th {\n",
       "        text-align: left;\n",
       "    }\n",
       "\n",
       "    .dataframe tbody tr th {\n",
       "        vertical-align: top;\n",
       "    }\n",
       "</style>\n",
       "<table border=\"10\" class=\"dataframe\">\n",
       "  <thead>\n",
       "    <tr style=\"text-align: right;\">\n",
       "      <th></th>\n",
       "      <th>Address</th>\n",
       "      <th>Latitude</th>\n",
       "      <th>Longitude</th>\n",
       "      <th>IsAStudio</th>\n",
       "      <th>Beds</th>\n",
       "      <th>...</th>\n",
       "      <th>Size</th>\n",
       "      <th>SizeUnit</th>\n",
       "      <th>LotSize</th>\n",
       "      <th>LotSizeUnit</th>\n",
       "      <th>BuiltInYear</th>\n",
       "    </tr>\n",
       "    <tr>\n",
       "      <th>ID</th>\n",
       "      <th></th>\n",
       "      <th></th>\n",
       "      <th></th>\n",
       "      <th></th>\n",
       "      <th></th>\n",
       "      <th></th>\n",
       "      <th></th>\n",
       "      <th></th>\n",
       "      <th></th>\n",
       "      <th></th>\n",
       "      <th></th>\n",
       "    </tr>\n",
       "  </thead>\n",
       "  <tbody>\n",
       "    <tr>\n",
       "      <th>89239580</th>\n",
       "      <td>690 Market St UNIT 1705, San Francisco, CA</td>\n",
       "      <td>37788246</td>\n",
       "      <td>-122403198</td>\n",
       "      <td>False</td>\n",
       "      <td>2.000</td>\n",
       "      <td>...</td>\n",
       "      <td>1050.000</td>\n",
       "      <td>sqft</td>\n",
       "      <td>nan</td>\n",
       "      <td>NaN</td>\n",
       "      <td>2007.000</td>\n",
       "    </tr>\n",
       "    <tr>\n",
       "      <th>15179502</th>\n",
       "      <td>250 Concord St, San Francisco, CA</td>\n",
       "      <td>37710141</td>\n",
       "      <td>-122442063</td>\n",
       "      <td>False</td>\n",
       "      <td>4.000</td>\n",
       "      <td>...</td>\n",
       "      <td>1574.000</td>\n",
       "      <td>sqft</td>\n",
       "      <td>1947.000</td>\n",
       "      <td>sqft</td>\n",
       "      <td>1959.000</td>\n",
       "    </tr>\n",
       "  </tbody>\n",
       "</table>\n",
       "<p>2 rows × 11 columns</p>\n",
       "</div>"
      ],
      "text/plain": [
       "                                             Address  Latitude  Longitude  \\\n",
       "ID                                                                          \n",
       "89239580  690 Market St UNIT 1705, San Francisco, CA  37788246 -122403198   \n",
       "15179502           250 Concord St, San Francisco, CA  37710141 -122442063   \n",
       "\n",
       "         IsAStudio  Beds     ...         Size  SizeUnit  LotSize  LotSizeUnit  \\\n",
       "ID                           ...                                                \n",
       "89239580     False 2.000     ...     1050.000      sqft      nan          NaN   \n",
       "15179502     False 4.000     ...     1574.000      sqft 1947.000         sqft   \n",
       "\n",
       "         BuiltInYear  \n",
       "ID                    \n",
       "89239580    2007.000  \n",
       "15179502    1959.000  \n",
       "\n",
       "[2 rows x 11 columns]"
      ]
     },
     "execution_count": 122,
     "metadata": {},
     "output_type": "execute_result"
    }
   ],
   "source": [
    "df.iloc[[1,3]]"
   ]
  },
  {
   "cell_type": "markdown",
   "metadata": {},
   "source": [
    "> ## Subsetting rows by Boolean selection (a.k.a., masking)"
   ]
  },
  {
   "cell_type": "markdown",
   "metadata": {},
   "source": [
    "Rows can also be selected by using Boolean selection, using an array calculated from the result of applying a logical condition on the values in any of the columns.  This allows us to build more complicated selections than those based simply upon index labels or positions."
   ]
  },
  {
   "cell_type": "markdown",
   "metadata": {},
   "source": [
    "> E.g., what homes have been built before 1900?"
   ]
  },
  {
   "cell_type": "code",
   "execution_count": 124,
   "metadata": {},
   "outputs": [
    {
     "data": {
      "text/html": [
       "<div>\n",
       "<style>\n",
       "    .dataframe thead tr:only-child th {\n",
       "        text-align: right;\n",
       "    }\n",
       "\n",
       "    .dataframe thead th {\n",
       "        text-align: left;\n",
       "    }\n",
       "\n",
       "    .dataframe tbody tr th {\n",
       "        vertical-align: top;\n",
       "    }\n",
       "</style>\n",
       "<table border=\"10\" class=\"dataframe\">\n",
       "  <thead>\n",
       "    <tr style=\"text-align: right;\">\n",
       "      <th></th>\n",
       "      <th>Address</th>\n",
       "      <th>Latitude</th>\n",
       "      <th>Longitude</th>\n",
       "      <th>IsAStudio</th>\n",
       "      <th>Beds</th>\n",
       "      <th>...</th>\n",
       "      <th>Size</th>\n",
       "      <th>SizeUnit</th>\n",
       "      <th>LotSize</th>\n",
       "      <th>LotSizeUnit</th>\n",
       "      <th>BuiltInYear</th>\n",
       "    </tr>\n",
       "    <tr>\n",
       "      <th>ID</th>\n",
       "      <th></th>\n",
       "      <th></th>\n",
       "      <th></th>\n",
       "      <th></th>\n",
       "      <th></th>\n",
       "      <th></th>\n",
       "      <th></th>\n",
       "      <th></th>\n",
       "      <th></th>\n",
       "      <th></th>\n",
       "      <th></th>\n",
       "    </tr>\n",
       "  </thead>\n",
       "  <tbody>\n",
       "    <tr>\n",
       "      <th>123597388</th>\n",
       "      <td>667 Shotwell St # A, San Francisco, CA</td>\n",
       "      <td>37757851</td>\n",
       "      <td>-122415629</td>\n",
       "      <td>False</td>\n",
       "      <td>1.000</td>\n",
       "      <td>...</td>\n",
       "      <td>1212.000</td>\n",
       "      <td>sqft</td>\n",
       "      <td>nan</td>\n",
       "      <td>NaN</td>\n",
       "      <td>1890.000</td>\n",
       "    </tr>\n",
       "    <tr>\n",
       "      <th>63197592</th>\n",
       "      <td>3021 20th St, San Francisco, CA</td>\n",
       "      <td>37758878</td>\n",
       "      <td>-122411147</td>\n",
       "      <td>False</td>\n",
       "      <td>1.000</td>\n",
       "      <td>...</td>\n",
       "      <td>1267.000</td>\n",
       "      <td>sqft</td>\n",
       "      <td>nan</td>\n",
       "      <td>NaN</td>\n",
       "      <td>1890.000</td>\n",
       "    </tr>\n",
       "    <tr>\n",
       "      <th>15145720</th>\n",
       "      <td>956 S Van Ness Ave, San Francisco, CA</td>\n",
       "      <td>37757832</td>\n",
       "      <td>-122417139</td>\n",
       "      <td>False</td>\n",
       "      <td>4.000</td>\n",
       "      <td>...</td>\n",
       "      <td>3500.000</td>\n",
       "      <td>sqft</td>\n",
       "      <td>4165.000</td>\n",
       "      <td>sqft</td>\n",
       "      <td>1872.000</td>\n",
       "    </tr>\n",
       "    <tr>\n",
       "      <th>119684777</th>\n",
       "      <td>967 Hayes St, San Francisco, CA</td>\n",
       "      <td>37775645</td>\n",
       "      <td>-122432222</td>\n",
       "      <td>False</td>\n",
       "      <td>4.000</td>\n",
       "      <td>...</td>\n",
       "      <td>3006.000</td>\n",
       "      <td>sqft</td>\n",
       "      <td>nan</td>\n",
       "      <td>NaN</td>\n",
       "      <td>1885.000</td>\n",
       "    </tr>\n",
       "    <tr>\n",
       "      <th>15181209</th>\n",
       "      <td>1001 Diamond St # 1001A, San Francisco, CA</td>\n",
       "      <td>37749461</td>\n",
       "      <td>-122435844</td>\n",
       "      <td>False</td>\n",
       "      <td>3.000</td>\n",
       "      <td>...</td>\n",
       "      <td>2032.000</td>\n",
       "      <td>sqft</td>\n",
       "      <td>1913.000</td>\n",
       "      <td>sqft</td>\n",
       "      <td>1892.000</td>\n",
       "    </tr>\n",
       "    <tr>\n",
       "      <th>123597223</th>\n",
       "      <td>1954 Golden Gate Ave, San Francisco, CA</td>\n",
       "      <td>37778246</td>\n",
       "      <td>-122442763</td>\n",
       "      <td>False</td>\n",
       "      <td>2.000</td>\n",
       "      <td>...</td>\n",
       "      <td>1275.000</td>\n",
       "      <td>sqft</td>\n",
       "      <td>nan</td>\n",
       "      <td>NaN</td>\n",
       "      <td>1895.000</td>\n",
       "    </tr>\n",
       "    <tr>\n",
       "      <th>82785514</th>\n",
       "      <td>1394 Mcallister St, San Francisco, CA</td>\n",
       "      <td>37778463</td>\n",
       "      <td>-122434933</td>\n",
       "      <td>False</td>\n",
       "      <td>3.000</td>\n",
       "      <td>...</td>\n",
       "      <td>2300.000</td>\n",
       "      <td>sqft</td>\n",
       "      <td>nan</td>\n",
       "      <td>NaN</td>\n",
       "      <td>1890.000</td>\n",
       "    </tr>\n",
       "    <tr>\n",
       "      <th>114318108</th>\n",
       "      <td>1442 Grove St # A, San Francisco, CA</td>\n",
       "      <td>37775894</td>\n",
       "      <td>-122440467</td>\n",
       "      <td>False</td>\n",
       "      <td>1.000</td>\n",
       "      <td>...</td>\n",
       "      <td>593.000</td>\n",
       "      <td>sqft</td>\n",
       "      <td>nan</td>\n",
       "      <td>NaN</td>\n",
       "      <td>1890.000</td>\n",
       "    </tr>\n",
       "    <tr>\n",
       "      <th>15078866</th>\n",
       "      <td>753-755 Oak St, San Francisco, CA</td>\n",
       "      <td>37773576</td>\n",
       "      <td>-122431663</td>\n",
       "      <td>False</td>\n",
       "      <td>nan</td>\n",
       "      <td>...</td>\n",
       "      <td>2430.000</td>\n",
       "      <td>sqft</td>\n",
       "      <td>3781.000</td>\n",
       "      <td>sqft</td>\n",
       "      <td>1890.000</td>\n",
       "    </tr>\n",
       "    <tr>\n",
       "      <th>2122992200</th>\n",
       "      <td>129 Octavia St, San Francisco, CA</td>\n",
       "      <td>37773192</td>\n",
       "      <td>-122424037</td>\n",
       "      <td>True</td>\n",
       "      <td>nan</td>\n",
       "      <td>...</td>\n",
       "      <td>3655.000</td>\n",
       "      <td>sqft</td>\n",
       "      <td>nan</td>\n",
       "      <td>NaN</td>\n",
       "      <td>1883.000</td>\n",
       "    </tr>\n",
       "    <tr>\n",
       "      <th>15065140</th>\n",
       "      <td>1407 Montgomery St APT 2, San Francisco, CA</td>\n",
       "      <td>37802299</td>\n",
       "      <td>-122404941</td>\n",
       "      <td>False</td>\n",
       "      <td>1.000</td>\n",
       "      <td>...</td>\n",
       "      <td>1000.000</td>\n",
       "      <td>sqft</td>\n",
       "      <td>nan</td>\n",
       "      <td>NaN</td>\n",
       "      <td>1870.000</td>\n",
       "    </tr>\n",
       "    <tr>\n",
       "      <th>15084954</th>\n",
       "      <td>1954 Golden Gate Ave, San Francisco, CA</td>\n",
       "      <td>37778420</td>\n",
       "      <td>-122443073</td>\n",
       "      <td>False</td>\n",
       "      <td>2.000</td>\n",
       "      <td>...</td>\n",
       "      <td>1515.000</td>\n",
       "      <td>sqft</td>\n",
       "      <td>nan</td>\n",
       "      <td>NaN</td>\n",
       "      <td>1895.000</td>\n",
       "    </tr>\n",
       "    <tr>\n",
       "      <th>15078536</th>\n",
       "      <td>640 Steiner St, San Francisco, CA</td>\n",
       "      <td>37775399</td>\n",
       "      <td>-122432491</td>\n",
       "      <td>False</td>\n",
       "      <td>2.000</td>\n",
       "      <td>...</td>\n",
       "      <td>1593.000</td>\n",
       "      <td>sqft</td>\n",
       "      <td>nan</td>\n",
       "      <td>NaN</td>\n",
       "      <td>1895.000</td>\n",
       "    </tr>\n",
       "    <tr>\n",
       "      <th>15082108</th>\n",
       "      <td>3016 Sacramento St, San Francisco, CA</td>\n",
       "      <td>37788970</td>\n",
       "      <td>-122442995</td>\n",
       "      <td>False</td>\n",
       "      <td>2.000</td>\n",
       "      <td>...</td>\n",
       "      <td>1408.000</td>\n",
       "      <td>sqft</td>\n",
       "      <td>nan</td>\n",
       "      <td>NaN</td>\n",
       "      <td>1890.000</td>\n",
       "    </tr>\n",
       "    <tr>\n",
       "      <th>15076156</th>\n",
       "      <td>1533 Sutter St, San Francisco, CA</td>\n",
       "      <td>37786658</td>\n",
       "      <td>-122426481</td>\n",
       "      <td>False</td>\n",
       "      <td>6.000</td>\n",
       "      <td>...</td>\n",
       "      <td>7375.000</td>\n",
       "      <td>sqft</td>\n",
       "      <td>2748.000</td>\n",
       "      <td>sqft</td>\n",
       "      <td>1890.000</td>\n",
       "    </tr>\n",
       "  </tbody>\n",
       "</table>\n",
       "<p>15 rows × 11 columns</p>\n",
       "</div>"
      ],
      "text/plain": [
       "                                                Address  Latitude  Longitude  \\\n",
       "ID                                                                             \n",
       "123597388        667 Shotwell St # A, San Francisco, CA  37757851 -122415629   \n",
       "63197592                3021 20th St, San Francisco, CA  37758878 -122411147   \n",
       "15145720          956 S Van Ness Ave, San Francisco, CA  37757832 -122417139   \n",
       "119684777               967 Hayes St, San Francisco, CA  37775645 -122432222   \n",
       "15181209     1001 Diamond St # 1001A, San Francisco, CA  37749461 -122435844   \n",
       "123597223       1954 Golden Gate Ave, San Francisco, CA  37778246 -122442763   \n",
       "82785514          1394 Mcallister St, San Francisco, CA  37778463 -122434933   \n",
       "114318108          1442 Grove St # A, San Francisco, CA  37775894 -122440467   \n",
       "15078866              753-755 Oak St, San Francisco, CA  37773576 -122431663   \n",
       "2122992200            129 Octavia St, San Francisco, CA  37773192 -122424037   \n",
       "15065140    1407 Montgomery St APT 2, San Francisco, CA  37802299 -122404941   \n",
       "15084954        1954 Golden Gate Ave, San Francisco, CA  37778420 -122443073   \n",
       "15078536              640 Steiner St, San Francisco, CA  37775399 -122432491   \n",
       "15082108          3016 Sacramento St, San Francisco, CA  37788970 -122442995   \n",
       "15076156              1533 Sutter St, San Francisco, CA  37786658 -122426481   \n",
       "\n",
       "           IsAStudio  Beds     ...         Size  SizeUnit  LotSize  \\\n",
       "ID                             ...                                   \n",
       "123597388      False 1.000     ...     1212.000      sqft      nan   \n",
       "63197592       False 1.000     ...     1267.000      sqft      nan   \n",
       "15145720       False 4.000     ...     3500.000      sqft 4165.000   \n",
       "119684777      False 4.000     ...     3006.000      sqft      nan   \n",
       "15181209       False 3.000     ...     2032.000      sqft 1913.000   \n",
       "123597223      False 2.000     ...     1275.000      sqft      nan   \n",
       "82785514       False 3.000     ...     2300.000      sqft      nan   \n",
       "114318108      False 1.000     ...      593.000      sqft      nan   \n",
       "15078866       False   nan     ...     2430.000      sqft 3781.000   \n",
       "2122992200      True   nan     ...     3655.000      sqft      nan   \n",
       "15065140       False 1.000     ...     1000.000      sqft      nan   \n",
       "15084954       False 2.000     ...     1515.000      sqft      nan   \n",
       "15078536       False 2.000     ...     1593.000      sqft      nan   \n",
       "15082108       False 2.000     ...     1408.000      sqft      nan   \n",
       "15076156       False 6.000     ...     7375.000      sqft 2748.000   \n",
       "\n",
       "            LotSizeUnit BuiltInYear  \n",
       "ID                                   \n",
       "123597388           NaN    1890.000  \n",
       "63197592            NaN    1890.000  \n",
       "15145720           sqft    1872.000  \n",
       "119684777           NaN    1885.000  \n",
       "15181209           sqft    1892.000  \n",
       "123597223           NaN    1895.000  \n",
       "82785514            NaN    1890.000  \n",
       "114318108           NaN    1890.000  \n",
       "15078866           sqft    1890.000  \n",
       "2122992200          NaN    1883.000  \n",
       "15065140            NaN    1870.000  \n",
       "15084954            NaN    1895.000  \n",
       "15078536            NaN    1895.000  \n",
       "15082108            NaN    1890.000  \n",
       "15076156           sqft    1890.000  \n",
       "\n",
       "[15 rows x 11 columns]"
      ]
     },
     "execution_count": 124,
     "metadata": {},
     "output_type": "execute_result"
    }
   ],
   "source": [
    "df[df.BuiltInYear<1900]"
   ]
  },
  {
   "cell_type": "markdown",
   "metadata": {},
   "source": [
    "> Let's subset on that `Series`:"
   ]
  },
  {
   "cell_type": "code",
   "execution_count": 125,
   "metadata": {
    "collapsed": true
   },
   "outputs": [],
   "source": [
    "subset =df[df.BuiltInYear<1900]"
   ]
  },
  {
   "cell_type": "markdown",
   "metadata": {},
   "source": [
    "Multiple conditions can be put together."
   ]
  },
  {
   "cell_type": "markdown",
   "metadata": {},
   "source": [
    "> E.g., subset for `BuiltInYear` below 1900 and `Size` over 1500:"
   ]
  },
  {
   "cell_type": "code",
   "execution_count": 138,
   "metadata": {},
   "outputs": [
    {
     "data": {
      "text/html": [
       "<div>\n",
       "<style>\n",
       "    .dataframe thead tr:only-child th {\n",
       "        text-align: right;\n",
       "    }\n",
       "\n",
       "    .dataframe thead th {\n",
       "        text-align: left;\n",
       "    }\n",
       "\n",
       "    .dataframe tbody tr th {\n",
       "        vertical-align: top;\n",
       "    }\n",
       "</style>\n",
       "<table border=\"10\" class=\"dataframe\">\n",
       "  <thead>\n",
       "    <tr style=\"text-align: right;\">\n",
       "      <th></th>\n",
       "      <th>Address</th>\n",
       "      <th>Latitude</th>\n",
       "      <th>Longitude</th>\n",
       "      <th>IsAStudio</th>\n",
       "      <th>Beds</th>\n",
       "      <th>...</th>\n",
       "      <th>Size</th>\n",
       "      <th>SizeUnit</th>\n",
       "      <th>LotSize</th>\n",
       "      <th>LotSizeUnit</th>\n",
       "      <th>BuiltInYear</th>\n",
       "    </tr>\n",
       "    <tr>\n",
       "      <th>ID</th>\n",
       "      <th></th>\n",
       "      <th></th>\n",
       "      <th></th>\n",
       "      <th></th>\n",
       "      <th></th>\n",
       "      <th></th>\n",
       "      <th></th>\n",
       "      <th></th>\n",
       "      <th></th>\n",
       "      <th></th>\n",
       "      <th></th>\n",
       "    </tr>\n",
       "  </thead>\n",
       "  <tbody>\n",
       "    <tr>\n",
       "      <th>15145720</th>\n",
       "      <td>956 S Van Ness Ave, San Francisco, CA</td>\n",
       "      <td>37757832</td>\n",
       "      <td>-122417139</td>\n",
       "      <td>False</td>\n",
       "      <td>4.000</td>\n",
       "      <td>...</td>\n",
       "      <td>3500.000</td>\n",
       "      <td>sqft</td>\n",
       "      <td>4165.000</td>\n",
       "      <td>sqft</td>\n",
       "      <td>1872.000</td>\n",
       "    </tr>\n",
       "    <tr>\n",
       "      <th>119684777</th>\n",
       "      <td>967 Hayes St, San Francisco, CA</td>\n",
       "      <td>37775645</td>\n",
       "      <td>-122432222</td>\n",
       "      <td>False</td>\n",
       "      <td>4.000</td>\n",
       "      <td>...</td>\n",
       "      <td>3006.000</td>\n",
       "      <td>sqft</td>\n",
       "      <td>nan</td>\n",
       "      <td>NaN</td>\n",
       "      <td>1885.000</td>\n",
       "    </tr>\n",
       "    <tr>\n",
       "      <th>15181209</th>\n",
       "      <td>1001 Diamond St # 1001A, San Francisco, CA</td>\n",
       "      <td>37749461</td>\n",
       "      <td>-122435844</td>\n",
       "      <td>False</td>\n",
       "      <td>3.000</td>\n",
       "      <td>...</td>\n",
       "      <td>2032.000</td>\n",
       "      <td>sqft</td>\n",
       "      <td>1913.000</td>\n",
       "      <td>sqft</td>\n",
       "      <td>1892.000</td>\n",
       "    </tr>\n",
       "    <tr>\n",
       "      <th>82785514</th>\n",
       "      <td>1394 Mcallister St, San Francisco, CA</td>\n",
       "      <td>37778463</td>\n",
       "      <td>-122434933</td>\n",
       "      <td>False</td>\n",
       "      <td>3.000</td>\n",
       "      <td>...</td>\n",
       "      <td>2300.000</td>\n",
       "      <td>sqft</td>\n",
       "      <td>nan</td>\n",
       "      <td>NaN</td>\n",
       "      <td>1890.000</td>\n",
       "    </tr>\n",
       "    <tr>\n",
       "      <th>15078866</th>\n",
       "      <td>753-755 Oak St, San Francisco, CA</td>\n",
       "      <td>37773576</td>\n",
       "      <td>-122431663</td>\n",
       "      <td>False</td>\n",
       "      <td>nan</td>\n",
       "      <td>...</td>\n",
       "      <td>2430.000</td>\n",
       "      <td>sqft</td>\n",
       "      <td>3781.000</td>\n",
       "      <td>sqft</td>\n",
       "      <td>1890.000</td>\n",
       "    </tr>\n",
       "    <tr>\n",
       "      <th>2122992200</th>\n",
       "      <td>129 Octavia St, San Francisco, CA</td>\n",
       "      <td>37773192</td>\n",
       "      <td>-122424037</td>\n",
       "      <td>True</td>\n",
       "      <td>nan</td>\n",
       "      <td>...</td>\n",
       "      <td>3655.000</td>\n",
       "      <td>sqft</td>\n",
       "      <td>nan</td>\n",
       "      <td>NaN</td>\n",
       "      <td>1883.000</td>\n",
       "    </tr>\n",
       "    <tr>\n",
       "      <th>15084954</th>\n",
       "      <td>1954 Golden Gate Ave, San Francisco, CA</td>\n",
       "      <td>37778420</td>\n",
       "      <td>-122443073</td>\n",
       "      <td>False</td>\n",
       "      <td>2.000</td>\n",
       "      <td>...</td>\n",
       "      <td>1515.000</td>\n",
       "      <td>sqft</td>\n",
       "      <td>nan</td>\n",
       "      <td>NaN</td>\n",
       "      <td>1895.000</td>\n",
       "    </tr>\n",
       "    <tr>\n",
       "      <th>15078536</th>\n",
       "      <td>640 Steiner St, San Francisco, CA</td>\n",
       "      <td>37775399</td>\n",
       "      <td>-122432491</td>\n",
       "      <td>False</td>\n",
       "      <td>2.000</td>\n",
       "      <td>...</td>\n",
       "      <td>1593.000</td>\n",
       "      <td>sqft</td>\n",
       "      <td>nan</td>\n",
       "      <td>NaN</td>\n",
       "      <td>1895.000</td>\n",
       "    </tr>\n",
       "    <tr>\n",
       "      <th>15076156</th>\n",
       "      <td>1533 Sutter St, San Francisco, CA</td>\n",
       "      <td>37786658</td>\n",
       "      <td>-122426481</td>\n",
       "      <td>False</td>\n",
       "      <td>6.000</td>\n",
       "      <td>...</td>\n",
       "      <td>7375.000</td>\n",
       "      <td>sqft</td>\n",
       "      <td>2748.000</td>\n",
       "      <td>sqft</td>\n",
       "      <td>1890.000</td>\n",
       "    </tr>\n",
       "  </tbody>\n",
       "</table>\n",
       "<p>9 rows × 11 columns</p>\n",
       "</div>"
      ],
      "text/plain": [
       "                                               Address  Latitude  Longitude  \\\n",
       "ID                                                                            \n",
       "15145720         956 S Van Ness Ave, San Francisco, CA  37757832 -122417139   \n",
       "119684777              967 Hayes St, San Francisco, CA  37775645 -122432222   \n",
       "15181209    1001 Diamond St # 1001A, San Francisco, CA  37749461 -122435844   \n",
       "82785514         1394 Mcallister St, San Francisco, CA  37778463 -122434933   \n",
       "15078866             753-755 Oak St, San Francisco, CA  37773576 -122431663   \n",
       "2122992200           129 Octavia St, San Francisco, CA  37773192 -122424037   \n",
       "15084954       1954 Golden Gate Ave, San Francisco, CA  37778420 -122443073   \n",
       "15078536             640 Steiner St, San Francisco, CA  37775399 -122432491   \n",
       "15076156             1533 Sutter St, San Francisco, CA  37786658 -122426481   \n",
       "\n",
       "           IsAStudio  Beds     ...         Size  SizeUnit  LotSize  \\\n",
       "ID                             ...                                   \n",
       "15145720       False 4.000     ...     3500.000      sqft 4165.000   \n",
       "119684777      False 4.000     ...     3006.000      sqft      nan   \n",
       "15181209       False 3.000     ...     2032.000      sqft 1913.000   \n",
       "82785514       False 3.000     ...     2300.000      sqft      nan   \n",
       "15078866       False   nan     ...     2430.000      sqft 3781.000   \n",
       "2122992200      True   nan     ...     3655.000      sqft      nan   \n",
       "15084954       False 2.000     ...     1515.000      sqft      nan   \n",
       "15078536       False 2.000     ...     1593.000      sqft      nan   \n",
       "15076156       False 6.000     ...     7375.000      sqft 2748.000   \n",
       "\n",
       "            LotSizeUnit BuiltInYear  \n",
       "ID                                   \n",
       "15145720           sqft    1872.000  \n",
       "119684777           NaN    1885.000  \n",
       "15181209           sqft    1892.000  \n",
       "82785514            NaN    1890.000  \n",
       "15078866           sqft    1890.000  \n",
       "2122992200          NaN    1883.000  \n",
       "15084954            NaN    1895.000  \n",
       "15078536            NaN    1895.000  \n",
       "15076156           sqft    1890.000  \n",
       "\n",
       "[9 rows x 11 columns]"
      ]
     },
     "execution_count": 138,
     "metadata": {},
     "output_type": "execute_result"
    }
   ],
   "source": [
    "df[(df.BuiltInYear<1900) & (df.Size>1500)]"
   ]
  },
  {
   "cell_type": "markdown",
   "metadata": {},
   "source": [
    "It is possible to subset on columns simultaneously."
   ]
  },
  {
   "cell_type": "markdown",
   "metadata": {},
   "source": [
    "> E.g., subset (a `DataFrame`) on `Address` for `BuiltInYear` below 1900 and `Size` over 1500:"
   ]
  },
  {
   "cell_type": "code",
   "execution_count": 141,
   "metadata": {},
   "outputs": [
    {
     "data": {
      "text/html": [
       "<div>\n",
       "<style>\n",
       "    .dataframe thead tr:only-child th {\n",
       "        text-align: right;\n",
       "    }\n",
       "\n",
       "    .dataframe thead th {\n",
       "        text-align: left;\n",
       "    }\n",
       "\n",
       "    .dataframe tbody tr th {\n",
       "        vertical-align: top;\n",
       "    }\n",
       "</style>\n",
       "<table border=\"10\" class=\"dataframe\">\n",
       "  <thead>\n",
       "    <tr style=\"text-align: right;\">\n",
       "      <th></th>\n",
       "      <th>Address</th>\n",
       "    </tr>\n",
       "    <tr>\n",
       "      <th>ID</th>\n",
       "      <th></th>\n",
       "    </tr>\n",
       "  </thead>\n",
       "  <tbody>\n",
       "    <tr>\n",
       "      <th>15145720</th>\n",
       "      <td>956 S Van Ness Ave, San Francisco, CA</td>\n",
       "    </tr>\n",
       "    <tr>\n",
       "      <th>119684777</th>\n",
       "      <td>967 Hayes St, San Francisco, CA</td>\n",
       "    </tr>\n",
       "    <tr>\n",
       "      <th>15181209</th>\n",
       "      <td>1001 Diamond St # 1001A, San Francisco, CA</td>\n",
       "    </tr>\n",
       "    <tr>\n",
       "      <th>82785514</th>\n",
       "      <td>1394 Mcallister St, San Francisco, CA</td>\n",
       "    </tr>\n",
       "    <tr>\n",
       "      <th>15078866</th>\n",
       "      <td>753-755 Oak St, San Francisco, CA</td>\n",
       "    </tr>\n",
       "    <tr>\n",
       "      <th>2122992200</th>\n",
       "      <td>129 Octavia St, San Francisco, CA</td>\n",
       "    </tr>\n",
       "    <tr>\n",
       "      <th>15084954</th>\n",
       "      <td>1954 Golden Gate Ave, San Francisco, CA</td>\n",
       "    </tr>\n",
       "    <tr>\n",
       "      <th>15078536</th>\n",
       "      <td>640 Steiner St, San Francisco, CA</td>\n",
       "    </tr>\n",
       "    <tr>\n",
       "      <th>15076156</th>\n",
       "      <td>1533 Sutter St, San Francisco, CA</td>\n",
       "    </tr>\n",
       "  </tbody>\n",
       "</table>\n",
       "</div>"
      ],
      "text/plain": [
       "                                               Address\n",
       "ID                                                    \n",
       "15145720         956 S Van Ness Ave, San Francisco, CA\n",
       "119684777              967 Hayes St, San Francisco, CA\n",
       "15181209    1001 Diamond St # 1001A, San Francisco, CA\n",
       "82785514         1394 Mcallister St, San Francisco, CA\n",
       "15078866             753-755 Oak St, San Francisco, CA\n",
       "2122992200           129 Octavia St, San Francisco, CA\n",
       "15084954       1954 Golden Gate Ave, San Francisco, CA\n",
       "15078536             640 Steiner St, San Francisco, CA\n",
       "15076156             1533 Sutter St, San Francisco, CA"
      ]
     },
     "execution_count": 141,
     "metadata": {},
     "output_type": "execute_result"
    }
   ],
   "source": [
    "df[(df.BuiltInYear<1900) & (df.Size>1500)][['Address']]"
   ]
  },
  {
   "cell_type": "markdown",
   "metadata": {},
   "source": [
    "> To get a `Series` instead of a `DataFrame`:"
   ]
  },
  {
   "cell_type": "code",
   "execution_count": 148,
   "metadata": {},
   "outputs": [
    {
     "data": {
      "text/plain": [
       "ID\n",
       "15145720           956 S Van Ness Ave, San Francisco, CA\n",
       "119684777                967 Hayes St, San Francisco, CA\n",
       "15181209      1001 Diamond St # 1001A, San Francisco, CA\n",
       "82785514           1394 Mcallister St, San Francisco, CA\n",
       "15078866               753-755 Oak St, San Francisco, CA\n",
       "2122992200             129 Octavia St, San Francisco, CA\n",
       "15084954         1954 Golden Gate Ave, San Francisco, CA\n",
       "15078536               640 Steiner St, San Francisco, CA\n",
       "15076156               1533 Sutter St, San Francisco, CA\n",
       "Name: Address, dtype: object"
      ]
     },
     "execution_count": 148,
     "metadata": {},
     "output_type": "execute_result"
    }
   ],
   "source": [
    "df[(df.BuiltInYear<1900) & (df.Size>1500)]['Address']"
   ]
  },
  {
   "cell_type": "markdown",
   "metadata": {},
   "source": [
    "## Part B | Wrangling the SF Housing dataset (take 2) with `pandas`"
   ]
  },
  {
   "cell_type": "code",
   "execution_count": 149,
   "metadata": {
    "collapsed": true
   },
   "outputs": [],
   "source": [
    "properties_df = pd.read_csv(os.path.join('..', 'datasets', 'dataset-03-zillow-properties.csv'), index_col = 'ID')\n",
    "transactions_df = pd.read_csv(os.path.join('..', 'datasets', 'dataset-03-zillow-transactions.csv'), index_col = 'ID')"
   ]
  },
  {
   "cell_type": "markdown",
   "metadata": {},
   "source": [
    "(`pd.read_csv` can load the dataset and set the index column for the `DataFrame` at the same time)"
   ]
  },
  {
   "cell_type": "code",
   "execution_count": 150,
   "metadata": {},
   "outputs": [
    {
     "data": {
      "text/html": [
       "<div>\n",
       "<style>\n",
       "    .dataframe thead tr:only-child th {\n",
       "        text-align: right;\n",
       "    }\n",
       "\n",
       "    .dataframe thead th {\n",
       "        text-align: left;\n",
       "    }\n",
       "\n",
       "    .dataframe tbody tr th {\n",
       "        vertical-align: top;\n",
       "    }\n",
       "</style>\n",
       "<table border=\"10\" class=\"dataframe\">\n",
       "  <thead>\n",
       "    <tr style=\"text-align: right;\">\n",
       "      <th></th>\n",
       "      <th>Address</th>\n",
       "      <th>Latitude</th>\n",
       "      <th>Longitude</th>\n",
       "      <th>IsAStudio</th>\n",
       "      <th>Beds</th>\n",
       "      <th>...</th>\n",
       "      <th>Size</th>\n",
       "      <th>SizeUnit</th>\n",
       "      <th>LotSize</th>\n",
       "      <th>LotSizeUnit</th>\n",
       "      <th>BuiltInYear</th>\n",
       "    </tr>\n",
       "    <tr>\n",
       "      <th>ID</th>\n",
       "      <th></th>\n",
       "      <th></th>\n",
       "      <th></th>\n",
       "      <th></th>\n",
       "      <th></th>\n",
       "      <th></th>\n",
       "      <th></th>\n",
       "      <th></th>\n",
       "      <th></th>\n",
       "      <th></th>\n",
       "      <th></th>\n",
       "    </tr>\n",
       "  </thead>\n",
       "  <tbody>\n",
       "    <tr>\n",
       "      <th>2121978635</th>\n",
       "      <td>829 Folsom St UNIT 906, San Francisco, CA</td>\n",
       "      <td>37781429</td>\n",
       "      <td>-122401860</td>\n",
       "      <td>False</td>\n",
       "      <td>1.000</td>\n",
       "      <td>...</td>\n",
       "      <td>557.000</td>\n",
       "      <td>sqft</td>\n",
       "      <td>nan</td>\n",
       "      <td>NaN</td>\n",
       "      <td>2010.000</td>\n",
       "    </tr>\n",
       "    <tr>\n",
       "      <th>89239580</th>\n",
       "      <td>690 Market St UNIT 1705, San Francisco, CA</td>\n",
       "      <td>37788246</td>\n",
       "      <td>-122403198</td>\n",
       "      <td>False</td>\n",
       "      <td>2.000</td>\n",
       "      <td>...</td>\n",
       "      <td>1050.000</td>\n",
       "      <td>sqft</td>\n",
       "      <td>nan</td>\n",
       "      <td>NaN</td>\n",
       "      <td>2007.000</td>\n",
       "    </tr>\n",
       "    <tr>\n",
       "      <th>15131782</th>\n",
       "      <td>401 Grand View Ave APT 3, San Francisco, CA</td>\n",
       "      <td>37752157</td>\n",
       "      <td>-122442356</td>\n",
       "      <td>False</td>\n",
       "      <td>2.000</td>\n",
       "      <td>...</td>\n",
       "      <td>937.000</td>\n",
       "      <td>sqft</td>\n",
       "      <td>nan</td>\n",
       "      <td>NaN</td>\n",
       "      <td>1983.000</td>\n",
       "    </tr>\n",
       "    <tr>\n",
       "      <th>15179502</th>\n",
       "      <td>250 Concord St, San Francisco, CA</td>\n",
       "      <td>37710141</td>\n",
       "      <td>-122442063</td>\n",
       "      <td>False</td>\n",
       "      <td>4.000</td>\n",
       "      <td>...</td>\n",
       "      <td>1574.000</td>\n",
       "      <td>sqft</td>\n",
       "      <td>1947.000</td>\n",
       "      <td>sqft</td>\n",
       "      <td>1959.000</td>\n",
       "    </tr>\n",
       "    <tr>\n",
       "      <th>52266124</th>\n",
       "      <td>88 King St APT 317, San Francisco, CA</td>\n",
       "      <td>37780630</td>\n",
       "      <td>-122389635</td>\n",
       "      <td>False</td>\n",
       "      <td>2.000</td>\n",
       "      <td>...</td>\n",
       "      <td>1205.000</td>\n",
       "      <td>sqft</td>\n",
       "      <td>nan</td>\n",
       "      <td>NaN</td>\n",
       "      <td>2000.000</td>\n",
       "    </tr>\n",
       "  </tbody>\n",
       "</table>\n",
       "<p>5 rows × 11 columns</p>\n",
       "</div>"
      ],
      "text/plain": [
       "                                                Address  Latitude  Longitude  \\\n",
       "ID                                                                             \n",
       "2121978635    829 Folsom St UNIT 906, San Francisco, CA  37781429 -122401860   \n",
       "89239580     690 Market St UNIT 1705, San Francisco, CA  37788246 -122403198   \n",
       "15131782    401 Grand View Ave APT 3, San Francisco, CA  37752157 -122442356   \n",
       "15179502              250 Concord St, San Francisco, CA  37710141 -122442063   \n",
       "52266124          88 King St APT 317, San Francisco, CA  37780630 -122389635   \n",
       "\n",
       "           IsAStudio  Beds     ...         Size  SizeUnit  LotSize  \\\n",
       "ID                             ...                                   \n",
       "2121978635     False 1.000     ...      557.000      sqft      nan   \n",
       "89239580       False 2.000     ...     1050.000      sqft      nan   \n",
       "15131782       False 2.000     ...      937.000      sqft      nan   \n",
       "15179502       False 4.000     ...     1574.000      sqft 1947.000   \n",
       "52266124       False 2.000     ...     1205.000      sqft      nan   \n",
       "\n",
       "            LotSizeUnit BuiltInYear  \n",
       "ID                                   \n",
       "2121978635          NaN    2010.000  \n",
       "89239580            NaN    2007.000  \n",
       "15131782            NaN    1983.000  \n",
       "15179502           sqft    1959.000  \n",
       "52266124            NaN    2000.000  \n",
       "\n",
       "[5 rows x 11 columns]"
      ]
     },
     "execution_count": 150,
     "metadata": {},
     "output_type": "execute_result"
    }
   ],
   "source": [
    "properties_df.head()"
   ]
  },
  {
   "cell_type": "code",
   "execution_count": 151,
   "metadata": {},
   "outputs": [
    {
     "data": {
      "text/html": [
       "<div>\n",
       "<style>\n",
       "    .dataframe thead tr:only-child th {\n",
       "        text-align: right;\n",
       "    }\n",
       "\n",
       "    .dataframe thead th {\n",
       "        text-align: left;\n",
       "    }\n",
       "\n",
       "    .dataframe tbody tr th {\n",
       "        vertical-align: top;\n",
       "    }\n",
       "</style>\n",
       "<table border=\"10\" class=\"dataframe\">\n",
       "  <thead>\n",
       "    <tr style=\"text-align: right;\">\n",
       "      <th></th>\n",
       "      <th>DateOfSale</th>\n",
       "      <th>SalePrice</th>\n",
       "      <th>SalePriceUnit</th>\n",
       "    </tr>\n",
       "    <tr>\n",
       "      <th>ID</th>\n",
       "      <th></th>\n",
       "      <th></th>\n",
       "      <th></th>\n",
       "    </tr>\n",
       "  </thead>\n",
       "  <tbody>\n",
       "    <tr>\n",
       "      <th>15165953</th>\n",
       "      <td>1/5/16</td>\n",
       "      <td>650000.000</td>\n",
       "      <td>$</td>\n",
       "    </tr>\n",
       "    <tr>\n",
       "      <th>80749447</th>\n",
       "      <td>11/10/15</td>\n",
       "      <td>1.150</td>\n",
       "      <td>$M</td>\n",
       "    </tr>\n",
       "    <tr>\n",
       "      <th>15155751</th>\n",
       "      <td>11/10/15</td>\n",
       "      <td>665000.000</td>\n",
       "      <td>$</td>\n",
       "    </tr>\n",
       "    <tr>\n",
       "      <th>15143887</th>\n",
       "      <td>12/31/15</td>\n",
       "      <td>2.100</td>\n",
       "      <td>$M</td>\n",
       "    </tr>\n",
       "    <tr>\n",
       "      <th>15117639</th>\n",
       "      <td>12/23/15</td>\n",
       "      <td>1.350</td>\n",
       "      <td>$M</td>\n",
       "    </tr>\n",
       "  </tbody>\n",
       "</table>\n",
       "</div>"
      ],
      "text/plain": [
       "         DateOfSale  SalePrice SalePriceUnit\n",
       "ID                                          \n",
       "15165953     1/5/16 650000.000             $\n",
       "80749447   11/10/15      1.150            $M\n",
       "15155751   11/10/15 665000.000             $\n",
       "15143887   12/31/15      2.100            $M\n",
       "15117639   12/23/15      1.350            $M"
      ]
     },
     "execution_count": 151,
     "metadata": {},
     "output_type": "execute_result"
    }
   ],
   "source": [
    "transactions_df.head()"
   ]
  },
  {
   "cell_type": "markdown",
   "metadata": {},
   "source": [
    "> ### Merge both `DataFrames`"
   ]
  },
  {
   "cell_type": "markdown",
   "metadata": {},
   "source": [
    "(https://pandas.pydata.org/pandas-docs/stable/generated/pandas.DataFrame.merge.html)"
   ]
  },
  {
   "cell_type": "code",
   "execution_count": 152,
   "metadata": {
    "collapsed": true
   },
   "outputs": [],
   "source": [
    "df = properties_df.merge(transactions_df,  left_index = True, right_index = True)"
   ]
  },
  {
   "cell_type": "code",
   "execution_count": 153,
   "metadata": {},
   "outputs": [
    {
     "data": {
      "text/plain": [
       "Index([u'Address', u'Latitude', u'Longitude', u'IsAStudio', u'Beds', u'Baths',\n",
       "       u'Size', u'SizeUnit', u'LotSize', u'LotSizeUnit', u'BuiltInYear',\n",
       "       u'DateOfSale', u'SalePrice', u'SalePriceUnit'],\n",
       "      dtype='object')"
      ]
     },
     "execution_count": 153,
     "metadata": {},
     "output_type": "execute_result"
    }
   ],
   "source": [
    "df.columns"
   ]
  },
  {
   "cell_type": "code",
   "execution_count": 154,
   "metadata": {},
   "outputs": [
    {
     "data": {
      "text/html": [
       "<div>\n",
       "<style>\n",
       "    .dataframe thead tr:only-child th {\n",
       "        text-align: right;\n",
       "    }\n",
       "\n",
       "    .dataframe thead th {\n",
       "        text-align: left;\n",
       "    }\n",
       "\n",
       "    .dataframe tbody tr th {\n",
       "        vertical-align: top;\n",
       "    }\n",
       "</style>\n",
       "<table border=\"10\" class=\"dataframe\">\n",
       "  <thead>\n",
       "    <tr style=\"text-align: right;\">\n",
       "      <th></th>\n",
       "      <th>Address</th>\n",
       "      <th>Latitude</th>\n",
       "      <th>Longitude</th>\n",
       "      <th>IsAStudio</th>\n",
       "      <th>Beds</th>\n",
       "      <th>...</th>\n",
       "      <th>LotSizeUnit</th>\n",
       "      <th>BuiltInYear</th>\n",
       "      <th>DateOfSale</th>\n",
       "      <th>SalePrice</th>\n",
       "      <th>SalePriceUnit</th>\n",
       "    </tr>\n",
       "    <tr>\n",
       "      <th>ID</th>\n",
       "      <th></th>\n",
       "      <th></th>\n",
       "      <th></th>\n",
       "      <th></th>\n",
       "      <th></th>\n",
       "      <th></th>\n",
       "      <th></th>\n",
       "      <th></th>\n",
       "      <th></th>\n",
       "      <th></th>\n",
       "      <th></th>\n",
       "    </tr>\n",
       "  </thead>\n",
       "  <tbody>\n",
       "    <tr>\n",
       "      <th>2121978635</th>\n",
       "      <td>829 Folsom St UNIT 906, San Francisco, CA</td>\n",
       "      <td>37781429</td>\n",
       "      <td>-122401860</td>\n",
       "      <td>False</td>\n",
       "      <td>1.000</td>\n",
       "      <td>...</td>\n",
       "      <td>NaN</td>\n",
       "      <td>2010.000</td>\n",
       "      <td>12/6/15</td>\n",
       "      <td>675000.000</td>\n",
       "      <td>$</td>\n",
       "    </tr>\n",
       "    <tr>\n",
       "      <th>89239580</th>\n",
       "      <td>690 Market St UNIT 1705, San Francisco, CA</td>\n",
       "      <td>37788246</td>\n",
       "      <td>-122403198</td>\n",
       "      <td>False</td>\n",
       "      <td>2.000</td>\n",
       "      <td>...</td>\n",
       "      <td>NaN</td>\n",
       "      <td>2007.000</td>\n",
       "      <td>11/23/15</td>\n",
       "      <td>1.050</td>\n",
       "      <td>$M</td>\n",
       "    </tr>\n",
       "    <tr>\n",
       "      <th>15131782</th>\n",
       "      <td>401 Grand View Ave APT 3, San Francisco, CA</td>\n",
       "      <td>37752157</td>\n",
       "      <td>-122442356</td>\n",
       "      <td>False</td>\n",
       "      <td>2.000</td>\n",
       "      <td>...</td>\n",
       "      <td>NaN</td>\n",
       "      <td>1983.000</td>\n",
       "      <td>11/18/15</td>\n",
       "      <td>1.030</td>\n",
       "      <td>$M</td>\n",
       "    </tr>\n",
       "    <tr>\n",
       "      <th>15179502</th>\n",
       "      <td>250 Concord St, San Francisco, CA</td>\n",
       "      <td>37710141</td>\n",
       "      <td>-122442063</td>\n",
       "      <td>False</td>\n",
       "      <td>4.000</td>\n",
       "      <td>...</td>\n",
       "      <td>sqft</td>\n",
       "      <td>1959.000</td>\n",
       "      <td>12/4/15</td>\n",
       "      <td>815000.000</td>\n",
       "      <td>$</td>\n",
       "    </tr>\n",
       "    <tr>\n",
       "      <th>52266124</th>\n",
       "      <td>88 King St APT 317, San Francisco, CA</td>\n",
       "      <td>37780630</td>\n",
       "      <td>-122389635</td>\n",
       "      <td>False</td>\n",
       "      <td>2.000</td>\n",
       "      <td>...</td>\n",
       "      <td>NaN</td>\n",
       "      <td>2000.000</td>\n",
       "      <td>12/15/15</td>\n",
       "      <td>1.160</td>\n",
       "      <td>$M</td>\n",
       "    </tr>\n",
       "    <tr>\n",
       "      <th>2100994004</th>\n",
       "      <td>409 Miguel St, San Francisco, CA</td>\n",
       "      <td>37736625</td>\n",
       "      <td>-122427008</td>\n",
       "      <td>False</td>\n",
       "      <td>1.000</td>\n",
       "      <td>...</td>\n",
       "      <td>NaN</td>\n",
       "      <td>nan</td>\n",
       "      <td>12/9/15</td>\n",
       "      <td>510000.000</td>\n",
       "      <td>$</td>\n",
       "    </tr>\n",
       "    <tr>\n",
       "      <th>15067755</th>\n",
       "      <td>1250 Clay St APT 306, San Francisco, CA</td>\n",
       "      <td>37793575</td>\n",
       "      <td>-122413670</td>\n",
       "      <td>False</td>\n",
       "      <td>1.000</td>\n",
       "      <td>...</td>\n",
       "      <td>NaN</td>\n",
       "      <td>1950.000</td>\n",
       "      <td>1/10/16</td>\n",
       "      <td>695000.000</td>\n",
       "      <td>$</td>\n",
       "    </tr>\n",
       "    <tr>\n",
       "      <th>...</th>\n",
       "      <td>...</td>\n",
       "      <td>...</td>\n",
       "      <td>...</td>\n",
       "      <td>...</td>\n",
       "      <td>...</td>\n",
       "      <td>...</td>\n",
       "      <td>...</td>\n",
       "      <td>...</td>\n",
       "      <td>...</td>\n",
       "      <td>...</td>\n",
       "      <td>...</td>\n",
       "    </tr>\n",
       "    <tr>\n",
       "      <th>61288364</th>\n",
       "      <td>439 19th Ave, San Francisco, CA</td>\n",
       "      <td>37779545</td>\n",
       "      <td>-122478580</td>\n",
       "      <td>False</td>\n",
       "      <td>3.000</td>\n",
       "      <td>...</td>\n",
       "      <td>NaN</td>\n",
       "      <td>2001.000</td>\n",
       "      <td>11/25/15</td>\n",
       "      <td>1.000</td>\n",
       "      <td>$M</td>\n",
       "    </tr>\n",
       "    <tr>\n",
       "      <th>69819412</th>\n",
       "      <td>250 King St UNIT 410, San Francisco, CA</td>\n",
       "      <td>37777645</td>\n",
       "      <td>-122393430</td>\n",
       "      <td>False</td>\n",
       "      <td>1.000</td>\n",
       "      <td>...</td>\n",
       "      <td>NaN</td>\n",
       "      <td>2004.000</td>\n",
       "      <td>12/1/15</td>\n",
       "      <td>759000.000</td>\n",
       "      <td>$</td>\n",
       "    </tr>\n",
       "    <tr>\n",
       "      <th>82786211</th>\n",
       "      <td>310 Townsend St APT 311, San Francisco, CA</td>\n",
       "      <td>37777027</td>\n",
       "      <td>-122395736</td>\n",
       "      <td>False</td>\n",
       "      <td>1.000</td>\n",
       "      <td>...</td>\n",
       "      <td>NaN</td>\n",
       "      <td>2006.000</td>\n",
       "      <td>12/8/15</td>\n",
       "      <td>900000.000</td>\n",
       "      <td>$</td>\n",
       "    </tr>\n",
       "    <tr>\n",
       "      <th>15103435</th>\n",
       "      <td>1343 31st Ave, San Francisco, CA</td>\n",
       "      <td>37762152</td>\n",
       "      <td>-122490254</td>\n",
       "      <td>False</td>\n",
       "      <td>3.000</td>\n",
       "      <td>...</td>\n",
       "      <td>sqft</td>\n",
       "      <td>1934.000</td>\n",
       "      <td>12/18/15</td>\n",
       "      <td>1.250</td>\n",
       "      <td>$M</td>\n",
       "    </tr>\n",
       "    <tr>\n",
       "      <th>15195183</th>\n",
       "      <td>3916 Alemany Blvd, San Francisco, CA</td>\n",
       "      <td>37711527</td>\n",
       "      <td>-122467755</td>\n",
       "      <td>False</td>\n",
       "      <td>3.000</td>\n",
       "      <td>...</td>\n",
       "      <td>sqft</td>\n",
       "      <td>1941.000</td>\n",
       "      <td>12/30/15</td>\n",
       "      <td>400000.000</td>\n",
       "      <td>$</td>\n",
       "    </tr>\n",
       "    <tr>\n",
       "      <th>15180783</th>\n",
       "      <td>430 Fair Oaks St, San Francisco, CA</td>\n",
       "      <td>37749725</td>\n",
       "      <td>-122424094</td>\n",
       "      <td>False</td>\n",
       "      <td>4.000</td>\n",
       "      <td>...</td>\n",
       "      <td>NaN</td>\n",
       "      <td>1911.000</td>\n",
       "      <td>12/10/15</td>\n",
       "      <td>2.290</td>\n",
       "      <td>$M</td>\n",
       "    </tr>\n",
       "    <tr>\n",
       "      <th>54854296</th>\n",
       "      <td>720 Stockton St APT 3, San Francisco, CA</td>\n",
       "      <td>37792578</td>\n",
       "      <td>-122407366</td>\n",
       "      <td>False</td>\n",
       "      <td>2.000</td>\n",
       "      <td>...</td>\n",
       "      <td>NaN</td>\n",
       "      <td>2001.000</td>\n",
       "      <td>11/25/15</td>\n",
       "      <td>1.250</td>\n",
       "      <td>$M</td>\n",
       "    </tr>\n",
       "  </tbody>\n",
       "</table>\n",
       "<p>1000 rows × 14 columns</p>\n",
       "</div>"
      ],
      "text/plain": [
       "                                                Address  Latitude  Longitude  \\\n",
       "ID                                                                             \n",
       "2121978635    829 Folsom St UNIT 906, San Francisco, CA  37781429 -122401860   \n",
       "89239580     690 Market St UNIT 1705, San Francisco, CA  37788246 -122403198   \n",
       "15131782    401 Grand View Ave APT 3, San Francisco, CA  37752157 -122442356   \n",
       "15179502              250 Concord St, San Francisco, CA  37710141 -122442063   \n",
       "52266124          88 King St APT 317, San Francisco, CA  37780630 -122389635   \n",
       "2100994004             409 Miguel St, San Francisco, CA  37736625 -122427008   \n",
       "15067755        1250 Clay St APT 306, San Francisco, CA  37793575 -122413670   \n",
       "...                                                 ...       ...        ...   \n",
       "61288364                439 19th Ave, San Francisco, CA  37779545 -122478580   \n",
       "69819412        250 King St UNIT 410, San Francisco, CA  37777645 -122393430   \n",
       "82786211     310 Townsend St APT 311, San Francisco, CA  37777027 -122395736   \n",
       "15103435               1343 31st Ave, San Francisco, CA  37762152 -122490254   \n",
       "15195183           3916 Alemany Blvd, San Francisco, CA  37711527 -122467755   \n",
       "15180783            430 Fair Oaks St, San Francisco, CA  37749725 -122424094   \n",
       "54854296       720 Stockton St APT 3, San Francisco, CA  37792578 -122407366   \n",
       "\n",
       "           IsAStudio  Beds      ...       LotSizeUnit  BuiltInYear DateOfSale  \\\n",
       "ID                              ...                                             \n",
       "2121978635     False 1.000      ...               NaN     2010.000    12/6/15   \n",
       "89239580       False 2.000      ...               NaN     2007.000   11/23/15   \n",
       "15131782       False 2.000      ...               NaN     1983.000   11/18/15   \n",
       "15179502       False 4.000      ...              sqft     1959.000    12/4/15   \n",
       "52266124       False 2.000      ...               NaN     2000.000   12/15/15   \n",
       "2100994004     False 1.000      ...               NaN          nan    12/9/15   \n",
       "15067755       False 1.000      ...               NaN     1950.000    1/10/16   \n",
       "...              ...   ...      ...               ...          ...        ...   \n",
       "61288364       False 3.000      ...               NaN     2001.000   11/25/15   \n",
       "69819412       False 1.000      ...               NaN     2004.000    12/1/15   \n",
       "82786211       False 1.000      ...               NaN     2006.000    12/8/15   \n",
       "15103435       False 3.000      ...              sqft     1934.000   12/18/15   \n",
       "15195183       False 3.000      ...              sqft     1941.000   12/30/15   \n",
       "15180783       False 4.000      ...               NaN     1911.000   12/10/15   \n",
       "54854296       False 2.000      ...               NaN     2001.000   11/25/15   \n",
       "\n",
       "            SalePrice SalePriceUnit  \n",
       "ID                                   \n",
       "2121978635 675000.000             $  \n",
       "89239580        1.050            $M  \n",
       "15131782        1.030            $M  \n",
       "15179502   815000.000             $  \n",
       "52266124        1.160            $M  \n",
       "2100994004 510000.000             $  \n",
       "15067755   695000.000             $  \n",
       "...               ...           ...  \n",
       "61288364        1.000            $M  \n",
       "69819412   759000.000             $  \n",
       "82786211   900000.000             $  \n",
       "15103435        1.250            $M  \n",
       "15195183   400000.000             $  \n",
       "15180783        2.290            $M  \n",
       "54854296        1.250            $M  \n",
       "\n",
       "[1000 rows x 14 columns]"
      ]
     },
     "execution_count": 154,
     "metadata": {},
     "output_type": "execute_result"
    }
   ],
   "source": [
    "df"
   ]
  },
  {
   "cell_type": "markdown",
   "metadata": {},
   "source": [
    "> ### Sort rows by increasing ID"
   ]
  },
  {
   "cell_type": "markdown",
   "metadata": {},
   "source": [
    "(https://pandas.pydata.org/pandas-docs/stable/generated/pandas.DataFrame.sort_index.html)"
   ]
  },
  {
   "cell_type": "code",
   "execution_count": 155,
   "metadata": {
    "collapsed": true
   },
   "outputs": [],
   "source": [
    "df.sort_index(inplace = True)"
   ]
  },
  {
   "cell_type": "code",
   "execution_count": 156,
   "metadata": {},
   "outputs": [
    {
     "data": {
      "text/html": [
       "<div>\n",
       "<style>\n",
       "    .dataframe thead tr:only-child th {\n",
       "        text-align: right;\n",
       "    }\n",
       "\n",
       "    .dataframe thead th {\n",
       "        text-align: left;\n",
       "    }\n",
       "\n",
       "    .dataframe tbody tr th {\n",
       "        vertical-align: top;\n",
       "    }\n",
       "</style>\n",
       "<table border=\"10\" class=\"dataframe\">\n",
       "  <thead>\n",
       "    <tr style=\"text-align: right;\">\n",
       "      <th></th>\n",
       "      <th>Address</th>\n",
       "      <th>Latitude</th>\n",
       "      <th>Longitude</th>\n",
       "      <th>IsAStudio</th>\n",
       "      <th>Beds</th>\n",
       "      <th>...</th>\n",
       "      <th>LotSizeUnit</th>\n",
       "      <th>BuiltInYear</th>\n",
       "      <th>DateOfSale</th>\n",
       "      <th>SalePrice</th>\n",
       "      <th>SalePriceUnit</th>\n",
       "    </tr>\n",
       "    <tr>\n",
       "      <th>ID</th>\n",
       "      <th></th>\n",
       "      <th></th>\n",
       "      <th></th>\n",
       "      <th></th>\n",
       "      <th></th>\n",
       "      <th></th>\n",
       "      <th></th>\n",
       "      <th></th>\n",
       "      <th></th>\n",
       "      <th></th>\n",
       "      <th></th>\n",
       "    </tr>\n",
       "  </thead>\n",
       "  <tbody>\n",
       "    <tr>\n",
       "      <th>15063471</th>\n",
       "      <td>55 Vandewater St APT 9, San Francisco, CA</td>\n",
       "      <td>37805103</td>\n",
       "      <td>-122412856</td>\n",
       "      <td>False</td>\n",
       "      <td>1.000</td>\n",
       "      <td>...</td>\n",
       "      <td>NaN</td>\n",
       "      <td>1980.000</td>\n",
       "      <td>12/4/15</td>\n",
       "      <td>710000.000</td>\n",
       "      <td>$</td>\n",
       "    </tr>\n",
       "    <tr>\n",
       "      <th>15063505</th>\n",
       "      <td>740 Francisco St, San Francisco, CA</td>\n",
       "      <td>37804420</td>\n",
       "      <td>-122417389</td>\n",
       "      <td>False</td>\n",
       "      <td>nan</td>\n",
       "      <td>...</td>\n",
       "      <td>sqft</td>\n",
       "      <td>1948.000</td>\n",
       "      <td>11/30/15</td>\n",
       "      <td>2.150</td>\n",
       "      <td>$M</td>\n",
       "    </tr>\n",
       "    <tr>\n",
       "      <th>15063609</th>\n",
       "      <td>819 Francisco St, San Francisco, CA</td>\n",
       "      <td>37803728</td>\n",
       "      <td>-122419055</td>\n",
       "      <td>False</td>\n",
       "      <td>2.000</td>\n",
       "      <td>...</td>\n",
       "      <td>sqft</td>\n",
       "      <td>1976.000</td>\n",
       "      <td>11/12/15</td>\n",
       "      <td>5.600</td>\n",
       "      <td>$M</td>\n",
       "    </tr>\n",
       "    <tr>\n",
       "      <th>15064044</th>\n",
       "      <td>199 Chestnut St APT 5, San Francisco, CA</td>\n",
       "      <td>37804392</td>\n",
       "      <td>-122406590</td>\n",
       "      <td>False</td>\n",
       "      <td>1.000</td>\n",
       "      <td>...</td>\n",
       "      <td>NaN</td>\n",
       "      <td>1930.000</td>\n",
       "      <td>12/11/15</td>\n",
       "      <td>1.500</td>\n",
       "      <td>$M</td>\n",
       "    </tr>\n",
       "    <tr>\n",
       "      <th>15064257</th>\n",
       "      <td>111 Chestnut St APT 403, San Francisco, CA</td>\n",
       "      <td>37804240</td>\n",
       "      <td>-122405509</td>\n",
       "      <td>False</td>\n",
       "      <td>2.000</td>\n",
       "      <td>...</td>\n",
       "      <td>NaN</td>\n",
       "      <td>1993.000</td>\n",
       "      <td>1/15/16</td>\n",
       "      <td>970000.000</td>\n",
       "      <td>$</td>\n",
       "    </tr>\n",
       "    <tr>\n",
       "      <th>15064295</th>\n",
       "      <td>111 Chestnut St APT 702, San Francisco, CA</td>\n",
       "      <td>37804240</td>\n",
       "      <td>-122405509</td>\n",
       "      <td>False</td>\n",
       "      <td>2.000</td>\n",
       "      <td>...</td>\n",
       "      <td>NaN</td>\n",
       "      <td>1993.000</td>\n",
       "      <td>12/17/15</td>\n",
       "      <td>940000.000</td>\n",
       "      <td>$</td>\n",
       "    </tr>\n",
       "    <tr>\n",
       "      <th>15064391</th>\n",
       "      <td>1821 Grant Ave APT 101, San Francisco, CA</td>\n",
       "      <td>37803748</td>\n",
       "      <td>-122408531</td>\n",
       "      <td>False</td>\n",
       "      <td>1.000</td>\n",
       "      <td>...</td>\n",
       "      <td>NaN</td>\n",
       "      <td>1975.000</td>\n",
       "      <td>12/15/15</td>\n",
       "      <td>835000.000</td>\n",
       "      <td>$</td>\n",
       "    </tr>\n",
       "    <tr>\n",
       "      <th>...</th>\n",
       "      <td>...</td>\n",
       "      <td>...</td>\n",
       "      <td>...</td>\n",
       "      <td>...</td>\n",
       "      <td>...</td>\n",
       "      <td>...</td>\n",
       "      <td>...</td>\n",
       "      <td>...</td>\n",
       "      <td>...</td>\n",
       "      <td>...</td>\n",
       "      <td>...</td>\n",
       "    </tr>\n",
       "    <tr>\n",
       "      <th>2121978635</th>\n",
       "      <td>829 Folsom St UNIT 906, San Francisco, CA</td>\n",
       "      <td>37781429</td>\n",
       "      <td>-122401860</td>\n",
       "      <td>False</td>\n",
       "      <td>1.000</td>\n",
       "      <td>...</td>\n",
       "      <td>NaN</td>\n",
       "      <td>2010.000</td>\n",
       "      <td>12/6/15</td>\n",
       "      <td>675000.000</td>\n",
       "      <td>$</td>\n",
       "    </tr>\n",
       "    <tr>\n",
       "      <th>2122992200</th>\n",
       "      <td>129 Octavia St, San Francisco, CA</td>\n",
       "      <td>37773192</td>\n",
       "      <td>-122424037</td>\n",
       "      <td>True</td>\n",
       "      <td>nan</td>\n",
       "      <td>...</td>\n",
       "      <td>NaN</td>\n",
       "      <td>1883.000</td>\n",
       "      <td>11/20/15</td>\n",
       "      <td>2.750</td>\n",
       "      <td>$M</td>\n",
       "    </tr>\n",
       "    <tr>\n",
       "      <th>2124214951</th>\n",
       "      <td>412 Green St APT A, San Francisco, CA</td>\n",
       "      <td>37800040</td>\n",
       "      <td>-122406100</td>\n",
       "      <td>True</td>\n",
       "      <td>nan</td>\n",
       "      <td>...</td>\n",
       "      <td>NaN</td>\n",
       "      <td>2012.000</td>\n",
       "      <td>1/15/16</td>\n",
       "      <td>390000.000</td>\n",
       "      <td>$</td>\n",
       "    </tr>\n",
       "    <tr>\n",
       "      <th>2126960082</th>\n",
       "      <td>355 1st St UNIT 1905, San Francisco, CA</td>\n",
       "      <td>37787029</td>\n",
       "      <td>-122393638</td>\n",
       "      <td>False</td>\n",
       "      <td>1.000</td>\n",
       "      <td>...</td>\n",
       "      <td>NaN</td>\n",
       "      <td>2004.000</td>\n",
       "      <td>11/20/15</td>\n",
       "      <td>860000.000</td>\n",
       "      <td>$</td>\n",
       "    </tr>\n",
       "    <tr>\n",
       "      <th>2128308939</th>\n",
       "      <td>33 Santa Cruz Ave, San Francisco, CA</td>\n",
       "      <td>37709136</td>\n",
       "      <td>-122465332</td>\n",
       "      <td>False</td>\n",
       "      <td>3.000</td>\n",
       "      <td>...</td>\n",
       "      <td>sqft</td>\n",
       "      <td>1976.000</td>\n",
       "      <td>12/10/15</td>\n",
       "      <td>830000.000</td>\n",
       "      <td>$</td>\n",
       "    </tr>\n",
       "    <tr>\n",
       "      <th>2131957929</th>\n",
       "      <td>1821 Grant Ave, San Francisco, CA</td>\n",
       "      <td>37803760</td>\n",
       "      <td>-122408531</td>\n",
       "      <td>False</td>\n",
       "      <td>2.000</td>\n",
       "      <td>...</td>\n",
       "      <td>NaN</td>\n",
       "      <td>1975.000</td>\n",
       "      <td>12/15/15</td>\n",
       "      <td>835000.000</td>\n",
       "      <td>$</td>\n",
       "    </tr>\n",
       "    <tr>\n",
       "      <th>2136213970</th>\n",
       "      <td>1200 Gough St, San Francisco, CA</td>\n",
       "      <td>37784770</td>\n",
       "      <td>-122424100</td>\n",
       "      <td>False</td>\n",
       "      <td>1.000</td>\n",
       "      <td>...</td>\n",
       "      <td>NaN</td>\n",
       "      <td>1966.000</td>\n",
       "      <td>1/10/16</td>\n",
       "      <td>825000.000</td>\n",
       "      <td>$</td>\n",
       "    </tr>\n",
       "  </tbody>\n",
       "</table>\n",
       "<p>1000 rows × 14 columns</p>\n",
       "</div>"
      ],
      "text/plain": [
       "                                               Address  Latitude  Longitude  \\\n",
       "ID                                                                            \n",
       "15063471     55 Vandewater St APT 9, San Francisco, CA  37805103 -122412856   \n",
       "15063505           740 Francisco St, San Francisco, CA  37804420 -122417389   \n",
       "15063609           819 Francisco St, San Francisco, CA  37803728 -122419055   \n",
       "15064044      199 Chestnut St APT 5, San Francisco, CA  37804392 -122406590   \n",
       "15064257    111 Chestnut St APT 403, San Francisco, CA  37804240 -122405509   \n",
       "15064295    111 Chestnut St APT 702, San Francisco, CA  37804240 -122405509   \n",
       "15064391     1821 Grant Ave APT 101, San Francisco, CA  37803748 -122408531   \n",
       "...                                                ...       ...        ...   \n",
       "2121978635   829 Folsom St UNIT 906, San Francisco, CA  37781429 -122401860   \n",
       "2122992200           129 Octavia St, San Francisco, CA  37773192 -122424037   \n",
       "2124214951       412 Green St APT A, San Francisco, CA  37800040 -122406100   \n",
       "2126960082     355 1st St UNIT 1905, San Francisco, CA  37787029 -122393638   \n",
       "2128308939        33 Santa Cruz Ave, San Francisco, CA  37709136 -122465332   \n",
       "2131957929           1821 Grant Ave, San Francisco, CA  37803760 -122408531   \n",
       "2136213970            1200 Gough St, San Francisco, CA  37784770 -122424100   \n",
       "\n",
       "           IsAStudio  Beds      ...       LotSizeUnit  BuiltInYear DateOfSale  \\\n",
       "ID                              ...                                             \n",
       "15063471       False 1.000      ...               NaN     1980.000    12/4/15   \n",
       "15063505       False   nan      ...              sqft     1948.000   11/30/15   \n",
       "15063609       False 2.000      ...              sqft     1976.000   11/12/15   \n",
       "15064044       False 1.000      ...               NaN     1930.000   12/11/15   \n",
       "15064257       False 2.000      ...               NaN     1993.000    1/15/16   \n",
       "15064295       False 2.000      ...               NaN     1993.000   12/17/15   \n",
       "15064391       False 1.000      ...               NaN     1975.000   12/15/15   \n",
       "...              ...   ...      ...               ...          ...        ...   \n",
       "2121978635     False 1.000      ...               NaN     2010.000    12/6/15   \n",
       "2122992200      True   nan      ...               NaN     1883.000   11/20/15   \n",
       "2124214951      True   nan      ...               NaN     2012.000    1/15/16   \n",
       "2126960082     False 1.000      ...               NaN     2004.000   11/20/15   \n",
       "2128308939     False 3.000      ...              sqft     1976.000   12/10/15   \n",
       "2131957929     False 2.000      ...               NaN     1975.000   12/15/15   \n",
       "2136213970     False 1.000      ...               NaN     1966.000    1/10/16   \n",
       "\n",
       "            SalePrice SalePriceUnit  \n",
       "ID                                   \n",
       "15063471   710000.000             $  \n",
       "15063505        2.150            $M  \n",
       "15063609        5.600            $M  \n",
       "15064044        1.500            $M  \n",
       "15064257   970000.000             $  \n",
       "15064295   940000.000             $  \n",
       "15064391   835000.000             $  \n",
       "...               ...           ...  \n",
       "2121978635 675000.000             $  \n",
       "2122992200      2.750            $M  \n",
       "2124214951 390000.000             $  \n",
       "2126960082 860000.000             $  \n",
       "2128308939 830000.000             $  \n",
       "2131957929 835000.000             $  \n",
       "2136213970 825000.000             $  \n",
       "\n",
       "[1000 rows x 14 columns]"
      ]
     },
     "execution_count": 156,
     "metadata": {},
     "output_type": "execute_result"
    }
   ],
   "source": [
    "df"
   ]
  },
  {
   "cell_type": "markdown",
   "metadata": {},
   "source": [
    "> ### Remove the `Latitude` and `Longitude` columns"
   ]
  },
  {
   "cell_type": "markdown",
   "metadata": {},
   "source": [
    "(http://pandas.pydata.org/pandas-docs/stable/generated/pandas.DataFrame.drop.html)"
   ]
  },
  {
   "cell_type": "code",
   "execution_count": 157,
   "metadata": {
    "collapsed": true
   },
   "outputs": [],
   "source": [
    "df.drop(['Latitude', 'Longitude'], axis = 1, inplace = True)"
   ]
  },
  {
   "cell_type": "code",
   "execution_count": 158,
   "metadata": {},
   "outputs": [
    {
     "data": {
      "text/html": [
       "<div>\n",
       "<style>\n",
       "    .dataframe thead tr:only-child th {\n",
       "        text-align: right;\n",
       "    }\n",
       "\n",
       "    .dataframe thead th {\n",
       "        text-align: left;\n",
       "    }\n",
       "\n",
       "    .dataframe tbody tr th {\n",
       "        vertical-align: top;\n",
       "    }\n",
       "</style>\n",
       "<table border=\"10\" class=\"dataframe\">\n",
       "  <thead>\n",
       "    <tr style=\"text-align: right;\">\n",
       "      <th></th>\n",
       "      <th>Address</th>\n",
       "      <th>IsAStudio</th>\n",
       "      <th>Beds</th>\n",
       "      <th>Baths</th>\n",
       "      <th>Size</th>\n",
       "      <th>...</th>\n",
       "      <th>LotSizeUnit</th>\n",
       "      <th>BuiltInYear</th>\n",
       "      <th>DateOfSale</th>\n",
       "      <th>SalePrice</th>\n",
       "      <th>SalePriceUnit</th>\n",
       "    </tr>\n",
       "    <tr>\n",
       "      <th>ID</th>\n",
       "      <th></th>\n",
       "      <th></th>\n",
       "      <th></th>\n",
       "      <th></th>\n",
       "      <th></th>\n",
       "      <th></th>\n",
       "      <th></th>\n",
       "      <th></th>\n",
       "      <th></th>\n",
       "      <th></th>\n",
       "      <th></th>\n",
       "    </tr>\n",
       "  </thead>\n",
       "  <tbody>\n",
       "    <tr>\n",
       "      <th>15063471</th>\n",
       "      <td>55 Vandewater St APT 9, San Francisco, CA</td>\n",
       "      <td>False</td>\n",
       "      <td>1.000</td>\n",
       "      <td>nan</td>\n",
       "      <td>550.000</td>\n",
       "      <td>...</td>\n",
       "      <td>NaN</td>\n",
       "      <td>1980.000</td>\n",
       "      <td>12/4/15</td>\n",
       "      <td>710000.000</td>\n",
       "      <td>$</td>\n",
       "    </tr>\n",
       "    <tr>\n",
       "      <th>15063505</th>\n",
       "      <td>740 Francisco St, San Francisco, CA</td>\n",
       "      <td>False</td>\n",
       "      <td>nan</td>\n",
       "      <td>2.000</td>\n",
       "      <td>1430.000</td>\n",
       "      <td>...</td>\n",
       "      <td>sqft</td>\n",
       "      <td>1948.000</td>\n",
       "      <td>11/30/15</td>\n",
       "      <td>2.150</td>\n",
       "      <td>$M</td>\n",
       "    </tr>\n",
       "    <tr>\n",
       "      <th>15063609</th>\n",
       "      <td>819 Francisco St, San Francisco, CA</td>\n",
       "      <td>False</td>\n",
       "      <td>2.000</td>\n",
       "      <td>3.500</td>\n",
       "      <td>2040.000</td>\n",
       "      <td>...</td>\n",
       "      <td>sqft</td>\n",
       "      <td>1976.000</td>\n",
       "      <td>11/12/15</td>\n",
       "      <td>5.600</td>\n",
       "      <td>$M</td>\n",
       "    </tr>\n",
       "    <tr>\n",
       "      <th>15064044</th>\n",
       "      <td>199 Chestnut St APT 5, San Francisco, CA</td>\n",
       "      <td>False</td>\n",
       "      <td>1.000</td>\n",
       "      <td>1.000</td>\n",
       "      <td>1060.000</td>\n",
       "      <td>...</td>\n",
       "      <td>NaN</td>\n",
       "      <td>1930.000</td>\n",
       "      <td>12/11/15</td>\n",
       "      <td>1.500</td>\n",
       "      <td>$M</td>\n",
       "    </tr>\n",
       "    <tr>\n",
       "      <th>15064257</th>\n",
       "      <td>111 Chestnut St APT 403, San Francisco, CA</td>\n",
       "      <td>False</td>\n",
       "      <td>2.000</td>\n",
       "      <td>2.000</td>\n",
       "      <td>1299.000</td>\n",
       "      <td>...</td>\n",
       "      <td>NaN</td>\n",
       "      <td>1993.000</td>\n",
       "      <td>1/15/16</td>\n",
       "      <td>970000.000</td>\n",
       "      <td>$</td>\n",
       "    </tr>\n",
       "    <tr>\n",
       "      <th>15064295</th>\n",
       "      <td>111 Chestnut St APT 702, San Francisco, CA</td>\n",
       "      <td>False</td>\n",
       "      <td>2.000</td>\n",
       "      <td>2.000</td>\n",
       "      <td>1033.000</td>\n",
       "      <td>...</td>\n",
       "      <td>NaN</td>\n",
       "      <td>1993.000</td>\n",
       "      <td>12/17/15</td>\n",
       "      <td>940000.000</td>\n",
       "      <td>$</td>\n",
       "    </tr>\n",
       "    <tr>\n",
       "      <th>15064391</th>\n",
       "      <td>1821 Grant Ave APT 101, San Francisco, CA</td>\n",
       "      <td>False</td>\n",
       "      <td>1.000</td>\n",
       "      <td>1.000</td>\n",
       "      <td>1048.000</td>\n",
       "      <td>...</td>\n",
       "      <td>NaN</td>\n",
       "      <td>1975.000</td>\n",
       "      <td>12/15/15</td>\n",
       "      <td>835000.000</td>\n",
       "      <td>$</td>\n",
       "    </tr>\n",
       "    <tr>\n",
       "      <th>...</th>\n",
       "      <td>...</td>\n",
       "      <td>...</td>\n",
       "      <td>...</td>\n",
       "      <td>...</td>\n",
       "      <td>...</td>\n",
       "      <td>...</td>\n",
       "      <td>...</td>\n",
       "      <td>...</td>\n",
       "      <td>...</td>\n",
       "      <td>...</td>\n",
       "      <td>...</td>\n",
       "    </tr>\n",
       "    <tr>\n",
       "      <th>2121978635</th>\n",
       "      <td>829 Folsom St UNIT 906, San Francisco, CA</td>\n",
       "      <td>False</td>\n",
       "      <td>1.000</td>\n",
       "      <td>1.000</td>\n",
       "      <td>557.000</td>\n",
       "      <td>...</td>\n",
       "      <td>NaN</td>\n",
       "      <td>2010.000</td>\n",
       "      <td>12/6/15</td>\n",
       "      <td>675000.000</td>\n",
       "      <td>$</td>\n",
       "    </tr>\n",
       "    <tr>\n",
       "      <th>2122992200</th>\n",
       "      <td>129 Octavia St, San Francisco, CA</td>\n",
       "      <td>True</td>\n",
       "      <td>nan</td>\n",
       "      <td>nan</td>\n",
       "      <td>3655.000</td>\n",
       "      <td>...</td>\n",
       "      <td>NaN</td>\n",
       "      <td>1883.000</td>\n",
       "      <td>11/20/15</td>\n",
       "      <td>2.750</td>\n",
       "      <td>$M</td>\n",
       "    </tr>\n",
       "    <tr>\n",
       "      <th>2124214951</th>\n",
       "      <td>412 Green St APT A, San Francisco, CA</td>\n",
       "      <td>True</td>\n",
       "      <td>nan</td>\n",
       "      <td>1.000</td>\n",
       "      <td>264.000</td>\n",
       "      <td>...</td>\n",
       "      <td>NaN</td>\n",
       "      <td>2012.000</td>\n",
       "      <td>1/15/16</td>\n",
       "      <td>390000.000</td>\n",
       "      <td>$</td>\n",
       "    </tr>\n",
       "    <tr>\n",
       "      <th>2126960082</th>\n",
       "      <td>355 1st St UNIT 1905, San Francisco, CA</td>\n",
       "      <td>False</td>\n",
       "      <td>1.000</td>\n",
       "      <td>1.000</td>\n",
       "      <td>691.000</td>\n",
       "      <td>...</td>\n",
       "      <td>NaN</td>\n",
       "      <td>2004.000</td>\n",
       "      <td>11/20/15</td>\n",
       "      <td>860000.000</td>\n",
       "      <td>$</td>\n",
       "    </tr>\n",
       "    <tr>\n",
       "      <th>2128308939</th>\n",
       "      <td>33 Santa Cruz Ave, San Francisco, CA</td>\n",
       "      <td>False</td>\n",
       "      <td>3.000</td>\n",
       "      <td>3.000</td>\n",
       "      <td>1738.000</td>\n",
       "      <td>...</td>\n",
       "      <td>sqft</td>\n",
       "      <td>1976.000</td>\n",
       "      <td>12/10/15</td>\n",
       "      <td>830000.000</td>\n",
       "      <td>$</td>\n",
       "    </tr>\n",
       "    <tr>\n",
       "      <th>2131957929</th>\n",
       "      <td>1821 Grant Ave, San Francisco, CA</td>\n",
       "      <td>False</td>\n",
       "      <td>2.000</td>\n",
       "      <td>2.000</td>\n",
       "      <td>1048.000</td>\n",
       "      <td>...</td>\n",
       "      <td>NaN</td>\n",
       "      <td>1975.000</td>\n",
       "      <td>12/15/15</td>\n",
       "      <td>835000.000</td>\n",
       "      <td>$</td>\n",
       "    </tr>\n",
       "    <tr>\n",
       "      <th>2136213970</th>\n",
       "      <td>1200 Gough St, San Francisco, CA</td>\n",
       "      <td>False</td>\n",
       "      <td>1.000</td>\n",
       "      <td>1.000</td>\n",
       "      <td>900.000</td>\n",
       "      <td>...</td>\n",
       "      <td>NaN</td>\n",
       "      <td>1966.000</td>\n",
       "      <td>1/10/16</td>\n",
       "      <td>825000.000</td>\n",
       "      <td>$</td>\n",
       "    </tr>\n",
       "  </tbody>\n",
       "</table>\n",
       "<p>1000 rows × 12 columns</p>\n",
       "</div>"
      ],
      "text/plain": [
       "                                               Address IsAStudio  Beds  Baths  \\\n",
       "ID                                                                              \n",
       "15063471     55 Vandewater St APT 9, San Francisco, CA     False 1.000    nan   \n",
       "15063505           740 Francisco St, San Francisco, CA     False   nan  2.000   \n",
       "15063609           819 Francisco St, San Francisco, CA     False 2.000  3.500   \n",
       "15064044      199 Chestnut St APT 5, San Francisco, CA     False 1.000  1.000   \n",
       "15064257    111 Chestnut St APT 403, San Francisco, CA     False 2.000  2.000   \n",
       "15064295    111 Chestnut St APT 702, San Francisco, CA     False 2.000  2.000   \n",
       "15064391     1821 Grant Ave APT 101, San Francisco, CA     False 1.000  1.000   \n",
       "...                                                ...       ...   ...    ...   \n",
       "2121978635   829 Folsom St UNIT 906, San Francisco, CA     False 1.000  1.000   \n",
       "2122992200           129 Octavia St, San Francisco, CA      True   nan    nan   \n",
       "2124214951       412 Green St APT A, San Francisco, CA      True   nan  1.000   \n",
       "2126960082     355 1st St UNIT 1905, San Francisco, CA     False 1.000  1.000   \n",
       "2128308939        33 Santa Cruz Ave, San Francisco, CA     False 3.000  3.000   \n",
       "2131957929           1821 Grant Ave, San Francisco, CA     False 2.000  2.000   \n",
       "2136213970            1200 Gough St, San Francisco, CA     False 1.000  1.000   \n",
       "\n",
       "               Size      ...      LotSizeUnit  BuiltInYear DateOfSale  \\\n",
       "ID                       ...                                            \n",
       "15063471    550.000      ...              NaN     1980.000    12/4/15   \n",
       "15063505   1430.000      ...             sqft     1948.000   11/30/15   \n",
       "15063609   2040.000      ...             sqft     1976.000   11/12/15   \n",
       "15064044   1060.000      ...              NaN     1930.000   12/11/15   \n",
       "15064257   1299.000      ...              NaN     1993.000    1/15/16   \n",
       "15064295   1033.000      ...              NaN     1993.000   12/17/15   \n",
       "15064391   1048.000      ...              NaN     1975.000   12/15/15   \n",
       "...             ...      ...              ...          ...        ...   \n",
       "2121978635  557.000      ...              NaN     2010.000    12/6/15   \n",
       "2122992200 3655.000      ...              NaN     1883.000   11/20/15   \n",
       "2124214951  264.000      ...              NaN     2012.000    1/15/16   \n",
       "2126960082  691.000      ...              NaN     2004.000   11/20/15   \n",
       "2128308939 1738.000      ...             sqft     1976.000   12/10/15   \n",
       "2131957929 1048.000      ...              NaN     1975.000   12/15/15   \n",
       "2136213970  900.000      ...              NaN     1966.000    1/10/16   \n",
       "\n",
       "            SalePrice SalePriceUnit  \n",
       "ID                                   \n",
       "15063471   710000.000             $  \n",
       "15063505        2.150            $M  \n",
       "15063609        5.600            $M  \n",
       "15064044        1.500            $M  \n",
       "15064257   970000.000             $  \n",
       "15064295   940000.000             $  \n",
       "15064391   835000.000             $  \n",
       "...               ...           ...  \n",
       "2121978635 675000.000             $  \n",
       "2122992200      2.750            $M  \n",
       "2124214951 390000.000             $  \n",
       "2126960082 860000.000             $  \n",
       "2128308939 830000.000             $  \n",
       "2131957929 835000.000             $  \n",
       "2136213970 825000.000             $  \n",
       "\n",
       "[1000 rows x 12 columns]"
      ]
     },
     "execution_count": 158,
     "metadata": {},
     "output_type": "execute_result"
    }
   ],
   "source": [
    "df"
   ]
  },
  {
   "cell_type": "markdown",
   "metadata": {},
   "source": [
    "> ### `SalePrice`: scale all amount to `$M`"
   ]
  },
  {
   "cell_type": "markdown",
   "metadata": {},
   "source": [
    "- (http://pandas.pydata.org/pandas-docs/stable/generated/pandas.Series.unique.html)\n",
    "- (http://pandas.pydata.org/pandas-docs/stable/generated/pandas.concat.html)"
   ]
  },
  {
   "cell_type": "code",
   "execution_count": 166,
   "metadata": {},
   "outputs": [
    {
     "data": {
      "text/plain": [
       "array(['$', '$M'], dtype=object)"
      ]
     },
     "execution_count": 166,
     "metadata": {},
     "output_type": "execute_result"
    }
   ],
   "source": [
    "df.SalePriceUnit.unique()"
   ]
  },
  {
   "cell_type": "code",
   "execution_count": 167,
   "metadata": {
    "collapsed": true
   },
   "outputs": [],
   "source": [
    "df_1 = df[df.SalePriceUnit == '$']\n",
    "df_1 = df_1.drop('SalePriceUnit', axis = 1)\n",
    "\n",
    "# Scaling sale price to $M\n",
    "df_1.SalePrice /= 10 ** 6\n",
    "\n",
    "df_6 = df[df.SalePriceUnit == '$M']\n",
    "df_6 = df_6.drop('SalePriceUnit', axis = 1)"
   ]
  },
  {
   "cell_type": "code",
   "execution_count": 173,
   "metadata": {},
   "outputs": [],
   "source": [
    "# Concatenate of two DataFrames by rows\n",
    "df = pd.concat([df_1, df_6])"
   ]
  },
  {
   "cell_type": "code",
   "execution_count": 174,
   "metadata": {
    "collapsed": true
   },
   "outputs": [],
   "source": [
    "# Resort the new DataFrame\n",
    "df.sort_index(inplace = True)"
   ]
  },
  {
   "cell_type": "markdown",
   "metadata": {},
   "source": [
    "> ### `IsAStudio`: convert from a Boolean to a binary variable (i.e., 0 or 1)"
   ]
  },
  {
   "cell_type": "code",
   "execution_count": 176,
   "metadata": {
    "collapsed": true
   },
   "outputs": [],
   "source": [
    "df.IsAStudio *=1"
   ]
  },
  {
   "cell_type": "code",
   "execution_count": 177,
   "metadata": {},
   "outputs": [
    {
     "data": {
      "text/plain": [
       "ID\n",
       "15063471      0\n",
       "15063505      0\n",
       "15063609      0\n",
       "15064044      0\n",
       "15064257      0\n",
       "15064295      0\n",
       "15064391      0\n",
       "             ..\n",
       "2121978635    0\n",
       "2122992200    1\n",
       "2124214951    1\n",
       "2126960082    0\n",
       "2128308939    0\n",
       "2131957929    0\n",
       "2136213970    0\n",
       "Name: IsAStudio, Length: 1000, dtype: object"
      ]
     },
     "execution_count": 177,
     "metadata": {},
     "output_type": "execute_result"
    }
   ],
   "source": [
    "df.IsAStudio"
   ]
  },
  {
   "cell_type": "markdown",
   "metadata": {},
   "source": [
    "> ### `Size`"
   ]
  },
  {
   "cell_type": "code",
   "execution_count": 178,
   "metadata": {},
   "outputs": [
    {
     "data": {
      "text/plain": [
       "array(['sqft', nan], dtype=object)"
      ]
     },
     "execution_count": 178,
     "metadata": {},
     "output_type": "execute_result"
    }
   ],
   "source": [
    "df.SizeUnit.unique()"
   ]
  },
  {
   "cell_type": "markdown",
   "metadata": {},
   "source": [
    "Size is either in square feet or missing.  Almost no work needed except to remove size unit."
   ]
  },
  {
   "cell_type": "code",
   "execution_count": 179,
   "metadata": {
    "collapsed": true
   },
   "outputs": [],
   "source": [
    "df.drop('SizeUnit', axis = 1, inplace = True)"
   ]
  },
  {
   "cell_type": "markdown",
   "metadata": {},
   "source": [
    "> ### `LotSize`: scale all values to square feet"
   ]
  },
  {
   "cell_type": "code",
   "execution_count": 180,
   "metadata": {},
   "outputs": [
    {
     "data": {
      "text/plain": [
       "array([nan, 'sqft', 'ac'], dtype=object)"
      ]
     },
     "execution_count": 180,
     "metadata": {},
     "output_type": "execute_result"
    }
   ],
   "source": [
    "df.LotSizeUnit.unique()"
   ]
  },
  {
   "cell_type": "markdown",
   "metadata": {},
   "source": [
    "Lot sizes are either in square feet or in acres.  Let's convert them all to square feet."
   ]
  },
  {
   "cell_type": "markdown",
   "metadata": {},
   "source": [
    "> Group #1: the `na` values:"
   ]
  },
  {
   "cell_type": "code",
   "execution_count": 181,
   "metadata": {},
   "outputs": [
    {
     "data": {
      "text/plain": [
       "444"
      ]
     },
     "execution_count": 181,
     "metadata": {},
     "output_type": "execute_result"
    }
   ],
   "source": [
    "df_na = df[df.LotSizeUnit.isnull()]\n",
    "df_na = df_na.drop('LotSizeUnit', axis = 1)\n",
    "\n",
    "df_na.shape[0]"
   ]
  },
  {
   "cell_type": "markdown",
   "metadata": {},
   "source": [
    "> Group #2: the `sqft` values:"
   ]
  },
  {
   "cell_type": "code",
   "execution_count": null,
   "metadata": {
    "collapsed": true
   },
   "outputs": [],
   "source": [
    "# TODO (use df_sqft)"
   ]
  },
  {
   "cell_type": "markdown",
   "metadata": {},
   "source": [
    "> Group #3: the `ac` values:"
   ]
  },
  {
   "cell_type": "code",
   "execution_count": null,
   "metadata": {
    "collapsed": true
   },
   "outputs": [],
   "source": [
    "# TODO (use df_ac)"
   ]
  },
  {
   "cell_type": "markdown",
   "metadata": {},
   "source": [
    "> Let's scale these `acre` values into `sqft`:"
   ]
  },
  {
   "cell_type": "code",
   "execution_count": null,
   "metadata": {
    "collapsed": true
   },
   "outputs": [],
   "source": [
    "# (1 acre = 43,560 sqft)\n",
    "\n",
    "# TODO"
   ]
  },
  {
   "cell_type": "markdown",
   "metadata": {},
   "source": [
    "Let's now put everything back together..."
   ]
  },
  {
   "cell_type": "code",
   "execution_count": null,
   "metadata": {
    "collapsed": true
   },
   "outputs": [],
   "source": [
    "df = pd.concat([df_na, df_sqft, df_ac]).sort_index()"
   ]
  },
  {
   "cell_type": "code",
   "execution_count": null,
   "metadata": {
    "collapsed": true
   },
   "outputs": [],
   "source": [
    "df"
   ]
  },
  {
   "cell_type": "markdown",
   "metadata": {},
   "source": [
    "> ## `.to_csv`: save the `DataFrame` into a `.csv` file"
   ]
  },
  {
   "cell_type": "markdown",
   "metadata": {},
   "source": [
    "At the end of each phase (i.e., wrangling) of your data science project, it is a good idea to save your dataset into disk.  Then for the next step, create a new Jupyther notebook and load your updated dataset"
   ]
  },
  {
   "cell_type": "code",
   "execution_count": 182,
   "metadata": {
    "collapsed": true
   },
   "outputs": [],
   "source": [
    "df.to_csv(os.path.join('..', 'datasets', 'dataset-03-zillow.csv'), index_label = 'ID')"
   ]
  },
  {
   "cell_type": "markdown",
   "metadata": {},
   "source": [
    "## Part C | Advanced topics"
   ]
  },
  {
   "cell_type": "markdown",
   "metadata": {},
   "source": [
    "### `.groupby()`"
   ]
  },
  {
   "cell_type": "markdown",
   "metadata": {},
   "source": [
    "(http://pandas.pydata.org/pandas-docs/stable/groupby.html)"
   ]
  },
  {
   "cell_type": "markdown",
   "metadata": {},
   "source": [
    "> What is the mean price of houses by number of bathrooms?"
   ]
  },
  {
   "cell_type": "code",
   "execution_count": 183,
   "metadata": {
    "collapsed": true
   },
   "outputs": [],
   "source": [
    "df = pd.read_csv(os.path.join('..', 'datasets', 'dataset-03-zillow.csv'))"
   ]
  },
  {
   "cell_type": "code",
   "execution_count": 184,
   "metadata": {},
   "outputs": [
    {
     "data": {
      "text/html": [
       "<div>\n",
       "<style>\n",
       "    .dataframe thead tr:only-child th {\n",
       "        text-align: right;\n",
       "    }\n",
       "\n",
       "    .dataframe thead th {\n",
       "        text-align: left;\n",
       "    }\n",
       "\n",
       "    .dataframe tbody tr th {\n",
       "        vertical-align: top;\n",
       "    }\n",
       "</style>\n",
       "<table border=\"10\" class=\"dataframe\">\n",
       "  <thead>\n",
       "    <tr style=\"text-align: right;\">\n",
       "      <th></th>\n",
       "      <th>SalePrice</th>\n",
       "    </tr>\n",
       "    <tr>\n",
       "      <th>Baths</th>\n",
       "      <th></th>\n",
       "    </tr>\n",
       "  </thead>\n",
       "  <tbody>\n",
       "    <tr>\n",
       "      <th>1.000</th>\n",
       "      <td>0.988</td>\n",
       "    </tr>\n",
       "    <tr>\n",
       "      <th>1.100</th>\n",
       "      <td>1.420</td>\n",
       "    </tr>\n",
       "    <tr>\n",
       "      <th>1.250</th>\n",
       "      <td>1.600</td>\n",
       "    </tr>\n",
       "    <tr>\n",
       "      <th>1.500</th>\n",
       "      <td>1.223</td>\n",
       "    </tr>\n",
       "    <tr>\n",
       "      <th>1.750</th>\n",
       "      <td>0.928</td>\n",
       "    </tr>\n",
       "    <tr>\n",
       "      <th>2.000</th>\n",
       "      <td>1.275</td>\n",
       "    </tr>\n",
       "    <tr>\n",
       "      <th>2.250</th>\n",
       "      <td>0.184</td>\n",
       "    </tr>\n",
       "    <tr>\n",
       "      <th>...</th>\n",
       "      <td>...</td>\n",
       "    </tr>\n",
       "    <tr>\n",
       "      <th>5.500</th>\n",
       "      <td>4.240</td>\n",
       "    </tr>\n",
       "    <tr>\n",
       "      <th>6.000</th>\n",
       "      <td>4.879</td>\n",
       "    </tr>\n",
       "    <tr>\n",
       "      <th>6.500</th>\n",
       "      <td>16.000</td>\n",
       "    </tr>\n",
       "    <tr>\n",
       "      <th>7.000</th>\n",
       "      <td>0.999</td>\n",
       "    </tr>\n",
       "    <tr>\n",
       "      <th>7.500</th>\n",
       "      <td>5.530</td>\n",
       "    </tr>\n",
       "    <tr>\n",
       "      <th>8.000</th>\n",
       "      <td>13.100</td>\n",
       "    </tr>\n",
       "    <tr>\n",
       "      <th>14.000</th>\n",
       "      <td>1.000</td>\n",
       "    </tr>\n",
       "  </tbody>\n",
       "</table>\n",
       "<p>20 rows × 1 columns</p>\n",
       "</div>"
      ],
      "text/plain": [
       "        SalePrice\n",
       "Baths            \n",
       "1.000       0.988\n",
       "1.100       1.420\n",
       "1.250       1.600\n",
       "1.500       1.223\n",
       "1.750       0.928\n",
       "2.000       1.275\n",
       "2.250       0.184\n",
       "...           ...\n",
       "5.500       4.240\n",
       "6.000       4.879\n",
       "6.500      16.000\n",
       "7.000       0.999\n",
       "7.500       5.530\n",
       "8.000      13.100\n",
       "14.000      1.000\n",
       "\n",
       "[20 rows x 1 columns]"
      ]
     },
     "execution_count": 184,
     "metadata": {},
     "output_type": "execute_result"
    }
   ],
   "source": [
    "df[ ['Baths', 'SalePrice'] ].groupby('Baths').mean()"
   ]
  },
  {
   "cell_type": "markdown",
   "metadata": {},
   "source": [
    "### `.map()`"
   ]
  },
  {
   "cell_type": "markdown",
   "metadata": {},
   "source": [
    "(http://pandas.pydata.org/pandas-docs/stable/generated/pandas.Series.map.html)"
   ]
  },
  {
   "cell_type": "markdown",
   "metadata": {},
   "source": [
    "When converting `SalePrice`, `Size`, and `LotSize` into `$M` and sqft, we could also have done the following:"
   ]
  },
  {
   "cell_type": "code",
   "execution_count": 185,
   "metadata": {
    "collapsed": true
   },
   "outputs": [],
   "source": [
    "df = pd.read_csv(os.path.join('..', 'datasets', 'dataset-03-zillow-transactions.csv'))"
   ]
  },
  {
   "cell_type": "code",
   "execution_count": 186,
   "metadata": {},
   "outputs": [
    {
     "data": {
      "text/plain": [
       "array(['$', '$M'], dtype=object)"
      ]
     },
     "execution_count": 186,
     "metadata": {},
     "output_type": "execute_result"
    }
   ],
   "source": [
    "df.SalePriceUnit.unique()"
   ]
  },
  {
   "cell_type": "code",
   "execution_count": 187,
   "metadata": {},
   "outputs": [
    {
     "data": {
      "text/plain": [
       "0     0.000\n",
       "1     1.000\n",
       "2     0.000\n",
       "3     1.000\n",
       "4     1.000\n",
       "5     0.000\n",
       "6     0.000\n",
       "       ... \n",
       "993   0.000\n",
       "994   0.000\n",
       "995   0.000\n",
       "996   1.000\n",
       "997   0.000\n",
       "998   0.000\n",
       "999   0.000\n",
       "Name: SalePriceUnit, Length: 1000, dtype: float64"
      ]
     },
     "execution_count": 187,
     "metadata": {},
     "output_type": "execute_result"
    }
   ],
   "source": [
    "df.SalePriceUnit.map({'$': 1. / (10 ** 6), '$M': 1.})"
   ]
  },
  {
   "cell_type": "code",
   "execution_count": 188,
   "metadata": {
    "collapsed": true
   },
   "outputs": [],
   "source": [
    "df.SalePrice *= df.SalePriceUnit.map({'$': 1. / (10 ** 6), '$M': 1.})"
   ]
  },
  {
   "cell_type": "code",
   "execution_count": 192,
   "metadata": {},
   "outputs": [
    {
     "data": {
      "text/plain": [
       "0     0.650\n",
       "1     1.150\n",
       "2     0.665\n",
       "3     2.100\n",
       "4     1.350\n",
       "5     0.825\n",
       "6     0.625\n",
       "       ... \n",
       "993   0.700\n",
       "994   0.750\n",
       "995   0.731\n",
       "996   5.530\n",
       "997   0.625\n",
       "998   0.895\n",
       "999   0.650\n",
       "Name: SalePrice, Length: 1000, dtype: float64"
      ]
     },
     "execution_count": 192,
     "metadata": {},
     "output_type": "execute_result"
    }
   ],
   "source": [
    "df.SalePrice"
   ]
  },
  {
   "cell_type": "code",
   "execution_count": 193,
   "metadata": {
    "collapsed": true
   },
   "outputs": [],
   "source": [
    "df.drop('SalePriceUnit', axis = 1, inplace = True)"
   ]
  },
  {
   "cell_type": "code",
   "execution_count": 194,
   "metadata": {},
   "outputs": [
    {
     "data": {
      "text/html": [
       "<div>\n",
       "<style>\n",
       "    .dataframe thead tr:only-child th {\n",
       "        text-align: right;\n",
       "    }\n",
       "\n",
       "    .dataframe thead th {\n",
       "        text-align: left;\n",
       "    }\n",
       "\n",
       "    .dataframe tbody tr th {\n",
       "        vertical-align: top;\n",
       "    }\n",
       "</style>\n",
       "<table border=\"10\" class=\"dataframe\">\n",
       "  <thead>\n",
       "    <tr style=\"text-align: right;\">\n",
       "      <th></th>\n",
       "      <th>ID</th>\n",
       "      <th>DateOfSale</th>\n",
       "      <th>SalePrice</th>\n",
       "    </tr>\n",
       "  </thead>\n",
       "  <tbody>\n",
       "    <tr>\n",
       "      <th>0</th>\n",
       "      <td>15165953</td>\n",
       "      <td>1/5/16</td>\n",
       "      <td>0.650</td>\n",
       "    </tr>\n",
       "    <tr>\n",
       "      <th>1</th>\n",
       "      <td>80749447</td>\n",
       "      <td>11/10/15</td>\n",
       "      <td>1.150</td>\n",
       "    </tr>\n",
       "    <tr>\n",
       "      <th>2</th>\n",
       "      <td>15155751</td>\n",
       "      <td>11/10/15</td>\n",
       "      <td>0.665</td>\n",
       "    </tr>\n",
       "    <tr>\n",
       "      <th>3</th>\n",
       "      <td>15143887</td>\n",
       "      <td>12/31/15</td>\n",
       "      <td>2.100</td>\n",
       "    </tr>\n",
       "    <tr>\n",
       "      <th>4</th>\n",
       "      <td>15117639</td>\n",
       "      <td>12/23/15</td>\n",
       "      <td>1.350</td>\n",
       "    </tr>\n",
       "    <tr>\n",
       "      <th>5</th>\n",
       "      <td>124852113</td>\n",
       "      <td>11/10/15</td>\n",
       "      <td>0.825</td>\n",
       "    </tr>\n",
       "    <tr>\n",
       "      <th>6</th>\n",
       "      <td>15124281</td>\n",
       "      <td>12/18/15</td>\n",
       "      <td>0.625</td>\n",
       "    </tr>\n",
       "    <tr>\n",
       "      <th>...</th>\n",
       "      <td>...</td>\n",
       "      <td>...</td>\n",
       "      <td>...</td>\n",
       "    </tr>\n",
       "    <tr>\n",
       "      <th>993</th>\n",
       "      <td>61325457</td>\n",
       "      <td>12/11/15</td>\n",
       "      <td>0.700</td>\n",
       "    </tr>\n",
       "    <tr>\n",
       "      <th>994</th>\n",
       "      <td>119685503</td>\n",
       "      <td>11/30/15</td>\n",
       "      <td>0.750</td>\n",
       "    </tr>\n",
       "    <tr>\n",
       "      <th>995</th>\n",
       "      <td>69819708</td>\n",
       "      <td>12/15/15</td>\n",
       "      <td>0.731</td>\n",
       "    </tr>\n",
       "    <tr>\n",
       "      <th>996</th>\n",
       "      <td>15076156</td>\n",
       "      <td>11/12/15</td>\n",
       "      <td>5.530</td>\n",
       "    </tr>\n",
       "    <tr>\n",
       "      <th>997</th>\n",
       "      <td>119685619</td>\n",
       "      <td>12/21/15</td>\n",
       "      <td>0.625</td>\n",
       "    </tr>\n",
       "    <tr>\n",
       "      <th>998</th>\n",
       "      <td>15113584</td>\n",
       "      <td>12/21/15</td>\n",
       "      <td>0.895</td>\n",
       "    </tr>\n",
       "    <tr>\n",
       "      <th>999</th>\n",
       "      <td>15068874</td>\n",
       "      <td>12/24/15</td>\n",
       "      <td>0.650</td>\n",
       "    </tr>\n",
       "  </tbody>\n",
       "</table>\n",
       "<p>1000 rows × 3 columns</p>\n",
       "</div>"
      ],
      "text/plain": [
       "            ID DateOfSale  SalePrice\n",
       "0     15165953     1/5/16      0.650\n",
       "1     80749447   11/10/15      1.150\n",
       "2     15155751   11/10/15      0.665\n",
       "3     15143887   12/31/15      2.100\n",
       "4     15117639   12/23/15      1.350\n",
       "5    124852113   11/10/15      0.825\n",
       "6     15124281   12/18/15      0.625\n",
       "..         ...        ...        ...\n",
       "993   61325457   12/11/15      0.700\n",
       "994  119685503   11/30/15      0.750\n",
       "995   69819708   12/15/15      0.731\n",
       "996   15076156   11/12/15      5.530\n",
       "997  119685619   12/21/15      0.625\n",
       "998   15113584   12/21/15      0.895\n",
       "999   15068874   12/24/15      0.650\n",
       "\n",
       "[1000 rows x 3 columns]"
      ]
     },
     "execution_count": 194,
     "metadata": {},
     "output_type": "execute_result"
    }
   ],
   "source": [
    "df"
   ]
  },
  {
   "cell_type": "markdown",
   "metadata": {},
   "source": [
    "> ### Activity:  Using `.map()`, convert `Size` and `LotSize` to sqft."
   ]
  },
  {
   "cell_type": "code",
   "execution_count": 195,
   "metadata": {
    "collapsed": true
   },
   "outputs": [],
   "source": [
    "df = pd.read_csv(os.path.join('..', 'datasets', 'dataset-03-zillow-properties.csv'))"
   ]
  },
  {
   "cell_type": "code",
   "execution_count": null,
   "metadata": {
    "collapsed": true
   },
   "outputs": [],
   "source": [
    "# TODO"
   ]
  },
  {
   "cell_type": "markdown",
   "metadata": {},
   "source": [
    "### `.to_datetime()`"
   ]
  },
  {
   "cell_type": "markdown",
   "metadata": {},
   "source": [
    "(http://pandas.pydata.org/pandas-docs/stable/generated/pandas.to_datetime.html)"
   ]
  },
  {
   "cell_type": "code",
   "execution_count": 203,
   "metadata": {
    "collapsed": true
   },
   "outputs": [],
   "source": [
    "df = pd.read_csv(os.path.join('..', 'datasets', 'dataset-03-zillow.csv'))"
   ]
  },
  {
   "cell_type": "code",
   "execution_count": 204,
   "metadata": {},
   "outputs": [
    {
     "data": {
      "text/plain": [
       "0       12/4/15\n",
       "1      11/30/15\n",
       "2      11/12/15\n",
       "3      12/11/15\n",
       "4       1/15/16\n",
       "5      12/17/15\n",
       "6      12/15/15\n",
       "         ...   \n",
       "993     12/6/15\n",
       "994    11/20/15\n",
       "995     1/15/16\n",
       "996    11/20/15\n",
       "997    12/10/15\n",
       "998    12/15/15\n",
       "999     1/10/16\n",
       "Name: DateOfSale, Length: 1000, dtype: object"
      ]
     },
     "execution_count": 204,
     "metadata": {},
     "output_type": "execute_result"
    }
   ],
   "source": [
    "df.DateOfSale"
   ]
  },
  {
   "cell_type": "markdown",
   "metadata": {},
   "source": [
    "So far, the dates stored in the `DataFrame` are just strings.  We cannot easily extract the day, month, year.  Thanksfully, `pandas` provides some facilities to do so."
   ]
  },
  {
   "cell_type": "code",
   "execution_count": 205,
   "metadata": {},
   "outputs": [
    {
     "data": {
      "text/plain": [
       "0     2015-12-04\n",
       "1     2015-11-30\n",
       "2     2015-11-12\n",
       "3     2015-12-11\n",
       "4     2016-01-15\n",
       "5     2015-12-17\n",
       "6     2015-12-15\n",
       "         ...    \n",
       "993   2015-12-06\n",
       "994   2015-11-20\n",
       "995   2016-01-15\n",
       "996   2015-11-20\n",
       "997   2015-12-10\n",
       "998   2015-12-15\n",
       "999   2016-01-10\n",
       "Name: DateOfSale, Length: 1000, dtype: datetime64[ns]"
      ]
     },
     "execution_count": 205,
     "metadata": {},
     "output_type": "execute_result"
    }
   ],
   "source": [
    "pd.to_datetime(df.DateOfSale)"
   ]
  },
  {
   "cell_type": "code",
   "execution_count": 206,
   "metadata": {
    "collapsed": true
   },
   "outputs": [],
   "source": [
    "df.DateOfSale = pd.to_datetime(df.DateOfSale)"
   ]
  },
  {
   "cell_type": "markdown",
   "metadata": {},
   "source": [
    "### `.apply()`"
   ]
  },
  {
   "cell_type": "markdown",
   "metadata": {},
   "source": [
    "(http://pandas.pydata.org/pandas-docs/stable/generated/pandas.Series.apply.html)"
   ]
  },
  {
   "cell_type": "code",
   "execution_count": 207,
   "metadata": {},
   "outputs": [
    {
     "data": {
      "text/plain": [
       "0      2015\n",
       "1      2015\n",
       "2      2015\n",
       "3      2015\n",
       "4      2016\n",
       "5      2015\n",
       "6      2015\n",
       "       ... \n",
       "993    2015\n",
       "994    2015\n",
       "995    2016\n",
       "996    2015\n",
       "997    2015\n",
       "998    2015\n",
       "999    2016\n",
       "Name: DateOfSale, Length: 1000, dtype: int64"
      ]
     },
     "execution_count": 207,
     "metadata": {},
     "output_type": "execute_result"
    }
   ],
   "source": [
    "df.DateOfSale.apply(lambda date_of_sale: date_of_sale.year)"
   ]
  },
  {
   "cell_type": "code",
   "execution_count": 212,
   "metadata": {
    "collapsed": true
   },
   "outputs": [],
   "source": [
    "df['YearOfSale'] = df.DateOfSale.apply(lambda date_of_sale: date_of_sale.year)\n",
    "df['MonthOfSale'] = df.DateOfSale.apply(lambda date_of_sale: date_of_sale.month)\n",
    "df['DayOfSale'] = df.DateOfSale.apply(lambda date_of_sale: date_of_sale.day)\n",
    "df['WeekDayOfSale'] = df.DateOfSale.apply(lambda date_of_sale: date_of_sale.weekday_name)\n",
    "\n",
    "df.drop('DateOfSale', axis = 1, inplace = True)"
   ]
  },
  {
   "cell_type": "markdown",
   "metadata": {},
   "source": [
    "Now, we have the day, day of the week, month, and year of the sale as features in our dataset."
   ]
  },
  {
   "cell_type": "code",
   "execution_count": 213,
   "metadata": {},
   "outputs": [
    {
     "data": {
      "text/html": [
       "<div>\n",
       "<style>\n",
       "    .dataframe thead tr:only-child th {\n",
       "        text-align: right;\n",
       "    }\n",
       "\n",
       "    .dataframe thead th {\n",
       "        text-align: left;\n",
       "    }\n",
       "\n",
       "    .dataframe tbody tr th {\n",
       "        vertical-align: top;\n",
       "    }\n",
       "</style>\n",
       "<table border=\"10\" class=\"dataframe\">\n",
       "  <thead>\n",
       "    <tr style=\"text-align: right;\">\n",
       "      <th></th>\n",
       "      <th>ID</th>\n",
       "      <th>Address</th>\n",
       "      <th>IsAStudio</th>\n",
       "      <th>Beds</th>\n",
       "      <th>Baths</th>\n",
       "      <th>...</th>\n",
       "      <th>SalePrice</th>\n",
       "      <th>YearOfSale</th>\n",
       "      <th>MonthOfSale</th>\n",
       "      <th>DayOfSale</th>\n",
       "      <th>WeekDayOfSale</th>\n",
       "    </tr>\n",
       "  </thead>\n",
       "  <tbody>\n",
       "    <tr>\n",
       "      <th>0</th>\n",
       "      <td>15063471</td>\n",
       "      <td>55 Vandewater St APT 9, San Francisco, CA</td>\n",
       "      <td>0.000</td>\n",
       "      <td>1.000</td>\n",
       "      <td>nan</td>\n",
       "      <td>...</td>\n",
       "      <td>0.710</td>\n",
       "      <td>2015</td>\n",
       "      <td>12</td>\n",
       "      <td>4</td>\n",
       "      <td>Friday</td>\n",
       "    </tr>\n",
       "    <tr>\n",
       "      <th>1</th>\n",
       "      <td>15063505</td>\n",
       "      <td>740 Francisco St, San Francisco, CA</td>\n",
       "      <td>0.000</td>\n",
       "      <td>nan</td>\n",
       "      <td>2.000</td>\n",
       "      <td>...</td>\n",
       "      <td>2.150</td>\n",
       "      <td>2015</td>\n",
       "      <td>11</td>\n",
       "      <td>30</td>\n",
       "      <td>Monday</td>\n",
       "    </tr>\n",
       "    <tr>\n",
       "      <th>2</th>\n",
       "      <td>15063609</td>\n",
       "      <td>819 Francisco St, San Francisco, CA</td>\n",
       "      <td>0.000</td>\n",
       "      <td>2.000</td>\n",
       "      <td>3.500</td>\n",
       "      <td>...</td>\n",
       "      <td>5.600</td>\n",
       "      <td>2015</td>\n",
       "      <td>11</td>\n",
       "      <td>12</td>\n",
       "      <td>Thursday</td>\n",
       "    </tr>\n",
       "    <tr>\n",
       "      <th>3</th>\n",
       "      <td>15064044</td>\n",
       "      <td>199 Chestnut St APT 5, San Francisco, CA</td>\n",
       "      <td>0.000</td>\n",
       "      <td>1.000</td>\n",
       "      <td>1.000</td>\n",
       "      <td>...</td>\n",
       "      <td>1.500</td>\n",
       "      <td>2015</td>\n",
       "      <td>12</td>\n",
       "      <td>11</td>\n",
       "      <td>Friday</td>\n",
       "    </tr>\n",
       "    <tr>\n",
       "      <th>4</th>\n",
       "      <td>15064257</td>\n",
       "      <td>111 Chestnut St APT 403, San Francisco, CA</td>\n",
       "      <td>0.000</td>\n",
       "      <td>2.000</td>\n",
       "      <td>2.000</td>\n",
       "      <td>...</td>\n",
       "      <td>0.970</td>\n",
       "      <td>2016</td>\n",
       "      <td>1</td>\n",
       "      <td>15</td>\n",
       "      <td>Friday</td>\n",
       "    </tr>\n",
       "    <tr>\n",
       "      <th>5</th>\n",
       "      <td>15064295</td>\n",
       "      <td>111 Chestnut St APT 702, San Francisco, CA</td>\n",
       "      <td>0.000</td>\n",
       "      <td>2.000</td>\n",
       "      <td>2.000</td>\n",
       "      <td>...</td>\n",
       "      <td>0.940</td>\n",
       "      <td>2015</td>\n",
       "      <td>12</td>\n",
       "      <td>17</td>\n",
       "      <td>Thursday</td>\n",
       "    </tr>\n",
       "    <tr>\n",
       "      <th>6</th>\n",
       "      <td>15064391</td>\n",
       "      <td>1821 Grant Ave APT 101, San Francisco, CA</td>\n",
       "      <td>0.000</td>\n",
       "      <td>1.000</td>\n",
       "      <td>1.000</td>\n",
       "      <td>...</td>\n",
       "      <td>0.835</td>\n",
       "      <td>2015</td>\n",
       "      <td>12</td>\n",
       "      <td>15</td>\n",
       "      <td>Tuesday</td>\n",
       "    </tr>\n",
       "    <tr>\n",
       "      <th>...</th>\n",
       "      <td>...</td>\n",
       "      <td>...</td>\n",
       "      <td>...</td>\n",
       "      <td>...</td>\n",
       "      <td>...</td>\n",
       "      <td>...</td>\n",
       "      <td>...</td>\n",
       "      <td>...</td>\n",
       "      <td>...</td>\n",
       "      <td>...</td>\n",
       "      <td>...</td>\n",
       "    </tr>\n",
       "    <tr>\n",
       "      <th>993</th>\n",
       "      <td>2121978635</td>\n",
       "      <td>829 Folsom St UNIT 906, San Francisco, CA</td>\n",
       "      <td>0.000</td>\n",
       "      <td>1.000</td>\n",
       "      <td>1.000</td>\n",
       "      <td>...</td>\n",
       "      <td>0.675</td>\n",
       "      <td>2015</td>\n",
       "      <td>12</td>\n",
       "      <td>6</td>\n",
       "      <td>Sunday</td>\n",
       "    </tr>\n",
       "    <tr>\n",
       "      <th>994</th>\n",
       "      <td>2122992200</td>\n",
       "      <td>129 Octavia St, San Francisco, CA</td>\n",
       "      <td>1.000</td>\n",
       "      <td>nan</td>\n",
       "      <td>nan</td>\n",
       "      <td>...</td>\n",
       "      <td>2.750</td>\n",
       "      <td>2015</td>\n",
       "      <td>11</td>\n",
       "      <td>20</td>\n",
       "      <td>Friday</td>\n",
       "    </tr>\n",
       "    <tr>\n",
       "      <th>995</th>\n",
       "      <td>2124214951</td>\n",
       "      <td>412 Green St APT A, San Francisco, CA</td>\n",
       "      <td>1.000</td>\n",
       "      <td>nan</td>\n",
       "      <td>1.000</td>\n",
       "      <td>...</td>\n",
       "      <td>0.390</td>\n",
       "      <td>2016</td>\n",
       "      <td>1</td>\n",
       "      <td>15</td>\n",
       "      <td>Friday</td>\n",
       "    </tr>\n",
       "    <tr>\n",
       "      <th>996</th>\n",
       "      <td>2126960082</td>\n",
       "      <td>355 1st St UNIT 1905, San Francisco, CA</td>\n",
       "      <td>0.000</td>\n",
       "      <td>1.000</td>\n",
       "      <td>1.000</td>\n",
       "      <td>...</td>\n",
       "      <td>0.860</td>\n",
       "      <td>2015</td>\n",
       "      <td>11</td>\n",
       "      <td>20</td>\n",
       "      <td>Friday</td>\n",
       "    </tr>\n",
       "    <tr>\n",
       "      <th>997</th>\n",
       "      <td>2128308939</td>\n",
       "      <td>33 Santa Cruz Ave, San Francisco, CA</td>\n",
       "      <td>0.000</td>\n",
       "      <td>3.000</td>\n",
       "      <td>3.000</td>\n",
       "      <td>...</td>\n",
       "      <td>0.830</td>\n",
       "      <td>2015</td>\n",
       "      <td>12</td>\n",
       "      <td>10</td>\n",
       "      <td>Thursday</td>\n",
       "    </tr>\n",
       "    <tr>\n",
       "      <th>998</th>\n",
       "      <td>2131957929</td>\n",
       "      <td>1821 Grant Ave, San Francisco, CA</td>\n",
       "      <td>0.000</td>\n",
       "      <td>2.000</td>\n",
       "      <td>2.000</td>\n",
       "      <td>...</td>\n",
       "      <td>0.835</td>\n",
       "      <td>2015</td>\n",
       "      <td>12</td>\n",
       "      <td>15</td>\n",
       "      <td>Tuesday</td>\n",
       "    </tr>\n",
       "    <tr>\n",
       "      <th>999</th>\n",
       "      <td>2136213970</td>\n",
       "      <td>1200 Gough St, San Francisco, CA</td>\n",
       "      <td>0.000</td>\n",
       "      <td>1.000</td>\n",
       "      <td>1.000</td>\n",
       "      <td>...</td>\n",
       "      <td>0.825</td>\n",
       "      <td>2016</td>\n",
       "      <td>1</td>\n",
       "      <td>10</td>\n",
       "      <td>Sunday</td>\n",
       "    </tr>\n",
       "  </tbody>\n",
       "</table>\n",
       "<p>1000 rows × 14 columns</p>\n",
       "</div>"
      ],
      "text/plain": [
       "             ID                                     Address  IsAStudio  Beds  \\\n",
       "0      15063471   55 Vandewater St APT 9, San Francisco, CA      0.000 1.000   \n",
       "1      15063505         740 Francisco St, San Francisco, CA      0.000   nan   \n",
       "2      15063609         819 Francisco St, San Francisco, CA      0.000 2.000   \n",
       "3      15064044    199 Chestnut St APT 5, San Francisco, CA      0.000 1.000   \n",
       "4      15064257  111 Chestnut St APT 403, San Francisco, CA      0.000 2.000   \n",
       "5      15064295  111 Chestnut St APT 702, San Francisco, CA      0.000 2.000   \n",
       "6      15064391   1821 Grant Ave APT 101, San Francisco, CA      0.000 1.000   \n",
       "..          ...                                         ...        ...   ...   \n",
       "993  2121978635   829 Folsom St UNIT 906, San Francisco, CA      0.000 1.000   \n",
       "994  2122992200           129 Octavia St, San Francisco, CA      1.000   nan   \n",
       "995  2124214951       412 Green St APT A, San Francisco, CA      1.000   nan   \n",
       "996  2126960082     355 1st St UNIT 1905, San Francisco, CA      0.000 1.000   \n",
       "997  2128308939        33 Santa Cruz Ave, San Francisco, CA      0.000 3.000   \n",
       "998  2131957929           1821 Grant Ave, San Francisco, CA      0.000 2.000   \n",
       "999  2136213970            1200 Gough St, San Francisco, CA      0.000 1.000   \n",
       "\n",
       "     Baths      ...        SalePrice  YearOfSale MonthOfSale  DayOfSale  \\\n",
       "0      nan      ...            0.710        2015          12          4   \n",
       "1    2.000      ...            2.150        2015          11         30   \n",
       "2    3.500      ...            5.600        2015          11         12   \n",
       "3    1.000      ...            1.500        2015          12         11   \n",
       "4    2.000      ...            0.970        2016           1         15   \n",
       "5    2.000      ...            0.940        2015          12         17   \n",
       "6    1.000      ...            0.835        2015          12         15   \n",
       "..     ...      ...              ...         ...         ...        ...   \n",
       "993  1.000      ...            0.675        2015          12          6   \n",
       "994    nan      ...            2.750        2015          11         20   \n",
       "995  1.000      ...            0.390        2016           1         15   \n",
       "996  1.000      ...            0.860        2015          11         20   \n",
       "997  3.000      ...            0.830        2015          12         10   \n",
       "998  2.000      ...            0.835        2015          12         15   \n",
       "999  1.000      ...            0.825        2016           1         10   \n",
       "\n",
       "     WeekDayOfSale  \n",
       "0           Friday  \n",
       "1           Monday  \n",
       "2         Thursday  \n",
       "3           Friday  \n",
       "4           Friday  \n",
       "5         Thursday  \n",
       "6          Tuesday  \n",
       "..             ...  \n",
       "993         Sunday  \n",
       "994         Friday  \n",
       "995         Friday  \n",
       "996         Friday  \n",
       "997       Thursday  \n",
       "998        Tuesday  \n",
       "999         Sunday  \n",
       "\n",
       "[1000 rows x 14 columns]"
      ]
     },
     "execution_count": 213,
     "metadata": {},
     "output_type": "execute_result"
    }
   ],
   "source": [
    "df"
   ]
  },
  {
   "cell_type": "code",
   "execution_count": null,
   "metadata": {
    "collapsed": true
   },
   "outputs": [],
   "source": []
  }
 ],
 "metadata": {
  "kernelspec": {
   "display_name": "Python 2",
   "language": "python",
   "name": "python2"
  },
  "language_info": {
   "codemirror_mode": {
    "name": "ipython",
    "version": 2
   },
   "file_extension": ".py",
   "mimetype": "text/x-python",
   "name": "python",
   "nbconvert_exporter": "python",
   "pygments_lexer": "ipython2",
   "version": "2.7.13"
  }
 },
 "nbformat": 4,
 "nbformat_minor": 1
}
