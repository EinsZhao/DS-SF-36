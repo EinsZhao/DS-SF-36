{
 "cells": [
  {
   "cell_type": "markdown",
   "metadata": {},
   "source": [
    "# DS-SF-36 | 14 | Trees | Codealong | Starter Code"
   ]
  },
  {
   "cell_type": "code",
   "execution_count": 1,
   "metadata": {
    "collapsed": true
   },
   "outputs": [],
   "source": [
    "import os\n",
    "\n",
    "import pandas as pd\n",
    "pd.set_option('display.max_rows', 10)\n",
    "pd.set_option('display.notebook_repr_html', True)\n",
    "pd.set_option('display.max_columns', 10)\n",
    "\n",
    "import math"
   ]
  },
  {
   "cell_type": "markdown",
   "metadata": {},
   "source": [
    "## Part A | The 2008 Democratic Primaries"
   ]
  },
  {
   "cell_type": "markdown",
   "metadata": {},
   "source": [
    "(dataset adapted from http://www.stat.ucla.edu/~cocteau/primaries.csv)"
   ]
  },
  {
   "cell_type": "code",
   "execution_count": 49,
   "metadata": {
    "collapsed": true
   },
   "outputs": [],
   "source": [
    "df = pd.read_csv(os.path.join('..', 'datasets', 'dataset-14-2008-democrat-primaries.csv'))"
   ]
  },
  {
   "cell_type": "code",
   "execution_count": 50,
   "metadata": {},
   "outputs": [
    {
     "data": {
      "text/plain": [
       "Index([u'fips', u'county_name', u'state_postal', u'region', u'election_date',\n",
       "       u'racetype', u'tvotes', u'clinton', u'obama', u'edwards', u'margin',\n",
       "       u'winner', u'POP05_SQMI', u'popUnder30_00', u'pop65up_00',\n",
       "       u'presVote04', u'kerry04', u'Bush04', u'pres04margin', u'pres04winner',\n",
       "       u'pop06', u'pop00', u'hisp06', u'white06', u'black06', u'indian06',\n",
       "       u'asian06', u'hawaii06', u'mixed06', u'pct_less_30k', u'pct_more_100k',\n",
       "       u'pct_hs_grad', u'pct_labor_force', u'pct_homeowner', u'unempFeb07',\n",
       "       u'unempFeb08', u'unempChg', u'pctUnins00', u'subForPctHomes',\n",
       "       u'poverty05', u'median_hhi05', u'Catholic', u'So.Bapt.Conv',\n",
       "       u'Un.Methodist', u'E.L.C.A.', u'Construction', u'Manufacturing',\n",
       "       u'FinancialActivities', u'GoodsProducing', u'ServiceProviding'],\n",
       "      dtype='object')"
      ]
     },
     "execution_count": 50,
     "metadata": {},
     "output_type": "execute_result"
    }
   ],
   "source": [
    "df.columns"
   ]
  },
  {
   "cell_type": "code",
   "execution_count": 51,
   "metadata": {},
   "outputs": [
    {
     "name": "stdout",
     "output_type": "stream",
     "text": [
      "<class 'pandas.core.frame.DataFrame'>\n",
      "RangeIndex: 2261 entries, 0 to 2260\n",
      "Data columns (total 50 columns):\n",
      "fips                   2261 non-null int64\n",
      "county_name            2261 non-null object\n",
      "state_postal           2261 non-null object\n",
      "region                 2261 non-null object\n",
      "election_date          2261 non-null object\n",
      "racetype               2261 non-null object\n",
      "tvotes                 2261 non-null int64\n",
      "clinton                2261 non-null int64\n",
      "obama                  2261 non-null int64\n",
      "edwards                2261 non-null int64\n",
      "margin                 2261 non-null float64\n",
      "winner                 2241 non-null object\n",
      "POP05_SQMI             2260 non-null float64\n",
      "popUnder30_00          2260 non-null float64\n",
      "pop65up_00             2260 non-null float64\n",
      "presVote04             2260 non-null float64\n",
      "kerry04                2260 non-null float64\n",
      "Bush04                 2260 non-null float64\n",
      "pres04margin           2260 non-null float64\n",
      "pres04winner           2260 non-null object\n",
      "pop06                  2260 non-null float64\n",
      "pop00                  2260 non-null float64\n",
      "hisp06                 2260 non-null float64\n",
      "white06                2260 non-null float64\n",
      "black06                2260 non-null float64\n",
      "indian06               2260 non-null float64\n",
      "asian06                2260 non-null float64\n",
      "hawaii06               2260 non-null float64\n",
      "mixed06                2260 non-null float64\n",
      "pct_less_30k           2259 non-null float64\n",
      "pct_more_100k          2259 non-null float64\n",
      "pct_hs_grad            2259 non-null float64\n",
      "pct_labor_force        2259 non-null float64\n",
      "pct_homeowner          2259 non-null float64\n",
      "unempFeb07             2252 non-null float64\n",
      "unempFeb08             2252 non-null float64\n",
      "unempChg               2252 non-null float64\n",
      "pctUnins00             2259 non-null float64\n",
      "subForPctHomes         2253 non-null float64\n",
      "poverty05              2261 non-null float64\n",
      "median_hhi05           2261 non-null int64\n",
      "Catholic               2258 non-null float64\n",
      "So.Bapt.Conv           2258 non-null float64\n",
      "Un.Methodist           2258 non-null float64\n",
      "E.L.C.A.               2258 non-null float64\n",
      "Construction           2258 non-null float64\n",
      "Manufacturing          2258 non-null float64\n",
      "FinancialActivities    2260 non-null float64\n",
      "GoodsProducing         2256 non-null float64\n",
      "ServiceProviding       2259 non-null float64\n",
      "dtypes: float64(37), int64(6), object(7)\n",
      "memory usage: 883.3+ KB\n"
     ]
    }
   ],
   "source": [
    "df.info()"
   ]
  },
  {
   "cell_type": "code",
   "execution_count": 52,
   "metadata": {},
   "outputs": [
    {
     "data": {
      "text/plain": [
       "array(['obama', 'clinton', nan], dtype=object)"
      ]
     },
     "execution_count": 52,
     "metadata": {},
     "output_type": "execute_result"
    }
   ],
   "source": [
    "df.winner.unique()"
   ]
  },
  {
   "cell_type": "code",
   "execution_count": 53,
   "metadata": {},
   "outputs": [
    {
     "data": {
      "text/plain": [
       "clinton    1210\n",
       "obama      1031\n",
       "NaN          20\n",
       "Name: winner, dtype: int64"
      ]
     },
     "execution_count": 53,
     "metadata": {},
     "output_type": "execute_result"
    }
   ],
   "source": [
    "df.winner.value_counts(dropna=False)"
   ]
  },
  {
   "cell_type": "code",
   "execution_count": 54,
   "metadata": {
    "collapsed": true
   },
   "outputs": [],
   "source": [
    "df['c'] = (df.winner =='obama') *1."
   ]
  },
  {
   "cell_type": "code",
   "execution_count": 55,
   "metadata": {},
   "outputs": [
    {
     "data": {
      "text/plain": [
       "0        49730.0\n",
       "1       169162.0\n",
       "2        28171.0\n",
       "3        21482.0\n",
       "4        56436.0\n",
       "          ...   \n",
       "2256     38763.0\n",
       "2257     19288.0\n",
       "2258     20213.0\n",
       "2259      7819.0\n",
       "2260      6762.0\n",
       "Name: pop06, Length: 2261, dtype: float64"
      ]
     },
     "execution_count": 55,
     "metadata": {},
     "output_type": "execute_result"
    }
   ],
   "source": [
    "df.pop06"
   ]
  },
  {
   "cell_type": "code",
   "execution_count": 56,
   "metadata": {},
   "outputs": [],
   "source": [
    "df['pct_black06'] = df.black06/df.pop06"
   ]
  },
  {
   "cell_type": "code",
   "execution_count": 57,
   "metadata": {},
   "outputs": [],
   "source": [
    "parent_df=df"
   ]
  },
  {
   "cell_type": "code",
   "execution_count": 58,
   "metadata": {
    "collapsed": true
   },
   "outputs": [],
   "source": [
    "left_child_df = parent_df[parent_df.pct_black06 <= 0.20]"
   ]
  },
  {
   "cell_type": "code",
   "execution_count": 59,
   "metadata": {},
   "outputs": [],
   "source": [
    "right_child_df = parent_df[parent_df.pct_black06 > 0.20]\n",
    "\n",
    "# Method 02\n",
    "#right_child_df = parent_df.drop(left_child_df.index)"
   ]
  },
  {
   "cell_type": "markdown",
   "metadata": {},
   "source": [
    "### First cut: Is a county more than 20% black?"
   ]
  },
  {
   "cell_type": "code",
   "execution_count": 60,
   "metadata": {},
   "outputs": [
    {
     "data": {
      "text/plain": [
       "450"
      ]
     },
     "execution_count": 60,
     "metadata": {},
     "output_type": "execute_result"
    }
   ],
   "source": [
    "right_child_df.shape[0]"
   ]
  },
  {
   "cell_type": "code",
   "execution_count": 61,
   "metadata": {},
   "outputs": [
    {
     "data": {
      "text/plain": [
       "1810"
      ]
     },
     "execution_count": 61,
     "metadata": {},
     "output_type": "execute_result"
    }
   ],
   "source": [
    "left_child_df.shape[0]"
   ]
  },
  {
   "cell_type": "markdown",
   "metadata": {},
   "source": [
    "Ans: No"
   ]
  },
  {
   "cell_type": "markdown",
   "metadata": {},
   "source": [
    "#### First cut/right node"
   ]
  },
  {
   "cell_type": "code",
   "execution_count": 62,
   "metadata": {
    "collapsed": true
   },
   "outputs": [],
   "source": [
    "# TODO"
   ]
  },
  {
   "cell_type": "code",
   "execution_count": 77,
   "metadata": {
    "collapsed": true
   },
   "outputs": [],
   "source": [
    "def obama_vs_clinton(df):\n",
    "    obama = (df.c == 1).sum()\n",
    "    clinton = (df.c == 0).sum()\n",
    "    if obama > clinton:\n",
    "        print 'Obama wins these counties {0} to {1}.'.format(obama, clinton)\n",
    "    elif clinton > obama:\n",
    "        print 'Clinton wins these counties {} to {}.'.format(clinton, obama)\n",
    "    else:\n",
    "        print 'Obama and Clinton tie in these counties {} {}.'.format(obama, clinton)"
   ]
  },
  {
   "cell_type": "code",
   "execution_count": 64,
   "metadata": {},
   "outputs": [
    {
     "name": "stdout",
     "output_type": "stream",
     "text": [
      "Obama wins these counties 380 to 70.\n"
     ]
    }
   ],
   "source": [
    "obama_vs_clinton(right_child_df)"
   ]
  },
  {
   "cell_type": "markdown",
   "metadata": {},
   "source": [
    "### Second cut: Is high school graduation rate higher than 78%?"
   ]
  },
  {
   "cell_type": "code",
   "execution_count": 65,
   "metadata": {
    "collapsed": true
   },
   "outputs": [],
   "source": [
    "parent_df  = left_child_df"
   ]
  },
  {
   "cell_type": "code",
   "execution_count": 66,
   "metadata": {
    "collapsed": true
   },
   "outputs": [],
   "source": [
    "left_child_df = parent_df[parent_df.pct_hs_grad <= 0.78]"
   ]
  },
  {
   "cell_type": "code",
   "execution_count": 67,
   "metadata": {
    "collapsed": true
   },
   "outputs": [],
   "source": [
    "right_child_df = parent_df.drop(left_child_df.index)"
   ]
  },
  {
   "cell_type": "code",
   "execution_count": 69,
   "metadata": {},
   "outputs": [
    {
     "name": "stdout",
     "output_type": "stream",
     "text": [
      "Clinton wins these counties 714 to 93.\n"
     ]
    }
   ],
   "source": [
    "obama_vs_clinton(left_child_df)"
   ]
  },
  {
   "cell_type": "markdown",
   "metadata": {},
   "source": [
    "### Third cut: Is high school graduation rate higher than 87%?"
   ]
  },
  {
   "cell_type": "code",
   "execution_count": 71,
   "metadata": {
    "collapsed": true
   },
   "outputs": [],
   "source": [
    "parent_df= right_child_df"
   ]
  },
  {
   "cell_type": "code",
   "execution_count": 72,
   "metadata": {
    "collapsed": true
   },
   "outputs": [],
   "source": [
    "left_child_df = parent_df[parent_df.pct_hs_grad <.87]"
   ]
  },
  {
   "cell_type": "code",
   "execution_count": 73,
   "metadata": {
    "collapsed": true
   },
   "outputs": [],
   "source": [
    "right_child_df = parent_df.drop(left_child_df.index)"
   ]
  },
  {
   "cell_type": "code",
   "execution_count": 78,
   "metadata": {},
   "outputs": [
    {
     "name": "stdout",
     "output_type": "stream",
     "text": [
      "Obama wins these counties 177 to 36.\n"
     ]
    }
   ],
   "source": [
    "obama_vs_clinton(right_child_df)"
   ]
  },
  {
   "cell_type": "markdown",
   "metadata": {},
   "source": [
    "## Part B | Building the 2008 Democratic Primaries Decision Tree by Hand"
   ]
  },
  {
   "cell_type": "code",
   "execution_count": null,
   "metadata": {
    "collapsed": true
   },
   "outputs": [],
   "source": [
    "class Node:\n",
    "\n",
    "    @staticmethod\n",
    "    def root(root_df):\n",
    "        cs = sorted(set(root_df.c))\n",
    "        return Node(cs, root_df)\n",
    "\n",
    "    def decision(self, left_filter):\n",
    "        # Collect the observations for which the decision split is true and\n",
    "        # create the corresponding left node\n",
    "\n",
    "        left_filter = left_filter(self.df)\n",
    "        left_df = self.df[left_filter]\n",
    "        self.left = Node(self.cs, left_df)\n",
    "\n",
    "        # Same thing on the right side but for the observations that don't\n",
    "        # satisfy the decision split (the \"else\")\n",
    "\n",
    "        right_df = self.df.drop(left_df.index)\n",
    "        self.right = Node(self.cs, right_df)\n",
    "\n",
    "        # The entropy after the decision split is the weighted average of the\n",
    "        # children entropy\n",
    "\n",
    "        self.after = (self.left.samples * self.left.before\n",
    "                      + self.right.samples * self.right.before) / self.samples\n",
    "\n",
    "        # The information gain corresponds to the entropy lost between the\n",
    "        # parent node (this node and the \"before\") and its child (the \"after\")\n",
    "\n",
    "        self.information_gain = self.before - self.after\n",
    "\n",
    "        return self\n",
    "\n",
    "    def __init__(self, cs, df):\n",
    "        self.cs = cs\n",
    "        self.df = df\n",
    "\n",
    "        # Counts of the remaining observations in the subspace per classes\n",
    "        self.counts = [(self.df.c == c).sum() for c in self.cs]\n",
    "\n",
    "        # Number of observations in the subspace\n",
    "        self.samples = sum(self.counts)\n",
    "\n",
    "        # For empty subspaces, probabilties and entropy are set to zero\n",
    "        if self.samples == 0:\n",
    "            self.probabilities = [.0 for count in self.counts]\n",
    "            self.before = .0\n",
    "        else:\n",
    "            self.probabilities = [1. * count / self.samples for count in self.counts]\n",
    "            self.before = - sum(map(lambda p: p * math.log(p, 2),\n",
    "                                    filter(lambda p : p > .0, self.probabilities)))\n",
    "\n",
    "    def status(self):\n",
    "        print 'classes                       =', self.cs\n",
    "        print 'before:'\n",
    "        print \"\\tparent:\"\n",
    "        print \"\\t\\tsamples       =\", self.samples\n",
    "        print \"\\t\\tcounts        =\", self.counts\n",
    "        print \"\\t\\tprobabilities =\", self.probabilities\n",
    "        print \"\\t\\tentropy       =\", self.before\n",
    "        print 'after:'\n",
    "        print \"\\tleft child:\"\n",
    "        print \"\\t\\tsamples       =\", self.left.samples\n",
    "        print \"\\t\\tcounts        =\", self.left.counts\n",
    "        print \"\\t\\tprobabilities =\", self.left.probabilities\n",
    "        print \"\\t\\tentropy       =\", self.left.before\n",
    "        print \"\\tright child:\"\n",
    "        print \"\\t\\tsamples       =\", self.right.samples\n",
    "        print \"\\t\\tcounts        =\", self.right.counts\n",
    "        print \"\\t\\tprobabilities =\", self.right.probabilities\n",
    "        print \"\\t\\tentropy       =\", self.right.before\n",
    "        print\n",
    "        print 'before entropy                =', self.before\n",
    "        print 'after entropy                 =', self.after\n",
    "        print 'information gain              =', self.information_gain"
   ]
  },
  {
   "cell_type": "code",
   "execution_count": null,
   "metadata": {
    "collapsed": true
   },
   "outputs": [],
   "source": [
    "df.c = df.winner"
   ]
  },
  {
   "cell_type": "markdown",
   "metadata": {},
   "source": [
    "### First cut"
   ]
  },
  {
   "cell_type": "code",
   "execution_count": null,
   "metadata": {
    "collapsed": true
   },
   "outputs": [],
   "source": [
    "# TODO"
   ]
  },
  {
   "cell_type": "markdown",
   "metadata": {},
   "source": [
    "#### Candidate #1: Is a county more than 20% black?"
   ]
  },
  {
   "cell_type": "code",
   "execution_count": null,
   "metadata": {
    "collapsed": true
   },
   "outputs": [],
   "source": [
    "# TODO"
   ]
  },
  {
   "cell_type": "markdown",
   "metadata": {},
   "source": [
    "#### Candidate #2: Is high school graduation rate higher than 78%?"
   ]
  },
  {
   "cell_type": "code",
   "execution_count": null,
   "metadata": {
    "collapsed": true
   },
   "outputs": [],
   "source": [
    "# TODO"
   ]
  },
  {
   "cell_type": "markdown",
   "metadata": {},
   "source": [
    "#### Candidate #3: Is high school graduation rate higher than 87%?"
   ]
  },
  {
   "cell_type": "code",
   "execution_count": null,
   "metadata": {
    "collapsed": true
   },
   "outputs": [],
   "source": [
    "# TODO"
   ]
  },
  {
   "cell_type": "markdown",
   "metadata": {},
   "source": [
    "### Second cut"
   ]
  },
  {
   "cell_type": "code",
   "execution_count": null,
   "metadata": {
    "collapsed": true
   },
   "outputs": [],
   "source": [
    "# TODO"
   ]
  },
  {
   "cell_type": "markdown",
   "metadata": {},
   "source": [
    "### Third cut"
   ]
  },
  {
   "cell_type": "code",
   "execution_count": null,
   "metadata": {
    "collapsed": true
   },
   "outputs": [],
   "source": [
    "# TODO"
   ]
  }
 ],
 "metadata": {
  "kernelspec": {
   "display_name": "Python 2",
   "language": "python",
   "name": "python2"
  },
  "language_info": {
   "codemirror_mode": {
    "name": "ipython",
    "version": 2
   },
   "file_extension": ".py",
   "mimetype": "text/x-python",
   "name": "python",
   "nbconvert_exporter": "python",
   "pygments_lexer": "ipython2",
   "version": "2.7.13"
  }
 },
 "nbformat": 4,
 "nbformat_minor": 1
}
